{
 "cells": [
  {
   "cell_type": "markdown",
   "metadata": {},
   "source": [
    "### Instructions for running Theano from AWS\n",
    "\n",
    "Using the gpu_theano ami-2ca87b44 and a g2.2xlarge instance type \n"
   ]
  },
  {
   "cell_type": "code",
   "execution_count": null,
   "metadata": {
    "collapsed": true
   },
   "outputs": [],
   "source": [
    "# install aws cli, \"aws config\" to give it your credentials\n",
    "!pip install awscli "
   ]
  },
  {
   "cell_type": "markdown",
   "metadata": {},
   "source": [
    "Create an instance  \n",
    "\n",
    "Use the GUI on https://console.aws.amazon.com/  \n",
    "Go to \"instances\" and select \"launch instance\" \n",
    "Search community ami's for \"gpu_theano\", there will be only one. \n",
    "Select g2.2xlarge for instance type. \n",
    "\n",
    "After your instance starts:\n",
    "In the Security Group, select Inbound, then Edit, and then Add Rule. \n",
    "The Port Range should be 8888 and the Sourceis 0.0.0.0/0\n",
    "\n",
    "Go back to instances and copy the intance-ID, then paste it below \n",
    "Then copy the public DNS and copy it below to ssh into your machine "
   ]
  },
  {
   "cell_type": "code",
   "execution_count": null,
   "metadata": {
    "collapsed": true
   },
   "outputs": [],
   "source": [
    "# or restart a stopped instance that has allready been created\n",
    "\n",
    "!aws ec2 start-instances --instance-ids i-4f9913c8 --region us-east-1"
   ]
  },
  {
   "cell_type": "code",
   "execution_count": 18,
   "metadata": {
    "collapsed": false,
    "scrolled": true
   },
   "outputs": [],
   "source": [
    "# get your PublicDnsName and IP\n",
    "\n",
    "!aws ec2 describe-instances --instance-ids i-4f9913c8 --region us-east-1 "
   ]
  },
  {
   "cell_type": "markdown",
   "metadata": {},
   "source": [
    "Copy/paste the PublicDns below (overwrite my values)\n",
    "Copy/paste the IP below (overwrite my values)\n",
    "\n",
    "Ssh into the instance and start a notebook"
   ]
  },
  {
   "cell_type": "code",
   "execution_count": null,
   "metadata": {
    "collapsed": true
   },
   "outputs": [],
   "source": [
    "\"\"\" in terminal/commandline \"\"\"\n",
    "\n",
    "# ssh into the machine\n",
    "                                    # from above\n",
    "ssh -X -i ~/.ssh/aws.pem ubuntu@ec2-52-207-230-242.compute-1.amazonaws.com\n",
    "\n",
    "\n",
    "# update \n",
    "sudo apt-get update && sudo apt-get upgrade\n",
    "\n",
    "# update pip \n",
    "sudo pip install pip --upgrade\n",
    "\n",
    "sudo pip install jupyter \n",
    "\n",
    "sudo pip install sklearn\n",
    "\n",
    "sudio apt-get install unzip"
   ]
  },
  {
   "cell_type": "markdown",
   "metadata": {},
   "source": [
    "Zip all your local data parts (plus test) and move data.zip into the aws instance."
   ]
  },
  {
   "cell_type": "code",
   "execution_count": null,
   "metadata": {
    "collapsed": true
   },
   "outputs": [],
   "source": [
    "# in Windows \n",
    "\n",
    "! scp -i C:/Users/HN/.ssh/aws.pem desktop/data.zip \\\n",
    "ubuntu@ec2-54-152-240-153.compute-1.amazonaws.com:~"
   ]
  },
  {
   "cell_type": "code",
   "execution_count": null,
   "metadata": {
    "collapsed": true
   },
   "outputs": [],
   "source": [
    "# in OSX \n",
    "\n",
    "! scp -i ~/.ssh/aws.pem desktop/data.zip \\\n",
    "ubuntu@ec2-52-207-230-242.compute-1.amazonaws.com:~    "
   ]
  },
  {
   "cell_type": "markdown",
   "metadata": {},
   "source": [
    "Start the notebook server from AWS and connect"
   ]
  },
  {
   "cell_type": "code",
   "execution_count": null,
   "metadata": {
    "collapsed": true
   },
   "outputs": [],
   "source": [
    "\"\"\" in ssh-ed terminal/commandline \"\"\"\n",
    "\n",
    "# unzip data\n",
    "unzip data.zip\n",
    "\n",
    "# delete zip file\n",
    "rm data.zip\n",
    "\n",
    "# new notebook with ip specified (needs sudo for all the C compiling)\n",
    "sudo jupyter notebook --no-browser --ip=0.0.0.0\n",
    "\n",
    "# grab ip address of instance (above in publicdns cell) and navigate a browser to \n",
    "http://52.207.230.242:8888/tree"
   ]
  },
  {
   "cell_type": "markdown",
   "metadata": {},
   "source": [
    "Copy/paste your CIFAR code into a new notebook and have fun! \n",
    "\n",
    "When you're done, use \"file\" \"download as\" to save your notebook locally. \n",
    "\n",
    "Then stop your instance. This will stop aws charging you, but preserve your software installations. "
   ]
  },
  {
   "cell_type": "code",
   "execution_count": null,
   "metadata": {
    "collapsed": true
   },
   "outputs": [],
   "source": [
    "# stop instance\n",
    "\n",
    "!aws ec2 stop-instances --instance-id i-4f9913c8 --region us-east-1"
   ]
  }
 ],
 "metadata": {
  "kernelspec": {
   "display_name": "Python 2",
   "language": "python",
   "name": "python2"
  },
  "language_info": {
   "codemirror_mode": {
    "name": "ipython",
    "version": 2
   },
   "file_extension": ".py",
   "mimetype": "text/x-python",
   "name": "python",
   "nbconvert_exporter": "python",
   "pygments_lexer": "ipython2",
   "version": "2.7.11"
  }
 },
 "nbformat": 4,
 "nbformat_minor": 0
}
