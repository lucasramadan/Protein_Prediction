{
 "cells": [
  {
   "cell_type": "code",
   "execution_count": 22,
   "metadata": {
    "ExecuteTime": {
     "end_time": "2016-05-02T15:11:15.928930",
     "start_time": "2016-05-02T15:11:15.902645"
    },
    "collapsed": false,
    "run_control": {
     "frozen": false,
     "read_only": false
    }
   },
   "outputs": [],
   "source": [
    "# theano imports\n",
    "import theano\n",
    "from theano import tensor as T\n",
    "from theano.sandbox.rng_mrg import MRG_RandomStreams as RandomStreams\n",
    "from theano.tensor.nnet.conv import conv2d\n",
    "# from theano.tensor.signal.downsample import max_pool_2d\n",
    "from theano.tensor.signal.pool import pool_2d as max_pool_2d\n",
    "\n",
    "# other imports\n",
    "from sklearn.cross_validation import train_test_split\n",
    "import numpy as np\n",
    "import pandas as pd\n",
    "import pickle\n",
    "\n",
    "import matplotlib.pyplot as plt\n",
    "%matplotlib inline"
   ]
  },
  {
   "cell_type": "code",
   "execution_count": 3,
   "metadata": {
    "ExecuteTime": {
     "end_time": "2016-05-02T14:44:25.399416",
     "start_time": "2016-05-02T14:44:25.394984"
    },
    "collapsed": true,
    "run_control": {
     "frozen": false,
     "read_only": false
    }
   },
   "outputs": [],
   "source": [
    "# import warnings\n",
    "# warnings.filterwarnings(\"ignore\")"
   ]
  },
  {
   "cell_type": "code",
   "execution_count": 4,
   "metadata": {
    "ExecuteTime": {
     "end_time": "2016-05-02T14:44:31.106336",
     "start_time": "2016-05-02T14:44:26.811046"
    },
    "collapsed": true,
    "run_control": {
     "frozen": false,
     "read_only": false
    }
   },
   "outputs": [],
   "source": [
    "# read our data in \n",
    "with open('conv_data/5_tensor.p', 'rb') as f:\n",
    "    loaded_data = pickle.load(f)\n",
    "\n",
    "labels = pd.read_csv('one_hot_labels.csv')"
   ]
  },
  {
   "cell_type": "code",
   "execution_count": 5,
   "metadata": {
    "ExecuteTime": {
     "end_time": "2016-05-02T14:44:31.140615",
     "start_time": "2016-05-02T14:44:31.112806"
    },
    "collapsed": false,
    "run_control": {
     "frozen": false,
     "read_only": false
    }
   },
   "outputs": [
    {
     "data": {
      "text/plain": [
       "array([[[0, 0, 0, 0, 0, 0, 0, 0, 0, 0, 0, 0, 0, 0, 0, 0, 0, 0, 1, 0, 0],\n",
       "        [1, 0, 0, 0, 0, 0, 0, 0, 0, 0, 0, 0, 0, 0, 0, 0, 0, 0, 0, 0, 0],\n",
       "        [0, 0, 0, 0, 0, 0, 0, 0, 0, 0, 1, 0, 0, 0, 0, 0, 0, 0, 0, 0, 0],\n",
       "        [0, 0, 0, 0, 0, 0, 0, 0, 0, 0, 0, 0, 0, 0, 0, 0, 1, 0, 0, 0, 0],\n",
       "        [0, 0, 0, 0, 0, 0, 0, 0, 0, 0, 0, 0, 0, 1, 0, 0, 0, 0, 0, 0, 0]],\n",
       "\n",
       "       [[0, 0, 0, 0, 0, 0, 0, 0, 0, 0, 1, 0, 0, 0, 0, 0, 0, 0, 0, 0, 0],\n",
       "        [0, 0, 0, 0, 0, 0, 0, 0, 0, 0, 0, 0, 0, 0, 0, 0, 0, 0, 1, 0, 0],\n",
       "        [0, 0, 0, 0, 0, 0, 0, 0, 0, 0, 0, 0, 0, 0, 0, 0, 1, 0, 0, 0, 0],\n",
       "        [0, 0, 0, 0, 0, 0, 0, 0, 0, 0, 0, 0, 0, 1, 0, 0, 0, 0, 0, 0, 0],\n",
       "        [0, 1, 0, 0, 0, 0, 0, 0, 0, 0, 0, 0, 0, 0, 0, 0, 0, 0, 0, 0, 0]]])"
      ]
     },
     "execution_count": 5,
     "metadata": {},
     "output_type": "execute_result"
    }
   ],
   "source": [
    "loaded_data[:2]    "
   ]
  },
  {
   "cell_type": "code",
   "execution_count": 6,
   "metadata": {
    "ExecuteTime": {
     "end_time": "2016-05-02T14:44:31.148239",
     "start_time": "2016-05-02T14:44:31.143796"
    },
    "collapsed": false,
    "run_control": {
     "frozen": false,
     "read_only": false
    }
   },
   "outputs": [],
   "source": [
    "one_hot = labels.values"
   ]
  },
  {
   "cell_type": "code",
   "execution_count": 7,
   "metadata": {
    "ExecuteTime": {
     "end_time": "2016-05-02T14:44:31.162586",
     "start_time": "2016-05-02T14:44:31.152624"
    },
    "collapsed": false,
    "run_control": {
     "frozen": false,
     "read_only": false
    }
   },
   "outputs": [
    {
     "data": {
      "text/plain": [
       "array([[0, 0, 0, 0, 0, 1],\n",
       "       [0, 0, 0, 0, 0, 1]])"
      ]
     },
     "execution_count": 7,
     "metadata": {},
     "output_type": "execute_result"
    }
   ],
   "source": [
    "one_hot[:2]"
   ]
  },
  {
   "cell_type": "code",
   "execution_count": 8,
   "metadata": {
    "ExecuteTime": {
     "end_time": "2016-05-02T14:44:31.310012",
     "start_time": "2016-05-02T14:44:31.166339"
    },
    "collapsed": false,
    "run_control": {
     "frozen": false,
     "read_only": false
    }
   },
   "outputs": [],
   "source": [
    "xTrain, xTest, yTrain, yTest = train_test_split(loaded_data, one_hot)"
   ]
  },
  {
   "cell_type": "code",
   "execution_count": 9,
   "metadata": {
    "ExecuteTime": {
     "end_time": "2016-05-02T14:44:31.320427",
     "start_time": "2016-05-02T14:44:31.313681"
    },
    "collapsed": false,
    "run_control": {
     "frozen": false,
     "read_only": false
    }
   },
   "outputs": [
    {
     "name": "stdout",
     "output_type": "stream",
     "text": [
      "(101110, 5, 21) (33704, 5, 21) (101110, 6) (33704, 6)\n"
     ]
    }
   ],
   "source": [
    "print xTrain.shape, xTest.shape, yTrain.shape, yTest.shape"
   ]
  },
  {
   "cell_type": "code",
   "execution_count": 10,
   "metadata": {
    "ExecuteTime": {
     "end_time": "2016-05-02T14:44:31.330277",
     "start_time": "2016-05-02T14:44:31.323964"
    },
    "collapsed": false,
    "run_control": {
     "frozen": false,
     "read_only": false
    }
   },
   "outputs": [],
   "source": [
    "xTrain = xTrain.reshape(-1, 1, 5, 21)\n",
    "xTest = xTest.reshape(-1, 1, 5, 21)"
   ]
  },
  {
   "cell_type": "code",
   "execution_count": 11,
   "metadata": {
    "ExecuteTime": {
     "end_time": "2016-05-02T14:44:35.018714",
     "start_time": "2016-05-02T14:44:35.011093"
    },
    "collapsed": false,
    "run_control": {
     "frozen": false,
     "read_only": false
    }
   },
   "outputs": [
    {
     "name": "stdout",
     "output_type": "stream",
     "text": [
      "(101110, 1, 5, 21)\n",
      "(33704, 1, 5, 21)\n",
      "(101110, 6)\n",
      "(33704, 6)\n"
     ]
    }
   ],
   "source": [
    "print xTrain.shape\n",
    "print xTest.shape\n",
    "print yTrain.shape\n",
    "print yTest.shape"
   ]
  },
  {
   "cell_type": "code",
   "execution_count": 13,
   "metadata": {
    "ExecuteTime": {
     "end_time": "2016-05-02T14:45:09.436108",
     "start_time": "2016-05-02T14:45:09.360653"
    },
    "collapsed": false
   },
   "outputs": [
    {
     "name": "stdout",
     "output_type": "stream",
     "text": [
      "[[  1.87460000e+05   7.60760000e+05   1.33406000e+06 ...,   1.45232352e+08\n",
      "    1.45805664e+08   1.46378960e+08]\n",
      " [  7.60760000e+05   2.49168500e+06   4.22261000e+06 ...,   4.38684928e+08\n",
      "    4.40415648e+08   4.42146304e+08]\n",
      " [  1.33406000e+06   4.22261000e+06   7.11116000e+06 ...,   7.32137024e+08\n",
      "    7.35025472e+08   7.37914176e+08]\n",
      " ..., \n",
      " [  4.20056000e+06   1.28772350e+07   2.15539100e+07 ...,   2.19939917e+09\n",
      "    2.20807578e+09   2.21675213e+09]\n",
      " [  4.77386000e+06   1.46081600e+07   2.44424440e+07 ...,   2.49285171e+09\n",
      "    2.50268570e+09   2.51251994e+09]\n",
      " [  5.34716000e+06   1.63390850e+07   2.73310100e+07 ...,   2.78630400e+09\n",
      "    2.79729562e+09   2.80828749e+09]]\n",
      "(10, 256)\n"
     ]
    }
   ],
   "source": [
    "# example\n",
    "\n",
    "__author__ = 'mike.bowles'\n",
    "import theano\n",
    "from theano import tensor as T\n",
    "import numpy as np\n",
    "from theano.tensor.signal.downsample import max_pool_2d\n",
    "from theano.tensor.nnet.conv import conv2d\n",
    "\n",
    "X = theano.shared(np.array(range(10*1*5*21), dtype=theano.config.floatX).reshape((10, 1, 5, 21)))\n",
    "\n",
    "w = theano.shared(np.array(range(256*5*21), dtype=theano.config.floatX)).reshape((256, 1, 5, 21))\n",
    "\n",
    "convOut = conv2d(X, w, border_mode='valid')  #border_mode={'valid', 'full'}\n",
    "\n",
    "convOut = convOut.reshape((-1, 256))\n",
    "\n",
    "convOutTest = convOut.eval()\n",
    "print convOutTest\n",
    "print convOutTest.shape"
   ]
  },
  {
   "cell_type": "code",
   "execution_count": 17,
   "metadata": {
    "ExecuteTime": {
     "end_time": "2016-05-02T14:48:06.116343",
     "start_time": "2016-05-02T14:48:05.970169"
    },
    "collapsed": false,
    "run_control": {
     "frozen": false,
     "read_only": false
    }
   },
   "outputs": [],
   "source": [
    "srng = RandomStreams()\n",
    "\n",
    "def floatX(X):\n",
    "    return np.asarray(X, dtype=theano.config.floatX)\n",
    "\n",
    "def glorot_init_weights(shape):\n",
    "    (h, w) = shape\n",
    "    normalizer = 2.0 * sqrt(6) / sqrt(h + w) * 0.1  #factors: correct for uni[0,1], glo, glo, softmax deriv\n",
    "    return theano.shared(floatX((np.random.random_sample(shape) - 0.5) * normalizer))\n",
    "\n",
    "def init_weights(shape):\n",
    "    return theano.shared(floatX(np.random.randn(*shape) * 0.01))\n",
    "\n",
    "def activate(X):\n",
    "    return T.nnet.relu(X)\n",
    "\n",
    "def rectify(X):\n",
    "    return T.maximum(X, 0.)\n",
    "    #return T.maximum(X, 0.01*X)  #leaky rectifier\n",
    "\n",
    "def softmax(X):\n",
    "    e_x = T.exp(X - X.max(axis=1).dimshuffle(0, 1, 'x', 'x'))\n",
    "    return e_x / e_x.sum(axis=1).dimshuffle(0, 1, 'x', 'x')\n",
    "\n",
    "def dropout(X, p=0.0):\n",
    "    if p > 0:\n",
    "        retain_prob = 1 - p\n",
    "        X *= srng.binomial(X.shape, p=retain_prob, dtype=theano.config.floatX)\n",
    "        X /= retain_prob\n",
    "    return X\n",
    "\n",
    "def RMSprop(cost, params, lr=0.001, rho=0.9, epsilon=1e-6):\n",
    "    grads = T.grad(cost=cost, wrt=params)\n",
    "    updates = []\n",
    "    \n",
    "    for p, g in zip(params, grads):\n",
    "        acc = theano.shared(p.get_value() * 0.)\n",
    "        acc_new = rho * acc + (1 - rho) * g ** 2\n",
    "        gradient_scaling = T.sqrt(acc_new + epsilon)\n",
    "        g = g / gradient_scaling\n",
    "        updates.append((acc, acc_new))\n",
    "        updates.append((p, p - lr * g))\n",
    "    \n",
    "    return updates\n",
    "\n",
    "def model(X, wi, wh, wo, p_drop_conv, p_drop_hidden):\n",
    "    layer_1 = rectify(conv2d(X, wi, border_mode='valid')) # , border_mode='full'\n",
    "    layer_1 = layer_1.reshape((-1, 256))\n",
    "    #     layer_1 = dropout(layer_1, p_drop_conv)\n",
    "\n",
    "    layer_2 = rectify(T.dot(layer_1, wh))\n",
    "#     layer_2 = dropout(layer_2, p_drop_hidden)\n",
    "\n",
    "#     pyx = softmax(T.dot(layer_2, wo))\n",
    "    pyx = T.nnet.softmax(T.dot(layer_2, wo))\n",
    "    return layer_1, layer_2, pyx"
   ]
  },
  {
   "cell_type": "code",
   "execution_count": 18,
   "metadata": {
    "ExecuteTime": {
     "end_time": "2016-05-02T14:48:06.611604",
     "start_time": "2016-05-02T14:48:06.602174"
    },
    "collapsed": true,
    "hide_input": true,
    "run_control": {
     "frozen": false,
     "read_only": false
    }
   },
   "outputs": [],
   "source": [
    "# def model(X, w, w2, w3, w4, p_drop_conv, p_drop_hidden):\n",
    "#     l1a = rectify(conv2d(X, w)) # , border_mode='full'\n",
    "# #     l1 = max_pool_2d(l1a, (2, 2))\n",
    "#     l1 = dropout(l1a, p_drop_conv)\n",
    "\n",
    "#     l2a = rectify(conv2d(l1, w2))\n",
    "# #     l2 = max_pool_2d(l2a, (2, 2))\n",
    "#     l2 = dropout(l2a, p_drop_conv)\n",
    "\n",
    "#     l3a = rectify(conv2d(l2, w3))\n",
    "# #     l3b = max_pool_2d(l3a, (2, 2))\n",
    "#     l3 = T.flatten(l3a, outdim=2)\n",
    "#     l3 = dropout(l3, p_drop_conv)\n",
    "\n",
    "#     l4 = rectify(T.dot(l3, w4))\n",
    "#     l4 = dropout(l4, p_drop_hidden)\n",
    "\n",
    "#     pyx = softmax(T.dot(l4, w_o))\n",
    "#     return l1, l2, l3, l4, pyx\n",
    "\n",
    "# w = init_weights((32, 1, 3, 3))\n",
    "# w2 = init_weights((64, 32, 3, 3))\n",
    "# w3 = init_weights((128, 64, 3, 3))\n",
    "# w4 = init_weights((128 * 3 * 3, 625))\n",
    "# w_o = init_weights((625, 10))"
   ]
  },
  {
   "cell_type": "code",
   "execution_count": 28,
   "metadata": {
    "ExecuteTime": {
     "end_time": "2016-05-02T15:15:14.130816",
     "start_time": "2016-05-02T15:14:31.529053"
    },
    "collapsed": false,
    "run_control": {
     "frozen": false,
     "read_only": false
    }
   },
   "outputs": [
    {
     "name": "stdout",
     "output_type": "stream",
     "text": [
      "0 0.293585331118\n"
     ]
    },
    {
     "ename": "KeyboardInterrupt",
     "evalue": "",
     "output_type": "error",
     "traceback": [
      "\u001b[0;31m---------------------------------------------------------------------------\u001b[0m",
      "\u001b[0;31mKeyboardInterrupt\u001b[0m                         Traceback (most recent call last)",
      "\u001b[0;32m<ipython-input-28-528bc19fdcf2>\u001b[0m in \u001b[0;36m<module>\u001b[0;34m()\u001b[0m\n\u001b[1;32m     35\u001b[0m     for start, end in zip(xrange(0, len(xTrain), mbs), \n\u001b[1;32m     36\u001b[0m                           xrange(mbs, len(xTrain), mbs)):\n\u001b[0;32m---> 37\u001b[0;31m         \u001b[0mcost\u001b[0m \u001b[0;34m=\u001b[0m \u001b[0mtrain\u001b[0m\u001b[0;34m(\u001b[0m\u001b[0mxTrain\u001b[0m\u001b[0;34m[\u001b[0m\u001b[0mstart\u001b[0m\u001b[0;34m:\u001b[0m\u001b[0mend\u001b[0m\u001b[0;34m]\u001b[0m\u001b[0;34m,\u001b[0m \u001b[0myTrain\u001b[0m\u001b[0;34m[\u001b[0m\u001b[0mstart\u001b[0m\u001b[0;34m:\u001b[0m\u001b[0mend\u001b[0m\u001b[0;34m]\u001b[0m\u001b[0;34m)\u001b[0m\u001b[0;34m\u001b[0m\u001b[0m\n\u001b[0m\u001b[1;32m     38\u001b[0m \u001b[0;31m#         a, b, c = model(floatX(xTrain[start:end]), wi, wh, wo, 0., 0.)\u001b[0m\u001b[0;34m\u001b[0m\u001b[0;34m\u001b[0m\u001b[0m\n\u001b[1;32m     39\u001b[0m \u001b[0;31m#         print a.eval().shape, b.eval().shape, c.eval().shape,\u001b[0m\u001b[0;34m\u001b[0m\u001b[0;34m\u001b[0m\u001b[0m\n",
      "\u001b[0;32m/Users/LucasRamadan/anaconda/lib/python2.7/site-packages/theano/compile/function_module.pyc\u001b[0m in \u001b[0;36m__call__\u001b[0;34m(self, *args, **kwargs)\u001b[0m\n\u001b[1;32m    857\u001b[0m         \u001b[0mt0_fn\u001b[0m \u001b[0;34m=\u001b[0m \u001b[0mtime\u001b[0m\u001b[0;34m.\u001b[0m\u001b[0mtime\u001b[0m\u001b[0;34m(\u001b[0m\u001b[0;34m)\u001b[0m\u001b[0;34m\u001b[0m\u001b[0m\n\u001b[1;32m    858\u001b[0m         \u001b[0;32mtry\u001b[0m\u001b[0;34m:\u001b[0m\u001b[0;34m\u001b[0m\u001b[0m\n\u001b[0;32m--> 859\u001b[0;31m             \u001b[0moutputs\u001b[0m \u001b[0;34m=\u001b[0m \u001b[0mself\u001b[0m\u001b[0;34m.\u001b[0m\u001b[0mfn\u001b[0m\u001b[0;34m(\u001b[0m\u001b[0;34m)\u001b[0m\u001b[0;34m\u001b[0m\u001b[0m\n\u001b[0m\u001b[1;32m    860\u001b[0m         \u001b[0;32mexcept\u001b[0m \u001b[0mException\u001b[0m\u001b[0;34m:\u001b[0m\u001b[0;34m\u001b[0m\u001b[0m\n\u001b[1;32m    861\u001b[0m             \u001b[0;32mif\u001b[0m \u001b[0mhasattr\u001b[0m\u001b[0;34m(\u001b[0m\u001b[0mself\u001b[0m\u001b[0;34m.\u001b[0m\u001b[0mfn\u001b[0m\u001b[0;34m,\u001b[0m \u001b[0;34m'position_of_error'\u001b[0m\u001b[0;34m)\u001b[0m\u001b[0;34m:\u001b[0m\u001b[0;34m\u001b[0m\u001b[0m\n",
      "\u001b[0;31mKeyboardInterrupt\u001b[0m: "
     ]
    }
   ],
   "source": [
    "X = T.ftensor4()\n",
    "Y = T.fmatrix()\n",
    "\n",
    "# define mini-batch size\n",
    "mbs = 128\n",
    "\n",
    "# define number of desired features out of convolution\n",
    "n_conv = 256\n",
    "\n",
    "# define hidden layer depth\n",
    "h_depth = 600\n",
    "\n",
    "wi = init_weights((n_conv, 1, 5, 21))\n",
    "wh = init_weights((n_conv, h_depth))\n",
    "wo = init_weights((h_depth, 6))\n",
    "\n",
    "noise_l1, noise_l2, noise_py_x = model(X, wi, wh, wo, 0.2, 0.5)\n",
    "l1, l2, py_x = model(X, wi, wh, wo, 0., 0.)\n",
    "y_x = T.argmax(py_x, axis=1)\n",
    "\n",
    "\n",
    "cost = T.mean(T.nnet.categorical_crossentropy(noise_py_x, Y))\n",
    "params = [wi, wh, wo]\n",
    "updates = RMSprop(cost, params, lr=1e-7)\n",
    "\n",
    "train = theano.function(inputs=[X, Y], outputs=cost, updates=updates, allow_input_downcast=True)\n",
    "predict = theano.function(inputs=[X], outputs=y_x, allow_input_downcast=True)\n",
    "\n",
    "# number of training iterations to perform\n",
    "n_train = 101\n",
    "\n",
    "costs = []\n",
    "# performing our training\n",
    "for i in xrange(n_train):\n",
    "    for start, end in zip(xrange(0, len(xTrain), mbs), \n",
    "                          xrange(mbs, len(xTrain), mbs)):\n",
    "        cost = train(xTrain[start:end], yTrain[start:end])\n",
    "#         a, b, c = model(floatX(xTrain[start:end]), wi, wh, wo, 0., 0.)\n",
    "#         print a.eval().shape, b.eval().shape, c.eval().shape,\n",
    "#         print i, np.mean(np.argmax(yTest, axis=1) == predict(xTest))\n",
    "    costs.append(cost)\n",
    "    print i, np.mean(np.argmax(yTest, axis=1) == predict(xTest))"
   ]
  },
  {
   "cell_type": "code",
   "execution_count": 26,
   "metadata": {
    "ExecuteTime": {
     "end_time": "2016-05-02T15:13:13.293838",
     "start_time": "2016-05-02T15:13:12.456274"
    },
    "collapsed": false
   },
   "outputs": [
    {
     "data": {
      "image/png": "[encoded data removed]",
      "text/plain": [
       "<matplotlib.figure.Figure at 0x121cfd1d0>"
      ]
     },
     "metadata": {},
     "output_type": "display_data"
    }
   ],
   "source": [
    "plt.plot(costs);"
   ]
  },
  {
   "cell_type": "markdown",
   "metadata": {
    "collapsed": true,
    "run_control": {
     "frozen": false,
     "read_only": false
    }
   },
   "source": [
    "http://deeplearning.net/software/theano/library/tensor/nnet/nnet.html#tensor.nnet.softmax\n",
    "http://deeplearning.net/software/theano/library/tensor/nnet/conv.html#theano.tensor.nnet.conv.conv2d"
   ]
  },
  {
   "cell_type": "code",
   "execution_count": null,
   "metadata": {
    "collapsed": true
   },
   "outputs": [],
   "source": [
    "class ProteinModel():\n",
    "    def __init__(self, ):\n",
    "        \n",
    "    def _floatX(X):\n",
    "        return np.asarray(X, dtype=theano.config.floatX)\n",
    "    \n",
    "    def _glorot_init_weights(shape):\n",
    "        (h, w) = shape\n",
    "        #factors: correct for uni[0,1], glo, glo, softmax deriv\n",
    "        normalizer = 2.0 * sqrt(6) / sqrt(h + w) * 0.1  \n",
    "        return theano.shared(floatX((np.random.random_sample(shape) - 0.5) * normalizer))\n",
    "    \n",
    "    def _activate(X):\n",
    "        return T.nnet.relu(X)\n",
    "    \n",
    "    def _dropout(X, p=0.0):\n",
    "        if p > 0:\n",
    "            retain_prob = 1 - p\n",
    "            X *= srng.binomial(X.shape, p=retain_prob, dtype=theano.config.floatX)\n",
    "            X /= retain_prob\n",
    "        return X\n",
    "    \n",
    "    def RMSprop(cost, params, lr=0.001, rho=0.9, epsilon=1e-6):\n",
    "        grads = T.grad(cost=cost, wrt=params)\n",
    "        updates = []\n",
    "\n",
    "        for p, g in zip(params, grads):\n",
    "            acc = theano.shared(p.get_value() * 0.)\n",
    "            acc_new = rho * acc + (1 - rho) * g ** 2\n",
    "            gradient_scaling = T.sqrt(acc_new + epsilon)\n",
    "            g = g / gradient_scaling\n",
    "            updates.append((acc, acc_new))\n",
    "            updates.append((p, p - lr * g))\n",
    "\n",
    "        return updates\n",
    "    \n",
    "    def model(X, wi, wh, wo, p_drop_conv, p_drop_hidden):\n",
    "        layer_1 = rectify(conv2d(X, wi, border_mode='valid')) # , border_mode='full'\n",
    "        layer_1 = layer_1.reshape((-1, 256))\n",
    "        #     layer_1 = dropout(layer_1, p_drop_conv)\n",
    "\n",
    "        layer_2 = rectify(T.dot(layer_1, wh))\n",
    "    #     layer_2 = dropout(layer_2, p_drop_hidden)\n",
    "\n",
    "    #     pyx = softmax(T.dot(layer_2, wo))\n",
    "        pyx = T.nnet.softmax(T.dot(layer_2, wo))\n",
    "        return layer_1, layer_2, pyx\n",
    "    \n",
    "    "
   ]
  }
 ],
 "metadata": {
  "kernelspec": {
   "display_name": "Python 2",
   "language": "python",
   "name": "python2"
  },
  "language_info": {
   "codemirror_mode": {
    "name": "ipython",
    "version": 2
   },
   "file_extension": ".py",
   "mimetype": "text/x-python",
   "name": "python",
   "nbconvert_exporter": "python",
   "pygments_lexer": "ipython2",
   "version": "2.7.11"
  }
 },
 "nbformat": 4,
 "nbformat_minor": 0
}
