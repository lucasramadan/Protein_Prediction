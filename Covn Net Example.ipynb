{
 "cells": [
  {
   "cell_type": "code",
   "execution_count": 4,
   "metadata": {
    "ExecuteTime": {
     "end_time": "2016-05-03T11:42:43.763860",
     "start_time": "2016-05-03T11:42:34.225992"
    },
    "collapsed": false,
    "run_control": {
     "frozen": false,
     "read_only": false
    }
   },
   "outputs": [],
   "source": [
    "# theano imports\n",
    "import theano\n",
    "from theano import tensor as T\n",
    "from theano.sandbox.rng_mrg import MRG_RandomStreams as RandomStreams\n",
    "from theano.tensor.nnet.conv import conv2d\n",
    "# from theano.tensor.signal.downsample import max_pool_2d\n",
    "from theano.tensor.signal.pool import pool_2d as max_pool_2d\n",
    "\n",
    "# other imports\n",
    "from sklearn.cross_validation import train_test_split\n",
    "import numpy as np\n",
    "import pandas as pd\n",
    "import pickle\n",
    "\n",
    "import matplotlib.pyplot as plt\n",
    "%matplotlib inline"
   ]
  },
  {
   "cell_type": "code",
   "execution_count": 5,
   "metadata": {
    "ExecuteTime": {
     "end_time": "2016-05-03T11:42:43.771226",
     "start_time": "2016-05-03T11:42:43.766576"
    },
    "collapsed": true,
    "run_control": {
     "frozen": false,
     "read_only": false
    }
   },
   "outputs": [],
   "source": [
    "# import warnings\n",
    "# warnings.filterwarnings(\"ignore\")"
   ]
  },
  {
   "cell_type": "code",
   "execution_count": 6,
   "metadata": {
    "ExecuteTime": {
     "end_time": "2016-05-03T11:42:47.737773",
     "start_time": "2016-05-03T11:42:43.775684"
    },
    "collapsed": true,
    "run_control": {
     "frozen": false,
     "read_only": false
    }
   },
   "outputs": [],
   "source": [
    "# read our data in \n",
    "with open('conv_data/5_tensor.p', 'rb') as f:\n",
    "    loaded_data = pickle.load(f)\n",
    "\n",
    "labels = pd.read_csv('one_hot_labels.csv')"
   ]
  },
  {
   "cell_type": "code",
   "execution_count": 7,
   "metadata": {
    "ExecuteTime": {
     "end_time": "2016-05-03T11:42:47.756618",
     "start_time": "2016-05-03T11:42:47.740886"
    },
    "collapsed": false,
    "run_control": {
     "frozen": false,
     "read_only": false
    }
   },
   "outputs": [
    {
     "data": {
      "text/plain": [
       "array([[[0, 0, 0, 0, 0, 0, 0, 0, 0, 0, 0, 0, 0, 0, 0, 0, 0, 0, 1, 0, 0],\n",
       "        [1, 0, 0, 0, 0, 0, 0, 0, 0, 0, 0, 0, 0, 0, 0, 0, 0, 0, 0, 0, 0],\n",
       "        [0, 0, 0, 0, 0, 0, 0, 0, 0, 0, 1, 0, 0, 0, 0, 0, 0, 0, 0, 0, 0],\n",
       "        [0, 0, 0, 0, 0, 0, 0, 0, 0, 0, 0, 0, 0, 0, 0, 0, 1, 0, 0, 0, 0],\n",
       "        [0, 0, 0, 0, 0, 0, 0, 0, 0, 0, 0, 0, 0, 1, 0, 0, 0, 0, 0, 0, 0]],\n",
       "\n",
       "       [[0, 0, 0, 0, 0, 0, 0, 0, 0, 0, 1, 0, 0, 0, 0, 0, 0, 0, 0, 0, 0],\n",
       "        [0, 0, 0, 0, 0, 0, 0, 0, 0, 0, 0, 0, 0, 0, 0, 0, 0, 0, 1, 0, 0],\n",
       "        [0, 0, 0, 0, 0, 0, 0, 0, 0, 0, 0, 0, 0, 0, 0, 0, 1, 0, 0, 0, 0],\n",
       "        [0, 0, 0, 0, 0, 0, 0, 0, 0, 0, 0, 0, 0, 1, 0, 0, 0, 0, 0, 0, 0],\n",
       "        [0, 1, 0, 0, 0, 0, 0, 0, 0, 0, 0, 0, 0, 0, 0, 0, 0, 0, 0, 0, 0]]])"
      ]
     },
     "execution_count": 7,
     "metadata": {},
     "output_type": "execute_result"
    }
   ],
   "source": [
    "loaded_data[:2]    "
   ]
  },
  {
   "cell_type": "code",
   "execution_count": 8,
   "metadata": {
    "ExecuteTime": {
     "end_time": "2016-05-03T11:42:47.764606",
     "start_time": "2016-05-03T11:42:47.760434"
    },
    "collapsed": false,
    "run_control": {
     "frozen": false,
     "read_only": false
    }
   },
   "outputs": [],
   "source": [
    "one_hot = labels.values"
   ]
  },
  {
   "cell_type": "code",
   "execution_count": 9,
   "metadata": {
    "ExecuteTime": {
     "end_time": "2016-05-03T11:42:47.777892",
     "start_time": "2016-05-03T11:42:47.768332"
    },
    "collapsed": false,
    "run_control": {
     "frozen": false,
     "read_only": false
    }
   },
   "outputs": [
    {
     "data": {
      "text/plain": [
       "array([[0, 0, 0, 0, 0, 1],\n",
       "       [0, 0, 0, 0, 0, 1]])"
      ]
     },
     "execution_count": 9,
     "metadata": {},
     "output_type": "execute_result"
    }
   ],
   "source": [
    "one_hot[:2]"
   ]
  },
  {
   "cell_type": "code",
   "execution_count": 10,
   "metadata": {
    "ExecuteTime": {
     "end_time": "2016-05-03T11:42:47.917319",
     "start_time": "2016-05-03T11:42:47.781438"
    },
    "collapsed": false,
    "run_control": {
     "frozen": false,
     "read_only": false
    }
   },
   "outputs": [],
   "source": [
    "xTrain, xTest, yTrain, yTest = train_test_split(loaded_data, one_hot)"
   ]
  },
  {
   "cell_type": "code",
   "execution_count": 11,
   "metadata": {
    "ExecuteTime": {
     "end_time": "2016-05-03T11:42:47.929006",
     "start_time": "2016-05-03T11:42:47.921679"
    },
    "collapsed": false,
    "run_control": {
     "frozen": false,
     "read_only": false
    }
   },
   "outputs": [
    {
     "name": "stdout",
     "output_type": "stream",
     "text": [
      "(101110, 5, 21) (33704, 5, 21) (101110, 6) (33704, 6)\n"
     ]
    }
   ],
   "source": [
    "print xTrain.shape, xTest.shape, yTrain.shape, yTest.shape"
   ]
  },
  {
   "cell_type": "code",
   "execution_count": 12,
   "metadata": {
    "ExecuteTime": {
     "end_time": "2016-05-03T11:42:47.940337",
     "start_time": "2016-05-03T11:42:47.933229"
    },
    "collapsed": false,
    "run_control": {
     "frozen": false,
     "read_only": false
    }
   },
   "outputs": [],
   "source": [
    "xTrain = xTrain.reshape(-1, 1, 5, 21)\n",
    "xTest = xTest.reshape(-1, 1, 5, 21)"
   ]
  },
  {
   "cell_type": "code",
   "execution_count": 13,
   "metadata": {
    "ExecuteTime": {
     "end_time": "2016-05-03T11:42:47.953606",
     "start_time": "2016-05-03T11:42:47.945729"
    },
    "collapsed": false,
    "run_control": {
     "frozen": false,
     "read_only": false
    }
   },
   "outputs": [
    {
     "name": "stdout",
     "output_type": "stream",
     "text": [
      "(101110, 1, 5, 21)\n",
      "(33704, 1, 5, 21)\n",
      "(101110, 6)\n",
      "(33704, 6)\n"
     ]
    }
   ],
   "source": [
    "print xTrain.shape\n",
    "print xTest.shape\n",
    "print yTrain.shape\n",
    "print yTest.shape"
   ]
  },
  {
   "cell_type": "code",
   "execution_count": 14,
   "metadata": {
    "ExecuteTime": {
     "end_time": "2016-05-03T11:42:48.016320",
     "start_time": "2016-05-03T11:42:47.958326"
    },
    "collapsed": false,
    "hide_input": false,
    "run_control": {
     "frozen": false,
     "read_only": false
    }
   },
   "outputs": [
    {
     "name": "stdout",
     "output_type": "stream",
     "text": [
      "[[  1.87460000e+05   7.60760000e+05   1.33406000e+06 ...,   1.45232352e+08\n",
      "    1.45805664e+08   1.46378960e+08]\n",
      " [  7.60760000e+05   2.49168500e+06   4.22261000e+06 ...,   4.38684928e+08\n",
      "    4.40415648e+08   4.42146304e+08]\n",
      " [  1.33406000e+06   4.22261000e+06   7.11116000e+06 ...,   7.32137024e+08\n",
      "    7.35025472e+08   7.37914176e+08]\n",
      " ..., \n",
      " [  4.20056000e+06   1.28772350e+07   2.15539100e+07 ...,   2.19939917e+09\n",
      "    2.20807578e+09   2.21675213e+09]\n",
      " [  4.77386000e+06   1.46081600e+07   2.44424440e+07 ...,   2.49285171e+09\n",
      "    2.50268570e+09   2.51251994e+09]\n",
      " [  5.34716000e+06   1.63390850e+07   2.73310100e+07 ...,   2.78630400e+09\n",
      "    2.79729562e+09   2.80828749e+09]]\n",
      "(10, 256)\n"
     ]
    }
   ],
   "source": [
    "# example\n",
    "\n",
    "import theano\n",
    "from theano import tensor as T\n",
    "import numpy as np\n",
    "from theano.tensor.signal.downsample import max_pool_2d\n",
    "from theano.tensor.nnet.conv import conv2d\n",
    "\n",
    "X = theano.shared(np.array(range(10*1*5*21), dtype=theano.config.floatX).reshape((10, 1, 5, 21)))\n",
    "\n",
    "w = theano.shared(np.array(range(256*5*21), dtype=theano.config.floatX)).reshape((256, 1, 5, 21))\n",
    "\n",
    "convOut = conv2d(X, w, border_mode='valid')  #border_mode={'valid', 'full'}\n",
    "\n",
    "convOut = convOut.reshape((-1, 256))\n",
    "\n",
    "convOutTest = convOut.eval()\n",
    "print convOutTest\n",
    "print convOutTest.shape"
   ]
  },
  {
   "cell_type": "code",
   "execution_count": 15,
   "metadata": {
    "ExecuteTime": {
     "end_time": "2016-05-03T11:42:48.099676",
     "start_time": "2016-05-03T11:42:48.018929"
    },
    "collapsed": false,
    "run_control": {
     "frozen": false,
     "read_only": false
    }
   },
   "outputs": [],
   "source": [
    "srng = RandomStreams()\n",
    "\n",
    "def floatX(X):\n",
    "    return np.asarray(X, dtype=theano.config.floatX)\n",
    "\n",
    "def glorot_init_weights(shape):\n",
    "    (h, w) = shape\n",
    "    normalizer = 2.0 * sqrt(6) / sqrt(h + w) * 0.1  #factors: correct for uni[0,1], glo, glo, softmax deriv\n",
    "    return theano.shared(floatX((np.random.random_sample(shape) - 0.5) * normalizer))\n",
    "\n",
    "def init_weights(shape):\n",
    "    return theano.shared(floatX(np.random.randn(*shape) * 0.01))\n",
    "\n",
    "def activate(X):\n",
    "    return T.nnet.relu(X)\n",
    "\n",
    "def rectify(X):\n",
    "    return T.maximum(X, 0.)\n",
    "    #return T.maximum(X, 0.01*X)  #leaky rectifier\n",
    "\n",
    "def softmax(X):\n",
    "    e_x = T.exp(X - X.max(axis=1).dimshuffle(0, 1, 'x', 'x'))\n",
    "    return e_x / e_x.sum(axis=1).dimshuffle(0, 1, 'x', 'x')\n",
    "\n",
    "def dropout(X, p=0.0):\n",
    "    if p > 0:\n",
    "        retain_prob = 1 - p\n",
    "        X *= srng.binomial(X.shape, p=retain_prob, dtype=theano.config.floatX)\n",
    "        X /= retain_prob\n",
    "    return X\n",
    "\n",
    "def RMSprop(cost, params, lr=0.001, rho=0.9, epsilon=1e-6):\n",
    "    grads = T.grad(cost=cost, wrt=params)\n",
    "    updates = []\n",
    "    \n",
    "    for p, g in zip(params, grads):\n",
    "        acc = theano.shared(p.get_value() * 0.)\n",
    "        acc_new = rho * acc + (1 - rho) * g ** 2\n",
    "        gradient_scaling = T.sqrt(acc_new + epsilon)\n",
    "        g = g / gradient_scaling\n",
    "        updates.append((acc, acc_new))\n",
    "        updates.append((p, p - lr * g))\n",
    "    \n",
    "    return updates\n",
    "\n",
    "def model(X, wi, wh, wo, p_drop_conv, p_drop_hidden):\n",
    "    layer_1 = rectify(conv2d(X, wi, border_mode='valid')) # , border_mode='full'\n",
    "    layer_1 = layer_1.reshape((-1, 256))\n",
    "    #     layer_1 = dropout(layer_1, p_drop_conv)\n",
    "\n",
    "    layer_2 = rectify(T.dot(layer_1, wh))\n",
    "#     layer_2 = dropout(layer_2, p_drop_hidden)\n",
    "\n",
    "#     pyx = softmax(T.dot(layer_2, wo))\n",
    "    pyx = T.nnet.softmax(T.dot(layer_2, wo))\n",
    "    return layer_1, layer_2, pyx"
   ]
  },
  {
   "cell_type": "markdown",
   "metadata": {},
   "source": [
    "### Likely need Batch Normalization (Hollis)"
   ]
  },
  {
   "cell_type": "code",
   "execution_count": 60,
   "metadata": {
    "ExecuteTime": {
     "end_time": "2016-05-03T13:19:30.784675",
     "start_time": "2016-05-03T13:19:29.921958"
    },
    "collapsed": true,
    "run_control": {
     "frozen": false,
     "read_only": false
    }
   },
   "outputs": [],
   "source": [
    "X = T.ftensor4()\n",
    "Y = T.fmatrix()\n",
    "\n",
    "# define mini-batch size\n",
    "mbs = 128\n",
    "\n",
    "# define number of desired features out of convolution\n",
    "n_conv = 256\n",
    "\n",
    "# define hidden layer depth\n",
    "h_depth = 600\n",
    "\n",
    "wi = init_weights((n_conv, 1, 5, 21))\n",
    "wh = init_weights((n_conv, h_depth))\n",
    "wo = init_weights((h_depth, 6))\n",
    "\n",
    "noise_l1, noise_l2, noise_py_x = model(X, wi, wh, wo, 0.2, 0.5)\n",
    "l1, l2, py_x = model(X, wi, wh, wo, 0., 0.)\n",
    "y_x = T.argmax(py_x, axis=1)\n",
    "\n",
    "\n",
    "cost = T.mean(T.nnet.categorical_crossentropy(noise_py_x, Y))\n",
    "params = [wi, wh, wo]\n",
    "updates = RMSprop(cost, params) #lr=1e-7 <--- way too small of a LR\n",
    "\n",
    "train = theano.function(inputs=[X, Y], outputs=cost, updates=updates, allow_input_downcast=True)\n",
    "predict = theano.function(inputs=[X], outputs=y_x, allow_input_downcast=True)"
   ]
  },
  {
   "cell_type": "code",
   "execution_count": 61,
   "metadata": {
    "ExecuteTime": {
     "end_time": "2016-05-03T13:28:42.104949",
     "start_time": "2016-05-03T13:19:31.336592"
    },
    "collapsed": false,
    "run_control": {
     "frozen": false,
     "read_only": false
    },
    "scrolled": true
   },
   "outputs": [
    {
     "name": "stdout",
     "output_type": "stream",
     "text": [
      "0 0.605\n",
      "[-0.0233094  -0.02309317  0.00671188  0.0149905   0.02146812]\n",
      "1 0.616\n",
      "[-0.05716702 -0.02921167  0.03698606  0.01130439  0.00893313]\n",
      "2 0.622\n",
      "[-0.09407708 -0.0288817   0.06694144  0.01497058 -0.02152738]\n",
      "3 0.627\n",
      "[-0.09670379 -0.01445446  0.06120246  0.03579619 -0.01665369]\n",
      "4 0.63\n",
      "[-0.10047964  0.00387215  0.0524274   0.06131239 -0.01179141]\n",
      "5 0.631\n",
      "[-0.10349248  0.02099101  0.04977395  0.08136492 -0.00341165]\n",
      "6 0.633\n",
      "[-0.11234646  0.03019206  0.05510927  0.09410118  0.00107217]\n",
      "7 0.635\n",
      "[-0.11734834  0.036755    0.06298663  0.09631077 -0.00178568]\n",
      "8 0.637\n",
      "[-0.12598644  0.03896995  0.07019091  0.09729365 -0.00270595]\n",
      "9 0.638\n",
      "[-0.13798545  0.04670335  0.0732359   0.09790806 -0.0024955 ]\n",
      "10 0.639\n",
      "[-0.14892456  0.05219776  0.07622778  0.09994201  0.0092287 ]\n",
      "11 0.642\n",
      "[-0.17335874  0.05827783  0.08592258  0.10251077  0.01516241]\n",
      "12 0.643\n",
      "[-0.19195294  0.06382207  0.08497933  0.10013199  0.02731975]\n",
      "13 0.645\n",
      "[-0.20769903  0.06293327  0.08384897  0.09566545  0.04293518]\n",
      "14 0.647\n",
      "[-0.21522579  0.06380803  0.08367142  0.08814799  0.05653062]\n",
      "15 0.65\n",
      "[-0.22545362  0.06420396  0.08481063  0.08211001  0.0648437 ]\n",
      "16 0.654\n",
      "[-0.23184535  0.06616512  0.0833561   0.07876447  0.06650512]\n",
      "17 0.657\n",
      "[-0.23870559  0.06724139  0.08000613  0.07742421  0.07008117]\n",
      "18 0.659\n",
      "[-0.24559164  0.06174166  0.07836927  0.07173582  0.07590181]\n",
      "19 0.662\n",
      "[-0.24834244  0.05752068  0.07530279  0.06122022  0.084393  ]\n",
      "20 0.663\n",
      "[-0.24320167  0.04707281  0.07303292  0.06293479  0.09555874]\n"
     ]
    }
   ],
   "source": [
    "# number of training iterations to perform\n",
    "n_train = 21\n",
    "\n",
    "# store our results\n",
    "costs = []\n",
    "scores = []\n",
    "\n",
    "# performing our training\n",
    "for i in xrange(n_train):\n",
    "    \n",
    "    for start, end in zip(xrange(0, len(xTrain), mbs), \n",
    "                          xrange(mbs, len(xTrain), mbs)):\n",
    "    \n",
    "        cost = train(xTrain[start:end], yTrain[start:end])\n",
    "    \n",
    "    costs.append(cost)\n",
    "    \n",
    "    score = np.mean(np.argmax(yTest, axis=1) == predict(xTest))\n",
    "    \n",
    "    scores.append(score)\n",
    "    \n",
    "    print i, round(score, 3)\n",
    "    print wi.eval()[0][0][0][:5] # take a quick look at conv filter\n",
    "    \n",
    "# got up to about 67% !"
   ]
  },
  {
   "cell_type": "code",
   "execution_count": 62,
   "metadata": {
    "ExecuteTime": {
     "end_time": "2016-05-03T13:41:58.511466",
     "start_time": "2016-05-03T13:41:58.190380"
    },
    "collapsed": false,
    "run_control": {
     "frozen": false,
     "read_only": false
    }
   },
   "outputs": [
    {
     "data": {
      "image/png": "[encoded data removed]",
      "text/plain": [
       "<matplotlib.figure.Figure at 0x126409450>"
      ]
     },
     "metadata": {},
     "output_type": "display_data"
    }
   ],
   "source": [
    "# plot our results\n",
    "plt.plot(costs, scores)\n",
    "plt.xlabel('Cost')\n",
    "plt.ylabel('Accuracy');"
   ]
  },
  {
   "cell_type": "code",
   "execution_count": 70,
   "metadata": {
    "ExecuteTime": {
     "end_time": "2016-05-03T13:46:54.034831",
     "start_time": "2016-05-03T13:46:52.278575"
    },
    "collapsed": false,
    "scrolled": false
   },
   "outputs": [
    {
     "data": {
      "image/png": "[encoded data removed]",
      "text/plain": [
       "<matplotlib.figure.Figure at 0x1253e9a50>"
      ]
     },
     "metadata": {},
     "output_type": "display_data"
    },
    {
     "data": {
      "image/png": "[encoded data removed]",
      "text/plain": [
       "<matplotlib.figure.Figure at 0x12572fd10>"
      ]
     },
     "metadata": {},
     "output_type": "display_data"
    },
    {
     "data": {
      "image/png": "[encoded data removed]",
      "text/plain": [
       "<matplotlib.figure.Figure at 0x125438450>"
      ]
     },
     "metadata": {},
     "output_type": "display_data"
    },
    {
     "data": {
      "image/png": "[encoded data removed]",
      "text/plain": [
       "<matplotlib.figure.Figure at 0x126a7a210>"
      ]
     },
     "metadata": {},
     "output_type": "display_data"
    },
    {
     "data": {
      "image/png": "[encoded data removed]",
      "text/plain": [
       "<matplotlib.figure.Figure at 0x1268c8050>"
      ]
     },
     "metadata": {},
     "output_type": "display_data"
    }
   ],
   "source": [
    "# eventually have NaN problems!\n",
    "\n",
    "# AMINO MAPS\n",
    "aminos = ['-','A', 'C', 'D', 'E', 'F', 'G', 'H', 'I', 'K', 'L', 'M', 'N', 'P', 'Q', 'R', 'S', 'T', 'V', 'W', 'Y']\n",
    "positions = ['-1', '-2', '0', '1', '2']\n",
    "\n",
    "for conv in wi.eval()[:5]:\n",
    "    c = conv.reshape(5, 21)\n",
    "    plt.imshow(c, cmap='Greys')\n",
    "    plt.xticks(range(len(aminos)), aminos)\n",
    "    plt.yticks(range(len(positions)), positions)\n",
    "#     plt.colorbar()\n",
    "    plt.show()\n",
    "\n",
    "# first_conv = wi.eval()[0]\n",
    "# first_conv = first_conv.reshape(5, 21)\n",
    "# plt.imshow(first_conv, cmap='Greys');"
   ]
  },
  {
   "cell_type": "markdown",
   "metadata": {
    "collapsed": true,
    "run_control": {
     "frozen": false,
     "read_only": false
    }
   },
   "source": [
    "http://deeplearning.net/software/theano/library/tensor/nnet/nnet.html#tensor.nnet.softmax\n",
    "http://deeplearning.net/software/theano/library/tensor/nnet/conv.html#theano.tensor.nnet.conv.conv2d"
   ]
  }
 ],
 "metadata": {
  "kernelspec": {
   "display_name": "Python 2",
   "language": "python",
   "name": "python2"
  },
  "language_info": {
   "codemirror_mode": {
    "name": "ipython",
    "version": 2
   },
   "file_extension": ".py",
   "mimetype": "text/x-python",
   "name": "python",
   "nbconvert_exporter": "python",
   "pygments_lexer": "ipython2",
   "version": "2.7.11"
  }
 },
 "nbformat": 4,
 "nbformat_minor": 0
}
