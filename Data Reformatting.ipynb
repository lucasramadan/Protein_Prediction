{
 "cells": [
  {
   "cell_type": "code",
   "execution_count": 15,
   "metadata": {
    "ExecuteTime": {
     "end_time": "2016-04-30T10:38:57.481024",
     "start_time": "2016-04-30T10:38:57.477121"
    },
    "collapsed": true,
    "run_control": {
     "frozen": false,
     "read_only": false
    }
   },
   "outputs": [],
   "source": [
    "import pandas as pd\n",
    "import numpy as np"
   ]
  },
  {
   "cell_type": "code",
   "execution_count": 9,
   "metadata": {
    "ExecuteTime": {
     "end_time": "2016-04-30T10:36:20.959595",
     "start_time": "2016-04-30T10:36:18.675929"
    },
    "collapsed": true
   },
   "outputs": [],
   "source": [
    "data = pd.read_csv('5_formatted.csv').drop('Unnamed: 0', axis=1)"
   ]
  },
  {
   "cell_type": "code",
   "execution_count": 20,
   "metadata": {
    "ExecuteTime": {
     "end_time": "2016-04-30T10:42:43.044694",
     "start_time": "2016-04-30T10:42:43.038826"
    },
    "collapsed": false,
    "scrolled": true
   },
   "outputs": [],
   "source": [
    "ex0 = data.ix[0]"
   ]
  },
  {
   "cell_type": "code",
   "execution_count": 23,
   "metadata": {
    "ExecuteTime": {
     "end_time": "2016-04-30T10:51:42.310787",
     "start_time": "2016-04-30T10:51:42.306946"
    },
    "collapsed": false,
    "scrolled": true
   },
   "outputs": [],
   "source": [
    "ex0d = ex0.to_dict()"
   ]
  },
  {
   "cell_type": "code",
   "execution_count": 25,
   "metadata": {
    "ExecuteTime": {
     "end_time": "2016-04-30T10:52:44.541794",
     "start_time": "2016-04-30T10:52:44.509010"
    },
    "collapsed": false,
    "scrolled": true
   },
   "outputs": [
    {
     "data": {
      "text/plain": [
       "[('--1', 0),\n",
       " ('--2', 1),\n",
       " ('-0', 0),\n",
       " ('-1', 0),\n",
       " ('-2', 0),\n",
       " ('A-1', 0),\n",
       " ('A-2', 0),\n",
       " ('A0', 0),\n",
       " ('A1', 0),\n",
       " ('A2', 0),\n",
       " ('C-1', 0),\n",
       " ('C-2', 0),\n",
       " ('C0', 0),\n",
       " ('C1', 0),\n",
       " ('C2', 0),\n",
       " ('D-1', 0),\n",
       " ('D-2', 0),\n",
       " ('D0', 0),\n",
       " ('D1', 0),\n",
       " ('D2', 0),\n",
       " ('E-1', 0),\n",
       " ('E-2', 0),\n",
       " ('E0', 0),\n",
       " ('E1', 0),\n",
       " ('E2', 0),\n",
       " ('F-1', 0),\n",
       " ('F-2', 0),\n",
       " ('F0', 0),\n",
       " ('F1', 0),\n",
       " ('F2', 0),\n",
       " ('G-1', 0),\n",
       " ('G-2', 0),\n",
       " ('G0', 0),\n",
       " ('G1', 0),\n",
       " ('G2', 0),\n",
       " ('H-1', 0),\n",
       " ('H-2', 0),\n",
       " ('H0', 0),\n",
       " ('H1', 0),\n",
       " ('H2', 0),\n",
       " ('I-1', 0),\n",
       " ('I-2', 0),\n",
       " ('I0', 0),\n",
       " ('I1', 0),\n",
       " ('I2', 0),\n",
       " ('K-1', 0),\n",
       " ('K-2', 0),\n",
       " ('K0', 0),\n",
       " ('K1', 0),\n",
       " ('K2', 0),\n",
       " ('L-1', 0),\n",
       " ('L-2', 0),\n",
       " ('L0', 1),\n",
       " ('L1', 0),\n",
       " ('L2', 0),\n",
       " ('M-1', 0),\n",
       " ('M-2', 0),\n",
       " ('M0', 0),\n",
       " ('M1', 0),\n",
       " ('M2', 0),\n",
       " ('N-1', 0),\n",
       " ('N-2', 0),\n",
       " ('N0', 0),\n",
       " ('N1', 0),\n",
       " ('N2', 0),\n",
       " ('P-1', 0),\n",
       " ('P-2', 0),\n",
       " ('P0', 0),\n",
       " ('P1', 0),\n",
       " ('P2', 1),\n",
       " ('Q-1', 0),\n",
       " ('Q-2', 0),\n",
       " ('Q0', 0),\n",
       " ('Q1', 0),\n",
       " ('Q2', 0),\n",
       " ('R-1', 0),\n",
       " ('R-2', 0),\n",
       " ('R0', 0),\n",
       " ('R1', 0),\n",
       " ('R2', 0),\n",
       " ('S-1', 0),\n",
       " ('S-2', 0),\n",
       " ('S0', 0),\n",
       " ('S1', 1),\n",
       " ('S2', 0),\n",
       " ('T-1', 0),\n",
       " ('T-2', 0),\n",
       " ('T0', 0),\n",
       " ('T1', 0),\n",
       " ('T2', 0),\n",
       " ('V-1', 1),\n",
       " ('V-2', 0),\n",
       " ('V0', 0),\n",
       " ('V1', 0),\n",
       " ('V2', 0),\n",
       " ('W-1', 0),\n",
       " ('W-2', 0),\n",
       " ('W0', 0),\n",
       " ('W1', 0),\n",
       " ('W2', 0),\n",
       " ('Y-1', 0),\n",
       " ('Y-2', 0),\n",
       " ('Y0', 0),\n",
       " ('Y1', 0),\n",
       " ('Y2', 0)]"
      ]
     },
     "execution_count": 25,
     "metadata": {},
     "output_type": "execute_result"
    }
   ],
   "source": [
    "# each set of 5 becomes a column in our matrix\n",
    "sorted(ex0d.items())"
   ]
  },
  {
   "cell_type": "code",
   "execution_count": 49,
   "metadata": {
    "ExecuteTime": {
     "end_time": "2016-04-30T11:06:54.914219",
     "start_time": "2016-04-30T11:06:54.899970"
    },
    "collapsed": false,
    "scrolled": false
   },
   "outputs": [
    {
     "name": "stdout",
     "output_type": "stream",
     "text": [
      "[[0 0 0 0 0 0 0 0 0 0 0 0 0 0 0 0 0 0 1 0 0]\n",
      " [1 0 0 0 0 0 0 0 0 0 0 0 0 0 0 0 0 0 0 0 0]\n",
      " [0 0 0 0 0 0 0 0 0 0 1 0 0 0 0 0 0 0 0 0 0]\n",
      " [0 0 0 0 0 0 0 0 0 0 0 0 0 0 0 0 1 0 0 0 0]\n",
      " [0 0 0 0 0 0 0 0 0 0 0 0 0 1 0 0 0 0 0 0 0]]\n"
     ]
    }
   ],
   "source": [
    "# get the sorting indices\n",
    "indices = np.argsort(ex0d.keys())\n",
    "\n",
    "# items_sorted = np.array(ex0d.items())[indices]\n",
    "# print items_sorted.reshape(-1, 10)\n",
    "\n",
    "# then get the values from the dict\n",
    "vals_sorted = np.asarray(ex0d.values())[indices]\n",
    "\n",
    "# then reshape as column, per 5\n",
    "mat = vals_sorted.reshape(-1, 5).T\n",
    "\n",
    "print mat"
   ]
  },
  {
   "cell_type": "code",
   "execution_count": 11,
   "metadata": {
    "ExecuteTime": {
     "end_time": "2016-04-30T10:36:35.417544",
     "start_time": "2016-04-30T10:36:35.411697"
    },
    "collapsed": false
   },
   "outputs": [],
   "source": [
    "cols = list(data.columns)"
   ]
  },
  {
   "cell_type": "code",
   "execution_count": 12,
   "metadata": {
    "ExecuteTime": {
     "end_time": "2016-04-30T10:36:35.601868",
     "start_time": "2016-04-30T10:36:35.585301"
    },
    "collapsed": false,
    "scrolled": true
   },
   "outputs": [
    {
     "data": {
      "text/plain": [
       "['A-2',\n",
       " 'C-2',\n",
       " 'D-2',\n",
       " 'E-2',\n",
       " 'F-2',\n",
       " 'G-2',\n",
       " 'H-2',\n",
       " 'I-2',\n",
       " 'K-2',\n",
       " 'L-2',\n",
       " 'M-2',\n",
       " 'N-2',\n",
       " 'P-2',\n",
       " 'Q-2',\n",
       " 'R-2',\n",
       " 'S-2',\n",
       " 'T-2',\n",
       " 'V-2',\n",
       " 'W-2',\n",
       " 'Y-2',\n",
       " '--2',\n",
       " 'A-1',\n",
       " 'C-1',\n",
       " 'D-1',\n",
       " 'E-1',\n",
       " 'F-1',\n",
       " 'G-1',\n",
       " 'H-1',\n",
       " 'I-1',\n",
       " 'K-1',\n",
       " 'L-1',\n",
       " 'M-1',\n",
       " 'N-1',\n",
       " 'P-1',\n",
       " 'Q-1',\n",
       " 'R-1',\n",
       " 'S-1',\n",
       " 'T-1',\n",
       " 'V-1',\n",
       " 'W-1',\n",
       " 'Y-1',\n",
       " '--1',\n",
       " 'A0',\n",
       " 'C0',\n",
       " 'D0',\n",
       " 'E0',\n",
       " 'F0',\n",
       " 'G0',\n",
       " 'H0',\n",
       " 'I0',\n",
       " 'K0',\n",
       " 'L0',\n",
       " 'M0',\n",
       " 'N0',\n",
       " 'P0',\n",
       " 'Q0',\n",
       " 'R0',\n",
       " 'S0',\n",
       " 'T0',\n",
       " 'V0',\n",
       " 'W0',\n",
       " 'Y0',\n",
       " '-0',\n",
       " 'A1',\n",
       " 'C1',\n",
       " 'D1',\n",
       " 'E1',\n",
       " 'F1',\n",
       " 'G1',\n",
       " 'H1',\n",
       " 'I1',\n",
       " 'K1',\n",
       " 'L1',\n",
       " 'M1',\n",
       " 'N1',\n",
       " 'P1',\n",
       " 'Q1',\n",
       " 'R1',\n",
       " 'S1',\n",
       " 'T1',\n",
       " 'V1',\n",
       " 'W1',\n",
       " 'Y1',\n",
       " '-1',\n",
       " 'A2',\n",
       " 'C2',\n",
       " 'D2',\n",
       " 'E2',\n",
       " 'F2',\n",
       " 'G2',\n",
       " 'H2',\n",
       " 'I2',\n",
       " 'K2',\n",
       " 'L2',\n",
       " 'M2',\n",
       " 'N2',\n",
       " 'P2',\n",
       " 'Q2',\n",
       " 'R2',\n",
       " 'S2',\n",
       " 'T2',\n",
       " 'V2',\n",
       " 'W2',\n",
       " 'Y2',\n",
       " '-2']"
      ]
     },
     "execution_count": 12,
     "metadata": {},
     "output_type": "execute_result"
    }
   ],
   "source": [
    "cols"
   ]
  },
  {
   "cell_type": "code",
   "execution_count": 13,
   "metadata": {
    "ExecuteTime": {
     "end_time": "2016-04-30T10:38:14.312799",
     "start_time": "2016-04-30T10:38:14.308040"
    },
    "collapsed": true
   },
   "outputs": [],
   "source": [
    "s = sorted(cols)"
   ]
  },
  {
   "cell_type": "code",
   "execution_count": 22,
   "metadata": {
    "ExecuteTime": {
     "end_time": "2016-04-30T10:47:54.667257",
     "start_time": "2016-04-30T10:47:54.660251"
    },
    "collapsed": false
   },
   "outputs": [
    {
     "name": "stdout",
     "output_type": "stream",
     "text": [
      "['--1', '--2', '-0', '-1', '-2']\n",
      "['A-1', 'A-2', 'A0', 'A1', 'A2']\n",
      "['C-1', 'C-2', 'C0', 'C1', 'C2']\n",
      "['D-1', 'D-2', 'D0', 'D1', 'D2']\n",
      "['E-1', 'E-2', 'E0', 'E1', 'E2']\n",
      "['F-1', 'F-2', 'F0', 'F1', 'F2']\n",
      "['G-1', 'G-2', 'G0', 'G1', 'G2']\n",
      "['H-1', 'H-2', 'H0', 'H1', 'H2']\n",
      "['I-1', 'I-2', 'I0', 'I1', 'I2']\n",
      "['K-1', 'K-2', 'K0', 'K1', 'K2']\n",
      "['L-1', 'L-2', 'L0', 'L1', 'L2']\n",
      "['M-1', 'M-2', 'M0', 'M1', 'M2']\n",
      "['N-1', 'N-2', 'N0', 'N1', 'N2']\n",
      "['P-1', 'P-2', 'P0', 'P1', 'P2']\n",
      "['Q-1', 'Q-2', 'Q0', 'Q1', 'Q2']\n",
      "['R-1', 'R-2', 'R0', 'R1', 'R2']\n",
      "['S-1', 'S-2', 'S0', 'S1', 'S2']\n",
      "['T-1', 'T-2', 'T0', 'T1', 'T2']\n",
      "['V-1', 'V-2', 'V0', 'V1', 'V2']\n",
      "['W-1', 'W-2', 'W0', 'W1', 'W2']\n",
      "['Y-1', 'Y-2', 'Y0', 'Y1', 'Y2']\n"
     ]
    }
   ],
   "source": [
    "for i in xrange(0, len(s), 5):\n",
    "    print s[i: i+5]"
   ]
  },
  {
   "cell_type": "code",
   "execution_count": 16,
   "metadata": {
    "ExecuteTime": {
     "end_time": "2016-04-30T10:41:18.244707",
     "start_time": "2016-04-30T10:41:18.238737"
    },
    "collapsed": true
   },
   "outputs": [],
   "source": [
    "letters = set()\n",
    "indices = set()\n",
    "\n",
    "for l in s:\n",
    "    letters.add(l[0])\n",
    "    indices.add(l[1:])"
   ]
  },
  {
   "cell_type": "code",
   "execution_count": 17,
   "metadata": {
    "ExecuteTime": {
     "end_time": "2016-04-30T10:41:20.624512",
     "start_time": "2016-04-30T10:41:20.615250"
    },
    "collapsed": false,
    "scrolled": true
   },
   "outputs": [
    {
     "data": {
      "text/plain": [
       "{'-',\n",
       " 'A',\n",
       " 'C',\n",
       " 'D',\n",
       " 'E',\n",
       " 'F',\n",
       " 'G',\n",
       " 'H',\n",
       " 'I',\n",
       " 'K',\n",
       " 'L',\n",
       " 'M',\n",
       " 'N',\n",
       " 'P',\n",
       " 'Q',\n",
       " 'R',\n",
       " 'S',\n",
       " 'T',\n",
       " 'V',\n",
       " 'W',\n",
       " 'Y'}"
      ]
     },
     "execution_count": 17,
     "metadata": {},
     "output_type": "execute_result"
    }
   ],
   "source": [
    "letters"
   ]
  },
  {
   "cell_type": "code",
   "execution_count": 18,
   "metadata": {
    "ExecuteTime": {
     "end_time": "2016-04-30T10:41:25.605143",
     "start_time": "2016-04-30T10:41:25.597873"
    },
    "collapsed": false
   },
   "outputs": [
    {
     "data": {
      "text/plain": [
       "{'-1', '-2', '0', '1', '2'}"
      ]
     },
     "execution_count": 18,
     "metadata": {},
     "output_type": "execute_result"
    }
   ],
   "source": [
    "indices"
   ]
  },
  {
   "cell_type": "code",
   "execution_count": null,
   "metadata": {
    "collapsed": true
   },
   "outputs": [],
   "source": []
  }
 ],
 "metadata": {
  "kernelspec": {
   "display_name": "Python 2",
   "language": "python",
   "name": "python2"
  },
  "language_info": {
   "codemirror_mode": {
    "name": "ipython",
    "version": 2
   },
   "file_extension": ".py",
   "mimetype": "text/x-python",
   "name": "python",
   "nbconvert_exporter": "python",
   "pygments_lexer": "ipython2",
   "version": "2.7.11"
  }
 },
 "nbformat": 4,
 "nbformat_minor": 0
}
