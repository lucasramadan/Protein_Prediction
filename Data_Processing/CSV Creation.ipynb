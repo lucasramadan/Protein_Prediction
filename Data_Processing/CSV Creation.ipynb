{
 "cells": [
  {
   "cell_type": "code",
   "execution_count": 1,
   "metadata": {
    "ExecuteTime": {
     "end_time": "2016-05-11T14:49:14.159395",
     "start_time": "2016-05-11T14:49:11.228308"
    },
    "collapsed": true,
    "run_control": {
     "frozen": false,
     "read_only": false
    }
   },
   "outputs": [],
   "source": [
    "import os\n",
    "import pandas as pd"
   ]
  },
  {
   "cell_type": "code",
   "execution_count": 12,
   "metadata": {
    "ExecuteTime": {
     "end_time": "2016-05-11T14:59:56.188171",
     "start_time": "2016-05-11T14:59:56.180008"
    },
    "collapsed": false,
    "run_control": {
     "frozen": false,
     "read_only": false
    }
   },
   "outputs": [
    {
     "name": "stdout",
     "output_type": "stream",
     "text": [
      "['ord.11.tab', 'ord.13.tab', 'ord.15.tab', 'ord.17.tab', 'ord.19.tab', 'ord.5.tab', 'ord.7.tab', 'ord.9.tab']\n",
      "../data/cleaned_ord_11\n",
      "../data/cleaned_ord_13\n",
      "../data/cleaned_ord_15\n",
      "../data/cleaned_ord_17\n",
      "../data/cleaned_ord_19\n",
      "../data/cleaned_ord_5\n",
      "../data/cleaned_ord_7\n",
      "../data/cleaned_ord_9\n"
     ]
    }
   ],
   "source": [
    "top_dir, _, files = os.walk('../ssdata/').next()\n",
    "\n",
    "print files\n",
    "\n",
    "for f in files:\n",
    "    n = f.split('.')[:2]\n",
    "    print '../data/cleaned_'+str(n[0])+'_'+str(n[1])"
   ]
  },
  {
   "cell_type": "code",
   "execution_count": 30,
   "metadata": {
    "ExecuteTime": {
     "end_time": "2016-04-29T11:40:24.629007",
     "start_time": "2016-04-29T11:38:30.100954"
    },
    "collapsed": false,
    "run_control": {
     "frozen": false,
     "read_only": false
    }
   },
   "outputs": [
    {
     "name": "stdout",
     "output_type": "stream",
     "text": [
      "data/cleaned_ord_11.csv\n",
      "data/cleaned_ord_13.csv\n",
      "data/cleaned_ord_15.csv\n",
      "data/cleaned_ord_17.csv\n",
      "data/cleaned_ord_19.csv\n",
      "data/cleaned_ord_5.csv\n",
      "data/cleaned_ord_7.csv\n",
      "data/cleaned_ord_9.csv\n"
     ]
    }
   ],
   "source": [
    "for fi in files:\n",
    "    n = fi.split('.')[:2]\n",
    "    with open('../ssdata/'+fi) as f:\n",
    "        raw_data = [r.replace('\\n', '').split('\\t') for r in f.readlines()]\n",
    "        df = pd.DataFrame(raw_data[1:], columns=raw_data[0])\n",
    "        filename = '../data/cleaned_'+str(n[0])+'_'+str(n[1])+'.csv'\n",
    "        print filename\n",
    "        df.to_csv(filename)"
   ]
  },
  {
   "cell_type": "code",
   "execution_count": null,
   "metadata": {
    "collapsed": true,
    "run_control": {
     "frozen": false,
     "read_only": false
    }
   },
   "outputs": [],
   "source": []
  }
 ],
 "metadata": {
  "kernelspec": {
   "display_name": "Python 2",
   "language": "python",
   "name": "python2"
  },
  "language_info": {
   "codemirror_mode": {
    "name": "ipython",
    "version": 2
   },
   "file_extension": ".py",
   "mimetype": "text/x-python",
   "name": "python",
   "nbconvert_exporter": "python",
   "pygments_lexer": "ipython2",
   "version": "2.7.11"
  }
 },
 "nbformat": 4,
 "nbformat_minor": 0
}
