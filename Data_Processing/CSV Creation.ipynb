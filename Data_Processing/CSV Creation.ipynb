{
 "cells": [
  {
   "cell_type": "code",
   "execution_count": 1,
   "metadata": {
    "ExecuteTime": {
     "end_time": "2016-05-16T10:15:48.355904",
     "start_time": "2016-05-16T10:15:37.278659"
    },
    "collapsed": true,
    "run_control": {
     "frozen": false,
     "read_only": false
    }
   },
   "outputs": [],
   "source": [
    "import os\n",
    "import pandas as pd"
   ]
  },
  {
   "cell_type": "code",
   "execution_count": 2,
   "metadata": {
    "ExecuteTime": {
     "end_time": "2016-05-16T10:15:49.269653",
     "start_time": "2016-05-16T10:15:49.254987"
    },
    "collapsed": false,
    "run_control": {
     "frozen": false,
     "read_only": false
    }
   },
   "outputs": [
    {
     "name": "stdout",
     "output_type": "stream",
     "text": [
      "['ord.11.tab', 'ord.13.tab', 'ord.15.tab', 'ord.17.tab', 'ord.19.tab', 'ord.5.tab', 'ord.7.tab', 'ord.9.tab']\n",
      "../csv_data/cleaned_ord_11\n",
      "../csv_data/cleaned_ord_13\n",
      "../csv_data/cleaned_ord_15\n",
      "../csv_data/cleaned_ord_17\n",
      "../csv_data/cleaned_ord_19\n",
      "../csv_data/cleaned_ord_5\n",
      "../csv_data/cleaned_ord_7\n",
      "../csv_data/cleaned_ord_9\n"
     ]
    }
   ],
   "source": [
    "top_dir, _, files = os.walk('../ssdata/').next()\n",
    "\n",
    "print files\n",
    "\n",
    "for f in files:\n",
    "    n = f.split('.')[:2]\n",
    "    print '../csv_data/cleaned_'+str(n[0])+'_'+str(n[1])"
   ]
  },
  {
   "cell_type": "code",
   "execution_count": 5,
   "metadata": {
    "ExecuteTime": {
     "end_time": "2016-05-16T10:35:24.622601",
     "start_time": "2016-05-16T10:33:26.880739"
    },
    "collapsed": false,
    "run_control": {
     "frozen": false,
     "read_only": false
    }
   },
   "outputs": [
    {
     "name": "stdout",
     "output_type": "stream",
     "text": [
      "../csv_data/cleaned_ord_11.csv\n",
      "../csv_data/cleaned_ord_13.csv\n",
      "../csv_data/cleaned_ord_15.csv\n",
      "../csv_data/cleaned_ord_17.csv\n",
      "../csv_data/cleaned_ord_19.csv\n",
      "../csv_data/cleaned_ord_5.csv\n",
      "../csv_data/cleaned_ord_7.csv\n",
      "../csv_data/cleaned_ord_9.csv\n"
     ]
    }
   ],
   "source": [
    "for fi in files:\n",
    "    n = fi.split('.')[:2]\n",
    "    with open('../ssdata/'+fi) as f:\n",
    "        raw_data = [r.replace('\\n', '').split('\\t') for r in f.readlines()]\n",
    "        df = pd.DataFrame(raw_data[1:], columns=raw_data[0])\n",
    "        df.drop(['H', 'E', 'T', 'S', 'B', ' '], axis=1, inplace=True)\n",
    "        filename = '../csv_data/cleaned_'+str(n[0])+'_'+str(n[1])+'.csv'\n",
    "        print filename\n",
    "        df.to_csv(filename, index=False)"
   ]
  },
  {
   "cell_type": "code",
   "execution_count": 6,
   "metadata": {
    "ExecuteTime": {
     "end_time": "2016-05-16T10:36:16.875653",
     "start_time": "2016-05-16T10:36:13.409737"
    },
    "collapsed": false,
    "run_control": {
     "frozen": false,
     "read_only": false
    }
   },
   "outputs": [
    {
     "data": {
      "text/html": [
       "<div>\n",
       "<table border=\"1\" class=\"dataframe\">\n",
       "  <thead>\n",
       "    <tr style=\"text-align: right;\">\n",
       "      <th></th>\n",
       "      <th>pos</th>\n",
       "      <th>A-4</th>\n",
       "      <th>C-4</th>\n",
       "      <th>D-4</th>\n",
       "      <th>E-4</th>\n",
       "      <th>F-4</th>\n",
       "      <th>G-4</th>\n",
       "      <th>H-4</th>\n",
       "      <th>I-4</th>\n",
       "      <th>K-4</th>\n",
       "      <th>...</th>\n",
       "      <th>N4</th>\n",
       "      <th>P4</th>\n",
       "      <th>Q4</th>\n",
       "      <th>R4</th>\n",
       "      <th>S4</th>\n",
       "      <th>T4</th>\n",
       "      <th>V4</th>\n",
       "      <th>W4</th>\n",
       "      <th>Y4</th>\n",
       "      <th>-4</th>\n",
       "    </tr>\n",
       "  </thead>\n",
       "  <tbody>\n",
       "    <tr>\n",
       "      <th>0</th>\n",
       "      <td>2</td>\n",
       "      <td>0</td>\n",
       "      <td>0</td>\n",
       "      <td>0</td>\n",
       "      <td>0</td>\n",
       "      <td>0</td>\n",
       "      <td>0</td>\n",
       "      <td>0</td>\n",
       "      <td>0</td>\n",
       "      <td>0</td>\n",
       "      <td>...</td>\n",
       "      <td>0</td>\n",
       "      <td>0</td>\n",
       "      <td>0</td>\n",
       "      <td>0</td>\n",
       "      <td>0</td>\n",
       "      <td>0</td>\n",
       "      <td>0</td>\n",
       "      <td>0</td>\n",
       "      <td>0</td>\n",
       "      <td>0</td>\n",
       "    </tr>\n",
       "    <tr>\n",
       "      <th>1</th>\n",
       "      <td>3</td>\n",
       "      <td>0</td>\n",
       "      <td>0</td>\n",
       "      <td>0</td>\n",
       "      <td>0</td>\n",
       "      <td>0</td>\n",
       "      <td>0</td>\n",
       "      <td>0</td>\n",
       "      <td>0</td>\n",
       "      <td>0</td>\n",
       "      <td>...</td>\n",
       "      <td>0</td>\n",
       "      <td>0</td>\n",
       "      <td>0</td>\n",
       "      <td>0</td>\n",
       "      <td>0</td>\n",
       "      <td>0</td>\n",
       "      <td>0</td>\n",
       "      <td>0</td>\n",
       "      <td>0</td>\n",
       "      <td>0</td>\n",
       "    </tr>\n",
       "    <tr>\n",
       "      <th>2</th>\n",
       "      <td>4</td>\n",
       "      <td>0</td>\n",
       "      <td>0</td>\n",
       "      <td>0</td>\n",
       "      <td>0</td>\n",
       "      <td>0</td>\n",
       "      <td>0</td>\n",
       "      <td>0</td>\n",
       "      <td>0</td>\n",
       "      <td>0</td>\n",
       "      <td>...</td>\n",
       "      <td>0</td>\n",
       "      <td>0</td>\n",
       "      <td>0</td>\n",
       "      <td>0</td>\n",
       "      <td>0</td>\n",
       "      <td>1</td>\n",
       "      <td>0</td>\n",
       "      <td>0</td>\n",
       "      <td>0</td>\n",
       "      <td>0</td>\n",
       "    </tr>\n",
       "    <tr>\n",
       "      <th>3</th>\n",
       "      <td>5</td>\n",
       "      <td>0</td>\n",
       "      <td>0</td>\n",
       "      <td>0</td>\n",
       "      <td>0</td>\n",
       "      <td>0</td>\n",
       "      <td>0</td>\n",
       "      <td>0</td>\n",
       "      <td>0</td>\n",
       "      <td>0</td>\n",
       "      <td>...</td>\n",
       "      <td>1</td>\n",
       "      <td>0</td>\n",
       "      <td>0</td>\n",
       "      <td>0</td>\n",
       "      <td>0</td>\n",
       "      <td>0</td>\n",
       "      <td>0</td>\n",
       "      <td>0</td>\n",
       "      <td>0</td>\n",
       "      <td>0</td>\n",
       "    </tr>\n",
       "    <tr>\n",
       "      <th>4</th>\n",
       "      <td>6</td>\n",
       "      <td>0</td>\n",
       "      <td>0</td>\n",
       "      <td>0</td>\n",
       "      <td>0</td>\n",
       "      <td>0</td>\n",
       "      <td>0</td>\n",
       "      <td>0</td>\n",
       "      <td>0</td>\n",
       "      <td>0</td>\n",
       "      <td>...</td>\n",
       "      <td>0</td>\n",
       "      <td>0</td>\n",
       "      <td>0</td>\n",
       "      <td>0</td>\n",
       "      <td>0</td>\n",
       "      <td>0</td>\n",
       "      <td>1</td>\n",
       "      <td>0</td>\n",
       "      <td>0</td>\n",
       "      <td>0</td>\n",
       "    </tr>\n",
       "  </tbody>\n",
       "</table>\n",
       "<p>5 rows × 190 columns</p>\n",
       "</div>"
      ],
      "text/plain": [
       "   pos  A-4  C-4  D-4  E-4  F-4  G-4  H-4  I-4  K-4 ...  N4  P4  Q4  R4  S4  \\\n",
       "0    2    0    0    0    0    0    0    0    0    0 ...   0   0   0   0   0   \n",
       "1    3    0    0    0    0    0    0    0    0    0 ...   0   0   0   0   0   \n",
       "2    4    0    0    0    0    0    0    0    0    0 ...   0   0   0   0   0   \n",
       "3    5    0    0    0    0    0    0    0    0    0 ...   1   0   0   0   0   \n",
       "4    6    0    0    0    0    0    0    0    0    0 ...   0   0   0   0   0   \n",
       "\n",
       "   T4  V4  W4  Y4  -4  \n",
       "0   0   0   0   0   0  \n",
       "1   0   0   0   0   0  \n",
       "2   1   0   0   0   0  \n",
       "3   0   0   0   0   0  \n",
       "4   0   1   0   0   0  \n",
       "\n",
       "[5 rows x 190 columns]"
      ]
     },
     "execution_count": 6,
     "metadata": {},
     "output_type": "execute_result"
    }
   ],
   "source": [
    "nine = pd.read_csv('../csv_data/cleaned_ord_9.csv')\n",
    "nine.head()"
   ]
  },
  {
   "cell_type": "code",
   "execution_count": null,
   "metadata": {
    "collapsed": true
   },
   "outputs": [],
   "source": []
  }
 ],
 "metadata": {
  "kernelspec": {
   "display_name": "Python 2",
   "language": "python",
   "name": "python2"
  },
  "language_info": {
   "codemirror_mode": {
    "name": "ipython",
    "version": 2
   },
   "file_extension": ".py",
   "mimetype": "text/x-python",
   "name": "python",
   "nbconvert_exporter": "python",
   "pygments_lexer": "ipython2",
   "version": "2.7.11"
  }
 },
 "nbformat": 4,
 "nbformat_minor": 0
}
