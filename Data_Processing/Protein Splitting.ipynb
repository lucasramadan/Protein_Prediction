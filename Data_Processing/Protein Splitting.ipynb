{
 "cells": [
  {
   "cell_type": "code",
   "execution_count": 32,
   "metadata": {
    "ExecuteTime": {
     "end_time": "2016-05-17T15:37:30.772847",
     "start_time": "2016-05-17T15:37:30.767195"
    },
    "collapsed": false,
    "run_control": {
     "frozen": false,
     "read_only": false
    }
   },
   "outputs": [
    {
     "name": "stdout",
     "output_type": "stream",
     "text": [
      "\n"
     ]
    }
   ],
   "source": [
    "import pandas as pd\n",
    "import numpy as np\n",
    "import os\n",
    "from sys import stdout"
   ]
  },
  {
   "cell_type": "code",
   "execution_count": 2,
   "metadata": {
    "ExecuteTime": {
     "end_time": "2016-05-17T15:16:42.662571",
     "start_time": "2016-05-17T15:16:40.499198"
    },
    "collapsed": false,
    "run_control": {
     "frozen": false,
     "read_only": false
    }
   },
   "outputs": [
    {
     "data": {
      "text/html": [
       "<div>\n",
       "<table border=\"1\" class=\"dataframe\">\n",
       "  <thead>\n",
       "    <tr style=\"text-align: right;\">\n",
       "      <th></th>\n",
       "      <th>pos</th>\n",
       "      <th>A-2</th>\n",
       "      <th>C-2</th>\n",
       "      <th>D-2</th>\n",
       "      <th>E-2</th>\n",
       "      <th>F-2</th>\n",
       "      <th>G-2</th>\n",
       "      <th>H-2</th>\n",
       "      <th>I-2</th>\n",
       "      <th>K-2</th>\n",
       "      <th>...</th>\n",
       "      <th>N2</th>\n",
       "      <th>P2</th>\n",
       "      <th>Q2</th>\n",
       "      <th>R2</th>\n",
       "      <th>S2</th>\n",
       "      <th>T2</th>\n",
       "      <th>V2</th>\n",
       "      <th>W2</th>\n",
       "      <th>Y2</th>\n",
       "      <th>-2</th>\n",
       "    </tr>\n",
       "  </thead>\n",
       "  <tbody>\n",
       "    <tr>\n",
       "      <th>0</th>\n",
       "      <td>2</td>\n",
       "      <td>0</td>\n",
       "      <td>0</td>\n",
       "      <td>0</td>\n",
       "      <td>0</td>\n",
       "      <td>0</td>\n",
       "      <td>0</td>\n",
       "      <td>0</td>\n",
       "      <td>0</td>\n",
       "      <td>0</td>\n",
       "      <td>...</td>\n",
       "      <td>0</td>\n",
       "      <td>1</td>\n",
       "      <td>0</td>\n",
       "      <td>0</td>\n",
       "      <td>0</td>\n",
       "      <td>0</td>\n",
       "      <td>0</td>\n",
       "      <td>0</td>\n",
       "      <td>0</td>\n",
       "      <td>0</td>\n",
       "    </tr>\n",
       "    <tr>\n",
       "      <th>1</th>\n",
       "      <td>3</td>\n",
       "      <td>0</td>\n",
       "      <td>0</td>\n",
       "      <td>0</td>\n",
       "      <td>0</td>\n",
       "      <td>0</td>\n",
       "      <td>0</td>\n",
       "      <td>0</td>\n",
       "      <td>0</td>\n",
       "      <td>0</td>\n",
       "      <td>...</td>\n",
       "      <td>0</td>\n",
       "      <td>0</td>\n",
       "      <td>0</td>\n",
       "      <td>0</td>\n",
       "      <td>0</td>\n",
       "      <td>0</td>\n",
       "      <td>0</td>\n",
       "      <td>0</td>\n",
       "      <td>0</td>\n",
       "      <td>0</td>\n",
       "    </tr>\n",
       "    <tr>\n",
       "      <th>2</th>\n",
       "      <td>4</td>\n",
       "      <td>0</td>\n",
       "      <td>0</td>\n",
       "      <td>0</td>\n",
       "      <td>0</td>\n",
       "      <td>0</td>\n",
       "      <td>0</td>\n",
       "      <td>0</td>\n",
       "      <td>0</td>\n",
       "      <td>0</td>\n",
       "      <td>...</td>\n",
       "      <td>0</td>\n",
       "      <td>0</td>\n",
       "      <td>0</td>\n",
       "      <td>0</td>\n",
       "      <td>0</td>\n",
       "      <td>0</td>\n",
       "      <td>0</td>\n",
       "      <td>0</td>\n",
       "      <td>0</td>\n",
       "      <td>0</td>\n",
       "    </tr>\n",
       "    <tr>\n",
       "      <th>3</th>\n",
       "      <td>5</td>\n",
       "      <td>0</td>\n",
       "      <td>0</td>\n",
       "      <td>0</td>\n",
       "      <td>0</td>\n",
       "      <td>0</td>\n",
       "      <td>0</td>\n",
       "      <td>0</td>\n",
       "      <td>0</td>\n",
       "      <td>0</td>\n",
       "      <td>...</td>\n",
       "      <td>0</td>\n",
       "      <td>0</td>\n",
       "      <td>0</td>\n",
       "      <td>0</td>\n",
       "      <td>0</td>\n",
       "      <td>0</td>\n",
       "      <td>0</td>\n",
       "      <td>0</td>\n",
       "      <td>0</td>\n",
       "      <td>0</td>\n",
       "    </tr>\n",
       "    <tr>\n",
       "      <th>4</th>\n",
       "      <td>6</td>\n",
       "      <td>0</td>\n",
       "      <td>0</td>\n",
       "      <td>0</td>\n",
       "      <td>0</td>\n",
       "      <td>0</td>\n",
       "      <td>0</td>\n",
       "      <td>0</td>\n",
       "      <td>0</td>\n",
       "      <td>0</td>\n",
       "      <td>...</td>\n",
       "      <td>0</td>\n",
       "      <td>0</td>\n",
       "      <td>0</td>\n",
       "      <td>0</td>\n",
       "      <td>0</td>\n",
       "      <td>1</td>\n",
       "      <td>0</td>\n",
       "      <td>0</td>\n",
       "      <td>0</td>\n",
       "      <td>0</td>\n",
       "    </tr>\n",
       "  </tbody>\n",
       "</table>\n",
       "<p>5 rows × 106 columns</p>\n",
       "</div>"
      ],
      "text/plain": [
       "   pos  A-2  C-2  D-2  E-2  F-2  G-2  H-2  I-2  K-2 ...  N2  P2  Q2  R2  S2  \\\n",
       "0    2    0    0    0    0    0    0    0    0    0 ...   0   1   0   0   0   \n",
       "1    3    0    0    0    0    0    0    0    0    0 ...   0   0   0   0   0   \n",
       "2    4    0    0    0    0    0    0    0    0    0 ...   0   0   0   0   0   \n",
       "3    5    0    0    0    0    0    0    0    0    0 ...   0   0   0   0   0   \n",
       "4    6    0    0    0    0    0    0    0    0    0 ...   0   0   0   0   0   \n",
       "\n",
       "   T2  V2  W2  Y2  -2  \n",
       "0   0   0   0   0   0  \n",
       "1   0   0   0   0   0  \n",
       "2   0   0   0   0   0  \n",
       "3   0   0   0   0   0  \n",
       "4   1   0   0   0   0  \n",
       "\n",
       "[5 rows x 106 columns]"
      ]
     },
     "execution_count": 2,
     "metadata": {},
     "output_type": "execute_result"
    }
   ],
   "source": [
    "data = pd.read_csv('../csv_data/cleaned_ord_5.csv')\n",
    "data.head()"
   ]
  },
  {
   "cell_type": "code",
   "execution_count": 37,
   "metadata": {
    "ExecuteTime": {
     "end_time": "2016-05-17T15:47:15.617878",
     "start_time": "2016-05-17T15:47:15.610313"
    },
    "collapsed": false,
    "run_control": {
     "frozen": false,
     "read_only": false
    }
   },
   "outputs": [
    {
     "data": {
      "text/plain": [
       "array(['pos', 'A-2', 'C-2', 'D-2', 'E-2', 'F-2', 'G-2', 'H-2', 'I-2',\n",
       "       'K-2', 'L-2', 'M-2', 'N-2', 'P-2', 'Q-2', 'R-2', 'S-2', 'T-2',\n",
       "       'V-2', 'W-2', 'Y-2', '--2', 'A-1', 'C-1', 'D-1', 'E-1', 'F-1',\n",
       "       'G-1', 'H-1', 'I-1', 'K-1', 'L-1', 'M-1', 'N-1', 'P-1', 'Q-1',\n",
       "       'R-1', 'S-1', 'T-1', 'V-1', 'W-1', 'Y-1', '--1', 'A0', 'C0', 'D0',\n",
       "       'E0', 'F0', 'G0', 'H0', 'I0', 'K0', 'L0', 'M0', 'N0', 'P0', 'Q0',\n",
       "       'R0', 'S0', 'T0', 'V0', 'W0', 'Y0', '-0', 'A1', 'C1', 'D1', 'E1',\n",
       "       'F1', 'G1', 'H1', 'I1', 'K1', 'L1', 'M1', 'N1', 'P1', 'Q1', 'R1',\n",
       "       'S1', 'T1', 'V1', 'W1', 'Y1', '-1', 'A2', 'C2', 'D2', 'E2', 'F2',\n",
       "       'G2', 'H2', 'I2', 'K2', 'L2', 'M2', 'N2', 'P2', 'Q2', 'R2', 'S2',\n",
       "       'T2', 'V2', 'W2', 'Y2', '-2'], dtype=object)"
      ]
     },
     "execution_count": 37,
     "metadata": {},
     "output_type": "execute_result"
    }
   ],
   "source": [
    "data.columns.values"
   ]
  },
  {
   "cell_type": "code",
   "execution_count": 34,
   "metadata": {
    "ExecuteTime": {
     "end_time": "2016-05-17T15:45:40.671933",
     "start_time": "2016-05-17T15:39:27.057756"
    },
    "collapsed": false,
    "run_control": {
     "frozen": false,
     "read_only": false
    }
   },
   "outputs": [
    {
     "name": "stdout",
     "output_type": "stream",
     "text": [
      "134813\n"
     ]
    }
   ],
   "source": [
    "all_aminos = []\n",
    "\n",
    "for i in xrange(data.shape[0]):\n",
    "    stdout.write(\"\\r%d\" % i)\n",
    "#     stdout.flush()\n",
    "    all_aminos = all_aminos + get_aminos(data, i)\n",
    "stdout.write(\"\\n\")"
   ]
  },
  {
   "cell_type": "code",
   "execution_count": 35,
   "metadata": {
    "ExecuteTime": {
     "end_time": "2016-05-17T15:45:53.545221",
     "start_time": "2016-05-17T15:45:53.198773"
    },
    "collapsed": false,
    "run_control": {
     "frozen": false,
     "read_only": false
    }
   },
   "outputs": [
    {
     "data": {
      "text/plain": [
       "Counter({'--1': 30264,\n",
       "         '--2': 30606,\n",
       "         '-0': 30085,\n",
       "         '-1': 30271,\n",
       "         '-2': 30463,\n",
       "         'A-1': 8808,\n",
       "         'A-2': 8771,\n",
       "         'A0': 8834,\n",
       "         'A1': 8819,\n",
       "         'A2': 8805,\n",
       "         'C-1': 1152,\n",
       "         'C-2': 1152,\n",
       "         'C0': 1154,\n",
       "         'C1': 1153,\n",
       "         'C2': 1151,\n",
       "         'D-1': 6257,\n",
       "         'D-2': 6248,\n",
       "         'D0': 6271,\n",
       "         'D1': 6255,\n",
       "         'D2': 6249,\n",
       "         'E-1': 7023,\n",
       "         'E-2': 7001,\n",
       "         'E0': 7046,\n",
       "         'E1': 7031,\n",
       "         'E2': 7017,\n",
       "         'F-1': 4418,\n",
       "         'F-2': 4409,\n",
       "         'F0': 4428,\n",
       "         'F1': 4423,\n",
       "         'F2': 4416,\n",
       "         'G-1': 7538,\n",
       "         'G-2': 7519,\n",
       "         'G0': 7533,\n",
       "         'G1': 7531,\n",
       "         'G2': 7529,\n",
       "         'H-1': 2581,\n",
       "         'H-2': 2565,\n",
       "         'H0': 2586,\n",
       "         'H1': 2580,\n",
       "         'H2': 2570,\n",
       "         'I-1': 6052,\n",
       "         'I-2': 6041,\n",
       "         'I0': 6072,\n",
       "         'I1': 6057,\n",
       "         'I2': 6039,\n",
       "         'K-1': 5802,\n",
       "         'K-2': 5785,\n",
       "         'K0': 5836,\n",
       "         'K1': 5823,\n",
       "         'K2': 5810,\n",
       "         'L-1': 9957,\n",
       "         'L-2': 9925,\n",
       "         'L0': 9971,\n",
       "         'L1': 9950,\n",
       "         'L2': 9942,\n",
       "         'M-1': 2506,\n",
       "         'M-2': 2503,\n",
       "         'M0': 2463,\n",
       "         'M1': 2453,\n",
       "         'M2': 2445,\n",
       "         'N-1': 4327,\n",
       "         'N-2': 4298,\n",
       "         'N0': 4335,\n",
       "         'N1': 4321,\n",
       "         'N2': 4313,\n",
       "         'P-1': 4786,\n",
       "         'P-2': 4762,\n",
       "         'P0': 4800,\n",
       "         'P1': 4792,\n",
       "         'P2': 4781,\n",
       "         'Q-1': 3959,\n",
       "         'Q-2': 3945,\n",
       "         'Q0': 3982,\n",
       "         'Q1': 3978,\n",
       "         'Q2': 3969,\n",
       "         'R-1': 5415,\n",
       "         'R-2': 5386,\n",
       "         'R0': 5438,\n",
       "         'R1': 5432,\n",
       "         'R2': 5420,\n",
       "         'S-1': 5726,\n",
       "         'S-2': 5708,\n",
       "         'S0': 5724,\n",
       "         'S1': 5715,\n",
       "         'S2': 5693,\n",
       "         'T-1': 5589,\n",
       "         'T-2': 5575,\n",
       "         'T0': 5588,\n",
       "         'T1': 5585,\n",
       "         'T2': 5575,\n",
       "         'V-1': 7294,\n",
       "         'V-2': 7281,\n",
       "         'V0': 7303,\n",
       "         'V1': 7290,\n",
       "         'V2': 7278,\n",
       "         'W-1': 1470,\n",
       "         'W-2': 1464,\n",
       "         'W0': 1474,\n",
       "         'W1': 1469,\n",
       "         'W2': 1468,\n",
       "         'Y-1': 3598,\n",
       "         'Y-2': 3582,\n",
       "         'Y0': 3598,\n",
       "         'Y1': 3594,\n",
       "         'Y2': 3590})"
      ]
     },
     "execution_count": 35,
     "metadata": {},
     "output_type": "execute_result"
    }
   ],
   "source": [
    "from collections import Counter\n",
    "\n",
    "Counter(all_aminos)\n",
    "\n",
    "# aas = np.asarray(all_aminos)\n",
    "# aas.flatten()\n",
    "\n"
   ]
  },
  {
   "cell_type": "code",
   "execution_count": 3,
   "metadata": {
    "ExecuteTime": {
     "end_time": "2016-05-17T15:16:45.617950",
     "start_time": "2016-05-17T15:16:45.608832"
    },
    "collapsed": true,
    "run_control": {
     "frozen": false,
     "read_only": false
    }
   },
   "outputs": [],
   "source": [
    "def get_aminos(df, i):\n",
    "    \"\"\"\n",
    "    Given the dataframe and index, find the aminos that are \"on\" (ie 1)\n",
    "    \"\"\"\n",
    "    ser = df.ix[i]\n",
    "    \n",
    "    aminos = []\n",
    "    \n",
    "    for i, v in enumerate(ser.values):\n",
    "        if v==1:\n",
    "            amino = ser.index.values[i]\n",
    "            aminos.append(amino)\n",
    "            \n",
    "    return aminos"
   ]
  },
  {
   "cell_type": "code",
   "execution_count": 4,
   "metadata": {
    "ExecuteTime": {
     "end_time": "2016-05-17T15:16:45.938123",
     "start_time": "2016-05-17T15:16:45.922020"
    },
    "collapsed": false,
    "run_control": {
     "frozen": false,
     "read_only": false
    }
   },
   "outputs": [
    {
     "data": {
      "text/plain": [
       "['--2', 'V-1', 'L0', 'S1', 'P2']"
      ]
     },
     "execution_count": 4,
     "metadata": {},
     "output_type": "execute_result"
    }
   ],
   "source": [
    "l = get_aminos(data, 0)\n",
    "l"
   ]
  },
  {
   "cell_type": "code",
   "execution_count": 5,
   "metadata": {
    "ExecuteTime": {
     "end_time": "2016-05-17T15:16:47.278321",
     "start_time": "2016-05-17T15:16:47.264305"
    },
    "collapsed": true,
    "run_control": {
     "frozen": false,
     "read_only": false
    }
   },
   "outputs": [],
   "source": [
    "def make_prev_row(l):\n",
    "    \"\"\"\n",
    "    Given positional aminos, ex:\n",
    "    ['--2', 'V-1', 'L0', 'S1', 'P2']\n",
    "    Reconstruct the missing previous seq\n",
    "    \n",
    "    Note: only works on position 2 of a protein\n",
    "    \"\"\"\n",
    "    \n",
    "    n = len(l)\n",
    "    \n",
    "    # get the letters without position\n",
    "    aas = [v[0] for v in l]\n",
    "    \n",
    "    # now shift one\n",
    "    aas = ['-'] + aas[:n-1]\n",
    "    \n",
    "    # generate the positions\n",
    "    pos = map(str, range(-(n//2), (n//2)+1))\n",
    "    \n",
    "    # combine them\n",
    "    r = [v+p for v, p in zip(aas, pos)]\n",
    "    \n",
    "    return r"
   ]
  },
  {
   "cell_type": "code",
   "execution_count": 6,
   "metadata": {
    "ExecuteTime": {
     "end_time": "2016-05-17T15:16:47.535250",
     "start_time": "2016-05-17T15:16:47.528048"
    },
    "collapsed": false,
    "run_control": {
     "frozen": false,
     "read_only": false
    }
   },
   "outputs": [
    {
     "data": {
      "text/plain": [
       "['--2', '--1', 'V0', 'L1', 'S2']"
      ]
     },
     "execution_count": 6,
     "metadata": {},
     "output_type": "execute_result"
    }
   ],
   "source": [
    "r0 = make_prev_row(l)\n",
    "r0"
   ]
  },
  {
   "cell_type": "code",
   "execution_count": 7,
   "metadata": {
    "ExecuteTime": {
     "end_time": "2016-05-17T15:16:48.577661",
     "start_time": "2016-05-17T15:16:48.561436"
    },
    "collapsed": true,
    "run_control": {
     "frozen": false,
     "read_only": false
    }
   },
   "outputs": [],
   "source": [
    "def construct_row(l, df):\n",
    "    \"\"\"\n",
    "    Given positional aminos, ex:\n",
    "    ['--2', '--1', 'V0', 'L1', 'S2']\n",
    "    Reconstruct the full dataframe row\n",
    "    \"\"\"\n",
    "    \n",
    "    cols = df.columns.values\n",
    "    \n",
    "    n = df.columns.shape[0]\n",
    "    \n",
    "    row = np.zeros(n)\n",
    "    \n",
    "    for aa in l:\n",
    "        i = np.where(aa==cols) # finds the index that matches\n",
    "        row[i] = 1\n",
    "        \n",
    "    # set the position to 1\n",
    "    row[0] = 1\n",
    "    \n",
    "    # convert to simple ints\n",
    "    row = np.asarray([int(v) for v in row])\n",
    "        \n",
    "    return row.reshape(1, -1)"
   ]
  },
  {
   "cell_type": "code",
   "execution_count": 8,
   "metadata": {
    "ExecuteTime": {
     "end_time": "2016-05-17T15:16:48.992067",
     "start_time": "2016-05-17T15:16:48.982985"
    },
    "collapsed": false,
    "run_control": {
     "frozen": false,
     "read_only": false
    }
   },
   "outputs": [
    {
     "data": {
      "text/plain": [
       "array([[1, 0, 0, 0, 0, 0, 0, 0, 0, 0, 0, 0, 0, 0, 0, 0, 0, 0, 0, 0, 0, 1,\n",
       "        0, 0, 0, 0, 0, 0, 0, 0, 0, 0, 0, 0, 0, 0, 0, 0, 0, 0, 0, 0, 1, 0,\n",
       "        0, 0, 0, 0, 0, 0, 0, 0, 0, 0, 0, 0, 0, 0, 0, 0, 1, 0, 0, 0, 0, 0,\n",
       "        0, 0, 0, 0, 0, 0, 0, 1, 0, 0, 0, 0, 0, 0, 0, 0, 0, 0, 0, 0, 0, 0,\n",
       "        0, 0, 0, 0, 0, 0, 0, 0, 0, 0, 0, 0, 1, 0, 0, 0, 0, 0]])"
      ]
     },
     "execution_count": 8,
     "metadata": {},
     "output_type": "execute_result"
    }
   ],
   "source": [
    "full_r0 = construct_row(r0, data)\n",
    "full_r0"
   ]
  },
  {
   "cell_type": "code",
   "execution_count": 9,
   "metadata": {
    "ExecuteTime": {
     "end_time": "2016-05-17T15:16:50.624617",
     "start_time": "2016-05-17T15:16:50.578430"
    },
    "collapsed": false,
    "run_control": {
     "frozen": false,
     "read_only": false
    }
   },
   "outputs": [
    {
     "data": {
      "text/html": [
       "<div>\n",
       "<table border=\"1\" class=\"dataframe\">\n",
       "  <thead>\n",
       "    <tr style=\"text-align: right;\">\n",
       "      <th></th>\n",
       "      <th>pos</th>\n",
       "      <th>A-2</th>\n",
       "      <th>C-2</th>\n",
       "      <th>D-2</th>\n",
       "      <th>E-2</th>\n",
       "      <th>F-2</th>\n",
       "      <th>G-2</th>\n",
       "      <th>H-2</th>\n",
       "      <th>I-2</th>\n",
       "      <th>K-2</th>\n",
       "      <th>...</th>\n",
       "      <th>N2</th>\n",
       "      <th>P2</th>\n",
       "      <th>Q2</th>\n",
       "      <th>R2</th>\n",
       "      <th>S2</th>\n",
       "      <th>T2</th>\n",
       "      <th>V2</th>\n",
       "      <th>W2</th>\n",
       "      <th>Y2</th>\n",
       "      <th>-2</th>\n",
       "    </tr>\n",
       "  </thead>\n",
       "  <tbody>\n",
       "    <tr>\n",
       "      <th>0</th>\n",
       "      <td>1</td>\n",
       "      <td>0</td>\n",
       "      <td>0</td>\n",
       "      <td>0</td>\n",
       "      <td>0</td>\n",
       "      <td>0</td>\n",
       "      <td>0</td>\n",
       "      <td>0</td>\n",
       "      <td>0</td>\n",
       "      <td>0</td>\n",
       "      <td>...</td>\n",
       "      <td>0</td>\n",
       "      <td>0</td>\n",
       "      <td>0</td>\n",
       "      <td>0</td>\n",
       "      <td>1</td>\n",
       "      <td>0</td>\n",
       "      <td>0</td>\n",
       "      <td>0</td>\n",
       "      <td>0</td>\n",
       "      <td>0</td>\n",
       "    </tr>\n",
       "  </tbody>\n",
       "</table>\n",
       "<p>1 rows × 106 columns</p>\n",
       "</div>"
      ],
      "text/plain": [
       "   pos  A-2  C-2  D-2  E-2  F-2  G-2  H-2  I-2  K-2 ...  N2  P2  Q2  R2  S2  \\\n",
       "0    1    0    0    0    0    0    0    0    0    0 ...   0   0   0   0   1   \n",
       "\n",
       "   T2  V2  W2  Y2  -2  \n",
       "0   0   0   0   0   0  \n",
       "\n",
       "[1 rows x 106 columns]"
      ]
     },
     "execution_count": 9,
     "metadata": {},
     "output_type": "execute_result"
    }
   ],
   "source": [
    "pd.DataFrame(full_r0, columns=data.columns.values)"
   ]
  },
  {
   "cell_type": "code",
   "execution_count": 10,
   "metadata": {
    "ExecuteTime": {
     "end_time": "2016-05-17T15:16:51.831090",
     "start_time": "2016-05-17T15:16:51.825725"
    },
    "collapsed": true,
    "run_control": {
     "frozen": false,
     "read_only": false
    }
   },
   "outputs": [],
   "source": [
    "# specific to the 5-spacing\n",
    "def get_middle(df, i):\n",
    "    return get_aminos(df, i)[2][0]"
   ]
  },
  {
   "cell_type": "code",
   "execution_count": 11,
   "metadata": {
    "ExecuteTime": {
     "end_time": "2016-05-17T15:16:52.086787",
     "start_time": "2016-05-17T15:16:52.079171"
    },
    "collapsed": false,
    "run_control": {
     "frozen": false,
     "read_only": false
    }
   },
   "outputs": [
    {
     "data": {
      "text/plain": [
       "'L'"
      ]
     },
     "execution_count": 11,
     "metadata": {},
     "output_type": "execute_result"
    }
   ],
   "source": [
    "get_middle(data, 0)"
   ]
  },
  {
   "cell_type": "markdown",
   "metadata": {},
   "source": [
    "### Now that we can do it for a single example, let's get the indices"
   ]
  },
  {
   "cell_type": "code",
   "execution_count": 12,
   "metadata": {
    "ExecuteTime": {
     "end_time": "2016-05-17T15:16:54.386938",
     "start_time": "2016-05-17T15:16:54.368669"
    },
    "collapsed": false,
    "run_control": {
     "frozen": false,
     "read_only": false
    }
   },
   "outputs": [],
   "source": [
    "def find_proteins(data):\n",
    "\n",
    "    i = 1\n",
    "\n",
    "    indices = []\n",
    "\n",
    "    start_i = 0\n",
    "\n",
    "    while i < data.shape[0]:\n",
    "        curr_pos = data.ix[i]['pos']\n",
    "        prev_pos = data.ix[i-1]['pos']\n",
    "\n",
    "        # ie we've transitioned to a new start of a protein\n",
    "        if prev_pos > curr_pos:\n",
    "            ind = [start_i, i]\n",
    "            indices.append(ind)\n",
    "            start_i = i\n",
    "\n",
    "        i += 1\n",
    "\n",
    "    # dont forget to snag the last sequence!\n",
    "    final = [start_i, data.shape[0]]\n",
    "    indices.append(final)\n",
    "    \n",
    "    return indices"
   ]
  },
  {
   "cell_type": "code",
   "execution_count": 13,
   "metadata": {
    "ExecuteTime": {
     "end_time": "2016-05-17T15:17:46.674044",
     "start_time": "2016-05-17T15:16:59.729911"
    },
    "collapsed": false,
    "run_control": {
     "frozen": false,
     "read_only": false
    }
   },
   "outputs": [],
   "source": [
    "indices = find_proteins(data)"
   ]
  },
  {
   "cell_type": "code",
   "execution_count": 15,
   "metadata": {
    "ExecuteTime": {
     "end_time": "2016-05-17T15:17:55.821682",
     "start_time": "2016-05-17T15:17:55.787951"
    },
    "collapsed": false,
    "run_control": {
     "frozen": false,
     "read_only": false
    }
   },
   "outputs": [
    {
     "name": "stdout",
     "output_type": "stream",
     "text": [
      "347\n"
     ]
    },
    {
     "data": {
      "text/plain": [
       "array([[     0,    140],\n",
       "       [   140,    550],\n",
       "       [   550,    695],\n",
       "       [   695,    856],\n",
       "       [   856,   1155],\n",
       "       [  1155,   2968],\n",
       "       [  2968,   3314],\n",
       "       [  3314,   3721],\n",
       "       [  3721,   3883],\n",
       "       [  3883,   4035],\n",
       "       [  4035,   4310],\n",
       "       [  4310,   4372],\n",
       "       [  4372,   4535],\n",
       "       [  4535,   4817],\n",
       "       [  4817,   5270],\n",
       "       [  5270,   5434],\n",
       "       [  5434,   5846],\n",
       "       [  5846,   6040],\n",
       "       [  6040,   6332],\n",
       "       [  6332,   6727],\n",
       "       [  6727,   7216],\n",
       "       [  7216,   7531],\n",
       "       [  7531,   7872],\n",
       "       [  7872,   8110],\n",
       "       [  8110,   8593],\n",
       "       [  8593,   9188],\n",
       "       [  9188,   9252],\n",
       "       [  9252,   9943],\n",
       "       [  9943,  10041],\n",
       "       [ 10041,  10534],\n",
       "       [ 10534,  10694],\n",
       "       [ 10694,  10949],\n",
       "       [ 10949,  11195],\n",
       "       [ 11195,  11490],\n",
       "       [ 11490,  11902],\n",
       "       [ 11902,  12131],\n",
       "       [ 12131,  12498],\n",
       "       [ 12498,  12727],\n",
       "       [ 12727,  13123],\n",
       "       [ 13123,  13836],\n",
       "       [ 13836,  14147],\n",
       "       [ 14147,  14417],\n",
       "       [ 14417,  15250],\n",
       "       [ 15250,  15704],\n",
       "       [ 15704,  16204],\n",
       "       [ 16204,  16540],\n",
       "       [ 16540,  16981],\n",
       "       [ 16981,  17596],\n",
       "       [ 17596,  17967],\n",
       "       [ 17967,  18574],\n",
       "       [ 18574,  19237],\n",
       "       [ 19237,  19819],\n",
       "       [ 19819,  19969],\n",
       "       [ 19969,  20560],\n",
       "       [ 20560,  21150],\n",
       "       [ 21150,  21564],\n",
       "       [ 21564,  21828],\n",
       "       [ 21828,  22229],\n",
       "       [ 22229,  22493],\n",
       "       [ 22493,  22970],\n",
       "       [ 22970,  23253],\n",
       "       [ 23253,  23650],\n",
       "       [ 23650,  24036],\n",
       "       [ 24036,  24213],\n",
       "       [ 24213,  25185],\n",
       "       [ 25185,  25430],\n",
       "       [ 25430,  26402],\n",
       "       [ 26402,  26593],\n",
       "       [ 26593,  26780],\n",
       "       [ 26780,  26971],\n",
       "       [ 26971,  27216],\n",
       "       [ 27216,  27407],\n",
       "       [ 27407,  27597],\n",
       "       [ 27597,  27784],\n",
       "       [ 27784,  27971],\n",
       "       [ 27971,  28152],\n",
       "       [ 28152,  28239],\n",
       "       [ 28239,  28394],\n",
       "       [ 28394,  29591],\n",
       "       [ 29591,  30088],\n",
       "       [ 30088,  30411],\n",
       "       [ 30411,  30790],\n",
       "       [ 30790,  31220],\n",
       "       [ 31220,  31641],\n",
       "       [ 31641,  32048],\n",
       "       [ 32048,  32293],\n",
       "       [ 32293,  32728],\n",
       "       [ 32728,  32934],\n",
       "       [ 32934,  33369],\n",
       "       [ 33369,  33580],\n",
       "       [ 33580,  34217],\n",
       "       [ 34217,  34553],\n",
       "       [ 34553,  34879],\n",
       "       [ 34879,  35367],\n",
       "       [ 35367,  35612],\n",
       "       [ 35612,  35933],\n",
       "       [ 35933,  36149],\n",
       "       [ 36149,  37247],\n",
       "       [ 37247,  38355],\n",
       "       [ 38355,  39101],\n",
       "       [ 39101,  39847],\n",
       "       [ 39847,  40593],\n",
       "       [ 40593,  41339],\n",
       "       [ 41339,  42085],\n",
       "       [ 42085,  42831],\n",
       "       [ 42831,  43575],\n",
       "       [ 43575,  47355],\n",
       "       [ 47355,  51139],\n",
       "       [ 51139,  51282],\n",
       "       [ 51282,  51527],\n",
       "       [ 51527,  51667],\n",
       "       [ 51667,  52039],\n",
       "       [ 52039,  52428],\n",
       "       [ 52428,  52588],\n",
       "       [ 52588,  52750],\n",
       "       [ 52750,  53046],\n",
       "       [ 53046,  53346],\n",
       "       [ 53346,  53643],\n",
       "       [ 53643,  53739],\n",
       "       [ 53739,  53835],\n",
       "       [ 53835,  54217],\n",
       "       [ 54217,  54721],\n",
       "       [ 54721,  54845],\n",
       "       [ 54845,  54959],\n",
       "       [ 54959,  55423],\n",
       "       [ 55423,  55564],\n",
       "       [ 55564,  55809],\n",
       "       [ 55809,  56138],\n",
       "       [ 56138,  56589],\n",
       "       [ 56589,  56817],\n",
       "       [ 56817,  57262],\n",
       "       [ 57262,  57707],\n",
       "       [ 57707,  58344],\n",
       "       [ 58344,  58743],\n",
       "       [ 58743,  59125],\n",
       "       [ 59125,  59593],\n",
       "       [ 59593,  59749],\n",
       "       [ 59749,  60127],\n",
       "       [ 60127,  60412],\n",
       "       [ 60412,  60570],\n",
       "       [ 60570,  60819],\n",
       "       [ 60819,  61069],\n",
       "       [ 61069,  61680],\n",
       "       [ 61680,  61714],\n",
       "       [ 61714,  62109],\n",
       "       [ 62109,  62350],\n",
       "       [ 62350,  62726],\n",
       "       [ 62726,  63113],\n",
       "       [ 63113,  63730],\n",
       "       [ 63730,  64325],\n",
       "       [ 64325,  64919],\n",
       "       [ 64919,  65189],\n",
       "       [ 65189,  65331],\n",
       "       [ 65331,  65713],\n",
       "       [ 65713,  66295],\n",
       "       [ 66295,  66877],\n",
       "       [ 66877,  67459],\n",
       "       [ 67459,  68041],\n",
       "       [ 68041,  68623],\n",
       "       [ 68623,  68965],\n",
       "       [ 68965,  69246],\n",
       "       [ 69246,  69590],\n",
       "       [ 69590,  70291],\n",
       "       [ 70291,  70994],\n",
       "       [ 70994,  71695],\n",
       "       [ 71695,  72394],\n",
       "       [ 72394,  73095],\n",
       "       [ 73095,  73795],\n",
       "       [ 73795,  74020],\n",
       "       [ 74020,  74580],\n",
       "       [ 74580,  75003],\n",
       "       [ 75003,  75141],\n",
       "       [ 75141,  75469],\n",
       "       [ 75469,  76522],\n",
       "       [ 76522,  77116],\n",
       "       [ 77116,  78109],\n",
       "       [ 78109,  79102],\n",
       "       [ 79102,  80095],\n",
       "       [ 80095,  80358],\n",
       "       [ 80358,  80734],\n",
       "       [ 80734,  81463],\n",
       "       [ 81463,  81683],\n",
       "       [ 81683,  81844],\n",
       "       [ 81844,  82343],\n",
       "       [ 82343,  82610],\n",
       "       [ 82610,  82713],\n",
       "       [ 82713,  82816],\n",
       "       [ 82816,  83348],\n",
       "       [ 83348,  83439],\n",
       "       [ 83439,  83550],\n",
       "       [ 83550,  83661],\n",
       "       [ 83661,  83773],\n",
       "       [ 83773,  83914],\n",
       "       [ 83914,  84835],\n",
       "       [ 84835,  85695],\n",
       "       [ 85695,  86051],\n",
       "       [ 86051,  86407],\n",
       "       [ 86407,  86626],\n",
       "       [ 86626,  87224],\n",
       "       [ 87224,  87637],\n",
       "       [ 87637,  88041],\n",
       "       [ 88041,  88266],\n",
       "       [ 88266,  88494],\n",
       "       [ 88494,  88621],\n",
       "       [ 88621,  88749],\n",
       "       [ 88749,  88907],\n",
       "       [ 88907,  89313],\n",
       "       [ 89313,  89499],\n",
       "       [ 89499,  89685],\n",
       "       [ 89685,  89993],\n",
       "       [ 89993,  90531],\n",
       "       [ 90531,  90942],\n",
       "       [ 90942,  91319],\n",
       "       [ 91319,  91460],\n",
       "       [ 91460,  91705],\n",
       "       [ 91705,  93006],\n",
       "       [ 93006,  93446],\n",
       "       [ 93446,  93845],\n",
       "       [ 93845,  94024],\n",
       "       [ 94024,  94317],\n",
       "       [ 94317,  94536],\n",
       "       [ 94536,  94706],\n",
       "       [ 94706,  94829],\n",
       "       [ 94829,  94970],\n",
       "       [ 94970,  95456],\n",
       "       [ 95456,  95713],\n",
       "       [ 95713,  95930],\n",
       "       [ 95930,  96464],\n",
       "       [ 96464,  96997],\n",
       "       [ 96997,  97531],\n",
       "       [ 97531,  98129],\n",
       "       [ 98129,  98267],\n",
       "       [ 98267,  98402],\n",
       "       [ 98402,  98996],\n",
       "       [ 98996,  99204],\n",
       "       [ 99204,  99469],\n",
       "       [ 99469,  99880],\n",
       "       [ 99880, 100187],\n",
       "       [100187, 100359],\n",
       "       [100359, 100668],\n",
       "       [100668, 100977],\n",
       "       [100977, 101091],\n",
       "       [101091, 101205],\n",
       "       [101205, 101327],\n",
       "       [101327, 101441],\n",
       "       [101441, 101563],\n",
       "       [101563, 101684],\n",
       "       [101684, 101806],\n",
       "       [101806, 101920],\n",
       "       [101920, 102165],\n",
       "       [102165, 102283],\n",
       "       [102283, 102553],\n",
       "       [102553, 102824],\n",
       "       [102824, 102994],\n",
       "       [102994, 103134],\n",
       "       [103134, 103302],\n",
       "       [103302, 103374],\n",
       "       [103374, 103511],\n",
       "       [103511, 103664],\n",
       "       [103664, 103804],\n",
       "       [103804, 104262],\n",
       "       [104262, 104499],\n",
       "       [104499, 104736],\n",
       "       [104736, 104973],\n",
       "       [104973, 105210],\n",
       "       [105210, 105377],\n",
       "       [105377, 105906],\n",
       "       [105906, 106223],\n",
       "       [106223, 107406],\n",
       "       [107406, 107734],\n",
       "       [107734, 108144],\n",
       "       [108144, 108460],\n",
       "       [108460, 108777],\n",
       "       [108777, 108947],\n",
       "       [108947, 109337],\n",
       "       [109337, 109441],\n",
       "       [109441, 109652],\n",
       "       [109652, 109908],\n",
       "       [109908, 110290],\n",
       "       [110290, 110582],\n",
       "       [110582, 110839],\n",
       "       [110839, 111073],\n",
       "       [111073, 111535],\n",
       "       [111535, 112028],\n",
       "       [112028, 112319],\n",
       "       [112319, 112544],\n",
       "       [112544, 112771],\n",
       "       [112771, 112997],\n",
       "       [112997, 113227],\n",
       "       [113227, 113704],\n",
       "       [113704, 113933],\n",
       "       [113933, 114116],\n",
       "       [114116, 114246],\n",
       "       [114246, 114570],\n",
       "       [114570, 114849],\n",
       "       [114849, 115010],\n",
       "       [115010, 115124],\n",
       "       [115124, 115285],\n",
       "       [115285, 115446],\n",
       "       [115446, 116039],\n",
       "       [116039, 116497],\n",
       "       [116497, 116682],\n",
       "       [116682, 117176],\n",
       "       [117176, 117362],\n",
       "       [117362, 117645],\n",
       "       [117645, 117779],\n",
       "       [117779, 117903],\n",
       "       [117903, 118083],\n",
       "       [118083, 118591],\n",
       "       [118591, 118754],\n",
       "       [118754, 118917],\n",
       "       [118917, 119103],\n",
       "       [119103, 119583],\n",
       "       [119583, 120125],\n",
       "       [120125, 120790],\n",
       "       [120790, 121147],\n",
       "       [121147, 121504],\n",
       "       [121504, 121861],\n",
       "       [121861, 122000],\n",
       "       [122000, 122458],\n",
       "       [122458, 122917],\n",
       "       [122917, 123580],\n",
       "       [123580, 123709],\n",
       "       [123709, 124170],\n",
       "       [124170, 124544],\n",
       "       [124544, 124969],\n",
       "       [124969, 125323],\n",
       "       [125323, 126577],\n",
       "       [126577, 127831],\n",
       "       [127831, 129084],\n",
       "       [129084, 129234],\n",
       "       [129234, 129569],\n",
       "       [129569, 129801],\n",
       "       [129801, 130226],\n",
       "       [130226, 130318],\n",
       "       [130318, 130579],\n",
       "       [130579, 131041],\n",
       "       [131041, 131704],\n",
       "       [131704, 132027],\n",
       "       [132027, 132257],\n",
       "       [132257, 132615],\n",
       "       [132615, 132973],\n",
       "       [132973, 133331],\n",
       "       [133331, 133834],\n",
       "       [133834, 133936],\n",
       "       [133936, 134316],\n",
       "       [134316, 134814]])"
      ]
     },
     "execution_count": 15,
     "metadata": {},
     "output_type": "execute_result"
    }
   ],
   "source": [
    "print len(indices)\n",
    "np.asarray(indices)"
   ]
  },
  {
   "cell_type": "markdown",
   "metadata": {},
   "source": [
    "# Example of getting the first protein constructed"
   ]
  },
  {
   "cell_type": "code",
   "execution_count": 16,
   "metadata": {
    "ExecuteTime": {
     "end_time": "2016-05-17T15:19:26.833917",
     "start_time": "2016-05-17T15:19:26.824609"
    },
    "collapsed": false,
    "run_control": {
     "frozen": false,
     "read_only": false
    }
   },
   "outputs": [
    {
     "data": {
      "text/plain": [
       "array([[   2,    0,    0, ...,    0,    0,    1],\n",
       "       [   3,    0,    0, ...,    0,    0,    1],\n",
       "       [   4,    0,    0, ...,    0,    0,    1],\n",
       "       ..., \n",
       "       [3783,    0,    0, ...,    0,    0,    0],\n",
       "       [3784,    0,    0, ...,    0,    0,    1],\n",
       "       [3785,    0,    0, ...,    0,    0,    1]])"
      ]
     },
     "execution_count": 16,
     "metadata": {},
     "output_type": "execute_result"
    }
   ],
   "source": [
    "protein107 = data.values[indices[107][0]:indices[107][1]]\n",
    "protein107"
   ]
  },
  {
   "cell_type": "code",
   "execution_count": 20,
   "metadata": {
    "ExecuteTime": {
     "end_time": "2016-05-16T14:40:15.728853",
     "start_time": "2016-05-16T14:40:15.719540"
    },
    "collapsed": false,
    "run_control": {
     "frozen": false,
     "read_only": false
    }
   },
   "outputs": [
    {
     "data": {
      "text/plain": [
       "array([[  2,   0,   0, ...,   0,   0,   0],\n",
       "       [  3,   0,   0, ...,   0,   0,   0],\n",
       "       [  4,   0,   0, ...,   0,   0,   0],\n",
       "       ..., \n",
       "       [139,   0,   0, ...,   0,   0,   0],\n",
       "       [140,   0,   0, ...,   0,   0,   1],\n",
       "       [141,   0,   0, ...,   0,   0,   1]])"
      ]
     },
     "execution_count": 20,
     "metadata": {},
     "output_type": "execute_result"
    }
   ],
   "source": [
    "# fully captured first protein\n",
    "protein_0 = data.values[indices[0][0]:indices[0][1]]\n",
    "protein_0"
   ]
  },
  {
   "cell_type": "code",
   "execution_count": 29,
   "metadata": {
    "ExecuteTime": {
     "end_time": "2016-05-16T14:43:36.360560",
     "start_time": "2016-05-16T14:43:36.348753"
    },
    "collapsed": false,
    "run_control": {
     "frozen": false,
     "read_only": false
    }
   },
   "outputs": [
    {
     "data": {
      "text/plain": [
       "array([[1, 0, 0, 0, 0, 0, 0, 0, 0, 0, 0, 0, 0, 0, 0, 0, 0, 0, 0, 0, 0, 1,\n",
       "        0, 0, 0, 0, 0, 0, 0, 0, 0, 0, 0, 0, 0, 0, 0, 0, 0, 0, 0, 0, 1, 0,\n",
       "        0, 0, 0, 0, 0, 0, 0, 0, 0, 0, 0, 0, 0, 0, 0, 0, 1, 0, 0, 0, 0, 0,\n",
       "        0, 0, 0, 0, 0, 0, 0, 1, 0, 0, 0, 0, 0, 0, 0, 0, 0, 0, 0, 0, 0, 0,\n",
       "        0, 0, 0, 0, 0, 0, 0, 0, 0, 0, 0, 0, 1, 0, 0, 0, 0, 0]])"
      ]
     },
     "execution_count": 29,
     "metadata": {},
     "output_type": "execute_result"
    }
   ],
   "source": [
    "# will just change the first index of indices for each protein\n",
    "protein0_row0 = construct_row(make_prev_row(get_aminos(data, indices[0][0])), data)\n",
    "protein0_row0"
   ]
  },
  {
   "cell_type": "code",
   "execution_count": 39,
   "metadata": {
    "ExecuteTime": {
     "end_time": "2016-05-16T14:47:04.932885",
     "start_time": "2016-05-16T14:47:04.922954"
    },
    "collapsed": false,
    "run_control": {
     "frozen": false,
     "read_only": false
    },
    "scrolled": true
   },
   "outputs": [
    {
     "name": "stdout",
     "output_type": "stream",
     "text": [
      "(141, 106)\n"
     ]
    },
    {
     "data": {
      "text/plain": [
       "array([[  1,   0,   0, ...,   0,   0,   0],\n",
       "       [  2,   0,   0, ...,   0,   0,   0],\n",
       "       [  3,   0,   0, ...,   0,   0,   0],\n",
       "       ..., \n",
       "       [139,   0,   0, ...,   0,   0,   0],\n",
       "       [140,   0,   0, ...,   0,   0,   1],\n",
       "       [141,   0,   0, ...,   0,   0,   1]])"
      ]
     },
     "execution_count": 39,
     "metadata": {},
     "output_type": "execute_result"
    }
   ],
   "source": [
    "full_protein0 = np.concatenate((protein0_row0, protein_0))\n",
    "print full_protein0.shape\n",
    "full_protein0"
   ]
  },
  {
   "cell_type": "code",
   "execution_count": 51,
   "metadata": {
    "ExecuteTime": {
     "end_time": "2016-05-16T14:52:32.897218",
     "start_time": "2016-05-16T14:52:32.821839"
    },
    "collapsed": false,
    "run_control": {
     "frozen": false,
     "read_only": false
    }
   },
   "outputs": [
    {
     "data": {
      "text/html": [
       "<div>\n",
       "<table border=\"1\" class=\"dataframe\">\n",
       "  <thead>\n",
       "    <tr style=\"text-align: right;\">\n",
       "      <th></th>\n",
       "      <th>A-2</th>\n",
       "      <th>C-2</th>\n",
       "      <th>D-2</th>\n",
       "      <th>E-2</th>\n",
       "      <th>F-2</th>\n",
       "      <th>G-2</th>\n",
       "      <th>H-2</th>\n",
       "      <th>I-2</th>\n",
       "      <th>K-2</th>\n",
       "      <th>L-2</th>\n",
       "      <th>...</th>\n",
       "      <th>N2</th>\n",
       "      <th>P2</th>\n",
       "      <th>Q2</th>\n",
       "      <th>R2</th>\n",
       "      <th>S2</th>\n",
       "      <th>T2</th>\n",
       "      <th>V2</th>\n",
       "      <th>W2</th>\n",
       "      <th>Y2</th>\n",
       "      <th>-2</th>\n",
       "    </tr>\n",
       "  </thead>\n",
       "  <tbody>\n",
       "    <tr>\n",
       "      <th>1</th>\n",
       "      <td>0</td>\n",
       "      <td>0</td>\n",
       "      <td>0</td>\n",
       "      <td>0</td>\n",
       "      <td>0</td>\n",
       "      <td>0</td>\n",
       "      <td>0</td>\n",
       "      <td>0</td>\n",
       "      <td>0</td>\n",
       "      <td>0</td>\n",
       "      <td>...</td>\n",
       "      <td>0</td>\n",
       "      <td>0</td>\n",
       "      <td>0</td>\n",
       "      <td>0</td>\n",
       "      <td>1</td>\n",
       "      <td>0</td>\n",
       "      <td>0</td>\n",
       "      <td>0</td>\n",
       "      <td>0</td>\n",
       "      <td>0</td>\n",
       "    </tr>\n",
       "    <tr>\n",
       "      <th>2</th>\n",
       "      <td>0</td>\n",
       "      <td>0</td>\n",
       "      <td>0</td>\n",
       "      <td>0</td>\n",
       "      <td>0</td>\n",
       "      <td>0</td>\n",
       "      <td>0</td>\n",
       "      <td>0</td>\n",
       "      <td>0</td>\n",
       "      <td>0</td>\n",
       "      <td>...</td>\n",
       "      <td>0</td>\n",
       "      <td>1</td>\n",
       "      <td>0</td>\n",
       "      <td>0</td>\n",
       "      <td>0</td>\n",
       "      <td>0</td>\n",
       "      <td>0</td>\n",
       "      <td>0</td>\n",
       "      <td>0</td>\n",
       "      <td>0</td>\n",
       "    </tr>\n",
       "    <tr>\n",
       "      <th>3</th>\n",
       "      <td>0</td>\n",
       "      <td>0</td>\n",
       "      <td>0</td>\n",
       "      <td>0</td>\n",
       "      <td>0</td>\n",
       "      <td>0</td>\n",
       "      <td>0</td>\n",
       "      <td>0</td>\n",
       "      <td>0</td>\n",
       "      <td>0</td>\n",
       "      <td>...</td>\n",
       "      <td>0</td>\n",
       "      <td>0</td>\n",
       "      <td>0</td>\n",
       "      <td>0</td>\n",
       "      <td>0</td>\n",
       "      <td>0</td>\n",
       "      <td>0</td>\n",
       "      <td>0</td>\n",
       "      <td>0</td>\n",
       "      <td>0</td>\n",
       "    </tr>\n",
       "    <tr>\n",
       "      <th>4</th>\n",
       "      <td>0</td>\n",
       "      <td>0</td>\n",
       "      <td>0</td>\n",
       "      <td>0</td>\n",
       "      <td>0</td>\n",
       "      <td>0</td>\n",
       "      <td>0</td>\n",
       "      <td>0</td>\n",
       "      <td>0</td>\n",
       "      <td>1</td>\n",
       "      <td>...</td>\n",
       "      <td>0</td>\n",
       "      <td>0</td>\n",
       "      <td>0</td>\n",
       "      <td>0</td>\n",
       "      <td>0</td>\n",
       "      <td>0</td>\n",
       "      <td>0</td>\n",
       "      <td>0</td>\n",
       "      <td>0</td>\n",
       "      <td>0</td>\n",
       "    </tr>\n",
       "    <tr>\n",
       "      <th>5</th>\n",
       "      <td>0</td>\n",
       "      <td>0</td>\n",
       "      <td>0</td>\n",
       "      <td>0</td>\n",
       "      <td>0</td>\n",
       "      <td>0</td>\n",
       "      <td>0</td>\n",
       "      <td>0</td>\n",
       "      <td>0</td>\n",
       "      <td>0</td>\n",
       "      <td>...</td>\n",
       "      <td>0</td>\n",
       "      <td>0</td>\n",
       "      <td>0</td>\n",
       "      <td>0</td>\n",
       "      <td>0</td>\n",
       "      <td>0</td>\n",
       "      <td>0</td>\n",
       "      <td>0</td>\n",
       "      <td>0</td>\n",
       "      <td>0</td>\n",
       "    </tr>\n",
       "  </tbody>\n",
       "</table>\n",
       "<p>5 rows × 105 columns</p>\n",
       "</div>"
      ],
      "text/plain": [
       "   A-2  C-2  D-2  E-2  F-2  G-2  H-2  I-2  K-2  L-2 ...  N2  P2  Q2  R2  S2  \\\n",
       "1    0    0    0    0    0    0    0    0    0    0 ...   0   0   0   0   1   \n",
       "2    0    0    0    0    0    0    0    0    0    0 ...   0   1   0   0   0   \n",
       "3    0    0    0    0    0    0    0    0    0    0 ...   0   0   0   0   0   \n",
       "4    0    0    0    0    0    0    0    0    0    1 ...   0   0   0   0   0   \n",
       "5    0    0    0    0    0    0    0    0    0    0 ...   0   0   0   0   0   \n",
       "\n",
       "   T2  V2  W2  Y2  -2  \n",
       "1   0   0   0   0   0  \n",
       "2   0   0   0   0   0  \n",
       "3   0   0   0   0   0  \n",
       "4   0   0   0   0   0  \n",
       "5   0   0   0   0   0  \n",
       "\n",
       "[5 rows x 105 columns]"
      ]
     },
     "execution_count": 51,
     "metadata": {},
     "output_type": "execute_result"
    }
   ],
   "source": [
    "protein0_df = pd.DataFrame(full_protein0[:, 1:], columns=data.columns[1:], index=full_protein0[:, 0])\n",
    "protein0_df.head()"
   ]
  },
  {
   "cell_type": "code",
   "execution_count": 194,
   "metadata": {
    "ExecuteTime": {
     "end_time": "2016-05-17T12:40:33.607959",
     "start_time": "2016-05-17T12:40:33.542039"
    },
    "collapsed": true,
    "run_control": {
     "frozen": false,
     "read_only": false
    }
   },
   "outputs": [],
   "source": [
    "protein0_seq = [get_middle(protein0_df, i) for i in xrange(1, protein0_df.shape[0]+1)]"
   ]
  },
  {
   "cell_type": "code",
   "execution_count": 195,
   "metadata": {
    "ExecuteTime": {
     "end_time": "2016-05-17T12:40:35.249521",
     "start_time": "2016-05-17T12:40:35.236970"
    },
    "collapsed": false,
    "run_control": {
     "frozen": false,
     "read_only": false
    }
   },
   "outputs": [
    {
     "data": {
      "text/plain": [
       "['V', 'L', 'S', 'P', 'A', 'D', 'K', 'T', 'N', 'V']"
      ]
     },
     "execution_count": 195,
     "metadata": {},
     "output_type": "execute_result"
    }
   ],
   "source": [
    "protein0_seq[:10]"
   ]
  },
  {
   "cell_type": "code",
   "execution_count": 196,
   "metadata": {
    "ExecuteTime": {
     "end_time": "2016-05-17T12:40:36.286683",
     "start_time": "2016-05-17T12:40:36.280269"
    },
    "collapsed": false,
    "run_control": {
     "frozen": false,
     "read_only": false
    }
   },
   "outputs": [],
   "source": [
    "protein0_seq_df = pd.DataFrame(protein0_seq, columns=['Amino Acid'], index=protein0_df.index)"
   ]
  },
  {
   "cell_type": "code",
   "execution_count": 197,
   "metadata": {
    "ExecuteTime": {
     "end_time": "2016-05-17T12:40:44.495725",
     "start_time": "2016-05-17T12:40:44.429522"
    },
    "collapsed": false,
    "run_control": {
     "frozen": false,
     "read_only": false
    }
   },
   "outputs": [
    {
     "data": {
      "text/html": [
       "<div>\n",
       "<table border=\"1\" class=\"dataframe\">\n",
       "  <thead>\n",
       "    <tr style=\"text-align: right;\">\n",
       "      <th></th>\n",
       "      <th>Amino Acid</th>\n",
       "    </tr>\n",
       "  </thead>\n",
       "  <tbody>\n",
       "    <tr>\n",
       "      <th>1</th>\n",
       "      <td>V</td>\n",
       "    </tr>\n",
       "    <tr>\n",
       "      <th>2</th>\n",
       "      <td>L</td>\n",
       "    </tr>\n",
       "    <tr>\n",
       "      <th>3</th>\n",
       "      <td>S</td>\n",
       "    </tr>\n",
       "    <tr>\n",
       "      <th>4</th>\n",
       "      <td>P</td>\n",
       "    </tr>\n",
       "    <tr>\n",
       "      <th>5</th>\n",
       "      <td>A</td>\n",
       "    </tr>\n",
       "  </tbody>\n",
       "</table>\n",
       "</div>"
      ],
      "text/plain": [
       "  Amino Acid\n",
       "1          V\n",
       "2          L\n",
       "3          S\n",
       "4          P\n",
       "5          A"
      ]
     },
     "execution_count": 197,
     "metadata": {},
     "output_type": "execute_result"
    }
   ],
   "source": [
    "protein0_seq_df.head()"
   ]
  },
  {
   "cell_type": "code",
   "execution_count": 200,
   "metadata": {
    "ExecuteTime": {
     "end_time": "2016-05-17T13:25:21.324577",
     "start_time": "2016-05-17T13:25:21.298215"
    },
    "collapsed": true,
    "run_control": {
     "frozen": false,
     "read_only": false
    }
   },
   "outputs": [],
   "source": [
    "protein0_seq_df.to_csv('../proteins/protein0_data.csv')"
   ]
  },
  {
   "cell_type": "code",
   "execution_count": 201,
   "metadata": {
    "ExecuteTime": {
     "end_time": "2016-05-17T13:25:23.187126",
     "start_time": "2016-05-17T13:25:23.096566"
    },
    "collapsed": false,
    "run_control": {
     "frozen": false,
     "read_only": false
    },
    "scrolled": true
   },
   "outputs": [
    {
     "data": {
      "text/html": [
       "<div>\n",
       "<table border=\"1\" class=\"dataframe\">\n",
       "  <thead>\n",
       "    <tr style=\"text-align: right;\">\n",
       "      <th></th>\n",
       "      <th>Amino Acid</th>\n",
       "    </tr>\n",
       "  </thead>\n",
       "  <tbody>\n",
       "    <tr>\n",
       "      <th>1</th>\n",
       "      <td>V</td>\n",
       "    </tr>\n",
       "    <tr>\n",
       "      <th>2</th>\n",
       "      <td>L</td>\n",
       "    </tr>\n",
       "    <tr>\n",
       "      <th>3</th>\n",
       "      <td>S</td>\n",
       "    </tr>\n",
       "    <tr>\n",
       "      <th>4</th>\n",
       "      <td>P</td>\n",
       "    </tr>\n",
       "    <tr>\n",
       "      <th>5</th>\n",
       "      <td>A</td>\n",
       "    </tr>\n",
       "    <tr>\n",
       "      <th>6</th>\n",
       "      <td>D</td>\n",
       "    </tr>\n",
       "    <tr>\n",
       "      <th>7</th>\n",
       "      <td>K</td>\n",
       "    </tr>\n",
       "    <tr>\n",
       "      <th>8</th>\n",
       "      <td>T</td>\n",
       "    </tr>\n",
       "    <tr>\n",
       "      <th>9</th>\n",
       "      <td>N</td>\n",
       "    </tr>\n",
       "    <tr>\n",
       "      <th>10</th>\n",
       "      <td>V</td>\n",
       "    </tr>\n",
       "    <tr>\n",
       "      <th>11</th>\n",
       "      <td>K</td>\n",
       "    </tr>\n",
       "    <tr>\n",
       "      <th>12</th>\n",
       "      <td>A</td>\n",
       "    </tr>\n",
       "    <tr>\n",
       "      <th>13</th>\n",
       "      <td>A</td>\n",
       "    </tr>\n",
       "    <tr>\n",
       "      <th>14</th>\n",
       "      <td>W</td>\n",
       "    </tr>\n",
       "    <tr>\n",
       "      <th>15</th>\n",
       "      <td>G</td>\n",
       "    </tr>\n",
       "    <tr>\n",
       "      <th>16</th>\n",
       "      <td>K</td>\n",
       "    </tr>\n",
       "    <tr>\n",
       "      <th>17</th>\n",
       "      <td>V</td>\n",
       "    </tr>\n",
       "    <tr>\n",
       "      <th>18</th>\n",
       "      <td>G</td>\n",
       "    </tr>\n",
       "    <tr>\n",
       "      <th>19</th>\n",
       "      <td>A</td>\n",
       "    </tr>\n",
       "    <tr>\n",
       "      <th>20</th>\n",
       "      <td>H</td>\n",
       "    </tr>\n",
       "    <tr>\n",
       "      <th>21</th>\n",
       "      <td>A</td>\n",
       "    </tr>\n",
       "    <tr>\n",
       "      <th>22</th>\n",
       "      <td>G</td>\n",
       "    </tr>\n",
       "    <tr>\n",
       "      <th>23</th>\n",
       "      <td>E</td>\n",
       "    </tr>\n",
       "    <tr>\n",
       "      <th>24</th>\n",
       "      <td>Y</td>\n",
       "    </tr>\n",
       "    <tr>\n",
       "      <th>25</th>\n",
       "      <td>G</td>\n",
       "    </tr>\n",
       "    <tr>\n",
       "      <th>26</th>\n",
       "      <td>A</td>\n",
       "    </tr>\n",
       "    <tr>\n",
       "      <th>27</th>\n",
       "      <td>E</td>\n",
       "    </tr>\n",
       "    <tr>\n",
       "      <th>28</th>\n",
       "      <td>A</td>\n",
       "    </tr>\n",
       "    <tr>\n",
       "      <th>29</th>\n",
       "      <td>L</td>\n",
       "    </tr>\n",
       "    <tr>\n",
       "      <th>30</th>\n",
       "      <td>E</td>\n",
       "    </tr>\n",
       "    <tr>\n",
       "      <th>...</th>\n",
       "      <td>...</td>\n",
       "    </tr>\n",
       "    <tr>\n",
       "      <th>112</th>\n",
       "      <td>H</td>\n",
       "    </tr>\n",
       "    <tr>\n",
       "      <th>113</th>\n",
       "      <td>L</td>\n",
       "    </tr>\n",
       "    <tr>\n",
       "      <th>114</th>\n",
       "      <td>P</td>\n",
       "    </tr>\n",
       "    <tr>\n",
       "      <th>115</th>\n",
       "      <td>A</td>\n",
       "    </tr>\n",
       "    <tr>\n",
       "      <th>116</th>\n",
       "      <td>E</td>\n",
       "    </tr>\n",
       "    <tr>\n",
       "      <th>117</th>\n",
       "      <td>F</td>\n",
       "    </tr>\n",
       "    <tr>\n",
       "      <th>118</th>\n",
       "      <td>T</td>\n",
       "    </tr>\n",
       "    <tr>\n",
       "      <th>119</th>\n",
       "      <td>P</td>\n",
       "    </tr>\n",
       "    <tr>\n",
       "      <th>120</th>\n",
       "      <td>A</td>\n",
       "    </tr>\n",
       "    <tr>\n",
       "      <th>121</th>\n",
       "      <td>V</td>\n",
       "    </tr>\n",
       "    <tr>\n",
       "      <th>122</th>\n",
       "      <td>H</td>\n",
       "    </tr>\n",
       "    <tr>\n",
       "      <th>123</th>\n",
       "      <td>A</td>\n",
       "    </tr>\n",
       "    <tr>\n",
       "      <th>124</th>\n",
       "      <td>S</td>\n",
       "    </tr>\n",
       "    <tr>\n",
       "      <th>125</th>\n",
       "      <td>L</td>\n",
       "    </tr>\n",
       "    <tr>\n",
       "      <th>126</th>\n",
       "      <td>D</td>\n",
       "    </tr>\n",
       "    <tr>\n",
       "      <th>127</th>\n",
       "      <td>K</td>\n",
       "    </tr>\n",
       "    <tr>\n",
       "      <th>128</th>\n",
       "      <td>F</td>\n",
       "    </tr>\n",
       "    <tr>\n",
       "      <th>129</th>\n",
       "      <td>L</td>\n",
       "    </tr>\n",
       "    <tr>\n",
       "      <th>130</th>\n",
       "      <td>A</td>\n",
       "    </tr>\n",
       "    <tr>\n",
       "      <th>131</th>\n",
       "      <td>S</td>\n",
       "    </tr>\n",
       "    <tr>\n",
       "      <th>132</th>\n",
       "      <td>V</td>\n",
       "    </tr>\n",
       "    <tr>\n",
       "      <th>133</th>\n",
       "      <td>S</td>\n",
       "    </tr>\n",
       "    <tr>\n",
       "      <th>134</th>\n",
       "      <td>T</td>\n",
       "    </tr>\n",
       "    <tr>\n",
       "      <th>135</th>\n",
       "      <td>V</td>\n",
       "    </tr>\n",
       "    <tr>\n",
       "      <th>136</th>\n",
       "      <td>L</td>\n",
       "    </tr>\n",
       "    <tr>\n",
       "      <th>137</th>\n",
       "      <td>T</td>\n",
       "    </tr>\n",
       "    <tr>\n",
       "      <th>138</th>\n",
       "      <td>S</td>\n",
       "    </tr>\n",
       "    <tr>\n",
       "      <th>139</th>\n",
       "      <td>K</td>\n",
       "    </tr>\n",
       "    <tr>\n",
       "      <th>140</th>\n",
       "      <td>Y</td>\n",
       "    </tr>\n",
       "    <tr>\n",
       "      <th>141</th>\n",
       "      <td>R</td>\n",
       "    </tr>\n",
       "  </tbody>\n",
       "</table>\n",
       "<p>141 rows × 1 columns</p>\n",
       "</div>"
      ],
      "text/plain": [
       "    Amino Acid\n",
       "1            V\n",
       "2            L\n",
       "3            S\n",
       "4            P\n",
       "5            A\n",
       "6            D\n",
       "7            K\n",
       "8            T\n",
       "9            N\n",
       "10           V\n",
       "11           K\n",
       "12           A\n",
       "13           A\n",
       "14           W\n",
       "15           G\n",
       "16           K\n",
       "17           V\n",
       "18           G\n",
       "19           A\n",
       "20           H\n",
       "21           A\n",
       "22           G\n",
       "23           E\n",
       "24           Y\n",
       "25           G\n",
       "26           A\n",
       "27           E\n",
       "28           A\n",
       "29           L\n",
       "30           E\n",
       "..         ...\n",
       "112          H\n",
       "113          L\n",
       "114          P\n",
       "115          A\n",
       "116          E\n",
       "117          F\n",
       "118          T\n",
       "119          P\n",
       "120          A\n",
       "121          V\n",
       "122          H\n",
       "123          A\n",
       "124          S\n",
       "125          L\n",
       "126          D\n",
       "127          K\n",
       "128          F\n",
       "129          L\n",
       "130          A\n",
       "131          S\n",
       "132          V\n",
       "133          S\n",
       "134          T\n",
       "135          V\n",
       "136          L\n",
       "137          T\n",
       "138          S\n",
       "139          K\n",
       "140          Y\n",
       "141          R\n",
       "\n",
       "[141 rows x 1 columns]"
      ]
     },
     "execution_count": 201,
     "metadata": {},
     "output_type": "execute_result"
    }
   ],
   "source": [
    "saved_protein0 = pd.read_csv('../proteins/protein0_data.csv', index_col=0)\n",
    "saved_protein0"
   ]
  },
  {
   "cell_type": "code",
   "execution_count": 202,
   "metadata": {
    "ExecuteTime": {
     "end_time": "2016-05-17T13:26:17.266692",
     "start_time": "2016-05-17T13:26:17.259346"
    },
    "collapsed": false,
    "run_control": {
     "frozen": false,
     "read_only": false
    }
   },
   "outputs": [
    {
     "data": {
      "text/plain": [
       "(141, 1)"
      ]
     },
     "execution_count": 202,
     "metadata": {},
     "output_type": "execute_result"
    }
   ],
   "source": [
    "saved_protein0.shape"
   ]
  },
  {
   "cell_type": "code",
   "execution_count": 241,
   "metadata": {
    "ExecuteTime": {
     "end_time": "2016-05-17T14:01:13.162309",
     "start_time": "2016-05-17T14:01:13.011437"
    },
    "collapsed": false,
    "run_control": {
     "frozen": false,
     "read_only": false
    }
   },
   "outputs": [
    {
     "data": {
      "text/html": [
       "<div>\n",
       "<table border=\"1\" class=\"dataframe\">\n",
       "  <thead>\n",
       "    <tr style=\"text-align: right;\">\n",
       "      <th></th>\n",
       "      <th>H</th>\n",
       "      <th>E</th>\n",
       "      <th>T</th>\n",
       "      <th>S</th>\n",
       "      <th>B</th>\n",
       "      <th>U</th>\n",
       "    </tr>\n",
       "  </thead>\n",
       "  <tbody>\n",
       "    <tr>\n",
       "      <th>0</th>\n",
       "      <td>0</td>\n",
       "      <td>0</td>\n",
       "      <td>0</td>\n",
       "      <td>0</td>\n",
       "      <td>0</td>\n",
       "      <td>1</td>\n",
       "    </tr>\n",
       "    <tr>\n",
       "      <th>1</th>\n",
       "      <td>0</td>\n",
       "      <td>0</td>\n",
       "      <td>0</td>\n",
       "      <td>0</td>\n",
       "      <td>0</td>\n",
       "      <td>1</td>\n",
       "    </tr>\n",
       "    <tr>\n",
       "      <th>2</th>\n",
       "      <td>1</td>\n",
       "      <td>0</td>\n",
       "      <td>0</td>\n",
       "      <td>0</td>\n",
       "      <td>0</td>\n",
       "      <td>0</td>\n",
       "    </tr>\n",
       "    <tr>\n",
       "      <th>3</th>\n",
       "      <td>1</td>\n",
       "      <td>0</td>\n",
       "      <td>0</td>\n",
       "      <td>0</td>\n",
       "      <td>0</td>\n",
       "      <td>0</td>\n",
       "    </tr>\n",
       "    <tr>\n",
       "      <th>4</th>\n",
       "      <td>1</td>\n",
       "      <td>0</td>\n",
       "      <td>0</td>\n",
       "      <td>0</td>\n",
       "      <td>0</td>\n",
       "      <td>0</td>\n",
       "    </tr>\n",
       "  </tbody>\n",
       "</table>\n",
       "</div>"
      ],
      "text/plain": [
       "   H  E  T  S  B  U\n",
       "0  0  0  0  0  0  1\n",
       "1  0  0  0  0  0  1\n",
       "2  1  0  0  0  0  0\n",
       "3  1  0  0  0  0  0\n",
       "4  1  0  0  0  0  0"
      ]
     },
     "execution_count": 241,
     "metadata": {},
     "output_type": "execute_result"
    }
   ],
   "source": [
    "one_hot = pd.read_csv('../one_hot_labels.csv')\n",
    "one_hot.head()"
   ]
  },
  {
   "cell_type": "code",
   "execution_count": 65,
   "metadata": {
    "ExecuteTime": {
     "end_time": "2016-05-16T15:17:59.271411",
     "start_time": "2016-05-16T15:17:59.213315"
    },
    "collapsed": false,
    "run_control": {
     "frozen": false,
     "read_only": false
    }
   },
   "outputs": [
    {
     "data": {
      "text/plain": [
       "array([[ 0.,  0.,  0.,  0.,  0.,  1.],\n",
       "       [ 0.,  0.,  0.,  0.,  0.,  1.],\n",
       "       [ 1.,  0.,  0.,  0.,  0.,  0.],\n",
       "       [ 1.,  0.,  0.,  0.,  0.,  0.],\n",
       "       [ 1.,  0.,  0.,  0.,  0.,  0.],\n",
       "       [ 1.,  0.,  0.,  0.,  0.,  0.],\n",
       "       [ 1.,  0.,  0.,  0.,  0.,  0.],\n",
       "       [ 1.,  0.,  0.,  0.,  0.,  0.],\n",
       "       [ 1.,  0.,  0.,  0.,  0.,  0.],\n",
       "       [ 1.,  0.,  0.,  0.,  0.,  0.],\n",
       "       [ 1.,  0.,  0.,  0.,  0.,  0.],\n",
       "       [ 1.,  0.,  0.,  0.,  0.,  0.],\n",
       "       [ 1.,  0.,  0.,  0.,  0.,  0.],\n",
       "       [ 1.,  0.,  0.,  0.,  0.,  0.],\n",
       "       [ 1.,  0.,  0.,  0.,  0.,  0.],\n",
       "       [ 1.,  0.,  0.,  0.,  0.,  0.],\n",
       "       [ 0.,  0.,  0.,  0.,  0.,  0.],\n",
       "       [ 0.,  0.,  0.,  0.,  0.,  0.],\n",
       "       [ 0.,  0.,  0.,  0.,  0.,  0.],\n",
       "       [ 1.,  0.,  0.,  0.,  0.,  0.],\n",
       "       [ 1.,  0.,  0.,  0.,  0.,  0.],\n",
       "       [ 1.,  0.,  0.,  0.,  0.,  0.],\n",
       "       [ 1.,  0.,  0.,  0.,  0.,  0.],\n",
       "       [ 1.,  0.,  0.,  0.,  0.,  0.],\n",
       "       [ 1.,  0.,  0.,  0.,  0.,  0.],\n",
       "       [ 1.,  0.,  0.,  0.,  0.,  0.],\n",
       "       [ 1.,  0.,  0.,  0.,  0.,  0.],\n",
       "       [ 1.,  0.,  0.,  0.,  0.,  0.],\n",
       "       [ 1.,  0.,  0.,  0.,  0.,  0.],\n",
       "       [ 1.,  0.,  0.,  0.,  0.,  0.],\n",
       "       [ 1.,  0.,  0.,  0.,  0.,  0.],\n",
       "       [ 1.,  0.,  0.,  0.,  0.,  0.],\n",
       "       [ 1.,  0.,  0.,  0.,  0.,  0.],\n",
       "       [ 1.,  0.,  0.,  0.,  0.,  0.],\n",
       "       [ 0.,  0.,  0.,  0.,  0.,  1.],\n",
       "       [ 0.,  0.,  0.,  0.,  0.,  0.],\n",
       "       [ 0.,  0.,  0.,  0.,  0.,  0.],\n",
       "       [ 0.,  0.,  0.,  0.,  0.,  0.],\n",
       "       [ 0.,  0.,  0.,  0.,  0.,  0.],\n",
       "       [ 0.,  0.,  0.,  0.,  0.,  0.],\n",
       "       [ 0.,  0.,  0.,  0.,  0.,  0.],\n",
       "       [ 0.,  0.,  0.,  0.,  0.,  1.],\n",
       "       [ 0.,  0.,  1.,  0.,  0.,  0.],\n",
       "       [ 0.,  0.,  1.,  0.,  0.,  0.],\n",
       "       [ 0.,  0.,  0.,  1.,  0.,  0.],\n",
       "       [ 0.,  0.,  0.,  0.,  0.,  1.],\n",
       "       [ 0.,  0.,  0.,  0.,  0.,  1.],\n",
       "       [ 0.,  0.,  0.,  1.,  0.,  0.],\n",
       "       [ 0.,  0.,  1.,  0.,  0.,  0.],\n",
       "       [ 0.,  0.,  1.,  0.,  0.,  0.],\n",
       "       [ 0.,  0.,  0.,  0.,  0.,  1.],\n",
       "       [ 1.,  0.,  0.,  0.,  0.,  0.],\n",
       "       [ 1.,  0.,  0.,  0.,  0.,  0.],\n",
       "       [ 1.,  0.,  0.,  0.,  0.,  0.],\n",
       "       [ 1.,  0.,  0.,  0.,  0.,  0.],\n",
       "       [ 1.,  0.,  0.,  0.,  0.,  0.],\n",
       "       [ 1.,  0.,  0.,  0.,  0.,  0.],\n",
       "       [ 1.,  0.,  0.,  0.,  0.,  0.],\n",
       "       [ 1.,  0.,  0.,  0.,  0.,  0.],\n",
       "       [ 1.,  0.,  0.,  0.,  0.,  0.],\n",
       "       [ 1.,  0.,  0.,  0.,  0.,  0.],\n",
       "       [ 1.,  0.,  0.,  0.,  0.,  0.],\n",
       "       [ 1.,  0.,  0.,  0.,  0.,  0.],\n",
       "       [ 1.,  0.,  0.,  0.,  0.,  0.],\n",
       "       [ 1.,  0.,  0.,  0.,  0.,  0.],\n",
       "       [ 1.,  0.,  0.,  0.,  0.,  0.],\n",
       "       [ 1.,  0.,  0.,  0.,  0.,  0.],\n",
       "       [ 1.,  0.,  0.,  0.,  0.,  0.],\n",
       "       [ 1.,  0.,  0.,  0.,  0.,  0.],\n",
       "       [ 1.,  0.,  0.,  0.,  0.,  0.],\n",
       "       [ 0.,  0.,  1.,  0.,  0.,  0.],\n",
       "       [ 0.,  0.,  1.,  0.,  0.,  0.],\n",
       "       [ 0.,  0.,  1.,  0.,  0.,  0.],\n",
       "       [ 0.,  0.,  0.,  1.,  0.,  0.],\n",
       "       [ 1.,  0.,  0.,  0.,  0.,  0.],\n",
       "       [ 1.,  0.,  0.,  0.,  0.,  0.],\n",
       "       [ 1.,  0.,  0.,  0.,  0.,  0.],\n",
       "       [ 1.,  0.,  0.,  0.,  0.,  0.],\n",
       "       [ 0.,  0.,  1.,  0.,  0.,  0.],\n",
       "       [ 1.,  0.,  0.,  0.,  0.,  0.],\n",
       "       [ 1.,  0.,  0.,  0.,  0.,  0.],\n",
       "       [ 1.,  0.,  0.,  0.,  0.,  0.],\n",
       "       [ 1.,  0.,  0.,  0.,  0.,  0.],\n",
       "       [ 1.,  0.,  0.,  0.,  0.,  0.],\n",
       "       [ 1.,  0.,  0.,  0.,  0.,  0.],\n",
       "       [ 1.,  0.,  0.,  0.,  0.,  0.],\n",
       "       [ 1.,  0.,  0.,  0.,  0.,  0.],\n",
       "       [ 1.,  0.,  0.,  0.,  0.,  0.],\n",
       "       [ 0.,  0.,  1.,  0.,  0.,  0.],\n",
       "       [ 0.,  0.,  1.,  0.,  0.,  0.],\n",
       "       [ 0.,  0.,  0.,  0.,  0.,  1.],\n",
       "       [ 0.,  0.,  0.,  0.,  0.,  1.],\n",
       "       [ 0.,  0.,  0.,  0.,  0.,  1.],\n",
       "       [ 0.,  0.,  1.,  0.,  0.,  0.],\n",
       "       [ 1.,  0.,  0.,  0.,  0.,  0.],\n",
       "       [ 1.,  0.,  0.,  0.,  0.,  0.],\n",
       "       [ 1.,  0.,  0.,  0.,  0.,  0.],\n",
       "       [ 1.,  0.,  0.,  0.,  0.,  0.],\n",
       "       [ 1.,  0.,  0.,  0.,  0.,  0.],\n",
       "       [ 1.,  0.,  0.,  0.,  0.,  0.],\n",
       "       [ 1.,  0.,  0.,  0.,  0.,  0.],\n",
       "       [ 1.,  0.,  0.,  0.,  0.,  0.],\n",
       "       [ 1.,  0.,  0.,  0.,  0.,  0.],\n",
       "       [ 1.,  0.,  0.,  0.,  0.,  0.],\n",
       "       [ 1.,  0.,  0.,  0.,  0.,  0.],\n",
       "       [ 1.,  0.,  0.,  0.,  0.,  0.],\n",
       "       [ 1.,  0.,  0.,  0.,  0.,  0.],\n",
       "       [ 1.,  0.,  0.,  0.,  0.,  0.],\n",
       "       [ 1.,  0.,  0.,  0.,  0.,  0.],\n",
       "       [ 1.,  0.,  0.,  0.,  0.,  0.],\n",
       "       [ 1.,  0.,  0.,  0.,  0.,  0.],\n",
       "       [ 0.,  0.,  0.,  0.,  0.,  1.],\n",
       "       [ 0.,  0.,  1.,  0.,  0.,  0.],\n",
       "       [ 0.,  0.,  1.,  0.,  0.,  0.],\n",
       "       [ 0.,  0.,  1.,  0.,  0.,  0.],\n",
       "       [ 0.,  0.,  0.,  0.,  0.,  1.],\n",
       "       [ 0.,  0.,  0.,  0.,  0.,  1.],\n",
       "       [ 1.,  0.,  0.,  0.,  0.,  0.],\n",
       "       [ 1.,  0.,  0.,  0.,  0.,  0.],\n",
       "       [ 1.,  0.,  0.,  0.,  0.,  0.],\n",
       "       [ 1.,  0.,  0.,  0.,  0.,  0.],\n",
       "       [ 1.,  0.,  0.,  0.,  0.,  0.],\n",
       "       [ 1.,  0.,  0.,  0.,  0.,  0.],\n",
       "       [ 1.,  0.,  0.,  0.,  0.,  0.],\n",
       "       [ 1.,  0.,  0.,  0.,  0.,  0.],\n",
       "       [ 1.,  0.,  0.,  0.,  0.,  0.],\n",
       "       [ 1.,  0.,  0.,  0.,  0.,  0.],\n",
       "       [ 1.,  0.,  0.,  0.,  0.,  0.],\n",
       "       [ 1.,  0.,  0.,  0.,  0.,  0.],\n",
       "       [ 1.,  0.,  0.,  0.,  0.,  0.],\n",
       "       [ 1.,  0.,  0.,  0.,  0.,  0.],\n",
       "       [ 1.,  0.,  0.,  0.,  0.,  0.],\n",
       "       [ 1.,  0.,  0.,  0.,  0.,  0.],\n",
       "       [ 1.,  0.,  0.,  0.,  0.,  0.],\n",
       "       [ 1.,  0.,  0.,  0.,  0.,  0.],\n",
       "       [ 1.,  0.,  0.,  0.,  0.,  0.],\n",
       "       [ 0.,  0.,  1.,  0.,  0.,  0.],\n",
       "       [ 0.,  0.,  1.,  0.,  0.,  0.],\n",
       "       [ 0.,  0.,  0.,  0.,  0.,  1.],\n",
       "       [ 0.,  0.,  0.,  0.,  0.,  1.]])"
      ]
     },
     "execution_count": 65,
     "metadata": {},
     "output_type": "execute_result"
    }
   ],
   "source": [
    "protein0_labels = one_hot.values[indices[0][0]:indices[0][1]]\n",
    "protein0_labels"
   ]
  },
  {
   "cell_type": "code",
   "execution_count": 63,
   "metadata": {
    "ExecuteTime": {
     "end_time": "2016-05-16T15:15:50.329610",
     "start_time": "2016-05-16T15:15:50.322410"
    },
    "collapsed": false,
    "run_control": {
     "frozen": false,
     "read_only": false
    }
   },
   "outputs": [
    {
     "data": {
      "text/plain": [
       "(134815, 6)"
      ]
     },
     "execution_count": 63,
     "metadata": {},
     "output_type": "execute_result"
    }
   ],
   "source": [
    "one_hot.shape"
   ]
  },
  {
   "cell_type": "code",
   "execution_count": 66,
   "metadata": {
    "ExecuteTime": {
     "end_time": "2016-05-16T15:18:18.539271",
     "start_time": "2016-05-16T15:18:18.533223"
    },
    "collapsed": false,
    "run_control": {
     "frozen": false,
     "read_only": false
    }
   },
   "outputs": [
    {
     "data": {
      "text/plain": [
       "(140, 6)"
      ]
     },
     "execution_count": 66,
     "metadata": {},
     "output_type": "execute_result"
    }
   ],
   "source": [
    "protein0_labels.shape"
   ]
  },
  {
   "cell_type": "code",
   "execution_count": 72,
   "metadata": {
    "ExecuteTime": {
     "end_time": "2016-05-16T15:22:45.479564",
     "start_time": "2016-05-16T15:22:45.469911"
    },
    "collapsed": false,
    "run_control": {
     "frozen": false,
     "read_only": false
    }
   },
   "outputs": [
    {
     "data": {
      "text/plain": [
       "array([[ 0.,  0.,  0.,  0.,  0.,  1.]])"
      ]
     },
     "execution_count": 72,
     "metadata": {},
     "output_type": "execute_result"
    }
   ],
   "source": [
    "lr0 = one_hot.values[0].reshape(1, -1)\n",
    "lr0"
   ]
  },
  {
   "cell_type": "code",
   "execution_count": 74,
   "metadata": {
    "ExecuteTime": {
     "end_time": "2016-05-16T15:22:56.955097",
     "start_time": "2016-05-16T15:22:56.950400"
    },
    "collapsed": false,
    "run_control": {
     "frozen": false,
     "read_only": false
    }
   },
   "outputs": [],
   "source": [
    "protein0_labels = np.concatenate((lr0, protein0_labels))"
   ]
  },
  {
   "cell_type": "code",
   "execution_count": 75,
   "metadata": {
    "ExecuteTime": {
     "end_time": "2016-05-16T15:23:15.852881",
     "start_time": "2016-05-16T15:23:15.846471"
    },
    "collapsed": false,
    "run_control": {
     "frozen": false,
     "read_only": false
    }
   },
   "outputs": [
    {
     "name": "stdout",
     "output_type": "stream",
     "text": [
      "(141, 6)\n",
      "(141, 105)\n"
     ]
    }
   ],
   "source": [
    "print protein0_labels.shape\n",
    "print protein0_df.shape"
   ]
  },
  {
   "cell_type": "code",
   "execution_count": 80,
   "metadata": {
    "ExecuteTime": {
     "end_time": "2016-05-16T15:26:34.136980",
     "start_time": "2016-05-16T15:26:34.101375"
    },
    "collapsed": false,
    "run_control": {
     "frozen": false,
     "read_only": false
    }
   },
   "outputs": [
    {
     "data": {
      "text/html": [
       "<div>\n",
       "<table border=\"1\" class=\"dataframe\">\n",
       "  <thead>\n",
       "    <tr style=\"text-align: right;\">\n",
       "      <th></th>\n",
       "      <th>H</th>\n",
       "      <th>E</th>\n",
       "      <th>T</th>\n",
       "      <th>S</th>\n",
       "      <th>B</th>\n",
       "      <th>U</th>\n",
       "    </tr>\n",
       "  </thead>\n",
       "  <tbody>\n",
       "    <tr>\n",
       "      <th>1</th>\n",
       "      <td>0.0</td>\n",
       "      <td>0.0</td>\n",
       "      <td>0.0</td>\n",
       "      <td>0.0</td>\n",
       "      <td>0.0</td>\n",
       "      <td>1.0</td>\n",
       "    </tr>\n",
       "    <tr>\n",
       "      <th>2</th>\n",
       "      <td>0.0</td>\n",
       "      <td>0.0</td>\n",
       "      <td>0.0</td>\n",
       "      <td>0.0</td>\n",
       "      <td>0.0</td>\n",
       "      <td>1.0</td>\n",
       "    </tr>\n",
       "    <tr>\n",
       "      <th>3</th>\n",
       "      <td>0.0</td>\n",
       "      <td>0.0</td>\n",
       "      <td>0.0</td>\n",
       "      <td>0.0</td>\n",
       "      <td>0.0</td>\n",
       "      <td>1.0</td>\n",
       "    </tr>\n",
       "    <tr>\n",
       "      <th>4</th>\n",
       "      <td>1.0</td>\n",
       "      <td>0.0</td>\n",
       "      <td>0.0</td>\n",
       "      <td>0.0</td>\n",
       "      <td>0.0</td>\n",
       "      <td>0.0</td>\n",
       "    </tr>\n",
       "    <tr>\n",
       "      <th>5</th>\n",
       "      <td>1.0</td>\n",
       "      <td>0.0</td>\n",
       "      <td>0.0</td>\n",
       "      <td>0.0</td>\n",
       "      <td>0.0</td>\n",
       "      <td>0.0</td>\n",
       "    </tr>\n",
       "  </tbody>\n",
       "</table>\n",
       "</div>"
      ],
      "text/plain": [
       "     H    E    T    S    B    U\n",
       "1  0.0  0.0  0.0  0.0  0.0  1.0\n",
       "2  0.0  0.0  0.0  0.0  0.0  1.0\n",
       "3  0.0  0.0  0.0  0.0  0.0  1.0\n",
       "4  1.0  0.0  0.0  0.0  0.0  0.0\n",
       "5  1.0  0.0  0.0  0.0  0.0  0.0"
      ]
     },
     "execution_count": 80,
     "metadata": {},
     "output_type": "execute_result"
    }
   ],
   "source": [
    "protein0_labels_df = pd.DataFrame(protein0_labels, columns=one_hot.columns, index=xrange(1, 142))\n",
    "protein0_labels_df.head()"
   ]
  },
  {
   "cell_type": "code",
   "execution_count": 203,
   "metadata": {
    "ExecuteTime": {
     "end_time": "2016-05-17T13:26:59.753476",
     "start_time": "2016-05-17T13:26:59.741141"
    },
    "collapsed": true,
    "run_control": {
     "frozen": false,
     "read_only": false
    }
   },
   "outputs": [],
   "source": [
    "protein0_labels_df.to_csv('../proteins/protein0_labels.csv')"
   ]
  },
  {
   "cell_type": "code",
   "execution_count": 204,
   "metadata": {
    "ExecuteTime": {
     "end_time": "2016-05-17T13:27:01.320390",
     "start_time": "2016-05-17T13:27:01.150165"
    },
    "collapsed": false,
    "run_control": {
     "frozen": false,
     "read_only": false
    },
    "scrolled": true
   },
   "outputs": [
    {
     "data": {
      "text/html": [
       "<div>\n",
       "<table border=\"1\" class=\"dataframe\">\n",
       "  <thead>\n",
       "    <tr style=\"text-align: right;\">\n",
       "      <th></th>\n",
       "      <th>H</th>\n",
       "      <th>E</th>\n",
       "      <th>T</th>\n",
       "      <th>S</th>\n",
       "      <th>B</th>\n",
       "      <th>U</th>\n",
       "    </tr>\n",
       "  </thead>\n",
       "  <tbody>\n",
       "    <tr>\n",
       "      <th>1</th>\n",
       "      <td>0</td>\n",
       "      <td>0</td>\n",
       "      <td>0</td>\n",
       "      <td>0</td>\n",
       "      <td>0</td>\n",
       "      <td>1</td>\n",
       "    </tr>\n",
       "    <tr>\n",
       "      <th>2</th>\n",
       "      <td>0</td>\n",
       "      <td>0</td>\n",
       "      <td>0</td>\n",
       "      <td>0</td>\n",
       "      <td>0</td>\n",
       "      <td>1</td>\n",
       "    </tr>\n",
       "    <tr>\n",
       "      <th>3</th>\n",
       "      <td>0</td>\n",
       "      <td>0</td>\n",
       "      <td>0</td>\n",
       "      <td>0</td>\n",
       "      <td>0</td>\n",
       "      <td>1</td>\n",
       "    </tr>\n",
       "    <tr>\n",
       "      <th>4</th>\n",
       "      <td>1</td>\n",
       "      <td>0</td>\n",
       "      <td>0</td>\n",
       "      <td>0</td>\n",
       "      <td>0</td>\n",
       "      <td>0</td>\n",
       "    </tr>\n",
       "    <tr>\n",
       "      <th>5</th>\n",
       "      <td>1</td>\n",
       "      <td>0</td>\n",
       "      <td>0</td>\n",
       "      <td>0</td>\n",
       "      <td>0</td>\n",
       "      <td>0</td>\n",
       "    </tr>\n",
       "    <tr>\n",
       "      <th>6</th>\n",
       "      <td>1</td>\n",
       "      <td>0</td>\n",
       "      <td>0</td>\n",
       "      <td>0</td>\n",
       "      <td>0</td>\n",
       "      <td>0</td>\n",
       "    </tr>\n",
       "    <tr>\n",
       "      <th>7</th>\n",
       "      <td>1</td>\n",
       "      <td>0</td>\n",
       "      <td>0</td>\n",
       "      <td>0</td>\n",
       "      <td>0</td>\n",
       "      <td>0</td>\n",
       "    </tr>\n",
       "    <tr>\n",
       "      <th>8</th>\n",
       "      <td>1</td>\n",
       "      <td>0</td>\n",
       "      <td>0</td>\n",
       "      <td>0</td>\n",
       "      <td>0</td>\n",
       "      <td>0</td>\n",
       "    </tr>\n",
       "    <tr>\n",
       "      <th>9</th>\n",
       "      <td>1</td>\n",
       "      <td>0</td>\n",
       "      <td>0</td>\n",
       "      <td>0</td>\n",
       "      <td>0</td>\n",
       "      <td>0</td>\n",
       "    </tr>\n",
       "    <tr>\n",
       "      <th>10</th>\n",
       "      <td>1</td>\n",
       "      <td>0</td>\n",
       "      <td>0</td>\n",
       "      <td>0</td>\n",
       "      <td>0</td>\n",
       "      <td>0</td>\n",
       "    </tr>\n",
       "    <tr>\n",
       "      <th>11</th>\n",
       "      <td>1</td>\n",
       "      <td>0</td>\n",
       "      <td>0</td>\n",
       "      <td>0</td>\n",
       "      <td>0</td>\n",
       "      <td>0</td>\n",
       "    </tr>\n",
       "    <tr>\n",
       "      <th>12</th>\n",
       "      <td>1</td>\n",
       "      <td>0</td>\n",
       "      <td>0</td>\n",
       "      <td>0</td>\n",
       "      <td>0</td>\n",
       "      <td>0</td>\n",
       "    </tr>\n",
       "    <tr>\n",
       "      <th>13</th>\n",
       "      <td>1</td>\n",
       "      <td>0</td>\n",
       "      <td>0</td>\n",
       "      <td>0</td>\n",
       "      <td>0</td>\n",
       "      <td>0</td>\n",
       "    </tr>\n",
       "    <tr>\n",
       "      <th>14</th>\n",
       "      <td>1</td>\n",
       "      <td>0</td>\n",
       "      <td>0</td>\n",
       "      <td>0</td>\n",
       "      <td>0</td>\n",
       "      <td>0</td>\n",
       "    </tr>\n",
       "    <tr>\n",
       "      <th>15</th>\n",
       "      <td>1</td>\n",
       "      <td>0</td>\n",
       "      <td>0</td>\n",
       "      <td>0</td>\n",
       "      <td>0</td>\n",
       "      <td>0</td>\n",
       "    </tr>\n",
       "    <tr>\n",
       "      <th>16</th>\n",
       "      <td>1</td>\n",
       "      <td>0</td>\n",
       "      <td>0</td>\n",
       "      <td>0</td>\n",
       "      <td>0</td>\n",
       "      <td>0</td>\n",
       "    </tr>\n",
       "    <tr>\n",
       "      <th>17</th>\n",
       "      <td>1</td>\n",
       "      <td>0</td>\n",
       "      <td>0</td>\n",
       "      <td>0</td>\n",
       "      <td>0</td>\n",
       "      <td>0</td>\n",
       "    </tr>\n",
       "    <tr>\n",
       "      <th>18</th>\n",
       "      <td>0</td>\n",
       "      <td>0</td>\n",
       "      <td>0</td>\n",
       "      <td>0</td>\n",
       "      <td>0</td>\n",
       "      <td>0</td>\n",
       "    </tr>\n",
       "    <tr>\n",
       "      <th>19</th>\n",
       "      <td>0</td>\n",
       "      <td>0</td>\n",
       "      <td>0</td>\n",
       "      <td>0</td>\n",
       "      <td>0</td>\n",
       "      <td>0</td>\n",
       "    </tr>\n",
       "    <tr>\n",
       "      <th>20</th>\n",
       "      <td>0</td>\n",
       "      <td>0</td>\n",
       "      <td>0</td>\n",
       "      <td>0</td>\n",
       "      <td>0</td>\n",
       "      <td>0</td>\n",
       "    </tr>\n",
       "    <tr>\n",
       "      <th>21</th>\n",
       "      <td>1</td>\n",
       "      <td>0</td>\n",
       "      <td>0</td>\n",
       "      <td>0</td>\n",
       "      <td>0</td>\n",
       "      <td>0</td>\n",
       "    </tr>\n",
       "    <tr>\n",
       "      <th>22</th>\n",
       "      <td>1</td>\n",
       "      <td>0</td>\n",
       "      <td>0</td>\n",
       "      <td>0</td>\n",
       "      <td>0</td>\n",
       "      <td>0</td>\n",
       "    </tr>\n",
       "    <tr>\n",
       "      <th>23</th>\n",
       "      <td>1</td>\n",
       "      <td>0</td>\n",
       "      <td>0</td>\n",
       "      <td>0</td>\n",
       "      <td>0</td>\n",
       "      <td>0</td>\n",
       "    </tr>\n",
       "    <tr>\n",
       "      <th>24</th>\n",
       "      <td>1</td>\n",
       "      <td>0</td>\n",
       "      <td>0</td>\n",
       "      <td>0</td>\n",
       "      <td>0</td>\n",
       "      <td>0</td>\n",
       "    </tr>\n",
       "    <tr>\n",
       "      <th>25</th>\n",
       "      <td>1</td>\n",
       "      <td>0</td>\n",
       "      <td>0</td>\n",
       "      <td>0</td>\n",
       "      <td>0</td>\n",
       "      <td>0</td>\n",
       "    </tr>\n",
       "    <tr>\n",
       "      <th>26</th>\n",
       "      <td>1</td>\n",
       "      <td>0</td>\n",
       "      <td>0</td>\n",
       "      <td>0</td>\n",
       "      <td>0</td>\n",
       "      <td>0</td>\n",
       "    </tr>\n",
       "    <tr>\n",
       "      <th>27</th>\n",
       "      <td>1</td>\n",
       "      <td>0</td>\n",
       "      <td>0</td>\n",
       "      <td>0</td>\n",
       "      <td>0</td>\n",
       "      <td>0</td>\n",
       "    </tr>\n",
       "    <tr>\n",
       "      <th>28</th>\n",
       "      <td>1</td>\n",
       "      <td>0</td>\n",
       "      <td>0</td>\n",
       "      <td>0</td>\n",
       "      <td>0</td>\n",
       "      <td>0</td>\n",
       "    </tr>\n",
       "    <tr>\n",
       "      <th>29</th>\n",
       "      <td>1</td>\n",
       "      <td>0</td>\n",
       "      <td>0</td>\n",
       "      <td>0</td>\n",
       "      <td>0</td>\n",
       "      <td>0</td>\n",
       "    </tr>\n",
       "    <tr>\n",
       "      <th>30</th>\n",
       "      <td>1</td>\n",
       "      <td>0</td>\n",
       "      <td>0</td>\n",
       "      <td>0</td>\n",
       "      <td>0</td>\n",
       "      <td>0</td>\n",
       "    </tr>\n",
       "    <tr>\n",
       "      <th>...</th>\n",
       "      <td>...</td>\n",
       "      <td>...</td>\n",
       "      <td>...</td>\n",
       "      <td>...</td>\n",
       "      <td>...</td>\n",
       "      <td>...</td>\n",
       "    </tr>\n",
       "    <tr>\n",
       "      <th>112</th>\n",
       "      <td>1</td>\n",
       "      <td>0</td>\n",
       "      <td>0</td>\n",
       "      <td>0</td>\n",
       "      <td>0</td>\n",
       "      <td>0</td>\n",
       "    </tr>\n",
       "    <tr>\n",
       "      <th>113</th>\n",
       "      <td>0</td>\n",
       "      <td>0</td>\n",
       "      <td>0</td>\n",
       "      <td>0</td>\n",
       "      <td>0</td>\n",
       "      <td>1</td>\n",
       "    </tr>\n",
       "    <tr>\n",
       "      <th>114</th>\n",
       "      <td>0</td>\n",
       "      <td>0</td>\n",
       "      <td>1</td>\n",
       "      <td>0</td>\n",
       "      <td>0</td>\n",
       "      <td>0</td>\n",
       "    </tr>\n",
       "    <tr>\n",
       "      <th>115</th>\n",
       "      <td>0</td>\n",
       "      <td>0</td>\n",
       "      <td>1</td>\n",
       "      <td>0</td>\n",
       "      <td>0</td>\n",
       "      <td>0</td>\n",
       "    </tr>\n",
       "    <tr>\n",
       "      <th>116</th>\n",
       "      <td>0</td>\n",
       "      <td>0</td>\n",
       "      <td>1</td>\n",
       "      <td>0</td>\n",
       "      <td>0</td>\n",
       "      <td>0</td>\n",
       "    </tr>\n",
       "    <tr>\n",
       "      <th>117</th>\n",
       "      <td>0</td>\n",
       "      <td>0</td>\n",
       "      <td>0</td>\n",
       "      <td>0</td>\n",
       "      <td>0</td>\n",
       "      <td>1</td>\n",
       "    </tr>\n",
       "    <tr>\n",
       "      <th>118</th>\n",
       "      <td>0</td>\n",
       "      <td>0</td>\n",
       "      <td>0</td>\n",
       "      <td>0</td>\n",
       "      <td>0</td>\n",
       "      <td>1</td>\n",
       "    </tr>\n",
       "    <tr>\n",
       "      <th>119</th>\n",
       "      <td>1</td>\n",
       "      <td>0</td>\n",
       "      <td>0</td>\n",
       "      <td>0</td>\n",
       "      <td>0</td>\n",
       "      <td>0</td>\n",
       "    </tr>\n",
       "    <tr>\n",
       "      <th>120</th>\n",
       "      <td>1</td>\n",
       "      <td>0</td>\n",
       "      <td>0</td>\n",
       "      <td>0</td>\n",
       "      <td>0</td>\n",
       "      <td>0</td>\n",
       "    </tr>\n",
       "    <tr>\n",
       "      <th>121</th>\n",
       "      <td>1</td>\n",
       "      <td>0</td>\n",
       "      <td>0</td>\n",
       "      <td>0</td>\n",
       "      <td>0</td>\n",
       "      <td>0</td>\n",
       "    </tr>\n",
       "    <tr>\n",
       "      <th>122</th>\n",
       "      <td>1</td>\n",
       "      <td>0</td>\n",
       "      <td>0</td>\n",
       "      <td>0</td>\n",
       "      <td>0</td>\n",
       "      <td>0</td>\n",
       "    </tr>\n",
       "    <tr>\n",
       "      <th>123</th>\n",
       "      <td>1</td>\n",
       "      <td>0</td>\n",
       "      <td>0</td>\n",
       "      <td>0</td>\n",
       "      <td>0</td>\n",
       "      <td>0</td>\n",
       "    </tr>\n",
       "    <tr>\n",
       "      <th>124</th>\n",
       "      <td>1</td>\n",
       "      <td>0</td>\n",
       "      <td>0</td>\n",
       "      <td>0</td>\n",
       "      <td>0</td>\n",
       "      <td>0</td>\n",
       "    </tr>\n",
       "    <tr>\n",
       "      <th>125</th>\n",
       "      <td>1</td>\n",
       "      <td>0</td>\n",
       "      <td>0</td>\n",
       "      <td>0</td>\n",
       "      <td>0</td>\n",
       "      <td>0</td>\n",
       "    </tr>\n",
       "    <tr>\n",
       "      <th>126</th>\n",
       "      <td>1</td>\n",
       "      <td>0</td>\n",
       "      <td>0</td>\n",
       "      <td>0</td>\n",
       "      <td>0</td>\n",
       "      <td>0</td>\n",
       "    </tr>\n",
       "    <tr>\n",
       "      <th>127</th>\n",
       "      <td>1</td>\n",
       "      <td>0</td>\n",
       "      <td>0</td>\n",
       "      <td>0</td>\n",
       "      <td>0</td>\n",
       "      <td>0</td>\n",
       "    </tr>\n",
       "    <tr>\n",
       "      <th>128</th>\n",
       "      <td>1</td>\n",
       "      <td>0</td>\n",
       "      <td>0</td>\n",
       "      <td>0</td>\n",
       "      <td>0</td>\n",
       "      <td>0</td>\n",
       "    </tr>\n",
       "    <tr>\n",
       "      <th>129</th>\n",
       "      <td>1</td>\n",
       "      <td>0</td>\n",
       "      <td>0</td>\n",
       "      <td>0</td>\n",
       "      <td>0</td>\n",
       "      <td>0</td>\n",
       "    </tr>\n",
       "    <tr>\n",
       "      <th>130</th>\n",
       "      <td>1</td>\n",
       "      <td>0</td>\n",
       "      <td>0</td>\n",
       "      <td>0</td>\n",
       "      <td>0</td>\n",
       "      <td>0</td>\n",
       "    </tr>\n",
       "    <tr>\n",
       "      <th>131</th>\n",
       "      <td>1</td>\n",
       "      <td>0</td>\n",
       "      <td>0</td>\n",
       "      <td>0</td>\n",
       "      <td>0</td>\n",
       "      <td>0</td>\n",
       "    </tr>\n",
       "    <tr>\n",
       "      <th>132</th>\n",
       "      <td>1</td>\n",
       "      <td>0</td>\n",
       "      <td>0</td>\n",
       "      <td>0</td>\n",
       "      <td>0</td>\n",
       "      <td>0</td>\n",
       "    </tr>\n",
       "    <tr>\n",
       "      <th>133</th>\n",
       "      <td>1</td>\n",
       "      <td>0</td>\n",
       "      <td>0</td>\n",
       "      <td>0</td>\n",
       "      <td>0</td>\n",
       "      <td>0</td>\n",
       "    </tr>\n",
       "    <tr>\n",
       "      <th>134</th>\n",
       "      <td>1</td>\n",
       "      <td>0</td>\n",
       "      <td>0</td>\n",
       "      <td>0</td>\n",
       "      <td>0</td>\n",
       "      <td>0</td>\n",
       "    </tr>\n",
       "    <tr>\n",
       "      <th>135</th>\n",
       "      <td>1</td>\n",
       "      <td>0</td>\n",
       "      <td>0</td>\n",
       "      <td>0</td>\n",
       "      <td>0</td>\n",
       "      <td>0</td>\n",
       "    </tr>\n",
       "    <tr>\n",
       "      <th>136</th>\n",
       "      <td>1</td>\n",
       "      <td>0</td>\n",
       "      <td>0</td>\n",
       "      <td>0</td>\n",
       "      <td>0</td>\n",
       "      <td>0</td>\n",
       "    </tr>\n",
       "    <tr>\n",
       "      <th>137</th>\n",
       "      <td>1</td>\n",
       "      <td>0</td>\n",
       "      <td>0</td>\n",
       "      <td>0</td>\n",
       "      <td>0</td>\n",
       "      <td>0</td>\n",
       "    </tr>\n",
       "    <tr>\n",
       "      <th>138</th>\n",
       "      <td>0</td>\n",
       "      <td>0</td>\n",
       "      <td>1</td>\n",
       "      <td>0</td>\n",
       "      <td>0</td>\n",
       "      <td>0</td>\n",
       "    </tr>\n",
       "    <tr>\n",
       "      <th>139</th>\n",
       "      <td>0</td>\n",
       "      <td>0</td>\n",
       "      <td>1</td>\n",
       "      <td>0</td>\n",
       "      <td>0</td>\n",
       "      <td>0</td>\n",
       "    </tr>\n",
       "    <tr>\n",
       "      <th>140</th>\n",
       "      <td>0</td>\n",
       "      <td>0</td>\n",
       "      <td>0</td>\n",
       "      <td>0</td>\n",
       "      <td>0</td>\n",
       "      <td>1</td>\n",
       "    </tr>\n",
       "    <tr>\n",
       "      <th>141</th>\n",
       "      <td>0</td>\n",
       "      <td>0</td>\n",
       "      <td>0</td>\n",
       "      <td>0</td>\n",
       "      <td>0</td>\n",
       "      <td>1</td>\n",
       "    </tr>\n",
       "  </tbody>\n",
       "</table>\n",
       "<p>141 rows × 6 columns</p>\n",
       "</div>"
      ],
      "text/plain": [
       "     H  E  T  S  B  U\n",
       "1    0  0  0  0  0  1\n",
       "2    0  0  0  0  0  1\n",
       "3    0  0  0  0  0  1\n",
       "4    1  0  0  0  0  0\n",
       "5    1  0  0  0  0  0\n",
       "6    1  0  0  0  0  0\n",
       "7    1  0  0  0  0  0\n",
       "8    1  0  0  0  0  0\n",
       "9    1  0  0  0  0  0\n",
       "10   1  0  0  0  0  0\n",
       "11   1  0  0  0  0  0\n",
       "12   1  0  0  0  0  0\n",
       "13   1  0  0  0  0  0\n",
       "14   1  0  0  0  0  0\n",
       "15   1  0  0  0  0  0\n",
       "16   1  0  0  0  0  0\n",
       "17   1  0  0  0  0  0\n",
       "18   0  0  0  0  0  0\n",
       "19   0  0  0  0  0  0\n",
       "20   0  0  0  0  0  0\n",
       "21   1  0  0  0  0  0\n",
       "22   1  0  0  0  0  0\n",
       "23   1  0  0  0  0  0\n",
       "24   1  0  0  0  0  0\n",
       "25   1  0  0  0  0  0\n",
       "26   1  0  0  0  0  0\n",
       "27   1  0  0  0  0  0\n",
       "28   1  0  0  0  0  0\n",
       "29   1  0  0  0  0  0\n",
       "30   1  0  0  0  0  0\n",
       "..  .. .. .. .. .. ..\n",
       "112  1  0  0  0  0  0\n",
       "113  0  0  0  0  0  1\n",
       "114  0  0  1  0  0  0\n",
       "115  0  0  1  0  0  0\n",
       "116  0  0  1  0  0  0\n",
       "117  0  0  0  0  0  1\n",
       "118  0  0  0  0  0  1\n",
       "119  1  0  0  0  0  0\n",
       "120  1  0  0  0  0  0\n",
       "121  1  0  0  0  0  0\n",
       "122  1  0  0  0  0  0\n",
       "123  1  0  0  0  0  0\n",
       "124  1  0  0  0  0  0\n",
       "125  1  0  0  0  0  0\n",
       "126  1  0  0  0  0  0\n",
       "127  1  0  0  0  0  0\n",
       "128  1  0  0  0  0  0\n",
       "129  1  0  0  0  0  0\n",
       "130  1  0  0  0  0  0\n",
       "131  1  0  0  0  0  0\n",
       "132  1  0  0  0  0  0\n",
       "133  1  0  0  0  0  0\n",
       "134  1  0  0  0  0  0\n",
       "135  1  0  0  0  0  0\n",
       "136  1  0  0  0  0  0\n",
       "137  1  0  0  0  0  0\n",
       "138  0  0  1  0  0  0\n",
       "139  0  0  1  0  0  0\n",
       "140  0  0  0  0  0  1\n",
       "141  0  0  0  0  0  1\n",
       "\n",
       "[141 rows x 6 columns]"
      ]
     },
     "execution_count": 204,
     "metadata": {},
     "output_type": "execute_result"
    }
   ],
   "source": [
    "pd.read_csv('../proteins/protein0_labels.csv', index_col=0)"
   ]
  },
  {
   "cell_type": "markdown",
   "metadata": {},
   "source": [
    "# Now iterate over all of the indices and construct proteins and full DF"
   ]
  },
  {
   "cell_type": "markdown",
   "metadata": {},
   "source": [
    "### DONT FORGET --- We need to add these rows to the labels data frame too"
   ]
  },
  {
   "cell_type": "code",
   "execution_count": 112,
   "metadata": {
    "ExecuteTime": {
     "end_time": "2016-05-16T16:02:11.281686",
     "start_time": "2016-05-16T16:02:11.266925"
    },
    "collapsed": false,
    "run_control": {
     "frozen": false,
     "read_only": false
    }
   },
   "outputs": [],
   "source": [
    "proteins = [np.asarray(data.values[s:e]) for s, e in indices]"
   ]
  },
  {
   "cell_type": "code",
   "execution_count": 124,
   "metadata": {
    "ExecuteTime": {
     "end_time": "2016-05-16T16:06:44.506367",
     "start_time": "2016-05-16T16:06:44.499582"
    },
    "collapsed": false,
    "run_control": {
     "frozen": false,
     "read_only": false
    }
   },
   "outputs": [
    {
     "data": {
      "text/plain": [
       "347"
      ]
     },
     "execution_count": 124,
     "metadata": {},
     "output_type": "execute_result"
    }
   ],
   "source": [
    "len(proteins)"
   ]
  },
  {
   "cell_type": "code",
   "execution_count": 139,
   "metadata": {
    "ExecuteTime": {
     "end_time": "2016-05-16T16:43:23.916275",
     "start_time": "2016-05-16T16:43:23.907696"
    },
    "collapsed": false,
    "run_control": {
     "frozen": false,
     "read_only": false
    }
   },
   "outputs": [
    {
     "data": {
      "text/plain": [
       "array([[ 2,  0,  0, ...,  0,  0,  0],\n",
       "       [ 3,  0,  0, ...,  0,  0,  0],\n",
       "       [ 4,  0,  0, ...,  0,  0,  0],\n",
       "       ..., \n",
       "       [ 9,  0,  0, ...,  0,  0,  0],\n",
       "       [10,  0,  0, ...,  0,  0,  0],\n",
       "       [11,  0,  0, ...,  0,  0,  0]])"
      ]
     },
     "execution_count": 139,
     "metadata": {},
     "output_type": "execute_result"
    }
   ],
   "source": [
    "proteins[0][:10]"
   ]
  },
  {
   "cell_type": "code",
   "execution_count": 130,
   "metadata": {
    "ExecuteTime": {
     "end_time": "2016-05-16T16:08:19.991095",
     "start_time": "2016-05-16T16:08:19.983811"
    },
    "collapsed": false,
    "run_control": {
     "frozen": false,
     "read_only": false
    }
   },
   "outputs": [
    {
     "data": {
      "text/plain": [
       "(140, 106)"
      ]
     },
     "execution_count": 130,
     "metadata": {},
     "output_type": "execute_result"
    }
   ],
   "source": [
    "proteins[0].shape"
   ]
  },
  {
   "cell_type": "code",
   "execution_count": 126,
   "metadata": {
    "ExecuteTime": {
     "end_time": "2016-05-16T16:07:42.641307",
     "start_time": "2016-05-16T16:07:42.620450"
    },
    "collapsed": true,
    "run_control": {
     "frozen": false,
     "read_only": false
    }
   },
   "outputs": [],
   "source": [
    "protein_labels = [np.asarray(one_hot.values[s:e]) for s, e in indices]"
   ]
  },
  {
   "cell_type": "code",
   "execution_count": 138,
   "metadata": {
    "ExecuteTime": {
     "end_time": "2016-05-16T16:26:35.865049",
     "start_time": "2016-05-16T16:26:35.858497"
    },
    "collapsed": false,
    "run_control": {
     "frozen": false,
     "read_only": false
    }
   },
   "outputs": [
    {
     "data": {
      "text/plain": [
       "347"
      ]
     },
     "execution_count": 138,
     "metadata": {},
     "output_type": "execute_result"
    }
   ],
   "source": [
    "len(protein_labels)"
   ]
  },
  {
   "cell_type": "code",
   "execution_count": 135,
   "metadata": {
    "ExecuteTime": {
     "end_time": "2016-05-16T16:23:48.071291",
     "start_time": "2016-05-16T16:23:48.060274"
    },
    "collapsed": false,
    "run_control": {
     "frozen": false,
     "read_only": false
    }
   },
   "outputs": [
    {
     "data": {
      "text/plain": [
       "array([[ 0.,  0.,  0.,  0.,  0.,  1.],\n",
       "       [ 0.,  0.,  0.,  0.,  0.,  1.],\n",
       "       [ 1.,  0.,  0.,  0.,  0.,  0.],\n",
       "       [ 1.,  0.,  0.,  0.,  0.,  0.],\n",
       "       [ 1.,  0.,  0.,  0.,  0.,  0.],\n",
       "       [ 1.,  0.,  0.,  0.,  0.,  0.],\n",
       "       [ 1.,  0.,  0.,  0.,  0.,  0.],\n",
       "       [ 1.,  0.,  0.,  0.,  0.,  0.],\n",
       "       [ 1.,  0.,  0.,  0.,  0.,  0.],\n",
       "       [ 1.,  0.,  0.,  0.,  0.,  0.]])"
      ]
     },
     "execution_count": 135,
     "metadata": {},
     "output_type": "execute_result"
    }
   ],
   "source": [
    "protein_labels[0][:10]"
   ]
  },
  {
   "cell_type": "code",
   "execution_count": 129,
   "metadata": {
    "ExecuteTime": {
     "end_time": "2016-05-16T16:08:11.927223",
     "start_time": "2016-05-16T16:08:11.919489"
    },
    "collapsed": false,
    "run_control": {
     "frozen": false,
     "read_only": false
    }
   },
   "outputs": [
    {
     "data": {
      "text/plain": [
       "(140, 6)"
      ]
     },
     "execution_count": 129,
     "metadata": {},
     "output_type": "execute_result"
    }
   ],
   "source": [
    "protein_labels[0].shape"
   ]
  },
  {
   "cell_type": "code",
   "execution_count": 131,
   "metadata": {
    "ExecuteTime": {
     "end_time": "2016-05-16T16:18:38.817214",
     "start_time": "2016-05-16T16:18:38.808064"
    },
    "collapsed": false,
    "run_control": {
     "frozen": false,
     "read_only": false
    }
   },
   "outputs": [
    {
     "data": {
      "text/plain": [
       "array([[ 2,  0,  0, ...,  0,  0,  0],\n",
       "       [ 3,  0,  0, ...,  0,  0,  0],\n",
       "       [ 4,  0,  0, ...,  0,  0,  0],\n",
       "       ..., \n",
       "       [ 9,  0,  0, ...,  0,  0,  0],\n",
       "       [10,  0,  0, ...,  0,  0,  0],\n",
       "       [11,  0,  0, ...,  0,  0,  0]])"
      ]
     },
     "execution_count": 131,
     "metadata": {},
     "output_type": "execute_result"
    }
   ],
   "source": [
    "proteins[0][:10]"
   ]
  },
  {
   "cell_type": "code",
   "execution_count": 140,
   "metadata": {
    "ExecuteTime": {
     "end_time": "2016-05-16T16:45:59.847446",
     "start_time": "2016-05-16T16:45:59.819682"
    },
    "collapsed": false,
    "run_control": {
     "frozen": false,
     "read_only": false
    }
   },
   "outputs": [
    {
     "data": {
      "text/plain": [
       "array([[1, 0, 0, 0, 0, 0, 0, 0, 0, 0, 0, 0, 0, 0, 0, 0, 0, 0, 0, 0, 0, 1,\n",
       "        0, 0, 0, 0, 0, 0, 0, 0, 0, 0, 0, 0, 0, 0, 0, 0, 0, 0, 0, 0, 1, 0,\n",
       "        0, 0, 0, 0, 0, 0, 0, 0, 0, 0, 0, 0, 0, 0, 0, 0, 1, 0, 0, 0, 0, 0,\n",
       "        0, 0, 0, 0, 0, 0, 0, 1, 0, 0, 0, 0, 0, 0, 0, 0, 0, 0, 0, 0, 0, 0,\n",
       "        0, 0, 0, 0, 0, 0, 0, 0, 0, 0, 0, 0, 1, 0, 0, 0, 0, 0]])"
      ]
     },
     "execution_count": 140,
     "metadata": {},
     "output_type": "execute_result"
    }
   ],
   "source": [
    "construct_row(make_prev_row(get_aminos(data, indices[0][0])), data)"
   ]
  },
  {
   "cell_type": "code",
   "execution_count": 183,
   "metadata": {
    "ExecuteTime": {
     "end_time": "2016-05-16T17:24:03.606337",
     "start_time": "2016-05-16T17:24:03.597019"
    },
    "collapsed": false,
    "run_control": {
     "frozen": false,
     "read_only": false
    }
   },
   "outputs": [
    {
     "data": {
      "text/plain": [
       "'L'"
      ]
     },
     "execution_count": 183,
     "metadata": {},
     "output_type": "execute_result"
    }
   ],
   "source": [
    "get_aminos(data, 0)[2][0]"
   ]
  },
  {
   "cell_type": "code",
   "execution_count": 188,
   "metadata": {
    "ExecuteTime": {
     "end_time": "2016-05-16T17:25:16.129227",
     "start_time": "2016-05-16T17:25:16.121855"
    },
    "collapsed": false,
    "run_control": {
     "frozen": false,
     "read_only": false
    }
   },
   "outputs": [
    {
     "data": {
      "text/plain": [
       "'U'"
      ]
     },
     "execution_count": 188,
     "metadata": {},
     "output_type": "execute_result"
    }
   ],
   "source": [
    "get_aminos(label_df, 1)[0]"
   ]
  },
  {
   "cell_type": "code",
   "execution_count": 211,
   "metadata": {
    "ExecuteTime": {
     "end_time": "2016-05-17T13:41:20.430354",
     "start_time": "2016-05-17T13:40:45.641499"
    },
    "collapsed": false,
    "run_control": {
     "frozen": false,
     "read_only": false
    }
   },
   "outputs": [],
   "source": [
    "protein_label0 = np.asarray([[0, 0, 0, 0, 0, 1]])\n",
    "\n",
    "for i, (p, pl) in enumerate(zip(proteins, protein_labels)):\n",
    "    \n",
    "    # first construct the full protein\n",
    "    protein_row0 = construct_row(make_prev_row(get_aminos(data, indices[i][0])), data)\n",
    "    full_protein = np.concatenate((protein_row0, p))\n",
    "    \n",
    "    # then construct the protein label\n",
    "    full_label = np.concatenate((protein_label0, pl))\n",
    "    \n",
    "    # construct dataframes with indexes\n",
    "    protein_df = pd.DataFrame(full_protein[:, 1:], \n",
    "                              columns=data.columns[1:], \n",
    "                              index=full_protein[:, 0])\n",
    "    \n",
    "    label_df = pd.DataFrame(full_label, \n",
    "                        columns=one_hot.columns, \n",
    "                        index=xrange(1, 1 + full_label.shape[0]))\n",
    "    \n",
    "    # make them ints, instead of floats\n",
    "    label_df[label_df.columns] = label_df[label_df.columns].astype(int)\n",
    "    \n",
    "    # make the sequence\n",
    "    full_seq = [get_middle(protein_df, n) for n in xrange(1, protein_df.shape[0]+1)]\n",
    "    \n",
    "    # get into DF\n",
    "    seq_df = pd.DataFrame(full_seq, columns=['Amino Acid'], index=protein_df.index)\n",
    "    \n",
    "    # construct filenames\n",
    "    data_filename = '../proteins/protein' + str(i) + '_data.csv'\n",
    "    label_filename = '../proteins/protein' + str(i) + '_labels.csv' \n",
    "    \n",
    "    # finally, save\n",
    "    seq_df.to_csv(data_filename)\n",
    "    label_df.to_csv(label_filename)\n"
   ]
  },
  {
   "cell_type": "code",
   "execution_count": 212,
   "metadata": {
    "ExecuteTime": {
     "end_time": "2016-05-17T13:41:23.106520",
     "start_time": "2016-05-17T13:41:23.085021"
    },
    "collapsed": false,
    "run_control": {
     "frozen": false,
     "read_only": false
    }
   },
   "outputs": [
    {
     "data": {
      "text/html": [
       "<div>\n",
       "<table border=\"1\" class=\"dataframe\">\n",
       "  <thead>\n",
       "    <tr style=\"text-align: right;\">\n",
       "      <th></th>\n",
       "      <th>Amino Acid</th>\n",
       "    </tr>\n",
       "  </thead>\n",
       "  <tbody>\n",
       "    <tr>\n",
       "      <th>1</th>\n",
       "      <td>Y</td>\n",
       "    </tr>\n",
       "    <tr>\n",
       "      <th>2</th>\n",
       "      <td>D</td>\n",
       "    </tr>\n",
       "    <tr>\n",
       "      <th>3</th>\n",
       "      <td>F</td>\n",
       "    </tr>\n",
       "    <tr>\n",
       "      <th>4</th>\n",
       "      <td>K</td>\n",
       "    </tr>\n",
       "    <tr>\n",
       "      <th>5</th>\n",
       "      <td>K</td>\n",
       "    </tr>\n",
       "  </tbody>\n",
       "</table>\n",
       "</div>"
      ],
      "text/plain": [
       "  Amino Acid\n",
       "1          Y\n",
       "2          D\n",
       "3          F\n",
       "4          K\n",
       "5          K"
      ]
     },
     "execution_count": 212,
     "metadata": {},
     "output_type": "execute_result"
    }
   ],
   "source": [
    "last_protein = pd.read_csv('../proteins/protein346_data.csv', index_col=0)\n",
    "last_protein.head()"
   ]
  },
  {
   "cell_type": "code",
   "execution_count": 213,
   "metadata": {
    "ExecuteTime": {
     "end_time": "2016-05-17T13:41:25.443019",
     "start_time": "2016-05-17T13:41:25.411743"
    },
    "collapsed": false,
    "run_control": {
     "frozen": false,
     "read_only": false
    }
   },
   "outputs": [
    {
     "data": {
      "text/html": [
       "<div>\n",
       "<table border=\"1\" class=\"dataframe\">\n",
       "  <thead>\n",
       "    <tr style=\"text-align: right;\">\n",
       "      <th></th>\n",
       "      <th>H</th>\n",
       "      <th>E</th>\n",
       "      <th>T</th>\n",
       "      <th>S</th>\n",
       "      <th>B</th>\n",
       "      <th>U</th>\n",
       "    </tr>\n",
       "  </thead>\n",
       "  <tbody>\n",
       "    <tr>\n",
       "      <th>1</th>\n",
       "      <td>0</td>\n",
       "      <td>0</td>\n",
       "      <td>0</td>\n",
       "      <td>0</td>\n",
       "      <td>0</td>\n",
       "      <td>1</td>\n",
       "    </tr>\n",
       "    <tr>\n",
       "      <th>2</th>\n",
       "      <td>0</td>\n",
       "      <td>0</td>\n",
       "      <td>0</td>\n",
       "      <td>0</td>\n",
       "      <td>0</td>\n",
       "      <td>1</td>\n",
       "    </tr>\n",
       "    <tr>\n",
       "      <th>3</th>\n",
       "      <td>0</td>\n",
       "      <td>0</td>\n",
       "      <td>0</td>\n",
       "      <td>0</td>\n",
       "      <td>0</td>\n",
       "      <td>1</td>\n",
       "    </tr>\n",
       "    <tr>\n",
       "      <th>4</th>\n",
       "      <td>0</td>\n",
       "      <td>0</td>\n",
       "      <td>0</td>\n",
       "      <td>1</td>\n",
       "      <td>0</td>\n",
       "      <td>0</td>\n",
       "    </tr>\n",
       "    <tr>\n",
       "      <th>5</th>\n",
       "      <td>0</td>\n",
       "      <td>0</td>\n",
       "      <td>0</td>\n",
       "      <td>1</td>\n",
       "      <td>0</td>\n",
       "      <td>0</td>\n",
       "    </tr>\n",
       "  </tbody>\n",
       "</table>\n",
       "</div>"
      ],
      "text/plain": [
       "   H  E  T  S  B  U\n",
       "1  0  0  0  0  0  1\n",
       "2  0  0  0  0  0  1\n",
       "3  0  0  0  0  0  1\n",
       "4  0  0  0  1  0  0\n",
       "5  0  0  0  1  0  0"
      ]
     },
     "execution_count": 213,
     "metadata": {},
     "output_type": "execute_result"
    }
   ],
   "source": [
    "last_protein_labels = pd.read_csv('../proteins/protein346_labels.csv', index_col=0)\n",
    "last_protein_labels.head()"
   ]
  },
  {
   "cell_type": "code",
   "execution_count": 214,
   "metadata": {
    "ExecuteTime": {
     "end_time": "2016-05-17T13:41:32.304871",
     "start_time": "2016-05-17T13:41:32.298406"
    },
    "collapsed": false,
    "run_control": {
     "frozen": false,
     "read_only": false
    }
   },
   "outputs": [
    {
     "data": {
      "text/plain": [
       "(499, 1)"
      ]
     },
     "execution_count": 214,
     "metadata": {},
     "output_type": "execute_result"
    }
   ],
   "source": [
    "last_protein.shape"
   ]
  },
  {
   "cell_type": "code",
   "execution_count": 215,
   "metadata": {
    "ExecuteTime": {
     "end_time": "2016-05-17T13:41:32.489873",
     "start_time": "2016-05-17T13:41:32.481307"
    },
    "collapsed": false,
    "run_control": {
     "frozen": false,
     "read_only": false
    }
   },
   "outputs": [
    {
     "data": {
      "text/plain": [
       "(499, 6)"
      ]
     },
     "execution_count": 215,
     "metadata": {},
     "output_type": "execute_result"
    }
   ],
   "source": [
    "last_protein_labels.shape"
   ]
  },
  {
   "cell_type": "code",
   "execution_count": 225,
   "metadata": {
    "ExecuteTime": {
     "end_time": "2016-05-17T13:45:07.625698",
     "start_time": "2016-05-17T13:45:07.617639"
    },
    "collapsed": false,
    "run_control": {
     "frozen": false,
     "read_only": false
    }
   },
   "outputs": [
    {
     "data": {
      "text/plain": [
       "499"
      ]
     },
     "execution_count": 225,
     "metadata": {},
     "output_type": "execute_result"
    }
   ],
   "source": [
    "# check that we still have the right breakdown\n",
    "d = np.diff(indices[-1])+1\n",
    "d[0]"
   ]
  },
  {
   "cell_type": "code",
   "execution_count": 218,
   "metadata": {
    "ExecuteTime": {
     "end_time": "2016-05-17T13:41:59.700121",
     "start_time": "2016-05-17T13:41:59.668809"
    },
    "collapsed": false,
    "run_control": {
     "frozen": false,
     "read_only": false
    }
   },
   "outputs": [
    {
     "data": {
      "text/plain": [
       "array([['Y'],\n",
       "       ['D'],\n",
       "       ['F'],\n",
       "       ['K'],\n",
       "       ['K'],\n",
       "       ['I'],\n",
       "       ['N'],\n",
       "       ['N'],\n",
       "       ['L'],\n",
       "       ['R'],\n",
       "       ['G'],\n",
       "       ['I'],\n",
       "       ['E'],\n",
       "       ['R'],\n",
       "       ['E'],\n",
       "       ['T'],\n",
       "       ['L'],\n",
       "       ['R'],\n",
       "       ['V'],\n",
       "       ['T'],\n",
       "       ['D'],\n",
       "       ['C'],\n",
       "       ['G'],\n",
       "       ['N'],\n",
       "       ['L'],\n",
       "       ['A'],\n",
       "       ['T'],\n",
       "       ['S'],\n",
       "       ['N'],\n",
       "       ['H'],\n",
       "       ['P'],\n",
       "       ['D'],\n",
       "       ['G'],\n",
       "       ['L'],\n",
       "       ['G'],\n",
       "       ['H'],\n",
       "       ['K'],\n",
       "       ['L'],\n",
       "       ['T'],\n",
       "       ['N'],\n",
       "       ['N'],\n",
       "       ['S'],\n",
       "       ['I'],\n",
       "       ['T'],\n",
       "       ['V'],\n",
       "       ['D'],\n",
       "       ['F'],\n",
       "       ['S'],\n",
       "       ['E'],\n",
       "       ['N'],\n",
       "       ['L'],\n",
       "       ['L'],\n",
       "       ['E'],\n",
       "       ['L'],\n",
       "       ['I'],\n",
       "       ['T'],\n",
       "       ['K'],\n",
       "       ['P'],\n",
       "       ['H'],\n",
       "       ['D'],\n",
       "       ['S'],\n",
       "       ['I'],\n",
       "       ['D'],\n",
       "       ['K'],\n",
       "       ['A'],\n",
       "       ['I'],\n",
       "       ['G'],\n",
       "       ['E'],\n",
       "       ['L'],\n",
       "       ['Y'],\n",
       "       ['Q'],\n",
       "       ['L'],\n",
       "       ['S'],\n",
       "       ['A'],\n",
       "       ['F'],\n",
       "       ['T'],\n",
       "       ['L'],\n",
       "       ['D'],\n",
       "       ['N'],\n",
       "       ['M'],\n",
       "       ['H'],\n",
       "       ['S'],\n",
       "       ['D'],\n",
       "       ['E'],\n",
       "       ['I'],\n",
       "       ['I'],\n",
       "       ['L'],\n",
       "       ['N'],\n",
       "       ['T'],\n",
       "       ['S'],\n",
       "       ['M'],\n",
       "       ['P'],\n",
       "       ['L'],\n",
       "       ['S'],\n",
       "       ['A'],\n",
       "       ['N'],\n",
       "       ['D'],\n",
       "       ['N'],\n",
       "       ['D'],\n",
       "       ['I'],\n",
       "       ['Q'],\n",
       "       ['E'],\n",
       "       ['A'],\n",
       "       ['D'],\n",
       "       ['F'],\n",
       "       ['G'],\n",
       "       ['S'],\n",
       "       ['S'],\n",
       "       ['N'],\n",
       "       ['S'],\n",
       "       ['G'],\n",
       "       ['R'],\n",
       "       ['M'],\n",
       "       ['K'],\n",
       "       ['R'],\n",
       "       ['V'],\n",
       "       ['Y'],\n",
       "       ['R'],\n",
       "       ['K'],\n",
       "       ['G'],\n",
       "       ['L'],\n",
       "       ['S'],\n",
       "       ['A'],\n",
       "       ['R'],\n",
       "       ['Y'],\n",
       "       ['G'],\n",
       "       ['K'],\n",
       "       ['I'],\n",
       "       ['M'],\n",
       "       ['Q'],\n",
       "       ['I'],\n",
       "       ['I'],\n",
       "       ['S'],\n",
       "       ['G'],\n",
       "       ['I'],\n",
       "       ['H'],\n",
       "       ['Y'],\n",
       "       ['N'],\n",
       "       ['F'],\n",
       "       ['S'],\n",
       "       ['F'],\n",
       "       ['D'],\n",
       "       ['K'],\n",
       "       ['D'],\n",
       "       ['L'],\n",
       "       ['I'],\n",
       "       ['S'],\n",
       "       ['N'],\n",
       "       ['I'],\n",
       "       ['A'],\n",
       "       ['T'],\n",
       "       ['N'],\n",
       "       ['K'],\n",
       "       ['Q'],\n",
       "       ['V'],\n",
       "       ['S'],\n",
       "       ['I'],\n",
       "       ['S'],\n",
       "       ['D'],\n",
       "       ['I'],\n",
       "       ['Y'],\n",
       "       ['F'],\n",
       "       ['D'],\n",
       "       ['V'],\n",
       "       ['L'],\n",
       "       ['N'],\n",
       "       ['N'],\n",
       "       ['Y'],\n",
       "       ['F'],\n",
       "       ['E'],\n",
       "       ['F'],\n",
       "       ['M'],\n",
       "       ['W'],\n",
       "       ['L'],\n",
       "       ['L'],\n",
       "       ['P'],\n",
       "       ['Y'],\n",
       "       ['L'],\n",
       "       ['F'],\n",
       "       ['G'],\n",
       "       ['A'],\n",
       "       ['S'],\n",
       "       ['P'],\n",
       "       ['I'],\n",
       "       ['C'],\n",
       "       ['A'],\n",
       "       ['K'],\n",
       "       ['T'],\n",
       "       ['S'],\n",
       "       ['V'],\n",
       "       ['K'],\n",
       "       ['N'],\n",
       "       ['K'],\n",
       "       ['P'],\n",
       "       ['D'],\n",
       "       ['Y'],\n",
       "       ['L'],\n",
       "       ['S'],\n",
       "       ['V'],\n",
       "       ['L'],\n",
       "       ['D'],\n",
       "       ['D'],\n",
       "       ['K'],\n",
       "       ['F'],\n",
       "       ['Y'],\n",
       "       ['V'],\n",
       "       ['G'],\n",
       "       ['E'],\n",
       "       ['Y'],\n",
       "       ['A'],\n",
       "       ['T'],\n",
       "       ['S'],\n",
       "       ['L'],\n",
       "       ['R'],\n",
       "       ['M'],\n",
       "       ['S'],\n",
       "       ['D'],\n",
       "       ['L'],\n",
       "       ['G'],\n",
       "       ['-'],\n",
       "       ['S'],\n",
       "       ['P'],\n",
       "       ['A'],\n",
       "       ['Q'],\n",
       "       ['K'],\n",
       "       ['D'],\n",
       "       ['L'],\n",
       "       ['A'],\n",
       "       ['I'],\n",
       "       ['S'],\n",
       "       ['Y'],\n",
       "       ['D'],\n",
       "       ['N'],\n",
       "       ['V'],\n",
       "       ['K'],\n",
       "       ['A'],\n",
       "       ['Y'],\n",
       "       ['V'],\n",
       "       ['K'],\n",
       "       ['D'],\n",
       "       ['L'],\n",
       "       ['I'],\n",
       "       ['Q'],\n",
       "       ['A'],\n",
       "       ['T'],\n",
       "       ['D'],\n",
       "       ['D'],\n",
       "       ['T'],\n",
       "       ['F'],\n",
       "       ['A'],\n",
       "       ['D'],\n",
       "       ['Y'],\n",
       "       ['K'],\n",
       "       ['R'],\n",
       "       ['I'],\n",
       "       ['G'],\n",
       "       ['L'],\n",
       "       ['Y'],\n",
       "       ['N'],\n",
       "       ['S'],\n",
       "       ['Q'],\n",
       "       ['G'],\n",
       "       ['Q'],\n",
       "       ['R'],\n",
       "       ['I'],\n",
       "       ['Q'],\n",
       "       ['L'],\n",
       "       ['N'],\n",
       "       ['D'],\n",
       "       ['G'],\n",
       "       ['I'],\n",
       "       ['L'],\n",
       "       ['Q'],\n",
       "       ['I'],\n",
       "       ['E'],\n",
       "       ['N'],\n",
       "       ['E'],\n",
       "       ['Y'],\n",
       "       ['Y'],\n",
       "       ['S'],\n",
       "       ['A'],\n",
       "       ['I'],\n",
       "       ['R'],\n",
       "       ['P'],\n",
       "       ['K'],\n",
       "       ['Q'],\n",
       "       ['I'],\n",
       "       ['A'],\n",
       "       ['K'],\n",
       "       ['R'],\n",
       "       ['G'],\n",
       "       ['E'],\n",
       "       ['R'],\n",
       "       ['P'],\n",
       "       ['A'],\n",
       "       ['A'],\n",
       "       ['L'],\n",
       "       ['Y'],\n",
       "       ['Y'],\n",
       "       ['N'],\n",
       "       ['R'],\n",
       "       ['G'],\n",
       "       ['V'],\n",
       "       ['E'],\n",
       "       ['Y'],\n",
       "       ['V'],\n",
       "       ['E'],\n",
       "       ['V'],\n",
       "       ['R'],\n",
       "       ['V'],\n",
       "       ['L'],\n",
       "       ['D'],\n",
       "       ['V'],\n",
       "       ['D'],\n",
       "       ['P'],\n",
       "       ['F'],\n",
       "       ['E'],\n",
       "       ['P'],\n",
       "       ['V'],\n",
       "       ['G'],\n",
       "       ['I'],\n",
       "       ['S'],\n",
       "       ['K'],\n",
       "       ['D'],\n",
       "       ['T'],\n",
       "       ['A'],\n",
       "       ['L'],\n",
       "       ['F'],\n",
       "       ['V'],\n",
       "       ['E'],\n",
       "       ['V'],\n",
       "       ['M'],\n",
       "       ['L'],\n",
       "       ['M'],\n",
       "       ['T'],\n",
       "       ['C'],\n",
       "       ['L'],\n",
       "       ['D'],\n",
       "       ['K'],\n",
       "       ['D'],\n",
       "       ['A'],\n",
       "       ['K'],\n",
       "       ['K'],\n",
       "       ['Y'],\n",
       "       ['H'],\n",
       "       ['K'],\n",
       "       ['D'],\n",
       "       ['I'],\n",
       "       ['I'],\n",
       "       ['K'],\n",
       "       ['Q'],\n",
       "       ['A'],\n",
       "       ['K'],\n",
       "       ['Q'],\n",
       "       ['N'],\n",
       "       ['L'],\n",
       "       ['T'],\n",
       "       ['A'],\n",
       "       ['V'],\n",
       "       ['A'],\n",
       "       ['I'],\n",
       "       ['Q'],\n",
       "       ['G'],\n",
       "       ['R'],\n",
       "       ['N'],\n",
       "       ['P'],\n",
       "       ['Q'],\n",
       "       ['L'],\n",
       "       ['K'],\n",
       "       ['L'],\n",
       "       ['K'],\n",
       "       ['K'],\n",
       "       ['L'],\n",
       "       ['D'],\n",
       "       ['D'],\n",
       "       ['D'],\n",
       "       ['S'],\n",
       "       ['E'],\n",
       "       ['I'],\n",
       "       ['L'],\n",
       "       ['L'],\n",
       "       ['K'],\n",
       "       ['D'],\n",
       "       ['Y'],\n",
       "       ['A'],\n",
       "       ['L'],\n",
       "       ['E'],\n",
       "       ['L'],\n",
       "       ['F'],\n",
       "       ['D'],\n",
       "       ['E'],\n",
       "       ['I'],\n",
       "       ['E'],\n",
       "       ['A'],\n",
       "       ['V'],\n",
       "       ['A'],\n",
       "       ['K'],\n",
       "       ['K'],\n",
       "       ['M'],\n",
       "       ['P'],\n",
       "       ['K'],\n",
       "       ['E'],\n",
       "       ['Y'],\n",
       "       ['L'],\n",
       "       ['D'],\n",
       "       ['A'],\n",
       "       ['V'],\n",
       "       ['E'],\n",
       "       ['I'],\n",
       "       ['Q'],\n",
       "       ['K'],\n",
       "       ['R'],\n",
       "       ['K'],\n",
       "       ['V'],\n",
       "       ['L'],\n",
       "       ['D'],\n",
       "       ['I'],\n",
       "       ['S'],\n",
       "       ['Q'],\n",
       "       ['T'],\n",
       "       ['P'],\n",
       "       ['S'],\n",
       "       ['A'],\n",
       "       ['K'],\n",
       "       ['I'],\n",
       "       ['I'],\n",
       "       ['E'],\n",
       "       ['L'],\n",
       "       ['A'],\n",
       "       ['R'],\n",
       "       ['Q'],\n",
       "       ['H'],\n",
       "       ['G'],\n",
       "       ['Y'],\n",
       "       ['K'],\n",
       "       ['K'],\n",
       "       ['F'],\n",
       "       ['I'],\n",
       "       ['L'],\n",
       "       ['D'],\n",
       "       ['I'],\n",
       "       ['S'],\n",
       "       ['R'],\n",
       "       ['R'],\n",
       "       ['V'],\n",
       "       ['S'],\n",
       "       ['Q'],\n",
       "       ['Q'],\n",
       "       ['F'],\n",
       "       ['R'],\n",
       "       ['S'],\n",
       "       ['Y'],\n",
       "       ['E'],\n",
       "       ['L'],\n",
       "       ['P'],\n",
       "       ['A'],\n",
       "       ['A'],\n",
       "       ['I'],\n",
       "       ['V'],\n",
       "       ['A'],\n",
       "       ['K'],\n",
       "       ['L'],\n",
       "       ['K'],\n",
       "       ['D'],\n",
       "       ['Q'],\n",
       "       ['A'],\n",
       "       ['G'],\n",
       "       ['Q'],\n",
       "       ['S'],\n",
       "       ['V'],\n",
       "       ['A'],\n",
       "       ['A'],\n",
       "       ['E'],\n",
       "       ['K'],\n",
       "       ['E'],\n",
       "       ['L'],\n",
       "       ['V'],\n",
       "       ['A'],\n",
       "       ['N'],\n",
       "       ['D'],\n",
       "       ['K'],\n",
       "       ['I'],\n",
       "       ['S'],\n",
       "       ['L'],\n",
       "       ['D'],\n",
       "       ['E'],\n",
       "       ['Y'],\n",
       "       ['I'],\n",
       "       ['N'],\n",
       "       ['R'],\n",
       "       ['Y'],\n",
       "       ['Y'],\n",
       "       ['K'],\n",
       "       ['S'],\n",
       "       ['S'],\n",
       "       ['K'],\n",
       "       ['G'],\n",
       "       ['C'],\n",
       "       ['-']], dtype=object)"
      ]
     },
     "execution_count": 218,
     "metadata": {},
     "output_type": "execute_result"
    }
   ],
   "source": [
    "last_protein.values"
   ]
  },
  {
   "cell_type": "code",
   "execution_count": 219,
   "metadata": {
    "ExecuteTime": {
     "end_time": "2016-05-17T13:42:08.831522",
     "start_time": "2016-05-17T13:42:08.820562"
    },
    "collapsed": false,
    "run_control": {
     "frozen": false,
     "read_only": false
    }
   },
   "outputs": [
    {
     "data": {
      "text/plain": [
       "array([[  2,   0,   0, ...,   0,   0,   0],\n",
       "       [  3,   0,   0, ...,   0,   0,   0],\n",
       "       [  4,   0,   0, ...,   0,   0,   0],\n",
       "       ..., \n",
       "       [497,   0,   0, ...,   0,   0,   0],\n",
       "       [498,   0,   0, ...,   0,   0,   1],\n",
       "       [499,   0,   0, ...,   0,   0,   1]])"
      ]
     },
     "execution_count": 219,
     "metadata": {},
     "output_type": "execute_result"
    }
   ],
   "source": [
    "data.values[indices[-1][0]:indices[-1][1]]"
   ]
  },
  {
   "cell_type": "code",
   "execution_count": 229,
   "metadata": {
    "ExecuteTime": {
     "end_time": "2016-05-17T13:50:26.634659",
     "start_time": "2016-05-17T13:50:26.465576"
    },
    "collapsed": false,
    "run_control": {
     "frozen": false,
     "read_only": false
    }
   },
   "outputs": [
    {
     "data": {
      "text/plain": [
       "True"
      ]
     },
     "execution_count": 229,
     "metadata": {},
     "output_type": "execute_result"
    }
   ],
   "source": [
    "true_last_seq = np.asarray([get_middle(data, n) for n in xrange(*indices[-1])])\n",
    "# true_last_seq\n",
    "np.all(true_last_seq == last_protein.values[1:, :].flatten())"
   ]
  },
  {
   "cell_type": "markdown",
   "metadata": {},
   "source": [
    "# Now concatenate all of the proteins together to make the fixed 5 file"
   ]
  }
 ],
 "metadata": {
  "kernelspec": {
   "display_name": "Python 2",
   "language": "python",
   "name": "python2"
  },
  "language_info": {
   "codemirror_mode": {
    "name": "ipython",
    "version": 2
   },
   "file_extension": ".py",
   "mimetype": "text/x-python",
   "name": "python",
   "nbconvert_exporter": "python",
   "pygments_lexer": "ipython2",
   "version": "2.7.11"
  },
  "notify_time": "30"
 },
 "nbformat": 4,
 "nbformat_minor": 0
}
