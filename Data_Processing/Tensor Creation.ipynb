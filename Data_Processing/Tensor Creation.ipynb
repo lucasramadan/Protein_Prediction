{
 "cells": [
  {
   "cell_type": "code",
   "execution_count": 3,
   "metadata": {
    "ExecuteTime": {
     "end_time": "2016-05-11T15:10:25.219745",
     "start_time": "2016-05-11T15:10:25.213787"
    },
    "collapsed": true,
    "run_control": {
     "frozen": false,
     "read_only": false
    }
   },
   "outputs": [],
   "source": [
    "import pandas as pd\n",
    "import numpy as np\n",
    "import pickle\n",
    "import os"
   ]
  },
  {
   "cell_type": "markdown",
   "metadata": {},
   "source": [
    "### Experimenting with simple example"
   ]
  },
  {
   "cell_type": "code",
   "execution_count": 4,
   "metadata": {
    "ExecuteTime": {
     "end_time": "2016-05-11T15:10:28.539923",
     "start_time": "2016-05-11T15:10:25.827576"
    },
    "collapsed": false,
    "run_control": {
     "frozen": false,
     "read_only": false
    }
   },
   "outputs": [
    {
     "data": {
      "text/html": [
       "<div>\n",
       "<table border=\"1\" class=\"dataframe\">\n",
       "  <thead>\n",
       "    <tr style=\"text-align: right;\">\n",
       "      <th></th>\n",
       "      <th>A-2</th>\n",
       "      <th>C-2</th>\n",
       "      <th>D-2</th>\n",
       "      <th>E-2</th>\n",
       "      <th>F-2</th>\n",
       "      <th>G-2</th>\n",
       "      <th>H-2</th>\n",
       "      <th>I-2</th>\n",
       "      <th>K-2</th>\n",
       "      <th>L-2</th>\n",
       "      <th>...</th>\n",
       "      <th>N2</th>\n",
       "      <th>P2</th>\n",
       "      <th>Q2</th>\n",
       "      <th>R2</th>\n",
       "      <th>S2</th>\n",
       "      <th>T2</th>\n",
       "      <th>V2</th>\n",
       "      <th>W2</th>\n",
       "      <th>Y2</th>\n",
       "      <th>-2</th>\n",
       "    </tr>\n",
       "  </thead>\n",
       "  <tbody>\n",
       "    <tr>\n",
       "      <th>0</th>\n",
       "      <td>0.0</td>\n",
       "      <td>0.0</td>\n",
       "      <td>0.0</td>\n",
       "      <td>0.0</td>\n",
       "      <td>0.0</td>\n",
       "      <td>0.0</td>\n",
       "      <td>0.0</td>\n",
       "      <td>0.0</td>\n",
       "      <td>0.0</td>\n",
       "      <td>0.0</td>\n",
       "      <td>...</td>\n",
       "      <td>0.0</td>\n",
       "      <td>0.0</td>\n",
       "      <td>0.0</td>\n",
       "      <td>0.0</td>\n",
       "      <td>1.0</td>\n",
       "      <td>0.0</td>\n",
       "      <td>0.0</td>\n",
       "      <td>0.0</td>\n",
       "      <td>0.0</td>\n",
       "      <td>0.0</td>\n",
       "    </tr>\n",
       "    <tr>\n",
       "      <th>1</th>\n",
       "      <td>0.0</td>\n",
       "      <td>0.0</td>\n",
       "      <td>0.0</td>\n",
       "      <td>0.0</td>\n",
       "      <td>0.0</td>\n",
       "      <td>0.0</td>\n",
       "      <td>0.0</td>\n",
       "      <td>0.0</td>\n",
       "      <td>0.0</td>\n",
       "      <td>0.0</td>\n",
       "      <td>...</td>\n",
       "      <td>0.0</td>\n",
       "      <td>1.0</td>\n",
       "      <td>0.0</td>\n",
       "      <td>0.0</td>\n",
       "      <td>0.0</td>\n",
       "      <td>0.0</td>\n",
       "      <td>0.0</td>\n",
       "      <td>0.0</td>\n",
       "      <td>0.0</td>\n",
       "      <td>0.0</td>\n",
       "    </tr>\n",
       "    <tr>\n",
       "      <th>2</th>\n",
       "      <td>0.0</td>\n",
       "      <td>0.0</td>\n",
       "      <td>0.0</td>\n",
       "      <td>0.0</td>\n",
       "      <td>0.0</td>\n",
       "      <td>0.0</td>\n",
       "      <td>0.0</td>\n",
       "      <td>0.0</td>\n",
       "      <td>0.0</td>\n",
       "      <td>0.0</td>\n",
       "      <td>...</td>\n",
       "      <td>0.0</td>\n",
       "      <td>0.0</td>\n",
       "      <td>0.0</td>\n",
       "      <td>0.0</td>\n",
       "      <td>0.0</td>\n",
       "      <td>0.0</td>\n",
       "      <td>0.0</td>\n",
       "      <td>0.0</td>\n",
       "      <td>0.0</td>\n",
       "      <td>0.0</td>\n",
       "    </tr>\n",
       "    <tr>\n",
       "      <th>3</th>\n",
       "      <td>0.0</td>\n",
       "      <td>0.0</td>\n",
       "      <td>0.0</td>\n",
       "      <td>0.0</td>\n",
       "      <td>0.0</td>\n",
       "      <td>0.0</td>\n",
       "      <td>0.0</td>\n",
       "      <td>0.0</td>\n",
       "      <td>0.0</td>\n",
       "      <td>1.0</td>\n",
       "      <td>...</td>\n",
       "      <td>0.0</td>\n",
       "      <td>0.0</td>\n",
       "      <td>0.0</td>\n",
       "      <td>0.0</td>\n",
       "      <td>0.0</td>\n",
       "      <td>0.0</td>\n",
       "      <td>0.0</td>\n",
       "      <td>0.0</td>\n",
       "      <td>0.0</td>\n",
       "      <td>0.0</td>\n",
       "    </tr>\n",
       "    <tr>\n",
       "      <th>4</th>\n",
       "      <td>0.0</td>\n",
       "      <td>0.0</td>\n",
       "      <td>0.0</td>\n",
       "      <td>0.0</td>\n",
       "      <td>0.0</td>\n",
       "      <td>0.0</td>\n",
       "      <td>0.0</td>\n",
       "      <td>0.0</td>\n",
       "      <td>0.0</td>\n",
       "      <td>0.0</td>\n",
       "      <td>...</td>\n",
       "      <td>0.0</td>\n",
       "      <td>0.0</td>\n",
       "      <td>0.0</td>\n",
       "      <td>0.0</td>\n",
       "      <td>0.0</td>\n",
       "      <td>0.0</td>\n",
       "      <td>0.0</td>\n",
       "      <td>0.0</td>\n",
       "      <td>0.0</td>\n",
       "      <td>0.0</td>\n",
       "    </tr>\n",
       "  </tbody>\n",
       "</table>\n",
       "<p>5 rows × 105 columns</p>\n",
       "</div>"
      ],
      "text/plain": [
       "   A-2  C-2  D-2  E-2  F-2  G-2  H-2  I-2  K-2  L-2 ...    N2   P2   Q2   R2  \\\n",
       "0  0.0  0.0  0.0  0.0  0.0  0.0  0.0  0.0  0.0  0.0 ...   0.0  0.0  0.0  0.0   \n",
       "1  0.0  0.0  0.0  0.0  0.0  0.0  0.0  0.0  0.0  0.0 ...   0.0  1.0  0.0  0.0   \n",
       "2  0.0  0.0  0.0  0.0  0.0  0.0  0.0  0.0  0.0  0.0 ...   0.0  0.0  0.0  0.0   \n",
       "3  0.0  0.0  0.0  0.0  0.0  0.0  0.0  0.0  0.0  1.0 ...   0.0  0.0  0.0  0.0   \n",
       "4  0.0  0.0  0.0  0.0  0.0  0.0  0.0  0.0  0.0  0.0 ...   0.0  0.0  0.0  0.0   \n",
       "\n",
       "    S2   T2   V2   W2   Y2   -2  \n",
       "0  1.0  0.0  0.0  0.0  0.0  0.0  \n",
       "1  0.0  0.0  0.0  0.0  0.0  0.0  \n",
       "2  0.0  0.0  0.0  0.0  0.0  0.0  \n",
       "3  0.0  0.0  0.0  0.0  0.0  0.0  \n",
       "4  0.0  0.0  0.0  0.0  0.0  0.0  \n",
       "\n",
       "[5 rows x 105 columns]"
      ]
     },
     "execution_count": 4,
     "metadata": {},
     "output_type": "execute_result"
    }
   ],
   "source": [
    "data = pd.read_csv('../fixed_five.csv')\n",
    "data.head()"
   ]
  },
  {
   "cell_type": "markdown",
   "metadata": {},
   "source": [
    "### Running with a single row example"
   ]
  },
  {
   "cell_type": "code",
   "execution_count": 5,
   "metadata": {
    "ExecuteTime": {
     "end_time": "2016-05-11T15:11:28.535794",
     "start_time": "2016-05-11T15:11:28.516885"
    },
    "collapsed": false,
    "run_control": {
     "frozen": false,
     "read_only": false
    },
    "scrolled": true
   },
   "outputs": [
    {
     "data": {
      "text/plain": [
       "[('--1', 1.0),\n",
       " ('--2', 1.0),\n",
       " ('-0', 0.0),\n",
       " ('-1', 0.0),\n",
       " ('-2', 0.0),\n",
       " ('A-1', 0.0)]"
      ]
     },
     "execution_count": 5,
     "metadata": {},
     "output_type": "execute_result"
    }
   ],
   "source": [
    "ex0 = data.ix[0]\n",
    "ex0d = ex0.to_dict()\n",
    "# each set of 5 becomes a column in our matrix\n",
    "sorted(ex0d.items())[:6]"
   ]
  },
  {
   "cell_type": "code",
   "execution_count": 4,
   "metadata": {
    "ExecuteTime": {
     "end_time": "2016-04-30T12:17:48.436553",
     "start_time": "2016-04-30T12:17:48.428706"
    },
    "collapsed": false,
    "run_control": {
     "frozen": false,
     "read_only": false
    },
    "scrolled": false
   },
   "outputs": [
    {
     "name": "stdout",
     "output_type": "stream",
     "text": [
      "[['--1' '0' '--2' '1' '-0' '0' '-1' '0' '-2' '0']\n",
      " ['A-1' '0' 'A-2' '0' 'A0' '0' 'A1' '0' 'A2' '0']\n",
      " ['C-1' '0' 'C-2' '0' 'C0' '0' 'C1' '0' 'C2' '0']\n",
      " ['D-1' '0' 'D-2' '0' 'D0' '0' 'D1' '0' 'D2' '0']\n",
      " ['E-1' '0' 'E-2' '0' 'E0' '0' 'E1' '0' 'E2' '0']\n",
      " ['F-1' '0' 'F-2' '0' 'F0' '0' 'F1' '0' 'F2' '0']\n",
      " ['G-1' '0' 'G-2' '0' 'G0' '0' 'G1' '0' 'G2' '0']\n",
      " ['H-1' '0' 'H-2' '0' 'H0' '0' 'H1' '0' 'H2' '0']\n",
      " ['I-1' '0' 'I-2' '0' 'I0' '0' 'I1' '0' 'I2' '0']\n",
      " ['K-1' '0' 'K-2' '0' 'K0' '0' 'K1' '0' 'K2' '0']\n",
      " ['L-1' '0' 'L-2' '0' 'L0' '1' 'L1' '0' 'L2' '0']\n",
      " ['M-1' '0' 'M-2' '0' 'M0' '0' 'M1' '0' 'M2' '0']\n",
      " ['N-1' '0' 'N-2' '0' 'N0' '0' 'N1' '0' 'N2' '0']\n",
      " ['P-1' '0' 'P-2' '0' 'P0' '0' 'P1' '0' 'P2' '1']\n",
      " ['Q-1' '0' 'Q-2' '0' 'Q0' '0' 'Q1' '0' 'Q2' '0']\n",
      " ['R-1' '0' 'R-2' '0' 'R0' '0' 'R1' '0' 'R2' '0']\n",
      " ['S-1' '0' 'S-2' '0' 'S0' '0' 'S1' '1' 'S2' '0']\n",
      " ['T-1' '0' 'T-2' '0' 'T0' '0' 'T1' '0' 'T2' '0']\n",
      " ['V-1' '1' 'V-2' '0' 'V0' '0' 'V1' '0' 'V2' '0']\n",
      " ['W-1' '0' 'W-2' '0' 'W0' '0' 'W1' '0' 'W2' '0']\n",
      " ['Y-1' '0' 'Y-2' '0' 'Y0' '0' 'Y1' '0' 'Y2' '0']]\n"
     ]
    }
   ],
   "source": [
    "# get the sorting indices\n",
    "indices = np.argsort(ex0d.keys())\n",
    "\n",
    "items_sorted = np.array(ex0d.items())[indices]\n",
    "print items_sorted.reshape(-1, 10)\n",
    "\n",
    "# then get the values from the dict\n",
    "vals_sorted = np.asarray(ex0d.values())[indices]\n",
    "\n",
    "# then reshape as column, per 5\n",
    "mat = vals_sorted.reshape(-1, 5).T\n",
    "\n",
    "# formatted by AA Tag (cols) by position (rows)\n",
    "# print mat"
   ]
  },
  {
   "cell_type": "code",
   "execution_count": 5,
   "metadata": {
    "ExecuteTime": {
     "end_time": "2016-04-30T12:17:50.318404",
     "start_time": "2016-04-30T12:17:50.316138"
    },
    "collapsed": false,
    "run_control": {
     "frozen": false,
     "read_only": false
    }
   },
   "outputs": [],
   "source": [
    "cols = list(data.columns)"
   ]
  },
  {
   "cell_type": "code",
   "execution_count": 6,
   "metadata": {
    "ExecuteTime": {
     "end_time": "2016-04-30T12:17:50.645051",
     "start_time": "2016-04-30T12:17:50.642537"
    },
    "collapsed": true,
    "run_control": {
     "frozen": false,
     "read_only": false
    }
   },
   "outputs": [],
   "source": [
    "s = sorted(cols)"
   ]
  },
  {
   "cell_type": "code",
   "execution_count": 7,
   "metadata": {
    "ExecuteTime": {
     "end_time": "2016-04-30T12:17:51.048829",
     "start_time": "2016-04-30T12:17:51.044783"
    },
    "collapsed": false,
    "run_control": {
     "frozen": false,
     "read_only": false
    }
   },
   "outputs": [],
   "source": [
    "amino_acids = set([s[0] for s in cols])\n",
    "positions = set([s[1:] for s in cols])\n",
    "\n",
    "positions = sorted(list(positions))\n",
    "amino_acids = sorted(list(amino_acids))"
   ]
  },
  {
   "cell_type": "code",
   "execution_count": 8,
   "metadata": {
    "ExecuteTime": {
     "end_time": "2016-04-30T12:17:51.479930",
     "start_time": "2016-04-30T12:17:51.476873"
    },
    "collapsed": false,
    "run_control": {
     "frozen": false,
     "read_only": false
    }
   },
   "outputs": [
    {
     "name": "stdout",
     "output_type": "stream",
     "text": [
      "-2\n"
     ]
    }
   ],
   "source": [
    "for i in xrange(0, len(s), 5):\n",
    "    print s[i: i+5]"
   ]
  },
  {
   "cell_type": "code",
   "execution_count": 10,
   "metadata": {
    "ExecuteTime": {
     "end_time": "2016-04-30T12:18:02.813280",
     "start_time": "2016-04-30T12:18:02.797640"
    },
    "collapsed": false,
    "run_control": {
     "frozen": false,
     "read_only": false
    }
   },
   "outputs": [
    {
     "name": "stdout",
     "output_type": "stream",
     "text": [
      "    -  A  C  D  E  F  G  H  I  K  L  M  N  P  Q  R  S  T  V  W  Y\n",
      "-1  0  0  0  0  0  0  0  0  0  0  0  0  0  0  0  0  0  0  1  0  0\n",
      "-2  1  0  0  0  0  0  0  0  0  0  0  0  0  0  0  0  0  0  0  0  0\n",
      "0   0  0  0  0  0  0  0  0  0  0  1  0  0  0  0  0  0  0  0  0  0\n",
      "1   0  0  0  0  0  0  0  0  0  0  0  0  0  0  0  0  1  0  0  0  0\n",
      "2   0  0  0  0  0  0  0  0  0  0  0  0  0  1  0  0  0  0  0  0  0\n"
     ]
    }
   ],
   "source": [
    "with pd.option_context('display.max_rows', 5, 'display.max_columns', 21):\n",
    "    print ex_mat"
   ]
  },
  {
   "cell_type": "markdown",
   "metadata": {},
   "source": [
    "## Now we need to do this conversion for the entire dataset"
   ]
  },
  {
   "cell_type": "code",
   "execution_count": 36,
   "metadata": {
    "ExecuteTime": {
     "end_time": "2016-04-30T11:51:35.754134",
     "start_time": "2016-04-30T11:51:35.743117"
    },
    "collapsed": false,
    "run_control": {
     "frozen": false,
     "read_only": false
    },
    "scrolled": true
   },
   "outputs": [
    {
     "name": "stdout",
     "output_type": "stream",
     "text": [
      "[[0 0 0 0 0 0 0 0 0 0 0 0 0 0 0 0 0 0 1 0 0]\n",
      " [1 0 0 0 0 0 0 0 0 0 0 0 0 0 0 0 0 0 0 0 0]\n",
      " [0 0 0 0 0 0 0 0 0 0 1 0 0 0 0 0 0 0 0 0 0]\n",
      " [0 0 0 0 0 0 0 0 0 0 0 0 0 0 0 0 1 0 0 0 0]\n",
      " [0 0 0 0 0 0 0 0 0 0 0 0 0 1 0 0 0 0 0 0 0]]\n"
     ]
    },
    {
     "data": {
      "text/plain": [
       "(134814, 105)"
      ]
     },
     "execution_count": 36,
     "metadata": {},
     "output_type": "execute_result"
    }
   ],
   "source": [
    "d = data.iterrows().next()[1].to_dict()\n",
    "\n",
    "ind = np.argsort(d.keys())\n",
    "\n",
    "v_sort = np.asarray(d.values())[indices]\n",
    "\n",
    "print v_sort.reshape(-1, 5).T\n",
    "\n",
    "data.shape"
   ]
  },
  {
   "cell_type": "code",
   "execution_count": 38,
   "metadata": {
    "ExecuteTime": {
     "end_time": "2016-04-30T11:52:39.767761",
     "start_time": "2016-04-30T11:52:23.415536"
    },
    "collapsed": false,
    "run_control": {
     "frozen": false,
     "read_only": false
    }
   },
   "outputs": [],
   "source": [
    "data_tensor = []\n",
    "\n",
    "for i, ser in data.iterrows():\n",
    "    d = ser.to_dict()\n",
    "    indices = np.argsort(d.keys())\n",
    "    # then get the values from the dict\n",
    "    vals_sorted = np.asarray(d.values())[indices]\n",
    "\n",
    "    # then reshape as column, per 5\n",
    "    mat = vals_sorted.reshape(-1, 5).T\n",
    "    \n",
    "    data_tensor.append(mat)"
   ]
  },
  {
   "cell_type": "code",
   "execution_count": 39,
   "metadata": {
    "ExecuteTime": {
     "end_time": "2016-04-30T11:53:55.258059",
     "start_time": "2016-04-30T11:53:55.071645"
    },
    "collapsed": true,
    "run_control": {
     "frozen": false,
     "read_only": false
    }
   },
   "outputs": [],
   "source": [
    "data_tensor = np.asarray(data_tensor)"
   ]
  },
  {
   "cell_type": "code",
   "execution_count": 40,
   "metadata": {
    "ExecuteTime": {
     "end_time": "2016-04-30T11:54:00.916692",
     "start_time": "2016-04-30T11:54:00.911757"
    },
    "collapsed": false,
    "run_control": {
     "frozen": false,
     "read_only": false
    }
   },
   "outputs": [
    {
     "data": {
      "text/plain": [
       "array([[[0, 0, 0, 0, 0, 0, 0, 0, 0, 0, 0, 0, 0, 0, 0, 0, 0, 0, 1, 0, 0],\n",
       "        [1, 0, 0, 0, 0, 0, 0, 0, 0, 0, 0, 0, 0, 0, 0, 0, 0, 0, 0, 0, 0],\n",
       "        [0, 0, 0, 0, 0, 0, 0, 0, 0, 0, 1, 0, 0, 0, 0, 0, 0, 0, 0, 0, 0],\n",
       "        [0, 0, 0, 0, 0, 0, 0, 0, 0, 0, 0, 0, 0, 0, 0, 0, 1, 0, 0, 0, 0],\n",
       "        [0, 0, 0, 0, 0, 0, 0, 0, 0, 0, 0, 0, 0, 1, 0, 0, 0, 0, 0, 0, 0]],\n",
       "\n",
       "       [[0, 0, 0, 0, 0, 0, 0, 0, 0, 0, 1, 0, 0, 0, 0, 0, 0, 0, 0, 0, 0],\n",
       "        [0, 0, 0, 0, 0, 0, 0, 0, 0, 0, 0, 0, 0, 0, 0, 0, 0, 0, 1, 0, 0],\n",
       "        [0, 0, 0, 0, 0, 0, 0, 0, 0, 0, 0, 0, 0, 0, 0, 0, 1, 0, 0, 0, 0],\n",
       "        [0, 0, 0, 0, 0, 0, 0, 0, 0, 0, 0, 0, 0, 1, 0, 0, 0, 0, 0, 0, 0],\n",
       "        [0, 1, 0, 0, 0, 0, 0, 0, 0, 0, 0, 0, 0, 0, 0, 0, 0, 0, 0, 0, 0]]])"
      ]
     },
     "execution_count": 40,
     "metadata": {},
     "output_type": "execute_result"
    }
   ],
   "source": [
    "data_tensor[:2]"
   ]
  },
  {
   "cell_type": "code",
   "execution_count": 41,
   "metadata": {
    "ExecuteTime": {
     "end_time": "2016-04-30T11:54:52.924112",
     "start_time": "2016-04-30T11:54:52.920286"
    },
    "collapsed": false,
    "run_control": {
     "frozen": false,
     "read_only": false
    }
   },
   "outputs": [
    {
     "data": {
      "text/plain": [
       "(134814, 5, 21)"
      ]
     },
     "execution_count": 41,
     "metadata": {},
     "output_type": "execute_result"
    }
   ],
   "source": [
    "data_tensor.shape"
   ]
  },
  {
   "cell_type": "code",
   "execution_count": 43,
   "metadata": {
    "ExecuteTime": {
     "end_time": "2016-04-30T12:02:06.205611",
     "start_time": "2016-04-30T12:01:53.203293"
    },
    "collapsed": true,
    "run_control": {
     "frozen": false,
     "read_only": false
    }
   },
   "outputs": [],
   "source": [
    "# saving the reformatted tensor as a pickle file\n",
    "with open('5_tensor.p', 'wb') as f:\n",
    "    pickle.dump(data_tensor, f)"
   ]
  },
  {
   "cell_type": "code",
   "execution_count": 44,
   "metadata": {
    "ExecuteTime": {
     "end_time": "2016-04-30T12:03:31.452138",
     "start_time": "2016-04-30T12:03:29.340134"
    },
    "collapsed": true,
    "run_control": {
     "frozen": false,
     "read_only": false
    }
   },
   "outputs": [],
   "source": [
    "# loading the saved tensor\n",
    "with open('5_tensor.p', 'rb') as f:\n",
    "    loaded_data = pickle.load(f)"
   ]
  },
  {
   "cell_type": "code",
   "execution_count": 46,
   "metadata": {
    "ExecuteTime": {
     "end_time": "2016-04-30T12:03:58.986005",
     "start_time": "2016-04-30T12:03:58.980894"
    },
    "collapsed": false,
    "run_control": {
     "frozen": false,
     "read_only": false
    },
    "scrolled": true
   },
   "outputs": [
    {
     "data": {
      "text/plain": [
       "array([[[0, 0, 0, 0, 0, 0, 0, 0, 0, 0, 0, 0, 0, 0, 0, 0, 0, 0, 1, 0, 0],\n",
       "        [1, 0, 0, 0, 0, 0, 0, 0, 0, 0, 0, 0, 0, 0, 0, 0, 0, 0, 0, 0, 0],\n",
       "        [0, 0, 0, 0, 0, 0, 0, 0, 0, 0, 1, 0, 0, 0, 0, 0, 0, 0, 0, 0, 0],\n",
       "        [0, 0, 0, 0, 0, 0, 0, 0, 0, 0, 0, 0, 0, 0, 0, 0, 1, 0, 0, 0, 0],\n",
       "        [0, 0, 0, 0, 0, 0, 0, 0, 0, 0, 0, 0, 0, 1, 0, 0, 0, 0, 0, 0, 0]],\n",
       "\n",
       "       [[0, 0, 0, 0, 0, 0, 0, 0, 0, 0, 1, 0, 0, 0, 0, 0, 0, 0, 0, 0, 0],\n",
       "        [0, 0, 0, 0, 0, 0, 0, 0, 0, 0, 0, 0, 0, 0, 0, 0, 0, 0, 1, 0, 0],\n",
       "        [0, 0, 0, 0, 0, 0, 0, 0, 0, 0, 0, 0, 0, 0, 0, 0, 1, 0, 0, 0, 0],\n",
       "        [0, 0, 0, 0, 0, 0, 0, 0, 0, 0, 0, 0, 0, 1, 0, 0, 0, 0, 0, 0, 0],\n",
       "        [0, 1, 0, 0, 0, 0, 0, 0, 0, 0, 0, 0, 0, 0, 0, 0, 0, 0, 0, 0, 0]]])"
      ]
     },
     "execution_count": 46,
     "metadata": {},
     "output_type": "execute_result"
    }
   ],
   "source": [
    "loaded_data[:2]"
   ]
  },
  {
   "cell_type": "markdown",
   "metadata": {},
   "source": [
    "## Working, now let's do it over the all of the possible skip-gram formats"
   ]
  },
  {
   "cell_type": "code",
   "execution_count": 47,
   "metadata": {
    "ExecuteTime": {
     "end_time": "2016-04-30T12:51:16.919998",
     "start_time": "2016-04-30T12:51:16.914121"
    },
    "collapsed": true,
    "run_control": {
     "frozen": false,
     "read_only": false
    }
   },
   "outputs": [],
   "source": [
    "# example filenames\n",
    "s1 = 'data/cleaned_ord_11.csv'\n",
    "s2 = 'data/cleaned_ord_13.csv'\n",
    "\n",
    "# small helper function to handle extracting position spacing from filenames\n",
    "def get_spacing(s):\n",
    "    \n",
    "    # start by reversing the string\n",
    "    rev_s = s[::-1]\n",
    "    \n",
    "    # then find the first occurance of _ and .\n",
    "    und = rev_s.find('_')\n",
    "    per = rev_s.find('.')\n",
    "    \n",
    "    # spacing will then be a str which is\n",
    "    # the number between the _ and . \n",
    "    space = rev_s[per+1:und]\n",
    "    \n",
    "    # finally, return the str\n",
    "    # flipped back the right way\n",
    "    return space[::-1]\n",
    "\n",
    "# making sure it's working correctly\n",
    "print get_spacing(s1)\n",
    "print get_spacing(s2)"
   ]
  },
  {
   "cell_type": "code",
   "execution_count": 48,
   "metadata": {
    "ExecuteTime": {
     "end_time": "2016-04-30T13:04:05.942875",
     "start_time": "2016-04-30T12:51:54.875558"
    },
    "collapsed": false,
    "run_control": {
     "frozen": false,
     "read_only": false
    }
   },
   "outputs": [
    {
     "name": "stdout",
     "output_type": "stream",
     "text": [
      "starting with cleaned_ord_11.csv\n",
      "spacing: 11\n",
      "finished with conv_data/11_tensor.p\n",
      "starting with cleaned_ord_13.csv\n",
      "spacing: 13\n",
      "finished with conv_data/13_tensor.p\n",
      "starting with cleaned_ord_15.csv\n",
      "spacing: 15\n",
      "finished with conv_data/15_tensor.p\n",
      "starting with cleaned_ord_17.csv\n",
      "spacing: 17\n",
      "finished with conv_data/17_tensor.p\n",
      "starting with cleaned_ord_19.csv\n",
      "spacing: 19\n",
      "finished with conv_data/19_tensor.p\n",
      "starting with cleaned_ord_5.csv\n",
      "spacing: 5\n",
      "finished with conv_data/5_tensor.p\n",
      "starting with cleaned_ord_7.csv\n",
      "spacing: 7\n",
      "finished with conv_data/7_tensor.p\n",
      "starting with cleaned_ord_9.csv\n",
      "spacing: 9\n",
      "finished with conv_data/9_tensor.p\n"
     ]
    }
   ],
   "source": [
    "# run through the whole data directory\n",
    "for dir_name, _, filenames in os.walk('data/'):\n",
    "    for f in filenames:\n",
    "        \n",
    "        print 'starting with {0}'.format(f)\n",
    "        \n",
    "        # get the spacing number of the skip grams\n",
    "        spacing = get_spacing(f)\n",
    "        n_spacing = int(spacing)\n",
    "        \n",
    "        print 'spacing: {0}'.format(str(spacing))\n",
    "\n",
    "        # load in the data to pandas\n",
    "        data = pd.read_csv(dir_name+f).drop(['Unnamed: 0', 'pos', 'H', 'E', 'T', 'S', 'B', ' '], axis=1)\n",
    "        \n",
    "        # where we will store the data_tensor\n",
    "        data_tensor = []\n",
    "\n",
    "        for i, ser in data.iterrows():\n",
    "            d = ser.to_dict()\n",
    "            # get the sorting indices\n",
    "            indices = np.argsort(d.keys())\n",
    "            # then get the values from the dict\n",
    "            vals_sorted = np.asarray(d.values())[indices]\n",
    "\n",
    "            # then reshape as column, per spacing\n",
    "            mat = vals_sorted.reshape(-1, n_spacing).T\n",
    "            \n",
    "            # construct the matrix\n",
    "            data_tensor.append(mat)\n",
    "        \n",
    "        data_tensor = np.asarray(data_tensor)\n",
    "        \n",
    "        # finally, write the data for use later\n",
    "        \n",
    "        save_file = 'conv_data/' + spacing + '_tensor.p'\n",
    "        \n",
    "        with open(save_file, 'wb') as f:\n",
    "            pickle.dump(data_tensor, f)\n",
    "            \n",
    "        print \"finished with {0}\".format(save_file)"
   ]
  },
  {
   "cell_type": "markdown",
   "metadata": {},
   "source": [
    "## And we're done. Could parallelize the computation, but it's all good. "
   ]
  }
 ],
 "metadata": {
  "kernelspec": {
   "display_name": "Python 2",
   "language": "python",
   "name": "python2"
  },
  "language_info": {
   "codemirror_mode": {
    "name": "ipython",
    "version": 2
   },
   "file_extension": ".py",
   "mimetype": "text/x-python",
   "name": "python",
   "nbconvert_exporter": "python",
   "pygments_lexer": "ipython2",
   "version": "2.7.11"
  }
 },
 "nbformat": 4,
 "nbformat_minor": 0
}
