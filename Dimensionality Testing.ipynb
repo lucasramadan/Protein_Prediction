{
 "cells": [
  {
   "cell_type": "code",
   "execution_count": 6,
   "metadata": {
    "ExecuteTime": {
     "end_time": "2016-05-04T20:14:29.827446",
     "start_time": "2016-05-04T20:14:29.824519"
    },
    "collapsed": true
   },
   "outputs": [],
   "source": [
    "import theano\n",
    "from theano import tensor as T\n",
    "import numpy as np\n",
    "from theano.tensor.nnet.conv import conv2d"
   ]
  },
  {
   "cell_type": "code",
   "execution_count": 7,
   "metadata": {
    "ExecuteTime": {
     "end_time": "2016-05-04T20:14:30.118528",
     "start_time": "2016-05-04T20:14:30.112434"
    },
    "collapsed": false,
    "run_control": {
     "frozen": false,
     "read_only": false
    }
   },
   "outputs": [
    {
     "data": {
      "text/plain": [
       "(128, 6)"
      ]
     },
     "execution_count": 7,
     "metadata": {},
     "output_type": "execute_result"
    }
   ],
   "source": [
    "# generating some fake data labels\n",
    "Y_ex = np.zeros((128, 6))\n",
    "\n",
    "for i, r in enumerate(Y_ex):\n",
    "    r[np.random.randint(6)] = 1\n",
    "    Y_ex[i] = r\n",
    "\n",
    "Y_ex.shape"
   ]
  },
  {
   "cell_type": "code",
   "execution_count": 8,
   "metadata": {
    "ExecuteTime": {
     "end_time": "2016-05-04T20:14:30.659343",
     "start_time": "2016-05-04T20:14:30.656132"
    },
    "collapsed": true
   },
   "outputs": [],
   "source": [
    "mbs = 128 # mini-batch size\n",
    "n_channels, n_rows, n_cols = 1, 5, 21 # define protein \"image\" dimensions\n",
    "n_conv = 256 # features out of convolution\n",
    "h_depth = 600 # hidden layer depth\n",
    "o_depth = 6 # output depth"
   ]
  },
  {
   "cell_type": "code",
   "execution_count": 9,
   "metadata": {
    "ExecuteTime": {
     "end_time": "2016-05-04T20:14:31.754818",
     "start_time": "2016-05-04T20:14:31.336678"
    },
    "collapsed": false
   },
   "outputs": [
    {
     "name": "stdout",
     "output_type": "stream",
     "text": [
      "X: (128, 1, 5, 21)\n",
      "Conv: (256, 1, 5, 21)\n",
      "----------------------------------------\n",
      "ConvOut: (128, 256)\n",
      "wh1: (256, 600)\n",
      "----------------------------------------\n",
      "Hidden1Out: (128, 600)\n",
      "wh2: (600, 600)\n",
      "----------------------------------------\n",
      "Hidden2Out: (128, 600)\n",
      "wy: (600, 6)\n",
      "----------------------------------------\n",
      "yOut: (128, 6)\n",
      "----------------------------------------\n",
      "ex:\n",
      "[[ 0.  0.  0.  0.  0.  1.]\n",
      " [ 0.  0.  0.  0.  0.  1.]\n",
      " [ 0.  0.  0.  0.  0.  1.]\n",
      " [ 0.  0.  0.  0.  0.  1.]\n",
      " [ 0.  0.  0.  0.  0.  1.]\n",
      " [ 0.  0.  0.  0.  0.  1.]\n",
      " [ 0.  0.  0.  0.  0.  1.]\n",
      " [ 0.  0.  0.  0.  0.  1.]\n",
      " [ 0.  0.  0.  0.  0.  1.]\n",
      " [ 0.  0.  0.  0.  0.  1.]]\n",
      "truth:\n",
      "[[ 0.  0.  0.  0.  1.  0.]\n",
      " [ 0.  0.  1.  0.  0.  0.]\n",
      " [ 0.  0.  1.  0.  0.  0.]\n",
      " [ 0.  0.  1.  0.  0.  0.]\n",
      " [ 1.  0.  0.  0.  0.  0.]\n",
      " [ 0.  0.  0.  1.  0.  0.]\n",
      " [ 0.  1.  0.  0.  0.  0.]\n",
      " [ 0.  0.  0.  0.  0.  1.]\n",
      " [ 0.  1.  0.  0.  0.  0.]\n",
      " [ 0.  0.  0.  0.  1.  0.]]\n",
      "----------------------------------------\n",
      "preds: (128, 6)\n",
      "true: (128, 6)\n",
      "----------------------------------------\n",
      "mean: 0.2734375\n",
      "cross: nan\n"
     ]
    }
   ],
   "source": [
    "X = theano.shared(np.array(xrange(mbs*n_channels*n_rows*n_cols), \n",
    "                           dtype=theano.config.floatX).reshape((mbs, n_channels, n_rows, n_cols)))\n",
    "\n",
    "wc = theano.shared(np.array(xrange(n_conv*n_channels*n_rows*n_cols), \n",
    "                            dtype=theano.config.floatX)).reshape((n_conv, n_channels, n_rows, n_cols))\n",
    "\n",
    "wh = theano.shared(np.array(xrange(n_conv*h_depth), dtype=theano.config.floatX)).reshape((n_conv, h_depth))\n",
    "\n",
    "wh2 = theano.shared(np.array(xrange(h_depth*h_depth), dtype=theano.config.floatX)).reshape((h_depth, h_depth))\n",
    "\n",
    "wy = theano.shared(np.array(xrange(h_depth*o_depth), dtype=theano.config.floatX)).reshape((h_depth, o_depth))\n",
    "\n",
    "Y = theano.shared(Y_ex)\n",
    "\n",
    "print 'X:', X.eval().shape\n",
    "print 'Conv:', wc.eval().shape\n",
    "convOut = conv2d(X, wc, border_mode='valid')  #border_mode={'valid', 'full'}\n",
    "\n",
    "convOut = convOut.reshape((-1, n_conv))\n",
    "print '-'*40\n",
    "print 'ConvOut:', convOut.eval().shape\n",
    "print 'wh1:', wh.eval().shape\n",
    "\n",
    "hiddenOut1 = T.dot(convOut, wh)\n",
    "print '-'*40\n",
    "print 'Hidden1Out:', hiddenOut1.eval().shape\n",
    "print 'wh2:', wh2.eval().shape\n",
    "hiddenOut2 = T.dot(hiddenOut1, wh2)\n",
    "\n",
    "print '-'*40\n",
    "print 'Hidden2Out:', hiddenOut2.eval().shape\n",
    "\n",
    "yOut = T.dot(hiddenOut2, wy)\n",
    "\n",
    "print 'wy:', wy.eval().shape\n",
    "print '-'*40\n",
    "print 'yOut:', yOut.eval().shape\n",
    "print '-'*40\n",
    "smax_out = T.nnet.softmax(yOut)\n",
    "\n",
    "test = smax_out.eval()\n",
    "print 'ex:'\n",
    "print test[:10]\n",
    "print 'truth:'\n",
    "print Y.eval()[:10]\n",
    "print '-'*40\n",
    "print 'preds:', test.shape\n",
    "print 'true:', Y.eval().shape\n",
    "print '-'*40\n",
    "print 'mean:', T.mean(((Y.eval() - test)**2)).eval()\n",
    "print 'cross:', T.mean(T.nnet.categorical_crossentropy(Y.eval(), test)).eval()"
   ]
  },
  {
   "cell_type": "code",
   "execution_count": null,
   "metadata": {
    "collapsed": true
   },
   "outputs": [],
   "source": []
  }
 ],
 "metadata": {
  "kernelspec": {
   "display_name": "Python 2",
   "language": "python",
   "name": "python2"
  },
  "language_info": {
   "codemirror_mode": {
    "name": "ipython",
    "version": 2
   },
   "file_extension": ".py",
   "mimetype": "text/x-python",
   "name": "python",
   "nbconvert_exporter": "python",
   "pygments_lexer": "ipython2",
   "version": "2.7.11"
  }
 },
 "nbformat": 4,
 "nbformat_minor": 0
}
