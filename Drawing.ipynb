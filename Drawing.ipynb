{
 "cells": [
  {
   "cell_type": "markdown",
   "metadata": {
    "run_control": {
     "frozen": false,
     "read_only": false
    }
   },
   "source": [
    "\\documentclass[tikz,border=2mm]{standalone}\n",
    "\n",
    "\\begin{document}\n",
    "\n",
    "\\begin{tikzpicture}\n",
    "[   cnode/.style={draw=black,fill=#1,minimum width=3mm,circle},\n",
    "]\n",
    "    \\node[cnode=red,label=0:$\\Sigma$] (s) at (6,-3) {};\n",
    "    \\node at (0,-4) {$\\vdots$};\n",
    "    \\node at (3,-4) {$\\vdots$};\n",
    "    \\foreach \\x in {1,...,4}\n",
    "    {   \\pgfmathparse{\\x<4 ? \\x : \"n\"}\n",
    "        \\node[cnode=blue,label=180:$x_{\\pgfmathresult}$] (x-\\x) at (0,{-\\x-div(\\x,4)}) {};\n",
    "        \\node[cnode=gray,label=90:$\\varphi_{\\pgfmathresult}$] (p-\\x) at (3,{-\\x-div(\\x,4)}) {};\n",
    "        \\draw (p-\\x) -- node[above,sloped,pos=0.3] {$\\omega_{\\pgfmathresult}$} (s);\n",
    "    }\n",
    "    \\foreach \\x in {1,...,4}\n",
    "    {   \\foreach \\y in {1,...,4}\n",
    "        {   \\draw (x-\\x) -- (p-\\y);\n",
    "        }\n",
    "    }\n",
    "\\end{tikzpicture}\n",
    "\n",
    "\\end{document}"
   ]
  },
  {
   "cell_type": "code",
   "execution_count": null,
   "metadata": {
    "collapsed": true
   },
   "outputs": [],
   "source": []
  }
 ],
 "metadata": {
  "kernelspec": {
   "display_name": "Python 2",
   "language": "python",
   "name": "python2"
  },
  "language_info": {
   "codemirror_mode": {
    "name": "ipython",
    "version": 2
   },
   "file_extension": ".py",
   "mimetype": "text/x-python",
   "name": "python",
   "nbconvert_exporter": "python",
   "pygments_lexer": "ipython2",
   "version": "2.7.11"
  }
 },
 "nbformat": 4,
 "nbformat_minor": 0
}
