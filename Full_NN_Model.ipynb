{
 "cells": [
  {
   "cell_type": "code",
   "execution_count": 1,
   "metadata": {
    "ExecuteTime": {
     "end_time": "2016-05-02T23:00:29.812274",
     "start_time": "2016-05-02T23:00:04.357195"
    },
    "collapsed": true,
    "run_control": {
     "frozen": false,
     "read_only": false
    }
   },
   "outputs": [],
   "source": [
    "# theano imports\n",
    "import theano\n",
    "from theano import tensor as T\n",
    "from theano.sandbox.rng_mrg import MRG_RandomStreams as RandomStreams\n",
    "from theano.tensor.nnet.conv import conv2d\n",
    "# from theano.tensor.signal.downsample import max_pool_2d\n",
    "from theano.tensor.signal.pool import pool_2d as max_pool_2d\n",
    "\n",
    "# other imports\n",
    "from sklearn.cross_validation import train_test_split\n",
    "import numpy as np\n",
    "import pandas as pd\n",
    "import pickle\n",
    "\n",
    "import matplotlib.pyplot as plt\n",
    "%matplotlib inline"
   ]
  },
  {
   "cell_type": "code",
   "execution_count": 2,
   "metadata": {
    "ExecuteTime": {
     "end_time": "2016-05-02T23:02:29.916285",
     "start_time": "2016-05-02T23:02:23.996104"
    },
    "collapsed": true
   },
   "outputs": [],
   "source": [
    "# read our data in \n",
    "with open('conv_data/5_tensor.p', 'rb') as f:\n",
    "    loaded_data = pickle.load(f)\n",
    "\n",
    "labels = pd.read_csv('one_hot_labels.csv')"
   ]
  },
  {
   "cell_type": "code",
   "execution_count": 4,
   "metadata": {
    "ExecuteTime": {
     "end_time": "2016-05-02T23:02:55.003940",
     "start_time": "2016-05-02T23:02:54.998866"
    },
    "collapsed": true
   },
   "outputs": [],
   "source": [
    "one_hot = labels.values"
   ]
  },
  {
   "cell_type": "code",
   "execution_count": 5,
   "metadata": {
    "ExecuteTime": {
     "end_time": "2016-05-02T23:02:55.249104",
     "start_time": "2016-05-02T23:02:55.111612"
    },
    "collapsed": false
   },
   "outputs": [],
   "source": [
    "xTrain, xTest, yTrain, yTest = train_test_split(loaded_data, one_hot)"
   ]
  },
  {
   "cell_type": "code",
   "execution_count": 6,
   "metadata": {
    "ExecuteTime": {
     "end_time": "2016-05-02T23:03:03.553748",
     "start_time": "2016-05-02T23:03:03.548507"
    },
    "collapsed": true
   },
   "outputs": [],
   "source": [
    "xTrain = xTrain.reshape(-1, 1, 5, 21)\n",
    "xTest = xTest.reshape(-1, 1, 5, 21)"
   ]
  },
  {
   "cell_type": "code",
   "execution_count": 7,
   "metadata": {
    "ExecuteTime": {
     "end_time": "2016-05-02T23:03:09.612203",
     "start_time": "2016-05-02T23:03:09.606264"
    },
    "collapsed": false
   },
   "outputs": [
    {
     "name": "stdout",
     "output_type": "stream",
     "text": [
      "(101110, 1, 5, 21) (33704, 1, 5, 21) (101110, 6) (33704, 6)\n"
     ]
    }
   ],
   "source": [
    "print xTrain.shape, xTest.shape, yTrain.shape, yTest.shape"
   ]
  },
  {
   "cell_type": "code",
   "execution_count": 9,
   "metadata": {
    "ExecuteTime": {
     "end_time": "2016-05-02T23:08:39.516052",
     "start_time": "2016-05-02T23:08:39.442880"
    },
    "code_folding": [
     10,
     16,
     20
    ],
    "collapsed": true
   },
   "outputs": [],
   "source": [
    "srng = RandomStreams()\n",
    "\n",
    "def floatX(X):\n",
    "    return np.asarray(X, dtype=theano.config.floatX)\n",
    "\n",
    "def glorot_init_weights(shape):\n",
    "    (h, w) = shape\n",
    "    normalizer = 2.0 * sqrt(6) / sqrt(h + w) * 0.1  #factors: correct for uni[0,1], glo, glo, softmax deriv\n",
    "    return theano.shared(floatX((np.random.random_sample(shape) - 0.5) * normalizer))\n",
    "\n",
    "def init_weights(shape):\n",
    "    return theano.shared(floatX(np.random.randn(*shape) * 0.01))\n",
    "\n",
    "def activate(X):\n",
    "    return T.nnet.relu(X)\n",
    "\n",
    "def rectify(X):\n",
    "    return T.maximum(X, 0.)\n",
    "    #return T.maximum(X, 0.01*X)  #leaky rectifier\n",
    "\n",
    "def softmax(X):\n",
    "    e_x = T.exp(X - X.max(axis=1).dimshuffle(0, 1, 'x', 'x'))\n",
    "    return e_x / e_x.sum(axis=1).dimshuffle(0, 1, 'x', 'x')\n",
    "\n",
    "def dropout(X, p=0.0):\n",
    "    if p > 0:\n",
    "        retain_prob = 1 - p\n",
    "        X *= srng.binomial(X.shape, p=retain_prob, dtype=theano.config.floatX)\n",
    "        X /= retain_prob\n",
    "    return X\n",
    "\n",
    "def RMSprop(cost, params, lr=0.001, rho=0.9, epsilon=1e-6):\n",
    "    grads = T.grad(cost=cost, wrt=params)\n",
    "    updates = []\n",
    "    \n",
    "    for p, g in zip(params, grads):\n",
    "        acc = theano.shared(p.get_value() * 0.)\n",
    "        acc_new = rho * acc + (1 - rho) * g ** 2\n",
    "        gradient_scaling = T.sqrt(acc_new + epsilon)\n",
    "        g = g / gradient_scaling\n",
    "        updates.append((acc, acc_new))\n",
    "        updates.append((p, p - lr * g))\n",
    "    \n",
    "    return updates\n",
    "\n",
    "def model(X, wi, wh, wo, p_drop_conv, p_drop_hidden):\n",
    "    layer_1 = rectify(conv2d(X, wi, border_mode='valid')) # , border_mode='full'\n",
    "    layer_1 = layer_1.reshape((-1, 256))\n",
    "    layer_1 = dropout(layer_1, p_drop_conv)\n",
    "\n",
    "    layer_2 = rectify(T.dot(layer_1, wh))\n",
    "    layer_2 = dropout(layer_2, p_drop_hidden)\n",
    "\n",
    "#     pyx = softmax(T.dot(layer_2, wo))\n",
    "    pyx = T.nnet.softmax(T.dot(layer_2, wo))\n",
    "    return layer_1, layer_2, pyx"
   ]
  },
  {
   "cell_type": "code",
   "execution_count": 10,
   "metadata": {
    "ExecuteTime": {
     "end_time": "2016-05-02T23:10:58.101272",
     "start_time": "2016-05-02T23:08:40.449648"
    },
    "collapsed": false
   },
   "outputs": [
    {
     "name": "stdout",
     "output_type": "stream",
     "text": [
      "0 0.157043674341\n",
      "1 0.37295276525\n",
      "2 0.375178020413\n",
      "3 0.376898884405\n"
     ]
    },
    {
     "ename": "KeyboardInterrupt",
     "evalue": "",
     "output_type": "error",
     "traceback": [
      "\u001b[0;31m---------------------------------------------------------------------------\u001b[0m",
      "\u001b[0;31mKeyboardInterrupt\u001b[0m                         Traceback (most recent call last)",
      "\u001b[0;32m<ipython-input-10-528bc19fdcf2>\u001b[0m in \u001b[0;36m<module>\u001b[0;34m()\u001b[0m\n\u001b[1;32m     35\u001b[0m     for start, end in zip(xrange(0, len(xTrain), mbs), \n\u001b[1;32m     36\u001b[0m                           xrange(mbs, len(xTrain), mbs)):\n\u001b[0;32m---> 37\u001b[0;31m         \u001b[0mcost\u001b[0m \u001b[0;34m=\u001b[0m \u001b[0mtrain\u001b[0m\u001b[0;34m(\u001b[0m\u001b[0mxTrain\u001b[0m\u001b[0;34m[\u001b[0m\u001b[0mstart\u001b[0m\u001b[0;34m:\u001b[0m\u001b[0mend\u001b[0m\u001b[0;34m]\u001b[0m\u001b[0;34m,\u001b[0m \u001b[0myTrain\u001b[0m\u001b[0;34m[\u001b[0m\u001b[0mstart\u001b[0m\u001b[0;34m:\u001b[0m\u001b[0mend\u001b[0m\u001b[0;34m]\u001b[0m\u001b[0;34m)\u001b[0m\u001b[0;34m\u001b[0m\u001b[0m\n\u001b[0m\u001b[1;32m     38\u001b[0m \u001b[0;31m#         a, b, c = model(floatX(xTrain[start:end]), wi, wh, wo, 0., 0.)\u001b[0m\u001b[0;34m\u001b[0m\u001b[0;34m\u001b[0m\u001b[0m\n\u001b[1;32m     39\u001b[0m \u001b[0;31m#         print a.eval().shape, b.eval().shape, c.eval().shape,\u001b[0m\u001b[0;34m\u001b[0m\u001b[0;34m\u001b[0m\u001b[0m\n",
      "\u001b[0;32m/Users/LucasRamadan/anaconda/lib/python2.7/site-packages/theano/compile/function_module.pyc\u001b[0m in \u001b[0;36m__call__\u001b[0;34m(self, *args, **kwargs)\u001b[0m\n\u001b[1;32m    857\u001b[0m         \u001b[0mt0_fn\u001b[0m \u001b[0;34m=\u001b[0m \u001b[0mtime\u001b[0m\u001b[0;34m.\u001b[0m\u001b[0mtime\u001b[0m\u001b[0;34m(\u001b[0m\u001b[0;34m)\u001b[0m\u001b[0;34m\u001b[0m\u001b[0m\n\u001b[1;32m    858\u001b[0m         \u001b[0;32mtry\u001b[0m\u001b[0;34m:\u001b[0m\u001b[0;34m\u001b[0m\u001b[0m\n\u001b[0;32m--> 859\u001b[0;31m             \u001b[0moutputs\u001b[0m \u001b[0;34m=\u001b[0m \u001b[0mself\u001b[0m\u001b[0;34m.\u001b[0m\u001b[0mfn\u001b[0m\u001b[0;34m(\u001b[0m\u001b[0;34m)\u001b[0m\u001b[0;34m\u001b[0m\u001b[0m\n\u001b[0m\u001b[1;32m    860\u001b[0m         \u001b[0;32mexcept\u001b[0m \u001b[0mException\u001b[0m\u001b[0;34m:\u001b[0m\u001b[0;34m\u001b[0m\u001b[0m\n\u001b[1;32m    861\u001b[0m             \u001b[0;32mif\u001b[0m \u001b[0mhasattr\u001b[0m\u001b[0;34m(\u001b[0m\u001b[0mself\u001b[0m\u001b[0;34m.\u001b[0m\u001b[0mfn\u001b[0m\u001b[0;34m,\u001b[0m \u001b[0;34m'position_of_error'\u001b[0m\u001b[0;34m)\u001b[0m\u001b[0;34m:\u001b[0m\u001b[0;34m\u001b[0m\u001b[0m\n",
      "\u001b[0;32m/Users/LucasRamadan/anaconda/lib/python2.7/site-packages/theano/gof/op.pyc\u001b[0m in \u001b[0;36mrval\u001b[0;34m(p, i, o, n)\u001b[0m\n\u001b[1;32m    909\u001b[0m         \u001b[0;32mif\u001b[0m \u001b[0mparams\u001b[0m \u001b[0;32mis\u001b[0m \u001b[0mgraph\u001b[0m\u001b[0;34m.\u001b[0m\u001b[0mNoParams\u001b[0m\u001b[0;34m:\u001b[0m\u001b[0;34m\u001b[0m\u001b[0m\n\u001b[1;32m    910\u001b[0m             \u001b[0;31m# default arguments are stored in the closure of `rval`\u001b[0m\u001b[0;34m\u001b[0m\u001b[0;34m\u001b[0m\u001b[0m\n\u001b[0;32m--> 911\u001b[0;31m             \u001b[0;32mdef\u001b[0m \u001b[0mrval\u001b[0m\u001b[0;34m(\u001b[0m\u001b[0mp\u001b[0m\u001b[0;34m=\u001b[0m\u001b[0mp\u001b[0m\u001b[0;34m,\u001b[0m \u001b[0mi\u001b[0m\u001b[0;34m=\u001b[0m\u001b[0mnode_input_storage\u001b[0m\u001b[0;34m,\u001b[0m \u001b[0mo\u001b[0m\u001b[0;34m=\u001b[0m\u001b[0mnode_output_storage\u001b[0m\u001b[0;34m,\u001b[0m \u001b[0mn\u001b[0m\u001b[0;34m=\u001b[0m\u001b[0mnode\u001b[0m\u001b[0;34m)\u001b[0m\u001b[0;34m:\u001b[0m\u001b[0;34m\u001b[0m\u001b[0m\n\u001b[0m\u001b[1;32m    912\u001b[0m                 \u001b[0mr\u001b[0m \u001b[0;34m=\u001b[0m \u001b[0mp\u001b[0m\u001b[0;34m(\u001b[0m\u001b[0mn\u001b[0m\u001b[0;34m,\u001b[0m \u001b[0;34m[\u001b[0m\u001b[0mx\u001b[0m\u001b[0;34m[\u001b[0m\u001b[0;36m0\u001b[0m\u001b[0;34m]\u001b[0m \u001b[0;32mfor\u001b[0m \u001b[0mx\u001b[0m \u001b[0;32min\u001b[0m \u001b[0mi\u001b[0m\u001b[0;34m]\u001b[0m\u001b[0;34m,\u001b[0m \u001b[0mo\u001b[0m\u001b[0;34m)\u001b[0m\u001b[0;34m\u001b[0m\u001b[0m\n\u001b[1;32m    913\u001b[0m                 \u001b[0;32mfor\u001b[0m \u001b[0mo\u001b[0m \u001b[0;32min\u001b[0m \u001b[0mnode\u001b[0m\u001b[0;34m.\u001b[0m\u001b[0moutputs\u001b[0m\u001b[0;34m:\u001b[0m\u001b[0;34m\u001b[0m\u001b[0m\n",
      "\u001b[0;31mKeyboardInterrupt\u001b[0m: "
     ]
    }
   ],
   "source": [
    "X = T.ftensor4()\n",
    "Y = T.fmatrix()\n",
    "\n",
    "# define mini-batch size\n",
    "mbs = 128\n",
    "\n",
    "# define number of desired features out of convolution\n",
    "n_conv = 256\n",
    "\n",
    "# define hidden layer depth\n",
    "h_depth = 600\n",
    "\n",
    "wi = init_weights((n_conv, 1, 5, 21))\n",
    "wh = init_weights((n_conv, h_depth))\n",
    "wo = init_weights((h_depth, 6))\n",
    "\n",
    "noise_l1, noise_l2, noise_py_x = model(X, wi, wh, wo, 0.2, 0.5)\n",
    "l1, l2, py_x = model(X, wi, wh, wo, 0., 0.)\n",
    "y_x = T.argmax(py_x, axis=1)\n",
    "\n",
    "\n",
    "cost = T.mean(T.nnet.categorical_crossentropy(noise_py_x, Y))\n",
    "params = [wi, wh, wo]\n",
    "updates = RMSprop(cost, params, lr=1e-7)\n",
    "\n",
    "train = theano.function(inputs=[X, Y], outputs=cost, updates=updates, allow_input_downcast=True)\n",
    "predict = theano.function(inputs=[X], outputs=y_x, allow_input_downcast=True)\n",
    "\n",
    "# number of training iterations to perform\n",
    "n_train = 101\n",
    "\n",
    "costs = []\n",
    "# performing our training\n",
    "for i in xrange(n_train):\n",
    "    for start, end in zip(xrange(0, len(xTrain), mbs), \n",
    "                          xrange(mbs, len(xTrain), mbs)):\n",
    "        cost = train(xTrain[start:end], yTrain[start:end])\n",
    "#         a, b, c = model(floatX(xTrain[start:end]), wi, wh, wo, 0., 0.)\n",
    "#         print a.eval().shape, b.eval().shape, c.eval().shape,\n",
    "#         print i, np.mean(np.argmax(yTest, axis=1) == predict(xTest))\n",
    "    costs.append(cost)\n",
    "    print i, np.mean(np.argmax(yTest, axis=1) == predict(xTest))"
   ]
  },
  {
   "cell_type": "code",
   "execution_count": null,
   "metadata": {
    "collapsed": true
   },
   "outputs": [],
   "source": []
  },
  {
   "cell_type": "code",
   "execution_count": null,
   "metadata": {
    "collapsed": true
   },
   "outputs": [],
   "source": [
    "__author__ = 'mike.bowles'\n",
    "#based on  code from https://gist.github.com/tmramalho/5e8fda10f99233b2370f\n",
    "import theano\n",
    "import theano.tensor as T\n",
    "import numpy as np\n",
    "import cPickle as pickle\n",
    "import matplotlib.pyplot as plt\n",
    "\n",
    "\n",
    "def inspect_inputs(i, node, fn):\n",
    "    print(i, node, \"input(s) value(s):\", [input[0] for input in fn.inputs])\n",
    "\n",
    "def inspect_outputs(i, node, fn):\n",
    "    print(\" output(s) value(s):\", [output[0] for output in fn.outputs])\n",
    "\n",
    "nin = 5\n",
    "n_hidden = 40\n",
    "nout = 1\n",
    "\n",
    "# initial weight matrices\n",
    "W_uh = np.asarray(np.random.randn(nin, n_hidden) * 0.001, dtype = theano.config.floatX)\n",
    "W_hh = np.asarray(np.random.randn(n_hidden, n_hidden) * 0.001, dtype = theano.config.floatX)\n",
    "W_hy = np.asarray(np.random.randn(n_hidden, nout) * 0.001, dtype = theano.config.floatX)\n",
    "b_hh = np.zeros((n_hidden,), dtype=theano.config.floatX)\n",
    "b_hy = np.zeros((nout,), dtype=theano.config.floatX)\n",
    "\n",
    "# define new matrices \n",
    "Wr_uh = np.asarray(np.random.randn(nin, n_hidden) * 0.001, dtype = theano.config.floatX)\n",
    "Wr_hh = np.asarray(np.random.randn(n_hidden, n_hidden) * 0.001, dtype = theano.config.floatX)\n",
    "Wz_uh = np.asarray(np.random.randn(nin, n_hidden) * 0.001, dtype = theano.config.floatX)\n",
    "Wz_hh = np.asarray(np.random.randn(n_hidden, n_hidden) * 0.001, dtype = theano.config.floatX)\n",
    "\n",
    "# making them all shared\n",
    "Wr_uh = theano.shared(Wr_uh, 'Wr_uh')\n",
    "Wr_hh = theano.shared(Wr_hh, 'Wr_hh')\n",
    "Wz_uh = theano.shared(Wz_uh, 'Wz_uh')\n",
    "Wz_hh = theano.shared(Wz_hh, 'Wz_hh')\n",
    "\n",
    "# add bias terms later\n",
    "\n",
    "W_uh = theano.shared(W_uh, 'W_uh')\n",
    "W_hh = theano.shared(W_hh, 'W_hh')\n",
    "W_hy = theano.shared(W_hy, 'W_hy')\n",
    "b_hh = theano.shared(b_hh, 'b_hh')\n",
    "b_hy = theano.shared(b_hy, 'b_hy')\n",
    "\n",
    "x = T.matrix('x')\n",
    "#activ = T.nnet.sigmoid\n",
    "def activ(x, f=None):\n",
    "    #return T.maximum(x,-0.1*x)\n",
    "    if f == 'tan':\n",
    "        return T.tanh(x)\n",
    "    else:\n",
    "        return T.nnet.sigmoid(x)\n",
    "    # \n",
    "\n",
    "lr = T.scalar('lr', dtype=theano.config.floatX)\n",
    "u = T.matrix('u', dtype=theano.config.floatX)\n",
    "t = T.matrix('t', dtype=theano.config.floatX)\n",
    "\n",
    "h0_tm1 = theano.shared(np.zeros(n_hidden, dtype=theano.config.floatX))\n",
    "\n",
    "def recurrent_fn(u_t, h_tm1, W_hh, W_uh, W_hy, Wr_uh, Wr_hh, Wz_uh, Wz_hh, b_hh, b_hy):\n",
    "    # new rec funct\n",
    "    r_t = activ(T.dot(u_t, Wr_uh) + T.dot(h_tm1, Wr_hh))\n",
    "    z_t = activ(T.dot(u_t, Wz_uh) + T.dot(h_tm1, Wz_hh))\n",
    "    \n",
    "    h_tilda = activ(T.dot(u_t, W_uh) + r_t*T.dot(h_tm1, W_hh), f='tan')\n",
    "    \n",
    "    h_t = ((1 - z_t)*h_tm1) + (z_t*h_tilda) + b_hh\n",
    "    \n",
    "    #     h_t = activ(T.dot(h_tm1, W_hh) + T.dot(u_t, W_uh) + b_hh)\n",
    "    y_t = T.dot(h_t, W_hy) + b_hy\n",
    "    \n",
    "    return h_t, y_t\n",
    "\n",
    "[h, y],_ = theano.scan(recurrent_fn, \n",
    "                       sequences = u,\n",
    "                       outputs_info = [h0_tm1, None],\n",
    "                       non_sequences = [W_hh, W_uh, W_hy, Wr_uh, Wr_hh, Wz_uh, Wz_hh, b_hh, b_hy])\n",
    "\n",
    "cost = T.mean(((t - y)**2))\n",
    "\n",
    "gW_hh, gW_uh, gW_hy, gWr_uh, gWr_hh, gWz_uh, gWz_hh, gb_hh, gb_hy = T.grad(cost, [W_hh, W_uh, W_hy, Wr_uh, Wr_hh, Wz_uh, Wz_hh, b_hh, b_hy])\n",
    "        #theano.printing.debugprint([h0_tm1], print_type=True)\n",
    "\n",
    "update = [(W_hh, W_hh - lr*gW_hh),\n",
    "          (W_uh, W_uh - lr*gW_uh),\n",
    "          (W_hy, W_hy - lr*gW_hy),\n",
    "          (Wr_uh, Wr_uh - lr*gWr_uh),\n",
    "          (Wr_hh, Wr_hh - lr*gWr_hh),\n",
    "          (Wz_uh, Wz_uh - lr*gWz_uh),\n",
    "          (Wz_hh, Wz_hh - lr*gWz_hh),\n",
    "          (b_hh, b_hh - lr*gb_hh),                      \n",
    "          (b_hy, b_hy - lr*gb_hy)]\n",
    "    \n",
    "train_step = theano.function([u, t, lr], cost,\n",
    "                              on_unused_input='warn',\n",
    "                              updates=update,\n",
    "                              allow_input_downcast=True)\n",
    "        #, mode='DebugMode'\n",
    "        #mode=theano.compile.MonitorMode(pre_func=inspect_inputs, post_func=inspect_outputs),\n",
    "\n",
    "\n",
    "\n",
    "\n",
    "if __name__ == '__main__':\n",
    "\n",
    "    (xlist, ylist) = pickle.load(open('stockTT.bin', 'rb'))\n",
    "\n",
    "    x = np.array(xlist, dtype = theano.config.floatX)\n",
    "    y = np.array(ylist, dtype = theano.config.floatX)\n",
    "\n",
    "    lr = 0.01\n",
    "    e = 1.0\n",
    "    nPasses = 1\n",
    "    vals = []\n",
    "    sqErr = []\n",
    "    # best = 2\n",
    "    batchSize = 2\n",
    "    \n",
    "    for i in range(nPasses):\n",
    "        # for start, end in zip(range(0, len(x), batchSize), range(batchSize, len(x), batchSize)):\n",
    "        #     u = np.asarray(x[start:end], dtype = theano.config.floatX).reshape((batchSize,nin))\n",
    "        #     t = np.array(y[start:end], dtype=theano.config.floatX).reshape(batchSize, 1)\n",
    "        #\n",
    "        #     c = train_step(u, t, lr)\n",
    "        #     print \"iteration {0}: {1}\".format(start, np.sqrt(c))\n",
    "        #     e = 0.1*np.sqrt(c) + 0.9*e\n",
    "        #     vals.append(e)\n",
    "        #     sqErr.append(c)\n",
    "        for istart in range(1001): #len(x) - batchSize\n",
    "            u = np.asarray(x[istart:istart + batchSize], dtype=theano.config.floatX).reshape((batchSize, nin))\n",
    "            t = np.array(y[istart:istart + batchSize], dtype=theano.config.floatX).reshape(batchSize, 1)\n",
    "\n",
    "            c = train_step(u, t, lr)\n",
    "            if istart % 100 == 0:\n",
    "                print \"iteration {0}: {1}\".format(istart, np.sqrt(c))\n",
    "            e = 0.1 * np.sqrt(c) + 0.9 * e\n",
    "            vals.append(e)\n",
    "            sqErr.append(c)\n",
    "\n",
    "    errStatStart=500\n",
    "    aStd = 3.55611944113  #standard deviation of labels\n",
    "    errStd = np.sqrt(np.mean(sqErr[errStatStart:]))\n",
    "    print 'RSS error =   ', errStd\n",
    "    print 'R-squared =   ', 1 - (errStd/aStd) * (errStd/aStd)\n",
    "    plt.plot(vals)\n",
    "    plt.show()"
   ]
  }
 ],
 "metadata": {
  "kernelspec": {
   "display_name": "Python 2",
   "language": "python",
   "name": "python2"
  },
  "language_info": {
   "codemirror_mode": {
    "name": "ipython",
    "version": 2
   },
   "file_extension": ".py",
   "mimetype": "text/x-python",
   "name": "python",
   "nbconvert_exporter": "python",
   "pygments_lexer": "ipython2",
   "version": "2.7.11"
  }
 },
 "nbformat": 4,
 "nbformat_minor": 0
}
