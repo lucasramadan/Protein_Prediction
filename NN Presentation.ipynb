{
 "cells": [
  {
   "cell_type": "markdown",
   "metadata": {},
   "source": [
    "Predicting Fold-State of Proteins \n",
    "=========="
   ]
  },
  {
   "cell_type": "code",
   "execution_count": 46,
   "metadata": {
    "ExecuteTime": {
     "end_time": "2016-05-07T16:33:17.349447",
     "start_time": "2016-05-07T16:33:17.345310"
    },
    "collapsed": true,
    "hide_input": false,
    "run_control": {
     "frozen": false,
     "read_only": false
    }
   },
   "outputs": [],
   "source": [
    "import warnings\n",
    "warnings.filterwarnings('ignore')"
   ]
  },
  {
   "cell_type": "code",
   "execution_count": 162,
   "metadata": {
    "ExecuteTime": {
     "end_time": "2016-05-08T11:11:27.628537",
     "start_time": "2016-05-08T11:11:27.513068"
    },
    "collapsed": false,
    "hide_input": false,
    "init_cell": true,
    "run_control": {
     "frozen": false,
     "read_only": false
    }
   },
   "outputs": [],
   "source": [
    "from collections import Counter\n",
    "import pandas as pd\n",
    "import numpy as np\n",
    "import matplotlib.pyplot as plt \n",
    "import seaborn as sns\n",
    "%matplotlib inline"
   ]
  },
  {
   "cell_type": "markdown",
   "metadata": {
    "hide_input": true
   },
   "source": [
    "### What a protein looks like:"
   ]
  },
  {
   "cell_type": "markdown",
   "metadata": {},
   "source": [
    "<img  src=\"85262_large.jpg\"/>"
   ]
  },
  {
   "cell_type": "code",
   "execution_count": 163,
   "metadata": {
    "ExecuteTime": {
     "end_time": "2016-05-08T11:11:27.780694",
     "start_time": "2016-05-08T11:11:27.632671"
    },
    "collapsed": true,
    "hide_input": false,
    "init_cell": true,
    "run_control": {
     "frozen": false,
     "read_only": false
    }
   },
   "outputs": [],
   "source": [
    "seq = pd.read_csv('sequences.csv').drop('Unnamed: 0', axis=1).values.reshape((-1,))"
   ]
  },
  {
   "cell_type": "markdown",
   "metadata": {},
   "source": [
    "### How the protein is encoded for us:"
   ]
  },
  {
   "cell_type": "markdown",
   "metadata": {},
   "source": [
    "<img  src=\"AA_code.png\" height=400 width=400/>"
   ]
  },
  {
   "cell_type": "markdown",
   "metadata": {},
   "source": [
    "<img  src=\"protein_seq.jpg\"/>"
   ]
  },
  {
   "cell_type": "markdown",
   "metadata": {},
   "source": [
    "### What our actual data looks like:"
   ]
  },
  {
   "cell_type": "code",
   "execution_count": 15,
   "metadata": {
    "ExecuteTime": {
     "end_time": "2016-05-07T16:01:15.236278",
     "start_time": "2016-05-07T16:01:15.231569"
    },
    "collapsed": false,
    "hide_input": false,
    "run_control": {
     "frozen": false,
     "read_only": false
    }
   },
   "outputs": [
    {
     "name": "stdout",
     "output_type": "stream",
     "text": [
      "['V' 'L' 'S' 'P' 'A' 'D' 'K' 'T' 'N' 'V' 'K' 'A' 'A' 'W' 'G' 'K' 'V' 'G'\n",
      " 'A' 'H' 'A' 'G' 'E' 'Y' 'G' 'A' 'E' 'A' 'L' 'E' 'R' 'M' 'F' 'L' 'S' 'F'\n",
      " 'P' 'T' 'T' 'K' 'T' 'Y' 'F' 'P' 'H' 'F' 'D' 'L' 'S' 'H' 'G' 'S' 'A' 'Q'\n",
      " 'V' 'K' 'G' 'H' 'G' 'K' 'K' 'V' 'A' 'D' 'A' 'L' 'T' 'N' 'A' 'V' 'A' 'H'\n",
      " 'V' 'D' 'D' 'M' 'P' 'N' 'A' 'L' 'S' 'A' 'L' 'S' 'D' 'L' 'H' 'A' 'H' 'K'\n",
      " 'L' 'R' 'V' 'D' 'P' 'V' 'N' 'F' 'K' 'L']\n"
     ]
    }
   ],
   "source": [
    "print seq[:100]"
   ]
  },
  {
   "cell_type": "markdown",
   "metadata": {},
   "source": [
    "### How this relates to Structure"
   ]
  },
  {
   "cell_type": "markdown",
   "metadata": {},
   "source": [
    "<img  src=\"figure1.png\"/>"
   ]
  },
  {
   "cell_type": "markdown",
   "metadata": {},
   "source": [
    "<img  src=\"proteins-and-amino-acids-32-638.jpg\"/>"
   ]
  },
  {
   "cell_type": "markdown",
   "metadata": {},
   "source": [
    "### Fold States:"
   ]
  },
  {
   "cell_type": "code",
   "execution_count": 135,
   "metadata": {
    "ExecuteTime": {
     "end_time": "2016-05-07T17:34:55.186248",
     "start_time": "2016-05-07T17:34:55.125465"
    },
    "collapsed": false,
    "hide_input": true,
    "run_control": {
     "frozen": false,
     "read_only": false
    }
   },
   "outputs": [],
   "source": [
    "labels = pd.read_csv('5_formatted_labels.csv').drop('Unnamed: 0', axis=1).values.reshape((-1,))"
   ]
  },
  {
   "cell_type": "code",
   "execution_count": 137,
   "metadata": {
    "ExecuteTime": {
     "end_time": "2016-05-07T17:35:19.446862",
     "start_time": "2016-05-07T17:35:19.442856"
    },
    "collapsed": false,
    "hide_input": true,
    "run_control": {
     "frozen": false,
     "read_only": false
    }
   },
   "outputs": [],
   "source": [
    "fold_map = dict(zip(range(6), [\"H\", \"E\", \"T\", \"S\", \"B\", \"U\"]))"
   ]
  },
  {
   "cell_type": "code",
   "execution_count": 138,
   "metadata": {
    "ExecuteTime": {
     "end_time": "2016-05-07T17:35:21.119326",
     "start_time": "2016-05-07T17:35:21.020757"
    },
    "collapsed": false,
    "hide_input": true,
    "run_control": {
     "frozen": false,
     "read_only": false
    }
   },
   "outputs": [],
   "source": [
    "folds = np.asarray([fold_map[state] for state in labels])"
   ]
  },
  {
   "cell_type": "code",
   "execution_count": 139,
   "metadata": {
    "ExecuteTime": {
     "end_time": "2016-05-07T17:35:21.748563",
     "start_time": "2016-05-07T17:35:21.743138"
    },
    "collapsed": false,
    "hide_input": true,
    "run_control": {
     "frozen": false,
     "read_only": false
    }
   },
   "outputs": [
    {
     "name": "stdout",
     "output_type": "stream",
     "text": [
      "['U' 'U' 'H' 'H' 'H' 'H' 'H' 'H' 'H' 'H' 'H' 'H' 'H' 'H' 'H' 'H' 'H' 'H'\n",
      " 'H' 'H' 'H' 'H' 'H' 'H' 'H' 'H' 'H' 'H' 'H' 'H' 'H' 'H' 'H' 'H' 'U' 'H'\n",
      " 'H' 'H' 'H' 'H' 'H' 'U' 'T' 'T' 'S' 'U' 'U' 'S' 'T' 'T' 'U' 'H' 'H' 'H'\n",
      " 'H' 'H' 'H' 'H' 'H' 'H' 'H' 'H' 'H' 'H' 'H' 'H' 'H' 'H' 'H' 'H' 'T' 'T'\n",
      " 'T' 'S' 'H' 'H' 'H' 'H' 'T' 'H' 'H' 'H' 'H' 'H' 'H' 'H' 'H' 'H' 'T' 'T'\n",
      " 'U' 'U' 'U' 'T' 'H' 'H' 'H' 'H' 'H' 'H']\n"
     ]
    }
   ],
   "source": [
    "print folds[:100]"
   ]
  },
  {
   "cell_type": "markdown",
   "metadata": {},
   "source": [
    "### Together"
   ]
  },
  {
   "cell_type": "code",
   "execution_count": 61,
   "metadata": {
    "ExecuteTime": {
     "end_time": "2016-05-07T16:41:23.057494",
     "start_time": "2016-05-07T16:41:22.977249"
    },
    "collapsed": false,
    "hide_input": true,
    "run_control": {
     "frozen": false,
     "read_only": false
    }
   },
   "outputs": [
    {
     "data": {
      "text/html": [
       "<div>\n",
       "<table border=\"1\" class=\"dataframe\">\n",
       "  <thead>\n",
       "    <tr style=\"text-align: right;\">\n",
       "      <th></th>\n",
       "      <th></th>\n",
       "      <th></th>\n",
       "      <th></th>\n",
       "      <th></th>\n",
       "      <th></th>\n",
       "      <th></th>\n",
       "      <th></th>\n",
       "      <th></th>\n",
       "      <th></th>\n",
       "      <th></th>\n",
       "      <th>...</th>\n",
       "      <th></th>\n",
       "      <th></th>\n",
       "      <th></th>\n",
       "      <th></th>\n",
       "      <th></th>\n",
       "      <th></th>\n",
       "      <th></th>\n",
       "      <th></th>\n",
       "      <th></th>\n",
       "      <th></th>\n",
       "    </tr>\n",
       "  </thead>\n",
       "  <tbody>\n",
       "    <tr>\n",
       "      <th>Fold</th>\n",
       "      <td>U</td>\n",
       "      <td>U</td>\n",
       "      <td>H</td>\n",
       "      <td>H</td>\n",
       "      <td>H</td>\n",
       "      <td>H</td>\n",
       "      <td>H</td>\n",
       "      <td>H</td>\n",
       "      <td>H</td>\n",
       "      <td>H</td>\n",
       "      <td>...</td>\n",
       "      <td>U</td>\n",
       "      <td>U</td>\n",
       "      <td>U</td>\n",
       "      <td>T</td>\n",
       "      <td>H</td>\n",
       "      <td>H</td>\n",
       "      <td>H</td>\n",
       "      <td>H</td>\n",
       "      <td>H</td>\n",
       "      <td>H</td>\n",
       "    </tr>\n",
       "    <tr>\n",
       "      <th>AA</th>\n",
       "      <td>V</td>\n",
       "      <td>L</td>\n",
       "      <td>S</td>\n",
       "      <td>P</td>\n",
       "      <td>A</td>\n",
       "      <td>D</td>\n",
       "      <td>K</td>\n",
       "      <td>T</td>\n",
       "      <td>N</td>\n",
       "      <td>V</td>\n",
       "      <td>...</td>\n",
       "      <td>L</td>\n",
       "      <td>R</td>\n",
       "      <td>V</td>\n",
       "      <td>D</td>\n",
       "      <td>P</td>\n",
       "      <td>V</td>\n",
       "      <td>N</td>\n",
       "      <td>F</td>\n",
       "      <td>K</td>\n",
       "      <td>L</td>\n",
       "    </tr>\n",
       "  </tbody>\n",
       "</table>\n",
       "<p>2 rows × 100 columns</p>\n",
       "</div>"
      ],
      "text/plain": [
       "                                   ...                              \n",
       "Fold  U  U  H  H  H  H  H  H  H  H ...  U  U  U  T  H  H  H  H  H  H\n",
       "AA    V  L  S  P  A  D  K  T  N  V ...  L  R  V  D  P  V  N  F  K  L\n",
       "\n",
       "[2 rows x 100 columns]"
      ]
     },
     "execution_count": 61,
     "metadata": {},
     "output_type": "execute_result"
    }
   ],
   "source": [
    "pd.DataFrame([folds[:100], seq[:100]], index=['Fold', 'AA'], columns=['']*100)"
   ]
  },
  {
   "cell_type": "code",
   "execution_count": 56,
   "metadata": {
    "ExecuteTime": {
     "end_time": "2016-05-07T16:38:46.980375",
     "start_time": "2016-05-07T16:38:46.858344"
    },
    "collapsed": false,
    "hide_input": true,
    "run_control": {
     "frozen": false,
     "read_only": false
    }
   },
   "outputs": [],
   "source": [
    "counts = Counter(folds)\n",
    "percents = [v*1.0 / sum(counts.values()) for v in counts.values()]\n",
    "\n",
    "perc = dict(zip(counts.keys(), percents))"
   ]
  },
  {
   "cell_type": "markdown",
   "metadata": {},
   "source": [
    "### Imbalanced Classes"
   ]
  },
  {
   "cell_type": "code",
   "execution_count": 57,
   "metadata": {
    "ExecuteTime": {
     "end_time": "2016-05-07T16:38:51.038873",
     "start_time": "2016-05-07T16:38:50.749242"
    },
    "collapsed": false,
    "hide_input": true,
    "run_control": {
     "frozen": false,
     "read_only": false
    }
   },
   "outputs": [
    {
     "data": {
      "image/png": "[encoded data removed]",
      "text/plain": [
       "<matplotlib.figure.Figure at 0x11c1eaa10>"
      ]
     },
     "metadata": {},
     "output_type": "display_data"
    }
   ],
   "source": [
    "plt.bar(range(len(perc)), perc.values(), tick_label=perc.keys(), align='center')\n",
    "sns.set_style('white')\n",
    "sns.despine();"
   ]
  },
  {
   "cell_type": "markdown",
   "metadata": {},
   "source": [
    "### Recall:"
   ]
  },
  {
   "cell_type": "markdown",
   "metadata": {},
   "source": [
    "<img  src=\"cbow.png\" height=400 width=400/>"
   ]
  },
  {
   "cell_type": "markdown",
   "metadata": {},
   "source": [
    "### How our data is really formatted"
   ]
  },
  {
   "cell_type": "code",
   "execution_count": 63,
   "metadata": {
    "ExecuteTime": {
     "end_time": "2016-05-07T17:02:23.016432",
     "start_time": "2016-05-07T17:02:20.338881"
    },
    "collapsed": false,
    "hide_input": true,
    "run_control": {
     "frozen": false,
     "read_only": false
    }
   },
   "outputs": [
    {
     "data": {
      "text/html": [
       "<div>\n",
       "<table border=\"1\" class=\"dataframe\">\n",
       "  <thead>\n",
       "    <tr style=\"text-align: right;\">\n",
       "      <th></th>\n",
       "      <th>A-2</th>\n",
       "      <th>C-2</th>\n",
       "      <th>D-2</th>\n",
       "      <th>E-2</th>\n",
       "      <th>F-2</th>\n",
       "      <th>G-2</th>\n",
       "      <th>H-2</th>\n",
       "      <th>I-2</th>\n",
       "      <th>K-2</th>\n",
       "      <th>L-2</th>\n",
       "      <th>...</th>\n",
       "      <th>N2</th>\n",
       "      <th>P2</th>\n",
       "      <th>Q2</th>\n",
       "      <th>R2</th>\n",
       "      <th>S2</th>\n",
       "      <th>T2</th>\n",
       "      <th>V2</th>\n",
       "      <th>W2</th>\n",
       "      <th>Y2</th>\n",
       "      <th>-2</th>\n",
       "    </tr>\n",
       "  </thead>\n",
       "  <tbody>\n",
       "    <tr>\n",
       "      <th>0</th>\n",
       "      <td>0.0</td>\n",
       "      <td>0.0</td>\n",
       "      <td>0.0</td>\n",
       "      <td>0.0</td>\n",
       "      <td>0.0</td>\n",
       "      <td>0.0</td>\n",
       "      <td>0.0</td>\n",
       "      <td>0.0</td>\n",
       "      <td>0.0</td>\n",
       "      <td>0.0</td>\n",
       "      <td>...</td>\n",
       "      <td>0.0</td>\n",
       "      <td>0.0</td>\n",
       "      <td>0.0</td>\n",
       "      <td>0.0</td>\n",
       "      <td>1.0</td>\n",
       "      <td>0.0</td>\n",
       "      <td>0.0</td>\n",
       "      <td>0.0</td>\n",
       "      <td>0.0</td>\n",
       "      <td>0.0</td>\n",
       "    </tr>\n",
       "    <tr>\n",
       "      <th>1</th>\n",
       "      <td>0.0</td>\n",
       "      <td>0.0</td>\n",
       "      <td>0.0</td>\n",
       "      <td>0.0</td>\n",
       "      <td>0.0</td>\n",
       "      <td>0.0</td>\n",
       "      <td>0.0</td>\n",
       "      <td>0.0</td>\n",
       "      <td>0.0</td>\n",
       "      <td>0.0</td>\n",
       "      <td>...</td>\n",
       "      <td>0.0</td>\n",
       "      <td>1.0</td>\n",
       "      <td>0.0</td>\n",
       "      <td>0.0</td>\n",
       "      <td>0.0</td>\n",
       "      <td>0.0</td>\n",
       "      <td>0.0</td>\n",
       "      <td>0.0</td>\n",
       "      <td>0.0</td>\n",
       "      <td>0.0</td>\n",
       "    </tr>\n",
       "    <tr>\n",
       "      <th>2</th>\n",
       "      <td>0.0</td>\n",
       "      <td>0.0</td>\n",
       "      <td>0.0</td>\n",
       "      <td>0.0</td>\n",
       "      <td>0.0</td>\n",
       "      <td>0.0</td>\n",
       "      <td>0.0</td>\n",
       "      <td>0.0</td>\n",
       "      <td>0.0</td>\n",
       "      <td>0.0</td>\n",
       "      <td>...</td>\n",
       "      <td>0.0</td>\n",
       "      <td>0.0</td>\n",
       "      <td>0.0</td>\n",
       "      <td>0.0</td>\n",
       "      <td>0.0</td>\n",
       "      <td>0.0</td>\n",
       "      <td>0.0</td>\n",
       "      <td>0.0</td>\n",
       "      <td>0.0</td>\n",
       "      <td>0.0</td>\n",
       "    </tr>\n",
       "    <tr>\n",
       "      <th>3</th>\n",
       "      <td>0.0</td>\n",
       "      <td>0.0</td>\n",
       "      <td>0.0</td>\n",
       "      <td>0.0</td>\n",
       "      <td>0.0</td>\n",
       "      <td>0.0</td>\n",
       "      <td>0.0</td>\n",
       "      <td>0.0</td>\n",
       "      <td>0.0</td>\n",
       "      <td>1.0</td>\n",
       "      <td>...</td>\n",
       "      <td>0.0</td>\n",
       "      <td>0.0</td>\n",
       "      <td>0.0</td>\n",
       "      <td>0.0</td>\n",
       "      <td>0.0</td>\n",
       "      <td>0.0</td>\n",
       "      <td>0.0</td>\n",
       "      <td>0.0</td>\n",
       "      <td>0.0</td>\n",
       "      <td>0.0</td>\n",
       "    </tr>\n",
       "    <tr>\n",
       "      <th>4</th>\n",
       "      <td>0.0</td>\n",
       "      <td>0.0</td>\n",
       "      <td>0.0</td>\n",
       "      <td>0.0</td>\n",
       "      <td>0.0</td>\n",
       "      <td>0.0</td>\n",
       "      <td>0.0</td>\n",
       "      <td>0.0</td>\n",
       "      <td>0.0</td>\n",
       "      <td>0.0</td>\n",
       "      <td>...</td>\n",
       "      <td>0.0</td>\n",
       "      <td>0.0</td>\n",
       "      <td>0.0</td>\n",
       "      <td>0.0</td>\n",
       "      <td>0.0</td>\n",
       "      <td>0.0</td>\n",
       "      <td>0.0</td>\n",
       "      <td>0.0</td>\n",
       "      <td>0.0</td>\n",
       "      <td>0.0</td>\n",
       "    </tr>\n",
       "  </tbody>\n",
       "</table>\n",
       "<p>5 rows × 105 columns</p>\n",
       "</div>"
      ],
      "text/plain": [
       "   A-2  C-2  D-2  E-2  F-2  G-2  H-2  I-2  K-2  L-2 ...    N2   P2   Q2   R2  \\\n",
       "0  0.0  0.0  0.0  0.0  0.0  0.0  0.0  0.0  0.0  0.0 ...   0.0  0.0  0.0  0.0   \n",
       "1  0.0  0.0  0.0  0.0  0.0  0.0  0.0  0.0  0.0  0.0 ...   0.0  1.0  0.0  0.0   \n",
       "2  0.0  0.0  0.0  0.0  0.0  0.0  0.0  0.0  0.0  0.0 ...   0.0  0.0  0.0  0.0   \n",
       "3  0.0  0.0  0.0  0.0  0.0  0.0  0.0  0.0  0.0  1.0 ...   0.0  0.0  0.0  0.0   \n",
       "4  0.0  0.0  0.0  0.0  0.0  0.0  0.0  0.0  0.0  0.0 ...   0.0  0.0  0.0  0.0   \n",
       "\n",
       "    S2   T2   V2   W2   Y2   -2  \n",
       "0  1.0  0.0  0.0  0.0  0.0  0.0  \n",
       "1  0.0  0.0  0.0  0.0  0.0  0.0  \n",
       "2  0.0  0.0  0.0  0.0  0.0  0.0  \n",
       "3  0.0  0.0  0.0  0.0  0.0  0.0  \n",
       "4  0.0  0.0  0.0  0.0  0.0  0.0  \n",
       "\n",
       "[5 rows x 105 columns]"
      ]
     },
     "execution_count": 63,
     "metadata": {},
     "output_type": "execute_result"
    }
   ],
   "source": [
    "skip_data = pd.read_csv('5_formatted_fixed.csv').drop('Unnamed: 0', axis=1)\n",
    "skip_data.head()"
   ]
  },
  {
   "cell_type": "markdown",
   "metadata": {},
   "source": [
    "### Take for an example:"
   ]
  },
  {
   "cell_type": "code",
   "execution_count": 65,
   "metadata": {
    "ExecuteTime": {
     "end_time": "2016-05-07T17:02:58.335989",
     "start_time": "2016-05-07T17:02:58.330108"
    },
    "collapsed": false,
    "run_control": {
     "frozen": false,
     "read_only": false
    }
   },
   "outputs": [
    {
     "name": "stdout",
     "output_type": "stream",
     "text": [
      "['V' 'L' 'S' 'P' 'A']\n"
     ]
    }
   ],
   "source": [
    "print seq[:5]"
   ]
  },
  {
   "cell_type": "code",
   "execution_count": 68,
   "metadata": {
    "ExecuteTime": {
     "end_time": "2016-05-07T17:04:25.685017",
     "start_time": "2016-05-07T17:04:25.678619"
    },
    "collapsed": false,
    "run_control": {
     "frozen": false,
     "read_only": false
    }
   },
   "outputs": [
    {
     "data": {
      "text/plain": [
       "['V-2', 'L-1', 'S0', 'P1', 'A2']"
      ]
     },
     "execution_count": 68,
     "metadata": {},
     "output_type": "execute_result"
    }
   ],
   "source": [
    "['V-2', 'L-1', 'S0', 'P1', 'A2']"
   ]
  },
  {
   "cell_type": "code",
   "execution_count": 108,
   "metadata": {
    "ExecuteTime": {
     "end_time": "2016-05-07T17:17:30.802335",
     "start_time": "2016-05-07T17:17:30.725530"
    },
    "collapsed": false,
    "hide_input": true,
    "run_control": {
     "frozen": false,
     "read_only": false
    }
   },
   "outputs": [
    {
     "data": {
      "text/html": [
       "<div>\n",
       "<table border=\"1\" class=\"dataframe\">\n",
       "  <thead>\n",
       "    <tr style=\"text-align: right;\">\n",
       "      <th></th>\n",
       "      <th></th>\n",
       "      <th></th>\n",
       "      <th></th>\n",
       "      <th></th>\n",
       "      <th></th>\n",
       "      <th></th>\n",
       "      <th></th>\n",
       "      <th></th>\n",
       "      <th></th>\n",
       "      <th></th>\n",
       "      <th>...</th>\n",
       "      <th></th>\n",
       "      <th></th>\n",
       "      <th></th>\n",
       "      <th></th>\n",
       "      <th></th>\n",
       "      <th></th>\n",
       "      <th></th>\n",
       "      <th></th>\n",
       "      <th></th>\n",
       "      <th></th>\n",
       "    </tr>\n",
       "  </thead>\n",
       "  <tbody>\n",
       "    <tr>\n",
       "      <th>AA</th>\n",
       "      <td>A-2</td>\n",
       "      <td>C-2</td>\n",
       "      <td>D-2</td>\n",
       "      <td>E-2</td>\n",
       "      <td>F-2</td>\n",
       "      <td>G-2</td>\n",
       "      <td>H-2</td>\n",
       "      <td>I-2</td>\n",
       "      <td>K-2</td>\n",
       "      <td>L-2</td>\n",
       "      <td>...</td>\n",
       "      <td>N2</td>\n",
       "      <td>P2</td>\n",
       "      <td>Q2</td>\n",
       "      <td>R2</td>\n",
       "      <td>S2</td>\n",
       "      <td>T2</td>\n",
       "      <td>V2</td>\n",
       "      <td>W2</td>\n",
       "      <td>Y2</td>\n",
       "      <td>-2</td>\n",
       "    </tr>\n",
       "    <tr>\n",
       "      <th></th>\n",
       "      <td>0</td>\n",
       "      <td>0</td>\n",
       "      <td>0</td>\n",
       "      <td>0</td>\n",
       "      <td>0</td>\n",
       "      <td>0</td>\n",
       "      <td>0</td>\n",
       "      <td>0</td>\n",
       "      <td>0</td>\n",
       "      <td>0</td>\n",
       "      <td>...</td>\n",
       "      <td>0</td>\n",
       "      <td>0</td>\n",
       "      <td>0</td>\n",
       "      <td>0</td>\n",
       "      <td>0</td>\n",
       "      <td>0</td>\n",
       "      <td>0</td>\n",
       "      <td>0</td>\n",
       "      <td>0</td>\n",
       "      <td>0</td>\n",
       "    </tr>\n",
       "  </tbody>\n",
       "</table>\n",
       "<p>2 rows × 105 columns</p>\n",
       "</div>"
      ],
      "text/plain": [
       "                                                     ...                      \\\n",
       "AA  A-2  C-2  D-2  E-2  F-2  G-2  H-2  I-2  K-2  L-2 ...  N2  P2  Q2  R2  S2   \n",
       "      0    0    0    0    0    0    0    0    0    0 ...   0   0   0   0   0   \n",
       "\n",
       "                        \n",
       "AA  T2  V2  W2  Y2  -2  \n",
       "     0   0   0   0   0  \n",
       "\n",
       "[2 rows x 105 columns]"
      ]
     },
     "execution_count": 108,
     "metadata": {},
     "output_type": "execute_result"
    }
   ],
   "source": [
    "ex0 = skip_data.ix[2]\n",
    "pd.DataFrame([ex0.index, ex0.values], index=['AA', ''], columns=['']*105)"
   ]
  },
  {
   "cell_type": "markdown",
   "metadata": {},
   "source": [
    "### So just throwing a simple Feed Forward Neural Network at it:"
   ]
  },
  {
   "cell_type": "code",
   "execution_count": 110,
   "metadata": {
    "ExecuteTime": {
     "end_time": "2016-05-07T17:24:49.194573",
     "start_time": "2016-05-07T17:24:48.184168"
    },
    "collapsed": true,
    "hide_input": true,
    "run_control": {
     "frozen": false,
     "read_only": false
    }
   },
   "outputs": [],
   "source": [
    "import theano\n",
    "from theano import tensor as T\n",
    "from theano.sandbox.rng_mrg import MRG_RandomStreams as RandomStreams\n",
    "\n",
    "from sklearn.cross_validation import train_test_split\n",
    "from math import sqrt"
   ]
  },
  {
   "cell_type": "code",
   "execution_count": 152,
   "metadata": {
    "ExecuteTime": {
     "end_time": "2016-05-07T17:38:35.157904",
     "start_time": "2016-05-07T17:38:32.155789"
    },
    "collapsed": false,
    "hide_input": true,
    "run_control": {
     "frozen": false,
     "read_only": false
    }
   },
   "outputs": [
    {
     "name": "stdout",
     "output_type": "stream",
     "text": [
      "(134815, 105) (134815, 6)\n"
     ]
    }
   ],
   "source": [
    "data = pd.read_csv('5_formatted_fixed.csv').drop('Unnamed: 0', axis=1)\n",
    "labels = pd.read_csv('5_formatted_fixed_labels.csv').drop('Unnamed: 0', axis=1)\n",
    "print data.shape, labels.shape"
   ]
  },
  {
   "cell_type": "code",
   "execution_count": 153,
   "metadata": {
    "ExecuteTime": {
     "end_time": "2016-05-07T17:38:39.697483",
     "start_time": "2016-05-07T17:38:39.255029"
    },
    "collapsed": false,
    "hide_input": true,
    "run_control": {
     "frozen": false,
     "read_only": false
    }
   },
   "outputs": [
    {
     "name": "stdout",
     "output_type": "stream",
     "text": [
      "(101111, 105) (101111, 6) (33704, 105) (33704, 6)\n"
     ]
    }
   ],
   "source": [
    "xTrain, xTest, yTrain, yTest = train_test_split(np.asarray(data), np.asarray(labels))\n",
    "print xTrain.shape, yTrain.shape, xTest.shape, yTest.shape"
   ]
  },
  {
   "cell_type": "code",
   "execution_count": 159,
   "metadata": {
    "ExecuteTime": {
     "end_time": "2016-05-07T18:25:16.565690",
     "start_time": "2016-05-07T17:54:43.058130"
    },
    "collapsed": false,
    "hide_input": true,
    "run_control": {
     "frozen": false,
     "read_only": false
    },
    "scrolled": true
   },
   "outputs": [
    {
     "name": "stdout",
     "output_type": "stream",
     "text": [
      "0 0.460573033597 0.462467362924\n",
      "1 0.478038986856 0.480239734156\n",
      "2 0.485960973583 0.487835271778\n",
      "3 0.498096151754 0.500029670069\n",
      "4 0.545885215258 0.548480892476\n",
      "5 0.556586325919 0.557826964159\n",
      "6 0.559256658524 0.559963209115\n",
      "7 0.565952270277 0.564947780679\n",
      "8 0.572499530219 0.571564206029\n",
      "9 0.577048985768 0.576430097318\n",
      "10 0.581143495762 0.580079515784\n",
      "11 0.583873169091 0.583372893425\n",
      "12 0.586187457349 0.58631023024\n",
      "13 0.590034714324 0.589336577261\n",
      "14 0.594000652748 0.593193686209\n",
      "15 0.598965493369 0.595359601234\n",
      "16 0.602970992276 0.599187040114\n",
      "17 0.605730335967 0.601798006171\n",
      "18 0.608885284489 0.604408972229\n",
      "19 0.610932539486 0.606604557323\n",
      "20 0.614413861993 0.60820674104\n",
      "21 0.617479799428 0.610194635652\n",
      "22 0.619358922372 0.611055067648\n",
      "23 0.621584199543 0.612597911227\n",
      "24 0.623601784178 0.614200094944\n",
      "25 0.62597541316 0.615179207216\n",
      "26 0.627666623809 0.615772608592\n",
      "27 0.629585307237 0.61737479231\n",
      "28 0.631503990664 0.618175884168\n",
      "29 0.6338083888 0.618976976027\n",
      "30 0.636290809111 0.619362686921\n",
      "31 0.638199602417 0.619985758367\n",
      "32 0.640246857414 0.621261571327\n",
      "33 0.642373233377 0.622151673392\n",
      "34 0.64449960934 0.621676952291\n",
      "35 0.647031480254 0.622537384287\n",
      "36 0.648683130421 0.622893425113\n",
      "37 0.650908407592 0.623931877522\n",
      "38 0.652411705947 0.623397816283\n",
      "39 0.654043575872 0.623664846902\n",
      "40 0.655685335918 0.624139568004\n",
      "41 0.65689193065 0.624347258486\n",
      "42 0.659087537459 0.62550439117\n",
      "43 0.660897429558 0.626186802753\n",
      "44 0.662321606947 0.626424163304\n",
      "45 0.664171059529 0.626691193924\n",
      "46 0.66602051211 0.62704723475\n",
      "47 0.667197436481 0.627699976264\n",
      "48 0.669205130995 0.627818656539\n",
      "49 0.670253483795 0.627670306195\n",
      "50 0.672023815411 0.628234037503\n",
      "51 0.673279860747 0.628619748398\n",
      "52 0.674931510914 0.628590078329\n",
      "53 0.676672172167 0.629569190601\n",
      "54 0.67775019533 0.629124139568\n",
      "55 0.678758987647 0.629242819843\n",
      "56 0.680291956365 0.629687870876\n",
      "57 0.681854595445 0.63034061239\n",
      "58 0.684000751649 0.631349394731\n",
      "59 0.684969983483 0.630934013767\n",
      "60 0.686532622563 0.63010325184\n",
      "61 0.688253503575 0.630370282459\n",
      "62 0.689588669878 0.63060764301\n",
      "63 0.690815044852 0.630429622597\n",
      "64 0.692506255501 0.630459292666\n",
      "65 0.693960103253 0.63111203418\n",
      "66 0.695591973178 0.632180156658\n",
      "67 0.696966699963 0.632180156658\n",
      "68 0.698252415662 0.631824115832\n",
      "69 0.699706263413 0.631794445763\n",
      "70 0.700813956938 0.632091146451\n",
      "71 0.703197476041 0.63339662948\n",
      "72 0.704423851015 0.634286731545\n",
      "73 0.705670006231 0.634286731545\n",
      "74 0.707410667484 0.634642772371\n",
      "75 0.708894185598 0.635028483266\n",
      "76 0.710011769244 0.634850462853\n",
      "77 0.711811771222 0.635236173748\n",
      "78 0.712929354867 0.634880132922\n",
      "79 0.713789795373 0.634464751958\n",
      "80 0.71531287397 0.634731782578\n",
      "81 0.716242545321 0.635028483266\n",
      "82 0.717459030175 0.635354854023\n",
      "83 0.719041449496 0.635977925469\n",
      "84 0.72052496761 0.636304296226\n",
      "85 0.722245848622 0.637075718016\n",
      "86 0.723670026011 0.637491098979\n",
      "87 0.725153544125 0.638470211251\n",
      "88 0.726627172118 0.638410871113\n",
      "89 0.728259042043 0.638529551389\n",
      "90 0.729366735568 0.638766911939\n",
      "91 0.730978825251 0.639746024211\n",
      "92 0.732590914935 0.640606456207\n",
      "93 0.733639267735 0.641318537859\n",
      "94 0.735023884642 0.642208639924\n",
      "95 0.735735973336 0.642089959649\n",
      "96 0.737130480363 0.643247092333\n",
      "97 0.738475536786 0.643276762402\n",
      "98 0.739870043813 0.644196534536\n",
      "99 0.741116199029 0.644315214811\n",
      "100 0.742164551829 0.644048184192\n",
      "101 0.742995321973 0.644018514123\n",
      "102 0.744459059845 0.644908616188\n",
      "103 0.745131588057 0.645175646808\n",
      "104 0.746397523514 0.645353667221\n",
      "105 0.747346975107 0.645205316876\n",
      "106 0.748345877303 0.644433895087\n",
      "107 0.750046978074 0.644285544742\n",
      "108 0.75104588027 0.643988844054\n",
      "109 0.752311815727 0.643810823641\n",
      "110 0.753340388286 0.644137194398\n",
      "111 0.754556873139 0.643899833848\n",
      "112 0.75574368763 0.644285544742\n",
      "113 0.757227205744 0.644789935913\n",
      "114 0.758552481926 0.644878946119\n",
      "115 0.760026109919 0.645353667221\n",
      "116 0.761064572598 0.64511630667\n",
      "117 0.762142595761 0.645650367909\n",
      "118 0.763715124962 0.646332779492\n",
      "119 0.765109631989 0.646718490387\n",
      "120 0.766355787204 0.646303109423\n",
      "121 0.767681063386 0.646807500593\n",
      "122 0.768877767998 0.647193211488\n",
      "123 0.769619527054 0.647519582245\n",
      "124 0.771459089515 0.648231663897\n",
      "125 0.772616233644 0.648469024448\n",
      "126 0.773931619705 0.6491811061\n",
      "127 0.774960192264 0.649626157133\n",
      "128 0.776008545064 0.650100878234\n",
      "129 0.776918436174 0.650812959886\n",
      "130 0.778342613563 0.650545929267\n",
      "131 0.779638219383 0.650872300024\n",
      "132 0.780736022787 0.651436031332\n",
      "133 0.782130529814 0.651673391882\n",
      "134 0.783673388652 0.652326133397\n",
      "135 0.785147016645 0.653097555186\n",
      "136 0.786086578117 0.653661286494\n",
      "137 0.786996469227 0.653720626632\n",
      "138 0.788242624442 0.653542606219\n",
      "139 0.78937998833 0.653690956563\n",
      "140 0.790725044753 0.65377996677\n",
      "141 0.791634935863 0.654403038215\n",
      "142 0.79291076144 0.654670068835\n",
      "143 0.793840432792 0.654848089248\n",
      "144 0.795195379336 0.655589840968\n",
      "145 0.796738238174 0.656598623309\n",
      "146 0.797816261337 0.656598623309\n",
      "147 0.798914064741 0.656895323997\n",
      "148 0.79968549416 0.656835983859\n",
      "149 0.800773407443 0.657043674341\n",
      "150 0.801604177587 0.657043674341\n",
      "151 0.802454727972 0.657251364823\n",
      "152 0.803384399324 0.657281034892\n",
      "153 0.804373411399 0.6578447662\n",
      "154 0.805530555528 0.65834915737\n",
      "155 0.806836051468 0.658230477095\n",
      "156 0.807864624027 0.658260147164\n",
      "157 0.808408580669 0.658319487301\n",
      "158 0.80973385685 0.658111796819\n",
      "159 0.810653638081 0.658141466888\n",
      "160 0.8114250675 0.658467837645\n",
      "161 0.81207781547 0.657963446475\n",
      "162 0.813205289237 0.65834915737\n",
      "163 0.814629466626 0.65912057916\n",
      "164 0.815658039185 0.65885354854\n",
      "165 0.816627271019 0.658883218609\n",
      "166 0.817754744785 0.659506290055\n",
      "167 0.818644855654 0.659031568953\n",
      "168 0.81951518628 0.65912057916\n",
      "169 0.820247055217 0.658764538334\n",
      "170 0.821186616689 0.658556847852\n",
      "171 0.822304200334 0.658942558747\n",
      "172 0.823263542048 0.659535960123\n",
      "173 0.823975630742 0.659268929504\n",
      "174 0.825004203301 0.659150249229\n",
      "175 0.825923984532 0.65935793971\n",
      "176 0.826833875642 0.65962497033\n",
      "177 0.827644865544 0.659535960123\n",
      "178 0.828802009673 0.6601293615\n",
      "179 0.829533878609 0.66039639212\n",
      "180 0.830552561047 0.66063375267\n",
      "181 0.831571243485 0.661256824116\n",
      "182 0.832392123508 0.661553524804\n",
      "183 0.833183333168 0.661583194873\n",
      "184 0.833638278723 0.661494184667\n",
      "185 0.834429488384 0.661494184667\n",
      "186 0.835092126475 0.661939235699\n",
      "187 0.836170149638 0.66167220508\n",
      "188 0.836882238332 0.661761215286\n",
      "189 0.837722898597 0.662265606456\n",
      "190 0.838474547774 0.662473296938\n",
      "191 0.839008614295 0.662324946594\n",
      "192 0.839819604197 0.662710657489\n",
      "193 0.840600923737 0.663304058865\n",
      "194 0.841392133398 0.66318537859\n",
      "195 0.842213013421 0.663096368384\n",
      "196 0.842845981149 0.662591977213\n",
      "197 0.843469058757 0.663244718728\n",
      "198 0.844131696848 0.663096368384\n",
      "199 0.844853675663 0.663066698315\n",
      "200 0.845664665566 0.662859007833\n",
      "201 0.846347083898 0.662799667695\n",
      "202 0.847227304645 0.662473296938\n",
      "203 0.84781082177 0.662740327558\n",
      "204 0.848621811672 0.663155708521\n",
      "205 0.849521812661 0.663037028246\n",
      "206 0.316295951974 0.31746973653\n",
      "207 0.316295951974 0.31746973653\n",
      "208 0.316295951974 0.31746973653\n",
      "209 0.316295951974 0.31746973653\n",
      "210 0.316295951974 0.31746973653\n",
      "211 0.316295951974 0.31746973653\n",
      "212 0.316295951974 0.31746973653\n",
      "213 0.316295951974 0.31746973653\n",
      "214 0.316295951974 0.31746973653\n",
      "215 0.316295951974 0.31746973653\n",
      "216 0.316295951974 0.31746973653\n",
      "217 0.316295951974 0.31746973653\n",
      "218 0.316295951974 0.31746973653\n",
      "219 0.316295951974 0.31746973653\n",
      "220 0.316295951974 0.31746973653\n",
      "221 0.316295951974 0.31746973653\n",
      "222 0.316295951974 0.31746973653\n",
      "223 0.316295951974 0.31746973653\n",
      "224 0.316295951974 0.31746973653\n",
      "225 0.316295951974 0.31746973653\n",
      "226 0.316295951974 0.31746973653\n",
      "227 0.316295951974 0.31746973653\n",
      "228 0.316295951974 0.31746973653\n",
      "229 0.316295951974 0.31746973653\n",
      "230 0.316295951974 0.31746973653\n",
      "231 0.316295951974 0.31746973653\n",
      "232 0.316295951974 0.31746973653\n",
      "233 0.316295951974 0.31746973653\n",
      "234 0.316295951974 0.31746973653\n",
      "235 0.316295951974 0.31746973653\n",
      "236 0.316295951974 0.31746973653\n",
      "237 0.316295951974 0.31746973653\n",
      "238 0.316295951974 0.31746973653\n",
      "239 0.316295951974 0.31746973653\n",
      "240 0.316295951974 0.31746973653\n",
      "241 0.316295951974 0.31746973653\n",
      "242 0.316295951974 0.31746973653\n",
      "243 0.316295951974 0.31746973653\n",
      "244 0.316295951974 0.31746973653\n",
      "245 0.316295951974 0.31746973653\n",
      "246 0.316295951974 0.31746973653\n",
      "247 0.316295951974 0.31746973653\n",
      "248 0.316295951974 0.31746973653\n",
      "249 0.316295951974 0.31746973653\n",
      "250 0.316295951974 0.31746973653\n",
      "251 0.316295951974 0.31746973653\n",
      "252 0.316295951974 0.31746973653\n",
      "253 0.316295951974 0.31746973653\n",
      "254 0.316295951974 0.31746973653\n",
      "255 0.316295951974 0.31746973653\n",
      "256 0.316295951974 0.31746973653\n",
      "257 0.316295951974 0.31746973653\n",
      "258 0.316295951974 0.31746973653\n",
      "259 0.316295951974 0.31746973653\n",
      "260 0.316295951974 0.31746973653\n",
      "261 0.316295951974 0.31746973653\n",
      "262 0.316295951974 0.31746973653\n",
      "263 0.316295951974 0.31746973653\n",
      "264 0.316295951974 0.31746973653\n",
      "265 0.316295951974 0.31746973653\n",
      "266 0.316295951974 0.31746973653\n",
      "267 0.316295951974 0.31746973653\n",
      "268 0.316295951974 0.31746973653\n",
      "269 0.316295951974 0.31746973653\n",
      "270 0.316295951974 0.31746973653\n",
      "271 0.316295951974 0.31746973653\n",
      "272 0.316295951974 0.31746973653\n",
      "273 0.316295951974 0.31746973653\n",
      "274 0.316295951974 0.31746973653\n",
      "275 0.316295951974 0.31746973653\n",
      "276 0.316295951974 0.31746973653\n",
      "277 0.316295951974 0.31746973653\n",
      "278 0.316295951974 0.31746973653\n",
      "279 0.316295951974 0.31746973653\n",
      "280 0.316295951974 0.31746973653\n",
      "281 0.316295951974 0.31746973653\n",
      "282 0.316295951974 0.31746973653\n",
      "283 0.316295951974 0.31746973653\n",
      "284 0.316295951974 0.31746973653\n",
      "285 0.316295951974 0.31746973653\n",
      "286 0.316295951974 0.31746973653\n",
      "287 0.316295951974 0.31746973653\n",
      "288 0.316295951974 0.31746973653\n",
      "289 0.316295951974 0.31746973653\n",
      "290 0.316295951974 0.31746973653\n",
      "291 0.316295951974 0.31746973653\n",
      "292 0.316295951974 0.31746973653\n",
      "293 0.316295951974 0.31746973653\n",
      "294 0.316295951974 0.31746973653\n",
      "295 0.316295951974 0.31746973653\n",
      "296 0.316295951974 0.31746973653\n",
      "297 0.316295951974 0.31746973653\n",
      "298 0.316295951974 0.31746973653\n",
      "299 0.316295951974 0.31746973653\n",
      "300 0.316295951974 0.31746973653\n",
      "301 0.316295951974 0.31746973653\n",
      "302 0.316295951974 0.31746973653\n",
      "303 0.316295951974 0.31746973653\n",
      "304 0.316295951974 0.31746973653\n",
      "305 0.316295951974 0.31746973653\n",
      "306 0.316295951974 0.31746973653\n",
      "307 0.316295951974 0.31746973653\n",
      "308 0.316295951974 0.31746973653\n",
      "309 0.316295951974 0.31746973653\n",
      "310 0.316295951974 0.31746973653\n",
      "311 0.316295951974 0.31746973653\n",
      "312 0.316295951974 0.31746973653\n",
      "313 0.316295951974 0.31746973653\n",
      "314 0.316295951974 0.31746973653\n",
      "315 0.316295951974 0.31746973653\n",
      "316 0.316295951974 0.31746973653\n",
      "317 0.316295951974 0.31746973653\n",
      "318 0.316295951974 0.31746973653\n",
      "319 0.316295951974 0.31746973653\n",
      "320 0.316295951974 0.31746973653\n",
      "321 0.316295951974 0.31746973653\n",
      "322 0.316295951974 0.31746973653\n",
      "323 0.316295951974 0.31746973653\n",
      "324 0.316295951974 0.31746973653\n",
      "325 0.316295951974 0.31746973653\n",
      "326 0.316295951974 0.31746973653\n",
      "327 0.316295951974 0.31746973653\n",
      "328 0.316295951974 0.31746973653\n",
      "329 0.316295951974 0.31746973653\n",
      "330 0.316295951974 0.31746973653\n",
      "331 0.316295951974 0.31746973653\n",
      "332 0.316295951974 0.31746973653\n",
      "333 0.316295951974 0.31746973653\n",
      "334 0.316295951974 0.31746973653\n",
      "335 0.316295951974 0.31746973653\n",
      "336 0.316295951974 0.31746973653\n",
      "337 0.316295951974 0.31746973653\n",
      "338 0.316295951974 0.31746973653\n",
      "339 0.316295951974 0.31746973653\n",
      "340 0.316295951974 0.31746973653\n"
     ]
    },
    {
     "ename": "KeyboardInterrupt",
     "evalue": "",
     "output_type": "error",
     "traceback": [
      "\u001b[0;31m---------------------------------------------------------------------------\u001b[0m",
      "\u001b[0;31mKeyboardInterrupt\u001b[0m                         Traceback (most recent call last)",
      "\u001b[0;32m<ipython-input-159-bb10d462492f>\u001b[0m in \u001b[0;36m<module>\u001b[0;34m()\u001b[0m\n\u001b[1;32m     53\u001b[0m     \u001b[0mtrain_acc\u001b[0m \u001b[0;34m=\u001b[0m \u001b[0mnp\u001b[0m\u001b[0;34m.\u001b[0m\u001b[0mmean\u001b[0m\u001b[0;34m(\u001b[0m\u001b[0mnp\u001b[0m\u001b[0;34m.\u001b[0m\u001b[0margmax\u001b[0m\u001b[0;34m(\u001b[0m\u001b[0myTrain\u001b[0m\u001b[0;34m,\u001b[0m \u001b[0maxis\u001b[0m\u001b[0;34m=\u001b[0m\u001b[0;36m1\u001b[0m\u001b[0;34m)\u001b[0m \u001b[0;34m==\u001b[0m \u001b[0mpredict\u001b[0m\u001b[0;34m(\u001b[0m\u001b[0mxTrain\u001b[0m\u001b[0;34m)\u001b[0m\u001b[0;34m)\u001b[0m\u001b[0;34m\u001b[0m\u001b[0m\n\u001b[1;32m     54\u001b[0m \u001b[0;34m\u001b[0m\u001b[0m\n\u001b[0;32m---> 55\u001b[0;31m     \u001b[0mtest_acc\u001b[0m \u001b[0;34m=\u001b[0m \u001b[0mnp\u001b[0m\u001b[0;34m.\u001b[0m\u001b[0mmean\u001b[0m\u001b[0;34m(\u001b[0m\u001b[0mnp\u001b[0m\u001b[0;34m.\u001b[0m\u001b[0margmax\u001b[0m\u001b[0;34m(\u001b[0m\u001b[0myTest\u001b[0m\u001b[0;34m,\u001b[0m \u001b[0maxis\u001b[0m\u001b[0;34m=\u001b[0m\u001b[0;36m1\u001b[0m\u001b[0;34m)\u001b[0m \u001b[0;34m==\u001b[0m \u001b[0mpredict\u001b[0m\u001b[0;34m(\u001b[0m\u001b[0mxTest\u001b[0m\u001b[0;34m)\u001b[0m\u001b[0;34m)\u001b[0m\u001b[0;34m\u001b[0m\u001b[0m\n\u001b[0m\u001b[1;32m     56\u001b[0m \u001b[0;34m\u001b[0m\u001b[0m\n\u001b[1;32m     57\u001b[0m     \u001b[0mtest_scores\u001b[0m\u001b[0;34m.\u001b[0m\u001b[0mappend\u001b[0m\u001b[0;34m(\u001b[0m\u001b[0mtest_acc\u001b[0m\u001b[0;34m)\u001b[0m\u001b[0;34m\u001b[0m\u001b[0m\n",
      "\u001b[0;32m/Users/LucasRamadan/anaconda/lib/python2.7/site-packages/theano/compile/function_module.pyc\u001b[0m in \u001b[0;36m__call__\u001b[0;34m(self, *args, **kwargs)\u001b[0m\n\u001b[1;32m    857\u001b[0m         \u001b[0mt0_fn\u001b[0m \u001b[0;34m=\u001b[0m \u001b[0mtime\u001b[0m\u001b[0;34m.\u001b[0m\u001b[0mtime\u001b[0m\u001b[0;34m(\u001b[0m\u001b[0;34m)\u001b[0m\u001b[0;34m\u001b[0m\u001b[0m\n\u001b[1;32m    858\u001b[0m         \u001b[0;32mtry\u001b[0m\u001b[0;34m:\u001b[0m\u001b[0;34m\u001b[0m\u001b[0m\n\u001b[0;32m--> 859\u001b[0;31m             \u001b[0moutputs\u001b[0m \u001b[0;34m=\u001b[0m \u001b[0mself\u001b[0m\u001b[0;34m.\u001b[0m\u001b[0mfn\u001b[0m\u001b[0;34m(\u001b[0m\u001b[0;34m)\u001b[0m\u001b[0;34m\u001b[0m\u001b[0m\n\u001b[0m\u001b[1;32m    860\u001b[0m         \u001b[0;32mexcept\u001b[0m \u001b[0mException\u001b[0m\u001b[0;34m:\u001b[0m\u001b[0;34m\u001b[0m\u001b[0m\n\u001b[1;32m    861\u001b[0m             \u001b[0;32mif\u001b[0m \u001b[0mhasattr\u001b[0m\u001b[0;34m(\u001b[0m\u001b[0mself\u001b[0m\u001b[0;34m.\u001b[0m\u001b[0mfn\u001b[0m\u001b[0;34m,\u001b[0m \u001b[0;34m'position_of_error'\u001b[0m\u001b[0;34m)\u001b[0m\u001b[0;34m:\u001b[0m\u001b[0;34m\u001b[0m\u001b[0m\n",
      "\u001b[0;32m/Users/LucasRamadan/anaconda/lib/python2.7/site-packages/theano/gof/op.pyc\u001b[0m in \u001b[0;36mrval\u001b[0;34m(p, i, o, n)\u001b[0m\n\u001b[1;32m    909\u001b[0m         \u001b[0;32mif\u001b[0m \u001b[0mparams\u001b[0m \u001b[0;32mis\u001b[0m \u001b[0mgraph\u001b[0m\u001b[0;34m.\u001b[0m\u001b[0mNoParams\u001b[0m\u001b[0;34m:\u001b[0m\u001b[0;34m\u001b[0m\u001b[0m\n\u001b[1;32m    910\u001b[0m             \u001b[0;31m# default arguments are stored in the closure of `rval`\u001b[0m\u001b[0;34m\u001b[0m\u001b[0;34m\u001b[0m\u001b[0m\n\u001b[0;32m--> 911\u001b[0;31m             \u001b[0;32mdef\u001b[0m \u001b[0mrval\u001b[0m\u001b[0;34m(\u001b[0m\u001b[0mp\u001b[0m\u001b[0;34m=\u001b[0m\u001b[0mp\u001b[0m\u001b[0;34m,\u001b[0m \u001b[0mi\u001b[0m\u001b[0;34m=\u001b[0m\u001b[0mnode_input_storage\u001b[0m\u001b[0;34m,\u001b[0m \u001b[0mo\u001b[0m\u001b[0;34m=\u001b[0m\u001b[0mnode_output_storage\u001b[0m\u001b[0;34m,\u001b[0m \u001b[0mn\u001b[0m\u001b[0;34m=\u001b[0m\u001b[0mnode\u001b[0m\u001b[0;34m)\u001b[0m\u001b[0;34m:\u001b[0m\u001b[0;34m\u001b[0m\u001b[0m\n\u001b[0m\u001b[1;32m    912\u001b[0m                 \u001b[0mr\u001b[0m \u001b[0;34m=\u001b[0m \u001b[0mp\u001b[0m\u001b[0;34m(\u001b[0m\u001b[0mn\u001b[0m\u001b[0;34m,\u001b[0m \u001b[0;34m[\u001b[0m\u001b[0mx\u001b[0m\u001b[0;34m[\u001b[0m\u001b[0;36m0\u001b[0m\u001b[0;34m]\u001b[0m \u001b[0;32mfor\u001b[0m \u001b[0mx\u001b[0m \u001b[0;32min\u001b[0m \u001b[0mi\u001b[0m\u001b[0;34m]\u001b[0m\u001b[0;34m,\u001b[0m \u001b[0mo\u001b[0m\u001b[0;34m)\u001b[0m\u001b[0;34m\u001b[0m\u001b[0m\n\u001b[1;32m    913\u001b[0m                 \u001b[0;32mfor\u001b[0m \u001b[0mo\u001b[0m \u001b[0;32min\u001b[0m \u001b[0mnode\u001b[0m\u001b[0;34m.\u001b[0m\u001b[0moutputs\u001b[0m\u001b[0;34m:\u001b[0m\u001b[0;34m\u001b[0m\u001b[0m\n",
      "\u001b[0;31mKeyboardInterrupt\u001b[0m: "
     ]
    }
   ],
   "source": [
    "def floatX(X):\n",
    "    return np.asarray(X, dtype=theano.config.floatX)\n",
    "\n",
    "def init_weights(shape):\n",
    "    (h, w) = shape\n",
    "    normalizer = 2.0 * sqrt(6) / sqrt(h + w) * 0.1  #factors: correct for uni[0,1], glo, glo, softmax deriv\n",
    "    return theano.shared(floatX((np.random.random_sample(shape) - 0.5) * normalizer))  #code for using Glorot init\n",
    "\n",
    "def RMSprop(cost, params, lr=0.001, rho=0.9, epsilon=1e-6):\n",
    "    grads = T.grad(cost=cost, wrt=params)\n",
    "    updates = []\n",
    "    for p, g in zip(params, grads):\n",
    "        acc = theano.shared(p.get_value() * 0.)\n",
    "        acc_new = rho * acc + (1 - rho) * g ** 2\n",
    "        gradient_scaling = T.sqrt(acc_new + epsilon)\n",
    "        g = g / gradient_scaling\n",
    "        updates.append((acc, acc_new))\n",
    "        updates.append((p, p - lr * g))\n",
    "    return updates\n",
    "\n",
    "def model(X, w_h, w_o):\n",
    "    h = T.nnet.sigmoid(T.dot(X, w_h))\n",
    "    pyx = T.nnet.softmax(T.dot(h, w_o))\n",
    "    return pyx\n",
    "\n",
    "X = T.fmatrix()\n",
    "Y = T.fmatrix()\n",
    "\n",
    "w_h = init_weights((105, 600))\n",
    "w_o = init_weights((600, 6))\n",
    "\n",
    "py_x = model(X, w_h, w_o)\n",
    "y_pred = T.argmax(py_x, axis=1)\n",
    "\n",
    "cost = T.mean(T.nnet.categorical_crossentropy(py_x, Y))\n",
    "params = [w_h, w_o]\n",
    "\n",
    "update = RMSprop(cost, params, lr=0.005)\n",
    "\n",
    "train = theano.function(inputs=[X, Y], outputs=cost, updates=update, allow_input_downcast=True)\n",
    "predict = theano.function(inputs=[X], outputs=y_pred, allow_input_downcast=True)\n",
    "\n",
    "costs = []\n",
    "train_scores = []\n",
    "test_scores = []\n",
    "\n",
    "for i in range(501):\n",
    "    for start, end in zip(range(0, len(xTrain), 128), range(128, len(xTrain), 128)):\n",
    "        cost = train(xTrain[start:end], yTrain[start:end])\n",
    "    \n",
    "    costs.append(cost)\n",
    "    \n",
    "    train_acc = np.mean(np.argmax(yTrain, axis=1) == predict(xTrain))\n",
    "    \n",
    "    test_acc = np.mean(np.argmax(yTest, axis=1) == predict(xTest))\n",
    "    \n",
    "    test_scores.append(test_acc)\n",
    "    train_scores.append(train_acc)\n",
    "    \n",
    "    print i, train_acc, test_acc"
   ]
  },
  {
   "cell_type": "code",
   "execution_count": 160,
   "metadata": {
    "ExecuteTime": {
     "end_time": "2016-05-07T18:25:20.189075",
     "start_time": "2016-05-07T18:25:19.824812"
    },
    "collapsed": false,
    "hide_input": true,
    "run_control": {
     "frozen": false,
     "read_only": false
    }
   },
   "outputs": [
    {
     "data": {
      "image/png": "[encoded data removed]",
      "text/plain": [
       "<matplotlib.figure.Figure at 0x1180e4710>"
      ]
     },
     "metadata": {},
     "output_type": "display_data"
    }
   ],
   "source": [
    "plt.plot(train_scores, label='train')\n",
    "plt.plot(test_scores, label='test')\n",
    "plt.xlabel('Steps')\n",
    "plt.ylabel('Accuracy')\n",
    "plt.legend(loc=2);"
   ]
  },
  {
   "cell_type": "code",
   "execution_count": 161,
   "metadata": {
    "ExecuteTime": {
     "end_time": "2016-05-07T18:25:20.484909",
     "start_time": "2016-05-07T18:25:20.191455"
    },
    "collapsed": false,
    "hide_input": true,
    "run_control": {
     "frozen": false,
     "read_only": false
    }
   },
   "outputs": [
    {
     "data": {
      "image/png": "[encoded data removed]",
      "text/plain": [
       "<matplotlib.figure.Figure at 0x11f968f90>"
      ]
     },
     "metadata": {},
     "output_type": "display_data"
    }
   ],
   "source": [
    "plt.plot(costs);"
   ]
  },
  {
   "cell_type": "markdown",
   "metadata": {},
   "source": [
    "### So we're clearly having a problem, where Gradients are vanishing"
   ]
  },
  {
   "cell_type": "markdown",
   "metadata": {},
   "source": [
    "## Adding convolution complexity"
   ]
  },
  {
   "cell_type": "code",
   "execution_count": null,
   "metadata": {
    "collapsed": true,
    "run_control": {
     "frozen": false,
     "read_only": false
    }
   },
   "outputs": [],
   "source": []
  },
  {
   "cell_type": "markdown",
   "metadata": {},
   "source": [
    "## Now add Recurrent"
   ]
  },
  {
   "cell_type": "code",
   "execution_count": null,
   "metadata": {
    "collapsed": true,
    "run_control": {
     "frozen": false,
     "read_only": false
    }
   },
   "outputs": [],
   "source": []
  },
  {
   "cell_type": "markdown",
   "metadata": {},
   "source": [
    "## Batch Normalization"
   ]
  },
  {
   "cell_type": "code",
   "execution_count": null,
   "metadata": {
    "collapsed": true,
    "run_control": {
     "frozen": false,
     "read_only": false
    }
   },
   "outputs": [],
   "source": []
  }
 ],
 "metadata": {
  "kernelspec": {
   "display_name": "Python 2",
   "language": "python",
   "name": "python2"
  },
  "language_info": {
   "codemirror_mode": {
    "name": "ipython",
    "version": 2
   },
   "file_extension": ".py",
   "mimetype": "text/x-python",
   "name": "python",
   "nbconvert_exporter": "python",
   "pygments_lexer": "ipython2",
   "version": "2.7.11"
  }
 },
 "nbformat": 4,
 "nbformat_minor": 0
}
