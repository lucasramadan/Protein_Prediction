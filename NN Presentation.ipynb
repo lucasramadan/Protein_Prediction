{
 "cells": [
  {
   "cell_type": "markdown",
   "metadata": {},
   "source": [
    "Predicting Fold-State of Proteins \n",
    "=========="
   ]
  },
  {
   "cell_type": "code",
   "execution_count": 46,
   "metadata": {
    "ExecuteTime": {
     "end_time": "2016-05-07T16:33:17.349447",
     "start_time": "2016-05-07T16:33:17.345310"
    },
    "collapsed": true,
    "hide_input": false,
    "run_control": {
     "frozen": false,
     "read_only": false
    }
   },
   "outputs": [],
   "source": [
    "import warnings\n",
    "warnings.filterwarnings('ignore')"
   ]
  },
  {
   "cell_type": "code",
   "execution_count": 164,
   "metadata": {
    "ExecuteTime": {
     "end_time": "2016-05-09T10:57:57.404622",
     "start_time": "2016-05-09T10:57:57.307311"
    },
    "collapsed": false,
    "hide_input": false,
    "init_cell": true,
    "run_control": {
     "frozen": false,
     "read_only": false
    }
   },
   "outputs": [],
   "source": [
    "from collections import Counter\n",
    "import pandas as pd\n",
    "import numpy as np\n",
    "import matplotlib.pyplot as plt \n",
    "import seaborn as sns\n",
    "%matplotlib inline"
   ]
  },
  {
   "cell_type": "markdown",
   "metadata": {},
   "source": [
    "# Why do we care about modeling fold state?"
   ]
  },
  {
   "cell_type": "markdown",
   "metadata": {},
   "source": [
    "<img  src=\"Screen Shot 2016-05-08 at 10.17.03 PM.png\"/>"
   ]
  },
  {
   "cell_type": "markdown",
   "metadata": {
    "hide_input": true
   },
   "source": [
    "### What a protein looks like:"
   ]
  },
  {
   "cell_type": "markdown",
   "metadata": {},
   "source": [
    "<img  src=\"85262_large.jpg\"/>"
   ]
  },
  {
   "cell_type": "code",
   "execution_count": 165,
   "metadata": {
    "ExecuteTime": {
     "end_time": "2016-05-09T10:57:57.547967",
     "start_time": "2016-05-09T10:57:57.408478"
    },
    "collapsed": true,
    "hide_input": false,
    "init_cell": true,
    "run_control": {
     "frozen": false,
     "read_only": false
    }
   },
   "outputs": [],
   "source": [
    "seq = pd.read_csv('sequences.csv').drop('Unnamed: 0', axis=1).values.reshape((-1,))"
   ]
  },
  {
   "cell_type": "markdown",
   "metadata": {},
   "source": [
    "### How the protein is encoded for us:"
   ]
  },
  {
   "cell_type": "markdown",
   "metadata": {},
   "source": [
    "<img  src=\"AA_code.png\" height=400 width=400/>"
   ]
  },
  {
   "cell_type": "markdown",
   "metadata": {},
   "source": [
    "<img  src=\"protein_seq.jpg\"/>"
   ]
  },
  {
   "cell_type": "markdown",
   "metadata": {},
   "source": [
    "### What our actual data looks like:"
   ]
  },
  {
   "cell_type": "code",
   "execution_count": 15,
   "metadata": {
    "ExecuteTime": {
     "end_time": "2016-05-07T16:01:15.236278",
     "start_time": "2016-05-07T16:01:15.231569"
    },
    "collapsed": false,
    "hide_input": false,
    "run_control": {
     "frozen": false,
     "read_only": false
    }
   },
   "outputs": [
    {
     "name": "stdout",
     "output_type": "stream",
     "text": [
      "['V' 'L' 'S' 'P' 'A' 'D' 'K' 'T' 'N' 'V' 'K' 'A' 'A' 'W' 'G' 'K' 'V' 'G'\n",
      " 'A' 'H' 'A' 'G' 'E' 'Y' 'G' 'A' 'E' 'A' 'L' 'E' 'R' 'M' 'F' 'L' 'S' 'F'\n",
      " 'P' 'T' 'T' 'K' 'T' 'Y' 'F' 'P' 'H' 'F' 'D' 'L' 'S' 'H' 'G' 'S' 'A' 'Q'\n",
      " 'V' 'K' 'G' 'H' 'G' 'K' 'K' 'V' 'A' 'D' 'A' 'L' 'T' 'N' 'A' 'V' 'A' 'H'\n",
      " 'V' 'D' 'D' 'M' 'P' 'N' 'A' 'L' 'S' 'A' 'L' 'S' 'D' 'L' 'H' 'A' 'H' 'K'\n",
      " 'L' 'R' 'V' 'D' 'P' 'V' 'N' 'F' 'K' 'L']\n"
     ]
    }
   ],
   "source": [
    "print seq[:100]"
   ]
  },
  {
   "cell_type": "markdown",
   "metadata": {},
   "source": [
    "### How this relates to Structure"
   ]
  },
  {
   "cell_type": "markdown",
   "metadata": {},
   "source": [
    "<img  src=\"figure1.png\"/>"
   ]
  },
  {
   "cell_type": "markdown",
   "metadata": {},
   "source": [
    "<img  src=\"proteins-and-amino-acids-32-638.jpg\"/>"
   ]
  },
  {
   "cell_type": "markdown",
   "metadata": {},
   "source": [
    "### Fold States:"
   ]
  },
  {
   "cell_type": "code",
   "execution_count": 135,
   "metadata": {
    "ExecuteTime": {
     "end_time": "2016-05-07T17:34:55.186248",
     "start_time": "2016-05-07T17:34:55.125465"
    },
    "collapsed": false,
    "hide_input": true,
    "run_control": {
     "frozen": false,
     "read_only": false
    }
   },
   "outputs": [],
   "source": [
    "labels = pd.read_csv('5_formatted_labels.csv').drop('Unnamed: 0', axis=1).values.reshape((-1,))"
   ]
  },
  {
   "cell_type": "code",
   "execution_count": 137,
   "metadata": {
    "ExecuteTime": {
     "end_time": "2016-05-07T17:35:19.446862",
     "start_time": "2016-05-07T17:35:19.442856"
    },
    "collapsed": false,
    "hide_input": true,
    "run_control": {
     "frozen": false,
     "read_only": false
    }
   },
   "outputs": [],
   "source": [
    "fold_map = dict(zip(range(6), [\"H\", \"E\", \"T\", \"S\", \"B\", \"U\"]))"
   ]
  },
  {
   "cell_type": "code",
   "execution_count": 138,
   "metadata": {
    "ExecuteTime": {
     "end_time": "2016-05-07T17:35:21.119326",
     "start_time": "2016-05-07T17:35:21.020757"
    },
    "collapsed": false,
    "hide_input": true,
    "run_control": {
     "frozen": false,
     "read_only": false
    }
   },
   "outputs": [],
   "source": [
    "folds = np.asarray([fold_map[state] for state in labels])"
   ]
  },
  {
   "cell_type": "code",
   "execution_count": 139,
   "metadata": {
    "ExecuteTime": {
     "end_time": "2016-05-07T17:35:21.748563",
     "start_time": "2016-05-07T17:35:21.743138"
    },
    "collapsed": false,
    "hide_input": true,
    "run_control": {
     "frozen": false,
     "read_only": false
    }
   },
   "outputs": [
    {
     "name": "stdout",
     "output_type": "stream",
     "text": [
      "['U' 'U' 'H' 'H' 'H' 'H' 'H' 'H' 'H' 'H' 'H' 'H' 'H' 'H' 'H' 'H' 'H' 'H'\n",
      " 'H' 'H' 'H' 'H' 'H' 'H' 'H' 'H' 'H' 'H' 'H' 'H' 'H' 'H' 'H' 'H' 'U' 'H'\n",
      " 'H' 'H' 'H' 'H' 'H' 'U' 'T' 'T' 'S' 'U' 'U' 'S' 'T' 'T' 'U' 'H' 'H' 'H'\n",
      " 'H' 'H' 'H' 'H' 'H' 'H' 'H' 'H' 'H' 'H' 'H' 'H' 'H' 'H' 'H' 'H' 'T' 'T'\n",
      " 'T' 'S' 'H' 'H' 'H' 'H' 'T' 'H' 'H' 'H' 'H' 'H' 'H' 'H' 'H' 'H' 'T' 'T'\n",
      " 'U' 'U' 'U' 'T' 'H' 'H' 'H' 'H' 'H' 'H']\n"
     ]
    }
   ],
   "source": [
    "print folds[:100]"
   ]
  },
  {
   "cell_type": "markdown",
   "metadata": {},
   "source": [
    "### Together"
   ]
  },
  {
   "cell_type": "code",
   "execution_count": 61,
   "metadata": {
    "ExecuteTime": {
     "end_time": "2016-05-07T16:41:23.057494",
     "start_time": "2016-05-07T16:41:22.977249"
    },
    "collapsed": false,
    "hide_input": true,
    "run_control": {
     "frozen": false,
     "read_only": false
    }
   },
   "outputs": [
    {
     "data": {
      "text/html": [
       "<div>\n",
       "<table border=\"1\" class=\"dataframe\">\n",
       "  <thead>\n",
       "    <tr style=\"text-align: right;\">\n",
       "      <th></th>\n",
       "      <th></th>\n",
       "      <th></th>\n",
       "      <th></th>\n",
       "      <th></th>\n",
       "      <th></th>\n",
       "      <th></th>\n",
       "      <th></th>\n",
       "      <th></th>\n",
       "      <th></th>\n",
       "      <th></th>\n",
       "      <th>...</th>\n",
       "      <th></th>\n",
       "      <th></th>\n",
       "      <th></th>\n",
       "      <th></th>\n",
       "      <th></th>\n",
       "      <th></th>\n",
       "      <th></th>\n",
       "      <th></th>\n",
       "      <th></th>\n",
       "      <th></th>\n",
       "    </tr>\n",
       "  </thead>\n",
       "  <tbody>\n",
       "    <tr>\n",
       "      <th>Fold</th>\n",
       "      <td>U</td>\n",
       "      <td>U</td>\n",
       "      <td>H</td>\n",
       "      <td>H</td>\n",
       "      <td>H</td>\n",
       "      <td>H</td>\n",
       "      <td>H</td>\n",
       "      <td>H</td>\n",
       "      <td>H</td>\n",
       "      <td>H</td>\n",
       "      <td>...</td>\n",
       "      <td>U</td>\n",
       "      <td>U</td>\n",
       "      <td>U</td>\n",
       "      <td>T</td>\n",
       "      <td>H</td>\n",
       "      <td>H</td>\n",
       "      <td>H</td>\n",
       "      <td>H</td>\n",
       "      <td>H</td>\n",
       "      <td>H</td>\n",
       "    </tr>\n",
       "    <tr>\n",
       "      <th>AA</th>\n",
       "      <td>V</td>\n",
       "      <td>L</td>\n",
       "      <td>S</td>\n",
       "      <td>P</td>\n",
       "      <td>A</td>\n",
       "      <td>D</td>\n",
       "      <td>K</td>\n",
       "      <td>T</td>\n",
       "      <td>N</td>\n",
       "      <td>V</td>\n",
       "      <td>...</td>\n",
       "      <td>L</td>\n",
       "      <td>R</td>\n",
       "      <td>V</td>\n",
       "      <td>D</td>\n",
       "      <td>P</td>\n",
       "      <td>V</td>\n",
       "      <td>N</td>\n",
       "      <td>F</td>\n",
       "      <td>K</td>\n",
       "      <td>L</td>\n",
       "    </tr>\n",
       "  </tbody>\n",
       "</table>\n",
       "<p>2 rows × 100 columns</p>\n",
       "</div>"
      ],
      "text/plain": [
       "                                   ...                              \n",
       "Fold  U  U  H  H  H  H  H  H  H  H ...  U  U  U  T  H  H  H  H  H  H\n",
       "AA    V  L  S  P  A  D  K  T  N  V ...  L  R  V  D  P  V  N  F  K  L\n",
       "\n",
       "[2 rows x 100 columns]"
      ]
     },
     "execution_count": 61,
     "metadata": {},
     "output_type": "execute_result"
    }
   ],
   "source": [
    "pd.DataFrame([folds[:100], seq[:100]], index=['Fold', 'AA'], columns=['']*100)"
   ]
  },
  {
   "cell_type": "code",
   "execution_count": 56,
   "metadata": {
    "ExecuteTime": {
     "end_time": "2016-05-07T16:38:46.980375",
     "start_time": "2016-05-07T16:38:46.858344"
    },
    "collapsed": false,
    "hide_input": true,
    "run_control": {
     "frozen": false,
     "read_only": false
    }
   },
   "outputs": [],
   "source": [
    "counts = Counter(folds)\n",
    "percents = [v*1.0 / sum(counts.values()) for v in counts.values()]\n",
    "\n",
    "perc = dict(zip(counts.keys(), percents))"
   ]
  },
  {
   "cell_type": "markdown",
   "metadata": {},
   "source": [
    "### Imbalanced Classes"
   ]
  },
  {
   "cell_type": "code",
   "execution_count": 57,
   "metadata": {
    "ExecuteTime": {
     "end_time": "2016-05-07T16:38:51.038873",
     "start_time": "2016-05-07T16:38:50.749242"
    },
    "collapsed": false,
    "hide_input": true,
    "run_control": {
     "frozen": false,
     "read_only": false
    }
   },
   "outputs": [
    {
     "data": {
      "image/png": "[encoded data removed]",
      "text/plain": [
       "<matplotlib.figure.Figure at 0x11c1eaa10>"
      ]
     },
     "metadata": {},
     "output_type": "display_data"
    }
   ],
   "source": [
    "plt.bar(range(len(perc)), perc.values(), tick_label=perc.keys(), align='center')\n",
    "sns.set_style('white')\n",
    "sns.despine();"
   ]
  },
  {
   "cell_type": "markdown",
   "metadata": {},
   "source": [
    "### Recall:"
   ]
  },
  {
   "cell_type": "markdown",
   "metadata": {},
   "source": [
    "<img  src=\"cbow.png\" height=400 width=400/>"
   ]
  },
  {
   "cell_type": "markdown",
   "metadata": {},
   "source": [
    "### How our data is really formatted"
   ]
  },
  {
   "cell_type": "code",
   "execution_count": 63,
   "metadata": {
    "ExecuteTime": {
     "end_time": "2016-05-07T17:02:23.016432",
     "start_time": "2016-05-07T17:02:20.338881"
    },
    "collapsed": false,
    "hide_input": true,
    "run_control": {
     "frozen": false,
     "read_only": false
    }
   },
   "outputs": [
    {
     "data": {
      "text/html": [
       "<div>\n",
       "<table border=\"1\" class=\"dataframe\">\n",
       "  <thead>\n",
       "    <tr style=\"text-align: right;\">\n",
       "      <th></th>\n",
       "      <th>A-2</th>\n",
       "      <th>C-2</th>\n",
       "      <th>D-2</th>\n",
       "      <th>E-2</th>\n",
       "      <th>F-2</th>\n",
       "      <th>G-2</th>\n",
       "      <th>H-2</th>\n",
       "      <th>I-2</th>\n",
       "      <th>K-2</th>\n",
       "      <th>L-2</th>\n",
       "      <th>...</th>\n",
       "      <th>N2</th>\n",
       "      <th>P2</th>\n",
       "      <th>Q2</th>\n",
       "      <th>R2</th>\n",
       "      <th>S2</th>\n",
       "      <th>T2</th>\n",
       "      <th>V2</th>\n",
       "      <th>W2</th>\n",
       "      <th>Y2</th>\n",
       "      <th>-2</th>\n",
       "    </tr>\n",
       "  </thead>\n",
       "  <tbody>\n",
       "    <tr>\n",
       "      <th>0</th>\n",
       "      <td>0.0</td>\n",
       "      <td>0.0</td>\n",
       "      <td>0.0</td>\n",
       "      <td>0.0</td>\n",
       "      <td>0.0</td>\n",
       "      <td>0.0</td>\n",
       "      <td>0.0</td>\n",
       "      <td>0.0</td>\n",
       "      <td>0.0</td>\n",
       "      <td>0.0</td>\n",
       "      <td>...</td>\n",
       "      <td>0.0</td>\n",
       "      <td>0.0</td>\n",
       "      <td>0.0</td>\n",
       "      <td>0.0</td>\n",
       "      <td>1.0</td>\n",
       "      <td>0.0</td>\n",
       "      <td>0.0</td>\n",
       "      <td>0.0</td>\n",
       "      <td>0.0</td>\n",
       "      <td>0.0</td>\n",
       "    </tr>\n",
       "    <tr>\n",
       "      <th>1</th>\n",
       "      <td>0.0</td>\n",
       "      <td>0.0</td>\n",
       "      <td>0.0</td>\n",
       "      <td>0.0</td>\n",
       "      <td>0.0</td>\n",
       "      <td>0.0</td>\n",
       "      <td>0.0</td>\n",
       "      <td>0.0</td>\n",
       "      <td>0.0</td>\n",
       "      <td>0.0</td>\n",
       "      <td>...</td>\n",
       "      <td>0.0</td>\n",
       "      <td>1.0</td>\n",
       "      <td>0.0</td>\n",
       "      <td>0.0</td>\n",
       "      <td>0.0</td>\n",
       "      <td>0.0</td>\n",
       "      <td>0.0</td>\n",
       "      <td>0.0</td>\n",
       "      <td>0.0</td>\n",
       "      <td>0.0</td>\n",
       "    </tr>\n",
       "    <tr>\n",
       "      <th>2</th>\n",
       "      <td>0.0</td>\n",
       "      <td>0.0</td>\n",
       "      <td>0.0</td>\n",
       "      <td>0.0</td>\n",
       "      <td>0.0</td>\n",
       "      <td>0.0</td>\n",
       "      <td>0.0</td>\n",
       "      <td>0.0</td>\n",
       "      <td>0.0</td>\n",
       "      <td>0.0</td>\n",
       "      <td>...</td>\n",
       "      <td>0.0</td>\n",
       "      <td>0.0</td>\n",
       "      <td>0.0</td>\n",
       "      <td>0.0</td>\n",
       "      <td>0.0</td>\n",
       "      <td>0.0</td>\n",
       "      <td>0.0</td>\n",
       "      <td>0.0</td>\n",
       "      <td>0.0</td>\n",
       "      <td>0.0</td>\n",
       "    </tr>\n",
       "    <tr>\n",
       "      <th>3</th>\n",
       "      <td>0.0</td>\n",
       "      <td>0.0</td>\n",
       "      <td>0.0</td>\n",
       "      <td>0.0</td>\n",
       "      <td>0.0</td>\n",
       "      <td>0.0</td>\n",
       "      <td>0.0</td>\n",
       "      <td>0.0</td>\n",
       "      <td>0.0</td>\n",
       "      <td>1.0</td>\n",
       "      <td>...</td>\n",
       "      <td>0.0</td>\n",
       "      <td>0.0</td>\n",
       "      <td>0.0</td>\n",
       "      <td>0.0</td>\n",
       "      <td>0.0</td>\n",
       "      <td>0.0</td>\n",
       "      <td>0.0</td>\n",
       "      <td>0.0</td>\n",
       "      <td>0.0</td>\n",
       "      <td>0.0</td>\n",
       "    </tr>\n",
       "    <tr>\n",
       "      <th>4</th>\n",
       "      <td>0.0</td>\n",
       "      <td>0.0</td>\n",
       "      <td>0.0</td>\n",
       "      <td>0.0</td>\n",
       "      <td>0.0</td>\n",
       "      <td>0.0</td>\n",
       "      <td>0.0</td>\n",
       "      <td>0.0</td>\n",
       "      <td>0.0</td>\n",
       "      <td>0.0</td>\n",
       "      <td>...</td>\n",
       "      <td>0.0</td>\n",
       "      <td>0.0</td>\n",
       "      <td>0.0</td>\n",
       "      <td>0.0</td>\n",
       "      <td>0.0</td>\n",
       "      <td>0.0</td>\n",
       "      <td>0.0</td>\n",
       "      <td>0.0</td>\n",
       "      <td>0.0</td>\n",
       "      <td>0.0</td>\n",
       "    </tr>\n",
       "  </tbody>\n",
       "</table>\n",
       "<p>5 rows × 105 columns</p>\n",
       "</div>"
      ],
      "text/plain": [
       "   A-2  C-2  D-2  E-2  F-2  G-2  H-2  I-2  K-2  L-2 ...    N2   P2   Q2   R2  \\\n",
       "0  0.0  0.0  0.0  0.0  0.0  0.0  0.0  0.0  0.0  0.0 ...   0.0  0.0  0.0  0.0   \n",
       "1  0.0  0.0  0.0  0.0  0.0  0.0  0.0  0.0  0.0  0.0 ...   0.0  1.0  0.0  0.0   \n",
       "2  0.0  0.0  0.0  0.0  0.0  0.0  0.0  0.0  0.0  0.0 ...   0.0  0.0  0.0  0.0   \n",
       "3  0.0  0.0  0.0  0.0  0.0  0.0  0.0  0.0  0.0  1.0 ...   0.0  0.0  0.0  0.0   \n",
       "4  0.0  0.0  0.0  0.0  0.0  0.0  0.0  0.0  0.0  0.0 ...   0.0  0.0  0.0  0.0   \n",
       "\n",
       "    S2   T2   V2   W2   Y2   -2  \n",
       "0  1.0  0.0  0.0  0.0  0.0  0.0  \n",
       "1  0.0  0.0  0.0  0.0  0.0  0.0  \n",
       "2  0.0  0.0  0.0  0.0  0.0  0.0  \n",
       "3  0.0  0.0  0.0  0.0  0.0  0.0  \n",
       "4  0.0  0.0  0.0  0.0  0.0  0.0  \n",
       "\n",
       "[5 rows x 105 columns]"
      ]
     },
     "execution_count": 63,
     "metadata": {},
     "output_type": "execute_result"
    }
   ],
   "source": [
    "skip_data = pd.read_csv('5_formatted_fixed.csv').drop('Unnamed: 0', axis=1)\n",
    "skip_data.head()"
   ]
  },
  {
   "cell_type": "markdown",
   "metadata": {},
   "source": [
    "### Take for an example:"
   ]
  },
  {
   "cell_type": "code",
   "execution_count": 65,
   "metadata": {
    "ExecuteTime": {
     "end_time": "2016-05-07T17:02:58.335989",
     "start_time": "2016-05-07T17:02:58.330108"
    },
    "collapsed": false,
    "run_control": {
     "frozen": false,
     "read_only": false
    }
   },
   "outputs": [
    {
     "name": "stdout",
     "output_type": "stream",
     "text": [
      "['V' 'L' 'S' 'P' 'A']\n"
     ]
    }
   ],
   "source": [
    "print seq[:5]"
   ]
  },
  {
   "cell_type": "code",
   "execution_count": 68,
   "metadata": {
    "ExecuteTime": {
     "end_time": "2016-05-07T17:04:25.685017",
     "start_time": "2016-05-07T17:04:25.678619"
    },
    "collapsed": false,
    "run_control": {
     "frozen": false,
     "read_only": false
    }
   },
   "outputs": [
    {
     "data": {
      "text/plain": [
       "['V-2', 'L-1', 'S0', 'P1', 'A2']"
      ]
     },
     "execution_count": 68,
     "metadata": {},
     "output_type": "execute_result"
    }
   ],
   "source": [
    "['V-2', 'L-1', 'S0', 'P1', 'A2']"
   ]
  },
  {
   "cell_type": "code",
   "execution_count": 108,
   "metadata": {
    "ExecuteTime": {
     "end_time": "2016-05-07T17:17:30.802335",
     "start_time": "2016-05-07T17:17:30.725530"
    },
    "collapsed": false,
    "hide_input": true,
    "run_control": {
     "frozen": false,
     "read_only": false
    }
   },
   "outputs": [
    {
     "data": {
      "text/html": [
       "<div>\n",
       "<table border=\"1\" class=\"dataframe\">\n",
       "  <thead>\n",
       "    <tr style=\"text-align: right;\">\n",
       "      <th></th>\n",
       "      <th></th>\n",
       "      <th></th>\n",
       "      <th></th>\n",
       "      <th></th>\n",
       "      <th></th>\n",
       "      <th></th>\n",
       "      <th></th>\n",
       "      <th></th>\n",
       "      <th></th>\n",
       "      <th></th>\n",
       "      <th>...</th>\n",
       "      <th></th>\n",
       "      <th></th>\n",
       "      <th></th>\n",
       "      <th></th>\n",
       "      <th></th>\n",
       "      <th></th>\n",
       "      <th></th>\n",
       "      <th></th>\n",
       "      <th></th>\n",
       "      <th></th>\n",
       "    </tr>\n",
       "  </thead>\n",
       "  <tbody>\n",
       "    <tr>\n",
       "      <th>AA</th>\n",
       "      <td>A-2</td>\n",
       "      <td>C-2</td>\n",
       "      <td>D-2</td>\n",
       "      <td>E-2</td>\n",
       "      <td>F-2</td>\n",
       "      <td>G-2</td>\n",
       "      <td>H-2</td>\n",
       "      <td>I-2</td>\n",
       "      <td>K-2</td>\n",
       "      <td>L-2</td>\n",
       "      <td>...</td>\n",
       "      <td>N2</td>\n",
       "      <td>P2</td>\n",
       "      <td>Q2</td>\n",
       "      <td>R2</td>\n",
       "      <td>S2</td>\n",
       "      <td>T2</td>\n",
       "      <td>V2</td>\n",
       "      <td>W2</td>\n",
       "      <td>Y2</td>\n",
       "      <td>-2</td>\n",
       "    </tr>\n",
       "    <tr>\n",
       "      <th></th>\n",
       "      <td>0</td>\n",
       "      <td>0</td>\n",
       "      <td>0</td>\n",
       "      <td>0</td>\n",
       "      <td>0</td>\n",
       "      <td>0</td>\n",
       "      <td>0</td>\n",
       "      <td>0</td>\n",
       "      <td>0</td>\n",
       "      <td>0</td>\n",
       "      <td>...</td>\n",
       "      <td>0</td>\n",
       "      <td>0</td>\n",
       "      <td>0</td>\n",
       "      <td>0</td>\n",
       "      <td>0</td>\n",
       "      <td>0</td>\n",
       "      <td>0</td>\n",
       "      <td>0</td>\n",
       "      <td>0</td>\n",
       "      <td>0</td>\n",
       "    </tr>\n",
       "  </tbody>\n",
       "</table>\n",
       "<p>2 rows × 105 columns</p>\n",
       "</div>"
      ],
      "text/plain": [
       "                                                     ...                      \\\n",
       "AA  A-2  C-2  D-2  E-2  F-2  G-2  H-2  I-2  K-2  L-2 ...  N2  P2  Q2  R2  S2   \n",
       "      0    0    0    0    0    0    0    0    0    0 ...   0   0   0   0   0   \n",
       "\n",
       "                        \n",
       "AA  T2  V2  W2  Y2  -2  \n",
       "     0   0   0   0   0  \n",
       "\n",
       "[2 rows x 105 columns]"
      ]
     },
     "execution_count": 108,
     "metadata": {},
     "output_type": "execute_result"
    }
   ],
   "source": [
    "ex0 = skip_data.ix[2]\n",
    "pd.DataFrame([ex0.index, ex0.values], index=['AA', ''], columns=['']*105)"
   ]
  },
  {
   "cell_type": "markdown",
   "metadata": {},
   "source": [
    "# Simple Feed Forward Neural Network:"
   ]
  },
  {
   "cell_type": "code",
   "execution_count": 110,
   "metadata": {
    "ExecuteTime": {
     "end_time": "2016-05-07T17:24:49.194573",
     "start_time": "2016-05-07T17:24:48.184168"
    },
    "collapsed": true,
    "hide_input": true,
    "run_control": {
     "frozen": false,
     "read_only": false
    }
   },
   "outputs": [],
   "source": [
    "import theano\n",
    "from theano import tensor as T\n",
    "from theano.sandbox.rng_mrg import MRG_RandomStreams as RandomStreams\n",
    "\n",
    "from sklearn.cross_validation import train_test_split\n",
    "from math import sqrt"
   ]
  },
  {
   "cell_type": "code",
   "execution_count": 152,
   "metadata": {
    "ExecuteTime": {
     "end_time": "2016-05-07T17:38:35.157904",
     "start_time": "2016-05-07T17:38:32.155789"
    },
    "collapsed": false,
    "hide_input": false,
    "run_control": {
     "frozen": false,
     "read_only": false
    }
   },
   "outputs": [
    {
     "name": "stdout",
     "output_type": "stream",
     "text": [
      "(134815, 105) (134815, 6)\n"
     ]
    }
   ],
   "source": [
    "data = pd.read_csv('5_formatted_fixed.csv').drop('Unnamed: 0', axis=1)\n",
    "labels = pd.read_csv('5_formatted_fixed_labels.csv').drop('Unnamed: 0', axis=1)\n",
    "print data.shape, labels.shape"
   ]
  },
  {
   "cell_type": "code",
   "execution_count": 153,
   "metadata": {
    "ExecuteTime": {
     "end_time": "2016-05-07T17:38:39.697483",
     "start_time": "2016-05-07T17:38:39.255029"
    },
    "collapsed": false,
    "hide_input": false,
    "run_control": {
     "frozen": false,
     "read_only": false
    }
   },
   "outputs": [
    {
     "name": "stdout",
     "output_type": "stream",
     "text": [
      "(101111, 105) (101111, 6) (33704, 105) (33704, 6)\n"
     ]
    }
   ],
   "source": [
    "xTrain, xTest, yTrain, yTest = train_test_split(np.asarray(data), np.asarray(labels))\n",
    "print xTrain.shape, yTrain.shape, xTest.shape, yTest.shape"
   ]
  },
  {
   "cell_type": "code",
   "execution_count": 159,
   "metadata": {
    "ExecuteTime": {
     "end_time": "2016-05-07T18:25:16.565690",
     "start_time": "2016-05-07T17:54:43.058130"
    },
    "collapsed": false,
    "hide_input": false,
    "run_control": {
     "frozen": false,
     "read_only": false
    },
    "scrolled": true
   },
   "outputs": [
    {
     "name": "stdout",
     "output_type": "stream",
     "text": [
      "0 0.460573033597 0.462467362924\n",
      "1 0.478038986856 0.480239734156\n",
      "2 0.485960973583 0.487835271778\n",
      "3 0.498096151754 0.500029670069\n",
      "4 0.545885215258 0.548480892476\n",
      "5 0.556586325919 0.557826964159\n",
      "6 0.559256658524 0.559963209115\n",
      "7 0.565952270277 0.564947780679\n",
      "8 0.572499530219 0.571564206029\n",
      "9 0.577048985768 0.576430097318\n",
      "10 0.581143495762 0.580079515784\n",
      "11 0.583873169091 0.583372893425\n",
      "12 0.586187457349 0.58631023024\n",
      "13 0.590034714324 0.589336577261\n",
      "14 0.594000652748 0.593193686209\n",
      "15 0.598965493369 0.595359601234\n",
      "16 0.602970992276 0.599187040114\n",
      "17 0.605730335967 0.601798006171\n",
      "18 0.608885284489 0.604408972229\n",
      "19 0.610932539486 0.606604557323\n",
      "20 0.614413861993 0.60820674104\n",
      "21 0.617479799428 0.610194635652\n",
      "22 0.619358922372 0.611055067648\n",
      "23 0.621584199543 0.612597911227\n",
      "24 0.623601784178 0.614200094944\n",
      "25 0.62597541316 0.615179207216\n",
      "26 0.627666623809 0.615772608592\n",
      "27 0.629585307237 0.61737479231\n",
      "28 0.631503990664 0.618175884168\n",
      "29 0.6338083888 0.618976976027\n",
      "30 0.636290809111 0.619362686921\n",
      "31 0.638199602417 0.619985758367\n",
      "32 0.640246857414 0.621261571327\n",
      "33 0.642373233377 0.622151673392\n",
      "34 0.64449960934 0.621676952291\n",
      "35 0.647031480254 0.622537384287\n",
      "36 0.648683130421 0.622893425113\n",
      "37 0.650908407592 0.623931877522\n",
      "38 0.652411705947 0.623397816283\n",
      "39 0.654043575872 0.623664846902\n",
      "40 0.655685335918 0.624139568004\n",
      "41 0.65689193065 0.624347258486\n",
      "42 0.659087537459 0.62550439117\n",
      "43 0.660897429558 0.626186802753\n",
      "44 0.662321606947 0.626424163304\n",
      "45 0.664171059529 0.626691193924\n",
      "46 0.66602051211 0.62704723475\n",
      "47 0.667197436481 0.627699976264\n",
      "48 0.669205130995 0.627818656539\n",
      "49 0.670253483795 0.627670306195\n",
      "50 0.672023815411 0.628234037503\n",
      "51 0.673279860747 0.628619748398\n",
      "52 0.674931510914 0.628590078329\n",
      "53 0.676672172167 0.629569190601\n",
      "54 0.67775019533 0.629124139568\n",
      "55 0.678758987647 0.629242819843\n",
      "56 0.680291956365 0.629687870876\n",
      "57 0.681854595445 0.63034061239\n",
      "58 0.684000751649 0.631349394731\n",
      "59 0.684969983483 0.630934013767\n",
      "60 0.686532622563 0.63010325184\n",
      "61 0.688253503575 0.630370282459\n",
      "62 0.689588669878 0.63060764301\n",
      "63 0.690815044852 0.630429622597\n",
      "64 0.692506255501 0.630459292666\n",
      "65 0.693960103253 0.63111203418\n",
      "66 0.695591973178 0.632180156658\n",
      "67 0.696966699963 0.632180156658\n",
      "68 0.698252415662 0.631824115832\n",
      "69 0.699706263413 0.631794445763\n",
      "70 0.700813956938 0.632091146451\n",
      "71 0.703197476041 0.63339662948\n",
      "72 0.704423851015 0.634286731545\n",
      "73 0.705670006231 0.634286731545\n",
      "74 0.707410667484 0.634642772371\n",
      "75 0.708894185598 0.635028483266\n",
      "76 0.710011769244 0.634850462853\n",
      "77 0.711811771222 0.635236173748\n",
      "78 0.712929354867 0.634880132922\n",
      "79 0.713789795373 0.634464751958\n",
      "80 0.71531287397 0.634731782578\n",
      "81 0.716242545321 0.635028483266\n",
      "82 0.717459030175 0.635354854023\n",
      "83 0.719041449496 0.635977925469\n",
      "84 0.72052496761 0.636304296226\n",
      "85 0.722245848622 0.637075718016\n",
      "86 0.723670026011 0.637491098979\n",
      "87 0.725153544125 0.638470211251\n",
      "88 0.726627172118 0.638410871113\n",
      "89 0.728259042043 0.638529551389\n",
      "90 0.729366735568 0.638766911939\n",
      "91 0.730978825251 0.639746024211\n",
      "92 0.732590914935 0.640606456207\n",
      "93 0.733639267735 0.641318537859\n",
      "94 0.735023884642 0.642208639924\n",
      "95 0.735735973336 0.642089959649\n",
      "96 0.737130480363 0.643247092333\n",
      "97 0.738475536786 0.643276762402\n",
      "98 0.739870043813 0.644196534536\n",
      "99 0.741116199029 0.644315214811\n",
      "100 0.742164551829 0.644048184192\n",
      "101 0.742995321973 0.644018514123\n",
      "102 0.744459059845 0.644908616188\n",
      "103 0.745131588057 0.645175646808\n",
      "104 0.746397523514 0.645353667221\n",
      "105 0.747346975107 0.645205316876\n",
      "106 0.748345877303 0.644433895087\n",
      "107 0.750046978074 0.644285544742\n",
      "108 0.75104588027 0.643988844054\n",
      "109 0.752311815727 0.643810823641\n",
      "110 0.753340388286 0.644137194398\n",
      "111 0.754556873139 0.643899833848\n",
      "112 0.75574368763 0.644285544742\n",
      "113 0.757227205744 0.644789935913\n",
      "114 0.758552481926 0.644878946119\n",
      "115 0.760026109919 0.645353667221\n",
      "116 0.761064572598 0.64511630667\n",
      "117 0.762142595761 0.645650367909\n",
      "118 0.763715124962 0.646332779492\n",
      "119 0.765109631989 0.646718490387\n",
      "120 0.766355787204 0.646303109423\n",
      "121 0.767681063386 0.646807500593\n",
      "122 0.768877767998 0.647193211488\n",
      "123 0.769619527054 0.647519582245\n",
      "124 0.771459089515 0.648231663897\n",
      "125 0.772616233644 0.648469024448\n",
      "126 0.773931619705 0.6491811061\n",
      "127 0.774960192264 0.649626157133\n",
      "128 0.776008545064 0.650100878234\n",
      "129 0.776918436174 0.650812959886\n",
      "130 0.778342613563 0.650545929267\n",
      "131 0.779638219383 0.650872300024\n",
      "132 0.780736022787 0.651436031332\n",
      "133 0.782130529814 0.651673391882\n",
      "134 0.783673388652 0.652326133397\n",
      "135 0.785147016645 0.653097555186\n",
      "136 0.786086578117 0.653661286494\n",
      "137 0.786996469227 0.653720626632\n",
      "138 0.788242624442 0.653542606219\n",
      "139 0.78937998833 0.653690956563\n",
      "140 0.790725044753 0.65377996677\n",
      "141 0.791634935863 0.654403038215\n",
      "142 0.79291076144 0.654670068835\n",
      "143 0.793840432792 0.654848089248\n",
      "144 0.795195379336 0.655589840968\n",
      "145 0.796738238174 0.656598623309\n",
      "146 0.797816261337 0.656598623309\n",
      "147 0.798914064741 0.656895323997\n",
      "148 0.79968549416 0.656835983859\n",
      "149 0.800773407443 0.657043674341\n",
      "150 0.801604177587 0.657043674341\n",
      "151 0.802454727972 0.657251364823\n",
      "152 0.803384399324 0.657281034892\n",
      "153 0.804373411399 0.6578447662\n",
      "154 0.805530555528 0.65834915737\n",
      "155 0.806836051468 0.658230477095\n",
      "156 0.807864624027 0.658260147164\n",
      "157 0.808408580669 0.658319487301\n",
      "158 0.80973385685 0.658111796819\n",
      "159 0.810653638081 0.658141466888\n",
      "160 0.8114250675 0.658467837645\n",
      "161 0.81207781547 0.657963446475\n",
      "162 0.813205289237 0.65834915737\n",
      "163 0.814629466626 0.65912057916\n",
      "164 0.815658039185 0.65885354854\n",
      "165 0.816627271019 0.658883218609\n",
      "166 0.817754744785 0.659506290055\n",
      "167 0.818644855654 0.659031568953\n",
      "168 0.81951518628 0.65912057916\n",
      "169 0.820247055217 0.658764538334\n",
      "170 0.821186616689 0.658556847852\n",
      "171 0.822304200334 0.658942558747\n",
      "172 0.823263542048 0.659535960123\n",
      "173 0.823975630742 0.659268929504\n",
      "174 0.825004203301 0.659150249229\n",
      "175 0.825923984532 0.65935793971\n",
      "176 0.826833875642 0.65962497033\n",
      "177 0.827644865544 0.659535960123\n",
      "178 0.828802009673 0.6601293615\n",
      "179 0.829533878609 0.66039639212\n",
      "180 0.830552561047 0.66063375267\n",
      "181 0.831571243485 0.661256824116\n",
      "182 0.832392123508 0.661553524804\n",
      "183 0.833183333168 0.661583194873\n",
      "184 0.833638278723 0.661494184667\n",
      "185 0.834429488384 0.661494184667\n",
      "186 0.835092126475 0.661939235699\n",
      "187 0.836170149638 0.66167220508\n",
      "188 0.836882238332 0.661761215286\n",
      "189 0.837722898597 0.662265606456\n",
      "190 0.838474547774 0.662473296938\n",
      "191 0.839008614295 0.662324946594\n",
      "192 0.839819604197 0.662710657489\n",
      "193 0.840600923737 0.663304058865\n",
      "194 0.841392133398 0.66318537859\n",
      "195 0.842213013421 0.663096368384\n",
      "196 0.842845981149 0.662591977213\n",
      "197 0.843469058757 0.663244718728\n",
      "198 0.844131696848 0.663096368384\n",
      "199 0.844853675663 0.663066698315\n",
      "200 0.845664665566 0.662859007833\n",
      "201 0.846347083898 0.662799667695\n",
      "202 0.847227304645 0.662473296938\n",
      "203 0.84781082177 0.662740327558\n",
      "204 0.848621811672 0.663155708521\n",
      "205 0.849521812661 0.663037028246\n",
      "206 0.316295951974 0.31746973653\n",
      "207 0.316295951974 0.31746973653\n",
      "208 0.316295951974 0.31746973653\n",
      "209 0.316295951974 0.31746973653\n",
      "210 0.316295951974 0.31746973653\n",
      "211 0.316295951974 0.31746973653\n",
      "212 0.316295951974 0.31746973653\n",
      "213 0.316295951974 0.31746973653\n",
      "214 0.316295951974 0.31746973653\n",
      "215 0.316295951974 0.31746973653\n",
      "216 0.316295951974 0.31746973653\n",
      "217 0.316295951974 0.31746973653\n",
      "218 0.316295951974 0.31746973653\n",
      "219 0.316295951974 0.31746973653\n",
      "220 0.316295951974 0.31746973653\n",
      "221 0.316295951974 0.31746973653\n",
      "222 0.316295951974 0.31746973653\n",
      "223 0.316295951974 0.31746973653\n",
      "224 0.316295951974 0.31746973653\n",
      "225 0.316295951974 0.31746973653\n",
      "226 0.316295951974 0.31746973653\n",
      "227 0.316295951974 0.31746973653\n",
      "228 0.316295951974 0.31746973653\n",
      "229 0.316295951974 0.31746973653\n",
      "230 0.316295951974 0.31746973653\n",
      "231 0.316295951974 0.31746973653\n",
      "232 0.316295951974 0.31746973653\n",
      "233 0.316295951974 0.31746973653\n",
      "234 0.316295951974 0.31746973653\n",
      "235 0.316295951974 0.31746973653\n",
      "236 0.316295951974 0.31746973653\n",
      "237 0.316295951974 0.31746973653\n",
      "238 0.316295951974 0.31746973653\n",
      "239 0.316295951974 0.31746973653\n",
      "240 0.316295951974 0.31746973653\n",
      "241 0.316295951974 0.31746973653\n",
      "242 0.316295951974 0.31746973653\n",
      "243 0.316295951974 0.31746973653\n",
      "244 0.316295951974 0.31746973653\n",
      "245 0.316295951974 0.31746973653\n",
      "246 0.316295951974 0.31746973653\n",
      "247 0.316295951974 0.31746973653\n",
      "248 0.316295951974 0.31746973653\n",
      "249 0.316295951974 0.31746973653\n",
      "250 0.316295951974 0.31746973653\n",
      "251 0.316295951974 0.31746973653\n",
      "252 0.316295951974 0.31746973653\n",
      "253 0.316295951974 0.31746973653\n",
      "254 0.316295951974 0.31746973653\n",
      "255 0.316295951974 0.31746973653\n",
      "256 0.316295951974 0.31746973653\n",
      "257 0.316295951974 0.31746973653\n",
      "258 0.316295951974 0.31746973653\n",
      "259 0.316295951974 0.31746973653\n",
      "260 0.316295951974 0.31746973653\n",
      "261 0.316295951974 0.31746973653\n",
      "262 0.316295951974 0.31746973653\n",
      "263 0.316295951974 0.31746973653\n",
      "264 0.316295951974 0.31746973653\n",
      "265 0.316295951974 0.31746973653\n",
      "266 0.316295951974 0.31746973653\n",
      "267 0.316295951974 0.31746973653\n",
      "268 0.316295951974 0.31746973653\n",
      "269 0.316295951974 0.31746973653\n",
      "270 0.316295951974 0.31746973653\n",
      "271 0.316295951974 0.31746973653\n",
      "272 0.316295951974 0.31746973653\n",
      "273 0.316295951974 0.31746973653\n",
      "274 0.316295951974 0.31746973653\n",
      "275 0.316295951974 0.31746973653\n",
      "276 0.316295951974 0.31746973653\n",
      "277 0.316295951974 0.31746973653\n",
      "278 0.316295951974 0.31746973653\n",
      "279 0.316295951974 0.31746973653\n",
      "280 0.316295951974 0.31746973653\n",
      "281 0.316295951974 0.31746973653\n",
      "282 0.316295951974 0.31746973653\n",
      "283 0.316295951974 0.31746973653\n",
      "284 0.316295951974 0.31746973653\n",
      "285 0.316295951974 0.31746973653\n",
      "286 0.316295951974 0.31746973653\n",
      "287 0.316295951974 0.31746973653\n",
      "288 0.316295951974 0.31746973653\n",
      "289 0.316295951974 0.31746973653\n",
      "290 0.316295951974 0.31746973653\n",
      "291 0.316295951974 0.31746973653\n",
      "292 0.316295951974 0.31746973653\n",
      "293 0.316295951974 0.31746973653\n",
      "294 0.316295951974 0.31746973653\n",
      "295 0.316295951974 0.31746973653\n",
      "296 0.316295951974 0.31746973653\n",
      "297 0.316295951974 0.31746973653\n",
      "298 0.316295951974 0.31746973653\n",
      "299 0.316295951974 0.31746973653\n",
      "300 0.316295951974 0.31746973653\n",
      "301 0.316295951974 0.31746973653\n",
      "302 0.316295951974 0.31746973653\n",
      "303 0.316295951974 0.31746973653\n",
      "304 0.316295951974 0.31746973653\n",
      "305 0.316295951974 0.31746973653\n",
      "306 0.316295951974 0.31746973653\n",
      "307 0.316295951974 0.31746973653\n",
      "308 0.316295951974 0.31746973653\n",
      "309 0.316295951974 0.31746973653\n",
      "310 0.316295951974 0.31746973653\n",
      "311 0.316295951974 0.31746973653\n",
      "312 0.316295951974 0.31746973653\n",
      "313 0.316295951974 0.31746973653\n",
      "314 0.316295951974 0.31746973653\n",
      "315 0.316295951974 0.31746973653\n",
      "316 0.316295951974 0.31746973653\n",
      "317 0.316295951974 0.31746973653\n",
      "318 0.316295951974 0.31746973653\n",
      "319 0.316295951974 0.31746973653\n",
      "320 0.316295951974 0.31746973653\n",
      "321 0.316295951974 0.31746973653\n",
      "322 0.316295951974 0.31746973653\n",
      "323 0.316295951974 0.31746973653\n",
      "324 0.316295951974 0.31746973653\n",
      "325 0.316295951974 0.31746973653\n",
      "326 0.316295951974 0.31746973653\n",
      "327 0.316295951974 0.31746973653\n",
      "328 0.316295951974 0.31746973653\n",
      "329 0.316295951974 0.31746973653\n",
      "330 0.316295951974 0.31746973653\n",
      "331 0.316295951974 0.31746973653\n",
      "332 0.316295951974 0.31746973653\n",
      "333 0.316295951974 0.31746973653\n",
      "334 0.316295951974 0.31746973653\n",
      "335 0.316295951974 0.31746973653\n",
      "336 0.316295951974 0.31746973653\n",
      "337 0.316295951974 0.31746973653\n",
      "338 0.316295951974 0.31746973653\n",
      "339 0.316295951974 0.31746973653\n",
      "340 0.316295951974 0.31746973653\n"
     ]
    },
    {
     "ename": "KeyboardInterrupt",
     "evalue": "",
     "output_type": "error",
     "traceback": [
      "\u001b[0;31m---------------------------------------------------------------------------\u001b[0m",
      "\u001b[0;31mKeyboardInterrupt\u001b[0m                         Traceback (most recent call last)",
      "\u001b[0;32m<ipython-input-159-bb10d462492f>\u001b[0m in \u001b[0;36m<module>\u001b[0;34m()\u001b[0m\n\u001b[1;32m     53\u001b[0m     \u001b[0mtrain_acc\u001b[0m \u001b[0;34m=\u001b[0m \u001b[0mnp\u001b[0m\u001b[0;34m.\u001b[0m\u001b[0mmean\u001b[0m\u001b[0;34m(\u001b[0m\u001b[0mnp\u001b[0m\u001b[0;34m.\u001b[0m\u001b[0margmax\u001b[0m\u001b[0;34m(\u001b[0m\u001b[0myTrain\u001b[0m\u001b[0;34m,\u001b[0m \u001b[0maxis\u001b[0m\u001b[0;34m=\u001b[0m\u001b[0;36m1\u001b[0m\u001b[0;34m)\u001b[0m \u001b[0;34m==\u001b[0m \u001b[0mpredict\u001b[0m\u001b[0;34m(\u001b[0m\u001b[0mxTrain\u001b[0m\u001b[0;34m)\u001b[0m\u001b[0;34m)\u001b[0m\u001b[0;34m\u001b[0m\u001b[0m\n\u001b[1;32m     54\u001b[0m \u001b[0;34m\u001b[0m\u001b[0m\n\u001b[0;32m---> 55\u001b[0;31m     \u001b[0mtest_acc\u001b[0m \u001b[0;34m=\u001b[0m \u001b[0mnp\u001b[0m\u001b[0;34m.\u001b[0m\u001b[0mmean\u001b[0m\u001b[0;34m(\u001b[0m\u001b[0mnp\u001b[0m\u001b[0;34m.\u001b[0m\u001b[0margmax\u001b[0m\u001b[0;34m(\u001b[0m\u001b[0myTest\u001b[0m\u001b[0;34m,\u001b[0m \u001b[0maxis\u001b[0m\u001b[0;34m=\u001b[0m\u001b[0;36m1\u001b[0m\u001b[0;34m)\u001b[0m \u001b[0;34m==\u001b[0m \u001b[0mpredict\u001b[0m\u001b[0;34m(\u001b[0m\u001b[0mxTest\u001b[0m\u001b[0;34m)\u001b[0m\u001b[0;34m)\u001b[0m\u001b[0;34m\u001b[0m\u001b[0m\n\u001b[0m\u001b[1;32m     56\u001b[0m \u001b[0;34m\u001b[0m\u001b[0m\n\u001b[1;32m     57\u001b[0m     \u001b[0mtest_scores\u001b[0m\u001b[0;34m.\u001b[0m\u001b[0mappend\u001b[0m\u001b[0;34m(\u001b[0m\u001b[0mtest_acc\u001b[0m\u001b[0;34m)\u001b[0m\u001b[0;34m\u001b[0m\u001b[0m\n",
      "\u001b[0;32m/Users/LucasRamadan/anaconda/lib/python2.7/site-packages/theano/compile/function_module.pyc\u001b[0m in \u001b[0;36m__call__\u001b[0;34m(self, *args, **kwargs)\u001b[0m\n\u001b[1;32m    857\u001b[0m         \u001b[0mt0_fn\u001b[0m \u001b[0;34m=\u001b[0m \u001b[0mtime\u001b[0m\u001b[0;34m.\u001b[0m\u001b[0mtime\u001b[0m\u001b[0;34m(\u001b[0m\u001b[0;34m)\u001b[0m\u001b[0;34m\u001b[0m\u001b[0m\n\u001b[1;32m    858\u001b[0m         \u001b[0;32mtry\u001b[0m\u001b[0;34m:\u001b[0m\u001b[0;34m\u001b[0m\u001b[0m\n\u001b[0;32m--> 859\u001b[0;31m             \u001b[0moutputs\u001b[0m \u001b[0;34m=\u001b[0m \u001b[0mself\u001b[0m\u001b[0;34m.\u001b[0m\u001b[0mfn\u001b[0m\u001b[0;34m(\u001b[0m\u001b[0;34m)\u001b[0m\u001b[0;34m\u001b[0m\u001b[0m\n\u001b[0m\u001b[1;32m    860\u001b[0m         \u001b[0;32mexcept\u001b[0m \u001b[0mException\u001b[0m\u001b[0;34m:\u001b[0m\u001b[0;34m\u001b[0m\u001b[0m\n\u001b[1;32m    861\u001b[0m             \u001b[0;32mif\u001b[0m \u001b[0mhasattr\u001b[0m\u001b[0;34m(\u001b[0m\u001b[0mself\u001b[0m\u001b[0;34m.\u001b[0m\u001b[0mfn\u001b[0m\u001b[0;34m,\u001b[0m \u001b[0;34m'position_of_error'\u001b[0m\u001b[0;34m)\u001b[0m\u001b[0;34m:\u001b[0m\u001b[0;34m\u001b[0m\u001b[0m\n",
      "\u001b[0;32m/Users/LucasRamadan/anaconda/lib/python2.7/site-packages/theano/gof/op.pyc\u001b[0m in \u001b[0;36mrval\u001b[0;34m(p, i, o, n)\u001b[0m\n\u001b[1;32m    909\u001b[0m         \u001b[0;32mif\u001b[0m \u001b[0mparams\u001b[0m \u001b[0;32mis\u001b[0m \u001b[0mgraph\u001b[0m\u001b[0;34m.\u001b[0m\u001b[0mNoParams\u001b[0m\u001b[0;34m:\u001b[0m\u001b[0;34m\u001b[0m\u001b[0m\n\u001b[1;32m    910\u001b[0m             \u001b[0;31m# default arguments are stored in the closure of `rval`\u001b[0m\u001b[0;34m\u001b[0m\u001b[0;34m\u001b[0m\u001b[0m\n\u001b[0;32m--> 911\u001b[0;31m             \u001b[0;32mdef\u001b[0m \u001b[0mrval\u001b[0m\u001b[0;34m(\u001b[0m\u001b[0mp\u001b[0m\u001b[0;34m=\u001b[0m\u001b[0mp\u001b[0m\u001b[0;34m,\u001b[0m \u001b[0mi\u001b[0m\u001b[0;34m=\u001b[0m\u001b[0mnode_input_storage\u001b[0m\u001b[0;34m,\u001b[0m \u001b[0mo\u001b[0m\u001b[0;34m=\u001b[0m\u001b[0mnode_output_storage\u001b[0m\u001b[0;34m,\u001b[0m \u001b[0mn\u001b[0m\u001b[0;34m=\u001b[0m\u001b[0mnode\u001b[0m\u001b[0;34m)\u001b[0m\u001b[0;34m:\u001b[0m\u001b[0;34m\u001b[0m\u001b[0m\n\u001b[0m\u001b[1;32m    912\u001b[0m                 \u001b[0mr\u001b[0m \u001b[0;34m=\u001b[0m \u001b[0mp\u001b[0m\u001b[0;34m(\u001b[0m\u001b[0mn\u001b[0m\u001b[0;34m,\u001b[0m \u001b[0;34m[\u001b[0m\u001b[0mx\u001b[0m\u001b[0;34m[\u001b[0m\u001b[0;36m0\u001b[0m\u001b[0;34m]\u001b[0m \u001b[0;32mfor\u001b[0m \u001b[0mx\u001b[0m \u001b[0;32min\u001b[0m \u001b[0mi\u001b[0m\u001b[0;34m]\u001b[0m\u001b[0;34m,\u001b[0m \u001b[0mo\u001b[0m\u001b[0;34m)\u001b[0m\u001b[0;34m\u001b[0m\u001b[0m\n\u001b[1;32m    913\u001b[0m                 \u001b[0;32mfor\u001b[0m \u001b[0mo\u001b[0m \u001b[0;32min\u001b[0m \u001b[0mnode\u001b[0m\u001b[0;34m.\u001b[0m\u001b[0moutputs\u001b[0m\u001b[0;34m:\u001b[0m\u001b[0;34m\u001b[0m\u001b[0m\n",
      "\u001b[0;31mKeyboardInterrupt\u001b[0m: "
     ]
    }
   ],
   "source": [
    "def floatX(X):\n",
    "    return np.asarray(X, dtype=theano.config.floatX)\n",
    "\n",
    "def init_weights(shape):\n",
    "    (h, w) = shape\n",
    "    normalizer = 2.0 * sqrt(6) / sqrt(h + w) * 0.1  #factors: correct for uni[0,1], glo, glo, softmax deriv\n",
    "    return theano.shared(floatX((np.random.random_sample(shape) - 0.5) * normalizer))  #code for using Glorot init\n",
    "\n",
    "def RMSprop(cost, params, lr=0.001, rho=0.9, epsilon=1e-6):\n",
    "    grads = T.grad(cost=cost, wrt=params)\n",
    "    updates = []\n",
    "    for p, g in zip(params, grads):\n",
    "        acc = theano.shared(p.get_value() * 0.)\n",
    "        acc_new = rho * acc + (1 - rho) * g ** 2\n",
    "        gradient_scaling = T.sqrt(acc_new + epsilon)\n",
    "        g = g / gradient_scaling\n",
    "        updates.append((acc, acc_new))\n",
    "        updates.append((p, p - lr * g))\n",
    "    return updates\n",
    "\n",
    "def model(X, w_h, w_o):\n",
    "    h = T.nnet.sigmoid(T.dot(X, w_h))\n",
    "    pyx = T.nnet.softmax(T.dot(h, w_o))\n",
    "    return pyx\n",
    "\n",
    "X = T.fmatrix()\n",
    "Y = T.fmatrix()\n",
    "\n",
    "w_h = init_weights((105, 600))\n",
    "w_o = init_weights((600, 6))\n",
    "\n",
    "py_x = model(X, w_h, w_o)\n",
    "y_pred = T.argmax(py_x, axis=1)\n",
    "\n",
    "cost = T.mean(T.nnet.categorical_crossentropy(py_x, Y))\n",
    "params = [w_h, w_o]\n",
    "\n",
    "update = RMSprop(cost, params, lr=0.005)\n",
    "\n",
    "train = theano.function(inputs=[X, Y], outputs=cost, updates=update, allow_input_downcast=True)\n",
    "predict = theano.function(inputs=[X], outputs=y_pred, allow_input_downcast=True)\n",
    "\n",
    "costs = []\n",
    "train_scores = []\n",
    "test_scores = []\n",
    "\n",
    "for i in range(501):\n",
    "    for start, end in zip(range(0, len(xTrain), 128), range(128, len(xTrain), 128)):\n",
    "        cost = train(xTrain[start:end], yTrain[start:end])\n",
    "    \n",
    "    costs.append(cost)\n",
    "    \n",
    "    train_acc = np.mean(np.argmax(yTrain, axis=1) == predict(xTrain))\n",
    "    \n",
    "    test_acc = np.mean(np.argmax(yTest, axis=1) == predict(xTest))\n",
    "    \n",
    "    test_scores.append(test_acc)\n",
    "    train_scores.append(train_acc)\n",
    "    \n",
    "    print i, train_acc, test_acc"
   ]
  },
  {
   "cell_type": "code",
   "execution_count": 160,
   "metadata": {
    "ExecuteTime": {
     "end_time": "2016-05-07T18:25:20.189075",
     "start_time": "2016-05-07T18:25:19.824812"
    },
    "collapsed": false,
    "hide_input": true,
    "run_control": {
     "frozen": false,
     "read_only": false
    }
   },
   "outputs": [
    {
     "data": {
      "image/png": "[encoded data removed]",
      "text/plain": [
       "<matplotlib.figure.Figure at 0x1180e4710>"
      ]
     },
     "metadata": {},
     "output_type": "display_data"
    }
   ],
   "source": [
    "plt.plot(train_scores, label='train')\n",
    "plt.plot(test_scores, label='test')\n",
    "plt.xlabel('Steps')\n",
    "plt.ylabel('Accuracy')\n",
    "plt.legend(loc=2);"
   ]
  },
  {
   "cell_type": "code",
   "execution_count": 161,
   "metadata": {
    "ExecuteTime": {
     "end_time": "2016-05-07T18:25:20.484909",
     "start_time": "2016-05-07T18:25:20.191455"
    },
    "collapsed": false,
    "hide_input": true,
    "run_control": {
     "frozen": false,
     "read_only": false
    }
   },
   "outputs": [
    {
     "data": {
      "image/png": "[encoded data removed]",
      "text/plain": [
       "<matplotlib.figure.Figure at 0x11f968f90>"
      ]
     },
     "metadata": {},
     "output_type": "display_data"
    }
   ],
   "source": [
    "plt.plot(costs);"
   ]
  },
  {
   "cell_type": "markdown",
   "metadata": {},
   "source": [
    "### It took me a while to realize, but what seems to be happening is that the weights are going to zero. In this case, all of our predictions are going to be for class zero. Class zero corresponds to fold state H. Due to the class imbalance, the p(H) is this ~32% accuracy, which explains the constant accuracy score. "
   ]
  },
  {
   "cell_type": "markdown",
   "metadata": {},
   "source": [
    "### Thus, the Gradients must be vanishing"
   ]
  },
  {
   "cell_type": "markdown",
   "metadata": {},
   "source": [
    "## Adding convolution complexity"
   ]
  },
  {
   "cell_type": "markdown",
   "metadata": {},
   "source": [
    "#### Returning to our example"
   ]
  },
  {
   "cell_type": "code",
   "execution_count": 186,
   "metadata": {
    "ExecuteTime": {
     "end_time": "2016-05-09T11:22:09.454635",
     "start_time": "2016-05-09T11:22:09.449743"
    },
    "collapsed": false
   },
   "outputs": [
    {
     "name": "stdout",
     "output_type": "stream",
     "text": [
      "['V' 'L' 'S' 'P' 'A']\n"
     ]
    }
   ],
   "source": [
    "print seq[0:5]"
   ]
  },
  {
   "cell_type": "code",
   "execution_count": 178,
   "metadata": {
    "ExecuteTime": {
     "end_time": "2016-05-09T11:16:09.798603",
     "start_time": "2016-05-09T11:16:09.779436"
    },
    "collapsed": false
   },
   "outputs": [
    {
     "data": {
      "text/plain": [
       "['V-2', 'L-1', 'S0', 'P1', 'A2']"
      ]
     },
     "execution_count": 178,
     "metadata": {},
     "output_type": "execute_result"
    }
   ],
   "source": [
    "['V-2', 'L-1', 'S0', 'P1', 'A2']"
   ]
  },
  {
   "cell_type": "code",
   "execution_count": 179,
   "metadata": {
    "ExecuteTime": {
     "end_time": "2016-05-09T11:16:36.931343",
     "start_time": "2016-05-09T11:16:36.733942"
    },
    "collapsed": false
   },
   "outputs": [
    {
     "data": {
      "text/html": [
       "<div>\n",
       "<table border=\"1\" class=\"dataframe\">\n",
       "  <thead>\n",
       "    <tr style=\"text-align: right;\">\n",
       "      <th></th>\n",
       "      <th></th>\n",
       "      <th></th>\n",
       "      <th></th>\n",
       "      <th></th>\n",
       "      <th></th>\n",
       "      <th></th>\n",
       "      <th></th>\n",
       "      <th></th>\n",
       "      <th></th>\n",
       "      <th></th>\n",
       "      <th>...</th>\n",
       "      <th></th>\n",
       "      <th></th>\n",
       "      <th></th>\n",
       "      <th></th>\n",
       "      <th></th>\n",
       "      <th></th>\n",
       "      <th></th>\n",
       "      <th></th>\n",
       "      <th></th>\n",
       "      <th></th>\n",
       "    </tr>\n",
       "  </thead>\n",
       "  <tbody>\n",
       "    <tr>\n",
       "      <th>AA</th>\n",
       "      <td>A-2</td>\n",
       "      <td>C-2</td>\n",
       "      <td>D-2</td>\n",
       "      <td>E-2</td>\n",
       "      <td>F-2</td>\n",
       "      <td>G-2</td>\n",
       "      <td>H-2</td>\n",
       "      <td>I-2</td>\n",
       "      <td>K-2</td>\n",
       "      <td>L-2</td>\n",
       "      <td>...</td>\n",
       "      <td>N2</td>\n",
       "      <td>P2</td>\n",
       "      <td>Q2</td>\n",
       "      <td>R2</td>\n",
       "      <td>S2</td>\n",
       "      <td>T2</td>\n",
       "      <td>V2</td>\n",
       "      <td>W2</td>\n",
       "      <td>Y2</td>\n",
       "      <td>-2</td>\n",
       "    </tr>\n",
       "    <tr>\n",
       "      <th></th>\n",
       "      <td>0</td>\n",
       "      <td>0</td>\n",
       "      <td>0</td>\n",
       "      <td>0</td>\n",
       "      <td>0</td>\n",
       "      <td>0</td>\n",
       "      <td>0</td>\n",
       "      <td>0</td>\n",
       "      <td>0</td>\n",
       "      <td>0</td>\n",
       "      <td>...</td>\n",
       "      <td>0</td>\n",
       "      <td>0</td>\n",
       "      <td>0</td>\n",
       "      <td>0</td>\n",
       "      <td>0</td>\n",
       "      <td>0</td>\n",
       "      <td>0</td>\n",
       "      <td>0</td>\n",
       "      <td>0</td>\n",
       "      <td>0</td>\n",
       "    </tr>\n",
       "  </tbody>\n",
       "</table>\n",
       "<p>2 rows × 105 columns</p>\n",
       "</div>"
      ],
      "text/plain": [
       "                                                     ...                      \\\n",
       "AA  A-2  C-2  D-2  E-2  F-2  G-2  H-2  I-2  K-2  L-2 ...  N2  P2  Q2  R2  S2   \n",
       "      0    0    0    0    0    0    0    0    0    0 ...   0   0   0   0   0   \n",
       "\n",
       "                        \n",
       "AA  T2  V2  W2  Y2  -2  \n",
       "     0   0   0   0   0  \n",
       "\n",
       "[2 rows x 105 columns]"
      ]
     },
     "execution_count": 179,
     "metadata": {},
     "output_type": "execute_result"
    }
   ],
   "source": [
    "ex0 = skip_data.ix[2]\n",
    "pd.DataFrame([ex0.index, ex0.values], index=['AA', ''], columns=['']*105)"
   ]
  },
  {
   "cell_type": "code",
   "execution_count": 187,
   "metadata": {
    "ExecuteTime": {
     "end_time": "2016-05-09T14:21:59.832433",
     "start_time": "2016-05-09T14:21:44.153873"
    },
    "collapsed": true,
    "hide_input": true
   },
   "outputs": [],
   "source": [
    "# read our data in \n",
    "\n",
    "aminos = ['-','A', 'C', 'D', 'E', 'F', 'G', 'H', 'I', 'K', 'L', 'M', 'N', 'P', 'Q', 'R', 'S', 'T', 'V', 'W', 'Y']\n",
    "positions = sorted(map(str, range(-(n_window-1)//2, (n_window+1)//2, 1)))\n",
    "\n",
    "n_window = 13\n",
    "n_aminos = 21\n",
    "\n",
    "loaded_data = get_data_tensor(n = n_window)\n",
    "    \n",
    "labels = pd.read_csv('one_hot_labels.csv')"
   ]
  },
  {
   "cell_type": "markdown",
   "metadata": {},
   "source": [
    "# We reformat each protein context into an \"image\" "
   ]
  },
  {
   "cell_type": "code",
   "execution_count": null,
   "metadata": {
    "ExecuteTime": {
     "end_time": "2016-05-09T11:18:26.034948",
     "start_time": "2016-05-09T11:18:25.993946"
    },
    "collapsed": false
   },
   "outputs": [],
   "source": [
    "    -  A  C  D  E  F  G  H  I  K  L  M  N  P  Q  R  S  T  V  W  Y\n",
    "-1  0  0  0  0  0  0  0  0  0  0  0  0  0  0  0  0  0  0  1  0  0\n",
    "-2  1  0  0  0  0  0  0  0  0  0  0  0  0  0  0  0  0  0  0  0  0\n",
    "0   0  0  0  0  0  0  0  0  0  0  1  0  0  0  0  0  0  0  0  0  0\n",
    "1   0  0  0  0  0  0  0  0  0  0  0  0  0  0  0  0  1  0  0  0  0\n",
    "2   0  0  0  0  0  0  0  0  0  0  0  0  0  1  0  0  0  0  0  0  0"
   ]
  },
  {
   "cell_type": "code",
   "execution_count": 194,
   "metadata": {
    "ExecuteTime": {
     "end_time": "2016-05-09T14:24:21.352761",
     "start_time": "2016-05-09T14:24:20.897769"
    },
    "collapsed": false,
    "hide_input": true
   },
   "outputs": [
    {
     "data": {
      "image/png": "[encoded data removed]",
      "text/plain": [
       "<matplotlib.figure.Figure at 0x120fd7410>"
      ]
     },
     "metadata": {},
     "output_type": "display_data"
    }
   ],
   "source": [
    "plt.imshow(loaded_data[:1].reshape((13, 21)));\n",
    "plt.xticks(xrange(len(aminos)), aminos)\n",
    "plt.yticks(xrange(len(positions)), positions);"
   ]
  },
  {
   "cell_type": "markdown",
   "metadata": {},
   "source": [
    "# Now Build the Convolutional Network"
   ]
  },
  {
   "cell_type": "code",
   "execution_count": 199,
   "metadata": {
    "ExecuteTime": {
     "end_time": "2016-05-09T14:38:07.871793",
     "start_time": "2016-05-09T14:38:07.860083"
    },
    "collapsed": true,
    "hide_input": true
   },
   "outputs": [],
   "source": [
    "# theano imports\n",
    "import theano\n",
    "from theano import tensor as T\n",
    "from theano.sandbox.rng_mrg import MRG_RandomStreams as RandomStreams\n",
    "from theano.tensor.nnet.conv import conv2d\n",
    "# from theano.tensor.signal.downsample import max_pool_2d\n",
    "from theano.tensor.signal.pool import pool_2d as max_pool_2d\n",
    "from theano.tensor.nnet import batch_normalization\n",
    "\n",
    "# other imports\n",
    "from sklearn.cross_validation import train_test_split\n",
    "import numpy as np\n",
    "import pandas as pd\n",
    "import pickle\n",
    "\n",
    "import matplotlib.pyplot as plt\n",
    "%matplotlib inline"
   ]
  },
  {
   "cell_type": "markdown",
   "metadata": {},
   "source": [
    "## Here we will apply a series of convolutional filters (256) to the amino image, and receive a scalar representing the Amino Acid and its context"
   ]
  },
  {
   "cell_type": "markdown",
   "metadata": {},
   "source": [
    "<img  src=\"Conv_Filter.png\"/>"
   ]
  },
  {
   "cell_type": "code",
   "execution_count": 210,
   "metadata": {
    "ExecuteTime": {
     "end_time": "2016-05-09T21:34:27.292468",
     "start_time": "2016-05-09T21:34:27.231068"
    },
    "collapsed": true,
    "hide_input": true
   },
   "outputs": [],
   "source": [
    "# helper function for loading in data of a specific encoding window\n",
    "def get_data_tensor(n = 5):\n",
    "    filename = 'conv_data/' + str(n) + '_tensor.p'\n",
    "    \n",
    "    with open(filename, 'rb') as f:\n",
    "        loaded_data = pickle.load(f)\n",
    "    \n",
    "    return loaded_data"
   ]
  },
  {
   "cell_type": "code",
   "execution_count": 211,
   "metadata": {
    "ExecuteTime": {
     "end_time": "2016-05-09T21:34:42.693529",
     "start_time": "2016-05-09T21:34:27.486389"
    },
    "collapsed": true,
    "hide_input": true
   },
   "outputs": [],
   "source": [
    "# read our data in \n",
    "\n",
    "n_window = 13\n",
    "n_aminos = 21\n",
    "\n",
    "loaded_data = get_data_tensor(n = n_window)\n",
    "    \n",
    "labels = pd.read_csv('one_hot_labels.csv')"
   ]
  },
  {
   "cell_type": "code",
   "execution_count": 212,
   "metadata": {
    "ExecuteTime": {
     "end_time": "2016-05-09T21:34:43.179872",
     "start_time": "2016-05-09T21:34:42.699456"
    },
    "collapsed": false,
    "hide_input": true
   },
   "outputs": [
    {
     "name": "stdout",
     "output_type": "stream",
     "text": [
      "(101110, 1, 13, 21) (33704, 1, 13, 21) (101110, 6) (33704, 6)\n"
     ]
    }
   ],
   "source": [
    "one_hot = labels.values\n",
    "\n",
    "xTrain, xTest, yTrain, yTest = train_test_split(loaded_data, one_hot)\n",
    "xTrain = xTrain.reshape(-1, 1, n_window, n_aminos)\n",
    "xTest = xTest.reshape(-1, 1, n_window, n_aminos)\n",
    "\n",
    "print xTrain.shape, xTest.shape, yTrain.shape, yTest.shape"
   ]
  },
  {
   "cell_type": "code",
   "execution_count": 213,
   "metadata": {
    "ExecuteTime": {
     "end_time": "2016-05-09T21:34:43.513137",
     "start_time": "2016-05-09T21:34:43.190359"
    },
    "collapsed": true
   },
   "outputs": [],
   "source": [
    "srng = RandomStreams()\n",
    "\n",
    "def floatX(X):\n",
    "    return np.asarray(X, dtype=theano.config.floatX)\n",
    "\n",
    "def glorot_init_weights(shape):\n",
    "    (h, w) = shape\n",
    "    # 0.25 for sigmoid, 0.1 for softmax, 1.0 for tanh/relu\n",
    "    normalizer = 2.0 * (6**0.5) / ((h + w)**0.5) * 1.0  #factors: 0.1 correct for uni[0,1], glo, glo, softmax deriv\n",
    "    return theano.shared(floatX((np.random.random_sample(shape) - 0.5) * normalizer))\n",
    "\n",
    "def init_weights(shape):\n",
    "    return theano.shared(floatX(np.random.randn(*shape) * 0.01))\n",
    "\n",
    "def activate(X):\n",
    "    return T.nnet.relu(X)\n",
    "\n",
    "def rectify(X):\n",
    "#     return T.maximum(X, 0.)\n",
    "    return T.maximum(X, 0.01*X)  #leaky rectifier\n",
    "\n",
    "def ELU(X, alpha=0.1):\n",
    "    return T.switch(X > 0, X, alpha * (T.exp(X) - 1))\n",
    "    \n",
    "def softmax(X):\n",
    "    e_x = T.exp(X - X.max(axis=1).dimshuffle(0, 1, 'x', 'x'))\n",
    "    return e_x / e_x.sum(axis=1).dimshuffle(0, 1, 'x', 'x')\n",
    "\n",
    "def dropout(X, p=0.0):\n",
    "    if p > 0:\n",
    "        retain_prob = 1 - p\n",
    "        X *= srng.binomial(X.shape, p=retain_prob, dtype=theano.config.floatX)\n",
    "        X /= retain_prob\n",
    "    return X\n",
    "\n",
    "def RMSprop(cost, params, lr=0.001, rho=0.9, epsilon=1e-6):\n",
    "    grads = T.grad(cost=cost, wrt=params)\n",
    "    updates = []\n",
    "    \n",
    "    for p, g in zip(params, grads):\n",
    "        acc = theano.shared(p.get_value() * 0.)\n",
    "        acc_new = rho * acc + (1 - rho) * g ** 2\n",
    "        gradient_scaling = T.sqrt(acc_new + epsilon)\n",
    "        g = g / gradient_scaling\n",
    "        updates.append((acc, acc_new))\n",
    "        updates.append((p, p - lr * g))\n",
    "    \n",
    "    return updates\n",
    "\n",
    "def model(X, wi, wh, bh, wo, bo, p_drop_conv, p_drop_hidden):\n",
    "    \n",
    "    # --------------------------------------------\n",
    "    \n",
    "    layer_1 = conv2d(X, wi, border_mode='valid')\n",
    "    layer_1 = layer_1.reshape((-1, 256))\n",
    "    layer_1 = dropout(layer_1, p_drop_conv)\n",
    "\n",
    "    # --------------------------------------------\n",
    "    \n",
    "    layer_2 = T.dot(layer_1, wh) + bh    \n",
    "    layer_2 = ELU(layer_2)\n",
    "    layer_2 = dropout(layer_2, p_drop_hidden)\n",
    "    \n",
    "    # --------------------------------------------\n",
    "    \n",
    "    layer_3 = T.dot(layer_2, wo) + bo\n",
    "    layer_3 = dropout(layer_3, p_drop_hidden)\n",
    "    \n",
    "    # --------------------------------------------\n",
    "    \n",
    "#     pyx = softmax(layer_3)\n",
    "    pyx = T.nnet.softmax(layer_3)\n",
    "    return layer_1, layer_2, layer_3, pyx"
   ]
  },
  {
   "cell_type": "code",
   "execution_count": 216,
   "metadata": {
    "ExecuteTime": {
     "end_time": "2016-05-09T21:35:21.838270",
     "start_time": "2016-05-09T21:35:20.188861"
    },
    "collapsed": true
   },
   "outputs": [],
   "source": [
    "X = T.ftensor4()\n",
    "Y = T.fmatrix()\n",
    "\n",
    "# define number of desired features out of convolution\n",
    "n_conv = 256\n",
    "\n",
    "# define hidden layer depth\n",
    "h_depth = 50\n",
    "\n",
    "# define output layer size\n",
    "o_depth = 6\n",
    "\n",
    "# ----------------------------- FOR WITHOUT BATCH NORMALIZATION------------------------------\n",
    "\n",
    "# input parameters\n",
    "wi = init_weights((n_conv, 1, n_window, n_aminos))\n",
    "\n",
    "# hidden parameters\n",
    "wh = glorot_init_weights((n_conv, h_depth))\n",
    "bh = theano.shared(floatX(np.zeros(h_depth)))\n",
    "\n",
    "# output parameters\n",
    "wo = glorot_init_weights((h_depth, o_depth))\n",
    "bo = theano.shared(floatX(np.zeros(o_depth)))\n",
    "\n",
    "# modeling and parameters for Gradient Descent\n",
    "params = [wi, wh, bh, wo, bo]\n",
    "noise_l1, noise_l2, noise_l3, noise_py_x = model(X, wi, wh, bh, wo, bo, 0.2, 0.5)\n",
    "l1, l2, l3, py_x = model(X, wi, wh, bh, wo, bo, 0., 0.)\n",
    "\n",
    "# -------------------------------------------------------------------------------------------\n",
    "\n",
    "y_x = T.argmax(py_x, axis=1)\n",
    "cost = T.mean(T.nnet.categorical_crossentropy(noise_py_x, Y))\n",
    "updates = RMSprop(cost, params, lr=1e-4) \n",
    "\n",
    "train = theano.function(inputs=[X, Y], outputs=cost, updates=updates, allow_input_downcast=True)\n",
    "predict = theano.function(inputs=[X], outputs=y_x, allow_input_downcast=True)"
   ]
  },
  {
   "cell_type": "code",
   "execution_count": null,
   "metadata": {
    "ExecuteTime": {
     "start_time": "2016-05-10T04:35:25.023Z"
    },
    "collapsed": false,
    "scrolled": false
   },
   "outputs": [
    {
     "name": "stdout",
     "output_type": "stream",
     "text": [
      "iteration: 0 ------- train: 0.616 ------- test: 0.612\n",
      "1st filter: [ 0.00399164  0.00790589  0.00421786  0.00330725 -0.00131144]\n",
      "------------------------------------------------------------\n",
      "iteration: 1 ------- train: 0.626 ------- test: 0.622\n",
      "1st filter: [ 0.00061803  0.00970135  0.00475286  0.00108363 -0.0030484 ]\n",
      "------------------------------------------------------------\n",
      "iteration: 2 ------- train: 0.63 ------- test: 0.624\n",
      "1st filter: [ 0.00138729  0.01095211  0.00632949  0.00159674 -0.00227471]\n",
      "------------------------------------------------------------\n",
      "iteration: 3 ------- train: 0.63 ------- test: 0.625\n",
      "1st filter: [-0.00113194  0.01244355  0.00889163  0.00013126 -0.00151669]\n",
      "------------------------------------------------------------\n",
      "iteration: 4 ------- train: 0.632 ------- test: 0.626\n",
      "1st filter: [-0.00573713  0.01322613  0.00944777  0.00273066 -0.00183793]\n",
      "------------------------------------------------------------\n",
      "iteration: 5 ------- train: 0.631 ------- test: 0.626\n",
      "1st filter: [-0.00835437  0.01304678  0.00632354  0.00249911 -0.00397471]\n",
      "------------------------------------------------------------\n",
      "iteration: 6 ------- train: 0.634 ------- test: 0.627\n",
      "1st filter: [-0.00930321  0.0134903   0.00680824  0.00067888 -0.00028612]\n",
      "------------------------------------------------------------\n",
      "iteration: 7 ------- train: 0.635 ------- test: 0.629\n",
      "1st filter: [-0.00732885  0.01317963  0.00724721  0.00243085 -0.00020169]\n",
      "------------------------------------------------------------\n",
      "iteration: 8 ------- train: 0.636 ------- test: 0.63\n",
      "1st filter: [ -6.20682584e-03   1.67707298e-02   9.50545724e-03  -4.55069356e-04\n",
      "  -1.77018701e-05]\n",
      "------------------------------------------------------------\n",
      "iteration: 9 ------- train: 0.637 ------- test: 0.63\n",
      "1st filter: [-0.00824594  0.01624487  0.00408329  0.00065469  0.00289394]\n",
      "------------------------------------------------------------\n",
      "iteration: 10 ------- train: 0.638 ------- test: 0.631\n",
      "1st filter: [-0.0096489   0.01765324  0.00535916  0.00037451  0.00237676]\n",
      "------------------------------------------------------------\n",
      "iteration: 11 ------- train: 0.638 ------- test: 0.632\n",
      "1st filter: [-0.01094471  0.017937    0.00636138  0.00218356  0.00581773]\n",
      "------------------------------------------------------------\n",
      "iteration: 12 ------- train: 0.639 ------- test: 0.632\n",
      "1st filter: [-0.00765804  0.02050584  0.00592595  0.00150163  0.00425239]\n",
      "------------------------------------------------------------\n",
      "iteration: 13 ------- train: 0.64 ------- test: 0.633\n",
      "1st filter: [-0.00594607  0.01957198  0.00440041  0.00465909  0.00248728]\n",
      "------------------------------------------------------------\n",
      "iteration: 14 ------- train: 0.641 ------- test: 0.635\n",
      "1st filter: [-0.00787129  0.01866877  0.00742298  0.00864384  0.00334616]\n",
      "------------------------------------------------------------\n",
      "iteration: 15 ------- train: 0.643 ------- test: 0.635\n",
      "1st filter: [-0.00786222  0.02076895  0.00661149  0.00804241  0.0028325 ]\n",
      "------------------------------------------------------------\n",
      "iteration: 16 ------- train: 0.643 ------- test: 0.636\n",
      "1st filter: [-0.00646189  0.02163033  0.00892832  0.00830388  0.00440606]\n",
      "------------------------------------------------------------\n",
      "iteration: 17 ------- train: 0.644 ------- test: 0.636\n",
      "1st filter: [-0.00723302  0.02295104  0.00704637  0.00790386  0.00707599]\n",
      "------------------------------------------------------------\n"
     ]
    }
   ],
   "source": [
    "# number of training iterations to perform\n",
    "n_train = 31\n",
    "\n",
    "# define mini-batch size\n",
    "mbs = 128\n",
    "\n",
    "# store our results\n",
    "costs = []\n",
    "test_scores = []\n",
    "train_scores = []\n",
    "\n",
    "# performing our training\n",
    "for i in xrange(n_train):\n",
    "    \n",
    "    for start, end in zip(xrange(0, len(xTrain), mbs), \n",
    "                          xrange(mbs, len(xTrain), mbs)):\n",
    "    \n",
    "        cost = train(xTrain[start:end], yTrain[start:end])\n",
    "    \n",
    "    costs.append(cost)\n",
    "    \n",
    "    train_score = np.mean(np.argmax(yTrain, axis=1) == predict(xTrain)) \n",
    "    test_score = np.mean(np.argmax(yTest, axis=1) == predict(xTest))\n",
    "    \n",
    "    test_scores.append(test_score)\n",
    "    train_scores.append(train_score)\n",
    "    \n",
    "    print 'iteration:', i, '-------', 'train:', round(train_score, 3), '-------', 'test:', round(test_score, 3)\n",
    "    print '1st filter:', wi.eval()[0][0][0][:5] # take a quick look at conv filter\n",
    "    print '-'*60\n",
    "    \n",
    "# got up to about 67% w/ 5 vectors!\n",
    "# up to like 69% with a 9 vector"
   ]
  },
  {
   "cell_type": "markdown",
   "metadata": {},
   "source": [
    "### How we are doing:"
   ]
  },
  {
   "cell_type": "code",
   "execution_count": 208,
   "metadata": {
    "ExecuteTime": {
     "end_time": "2016-05-09T14:53:21.609270",
     "start_time": "2016-05-09T14:53:21.192953"
    },
    "collapsed": false
   },
   "outputs": [
    {
     "ename": "ValueError",
     "evalue": "x and y must have same first dimension",
     "output_type": "error",
     "traceback": [
      "\u001b[0;31m---------------------------------------------------------------------------\u001b[0m",
      "\u001b[0;31mValueError\u001b[0m                                Traceback (most recent call last)",
      "\u001b[0;32m<ipython-input-208-14d6d0e50dea>\u001b[0m in \u001b[0;36m<module>\u001b[0;34m()\u001b[0m\n\u001b[1;32m      1\u001b[0m \u001b[0;31m# plot our accuracies\u001b[0m\u001b[0;34m\u001b[0m\u001b[0;34m\u001b[0m\u001b[0m\n\u001b[0;32m----> 2\u001b[0;31m \u001b[0mplt\u001b[0m\u001b[0;34m.\u001b[0m\u001b[0mplot\u001b[0m\u001b[0;34m(\u001b[0m\u001b[0mxrange\u001b[0m\u001b[0;34m(\u001b[0m\u001b[0mn_train\u001b[0m\u001b[0;34m)\u001b[0m\u001b[0;34m,\u001b[0m \u001b[0mtrain_scores\u001b[0m\u001b[0;34m,\u001b[0m \u001b[0mlabel\u001b[0m\u001b[0;34m=\u001b[0m\u001b[0;34m'train'\u001b[0m\u001b[0;34m)\u001b[0m\u001b[0;34m\u001b[0m\u001b[0m\n\u001b[0m\u001b[1;32m      3\u001b[0m \u001b[0mplt\u001b[0m\u001b[0;34m.\u001b[0m\u001b[0mplot\u001b[0m\u001b[0;34m(\u001b[0m\u001b[0mxrange\u001b[0m\u001b[0;34m(\u001b[0m\u001b[0mn_train\u001b[0m\u001b[0;34m)\u001b[0m\u001b[0;34m,\u001b[0m \u001b[0mtest_scores\u001b[0m\u001b[0;34m,\u001b[0m \u001b[0mlabel\u001b[0m\u001b[0;34m=\u001b[0m\u001b[0;34m'test'\u001b[0m\u001b[0;34m)\u001b[0m\u001b[0;34m\u001b[0m\u001b[0m\n\u001b[1;32m      4\u001b[0m \u001b[0mplt\u001b[0m\u001b[0;34m.\u001b[0m\u001b[0mxlabel\u001b[0m\u001b[0;34m(\u001b[0m\u001b[0;34m'Steps'\u001b[0m\u001b[0;34m)\u001b[0m\u001b[0;34m\u001b[0m\u001b[0m\n\u001b[1;32m      5\u001b[0m \u001b[0mplt\u001b[0m\u001b[0;34m.\u001b[0m\u001b[0mylabel\u001b[0m\u001b[0;34m(\u001b[0m\u001b[0;34m'Accuracy'\u001b[0m\u001b[0;34m)\u001b[0m\u001b[0;34m\u001b[0m\u001b[0m\n",
      "\u001b[0;32m/Users/LucasRamadan/anaconda/lib/python2.7/site-packages/matplotlib/pyplot.pyc\u001b[0m in \u001b[0;36mplot\u001b[0;34m(*args, **kwargs)\u001b[0m\n\u001b[1;32m   3152\u001b[0m         \u001b[0max\u001b[0m\u001b[0;34m.\u001b[0m\u001b[0mhold\u001b[0m\u001b[0;34m(\u001b[0m\u001b[0mhold\u001b[0m\u001b[0;34m)\u001b[0m\u001b[0;34m\u001b[0m\u001b[0m\n\u001b[1;32m   3153\u001b[0m     \u001b[0;32mtry\u001b[0m\u001b[0;34m:\u001b[0m\u001b[0;34m\u001b[0m\u001b[0m\n\u001b[0;32m-> 3154\u001b[0;31m         \u001b[0mret\u001b[0m \u001b[0;34m=\u001b[0m \u001b[0max\u001b[0m\u001b[0;34m.\u001b[0m\u001b[0mplot\u001b[0m\u001b[0;34m(\u001b[0m\u001b[0;34m*\u001b[0m\u001b[0margs\u001b[0m\u001b[0;34m,\u001b[0m \u001b[0;34m**\u001b[0m\u001b[0mkwargs\u001b[0m\u001b[0;34m)\u001b[0m\u001b[0;34m\u001b[0m\u001b[0m\n\u001b[0m\u001b[1;32m   3155\u001b[0m     \u001b[0;32mfinally\u001b[0m\u001b[0;34m:\u001b[0m\u001b[0;34m\u001b[0m\u001b[0m\n\u001b[1;32m   3156\u001b[0m         \u001b[0max\u001b[0m\u001b[0;34m.\u001b[0m\u001b[0mhold\u001b[0m\u001b[0;34m(\u001b[0m\u001b[0mwashold\u001b[0m\u001b[0;34m)\u001b[0m\u001b[0;34m\u001b[0m\u001b[0m\n",
      "\u001b[0;32m/Users/LucasRamadan/anaconda/lib/python2.7/site-packages/matplotlib/__init__.pyc\u001b[0m in \u001b[0;36minner\u001b[0;34m(ax, *args, **kwargs)\u001b[0m\n\u001b[1;32m   1810\u001b[0m                     warnings.warn(msg % (label_namer, func.__name__),\n\u001b[1;32m   1811\u001b[0m                                   RuntimeWarning, stacklevel=2)\n\u001b[0;32m-> 1812\u001b[0;31m             \u001b[0;32mreturn\u001b[0m \u001b[0mfunc\u001b[0m\u001b[0;34m(\u001b[0m\u001b[0max\u001b[0m\u001b[0;34m,\u001b[0m \u001b[0;34m*\u001b[0m\u001b[0margs\u001b[0m\u001b[0;34m,\u001b[0m \u001b[0;34m**\u001b[0m\u001b[0mkwargs\u001b[0m\u001b[0;34m)\u001b[0m\u001b[0;34m\u001b[0m\u001b[0m\n\u001b[0m\u001b[1;32m   1813\u001b[0m         \u001b[0mpre_doc\u001b[0m \u001b[0;34m=\u001b[0m \u001b[0minner\u001b[0m\u001b[0;34m.\u001b[0m\u001b[0m__doc__\u001b[0m\u001b[0;34m\u001b[0m\u001b[0m\n\u001b[1;32m   1814\u001b[0m         \u001b[0;32mif\u001b[0m \u001b[0mpre_doc\u001b[0m \u001b[0;32mis\u001b[0m \u001b[0mNone\u001b[0m\u001b[0;34m:\u001b[0m\u001b[0;34m\u001b[0m\u001b[0m\n",
      "\u001b[0;32m/Users/LucasRamadan/anaconda/lib/python2.7/site-packages/matplotlib/axes/_axes.pyc\u001b[0m in \u001b[0;36mplot\u001b[0;34m(self, *args, **kwargs)\u001b[0m\n\u001b[1;32m   1422\u001b[0m             \u001b[0mkwargs\u001b[0m\u001b[0;34m[\u001b[0m\u001b[0;34m'color'\u001b[0m\u001b[0;34m]\u001b[0m \u001b[0;34m=\u001b[0m \u001b[0mc\u001b[0m\u001b[0;34m\u001b[0m\u001b[0m\n\u001b[1;32m   1423\u001b[0m \u001b[0;34m\u001b[0m\u001b[0m\n\u001b[0;32m-> 1424\u001b[0;31m         \u001b[0;32mfor\u001b[0m \u001b[0mline\u001b[0m \u001b[0;32min\u001b[0m \u001b[0mself\u001b[0m\u001b[0;34m.\u001b[0m\u001b[0m_get_lines\u001b[0m\u001b[0;34m(\u001b[0m\u001b[0;34m*\u001b[0m\u001b[0margs\u001b[0m\u001b[0;34m,\u001b[0m \u001b[0;34m**\u001b[0m\u001b[0mkwargs\u001b[0m\u001b[0;34m)\u001b[0m\u001b[0;34m:\u001b[0m\u001b[0;34m\u001b[0m\u001b[0m\n\u001b[0m\u001b[1;32m   1425\u001b[0m             \u001b[0mself\u001b[0m\u001b[0;34m.\u001b[0m\u001b[0madd_line\u001b[0m\u001b[0;34m(\u001b[0m\u001b[0mline\u001b[0m\u001b[0;34m)\u001b[0m\u001b[0;34m\u001b[0m\u001b[0m\n\u001b[1;32m   1426\u001b[0m             \u001b[0mlines\u001b[0m\u001b[0;34m.\u001b[0m\u001b[0mappend\u001b[0m\u001b[0;34m(\u001b[0m\u001b[0mline\u001b[0m\u001b[0;34m)\u001b[0m\u001b[0;34m\u001b[0m\u001b[0m\n",
      "\u001b[0;32m/Users/LucasRamadan/anaconda/lib/python2.7/site-packages/matplotlib/axes/_base.pyc\u001b[0m in \u001b[0;36m_grab_next_args\u001b[0;34m(self, *args, **kwargs)\u001b[0m\n\u001b[1;32m    384\u001b[0m                 \u001b[0;32mreturn\u001b[0m\u001b[0;34m\u001b[0m\u001b[0m\n\u001b[1;32m    385\u001b[0m             \u001b[0;32mif\u001b[0m \u001b[0mlen\u001b[0m\u001b[0;34m(\u001b[0m\u001b[0mremaining\u001b[0m\u001b[0;34m)\u001b[0m \u001b[0;34m<=\u001b[0m \u001b[0;36m3\u001b[0m\u001b[0;34m:\u001b[0m\u001b[0;34m\u001b[0m\u001b[0m\n\u001b[0;32m--> 386\u001b[0;31m                 \u001b[0;32mfor\u001b[0m \u001b[0mseg\u001b[0m \u001b[0;32min\u001b[0m \u001b[0mself\u001b[0m\u001b[0;34m.\u001b[0m\u001b[0m_plot_args\u001b[0m\u001b[0;34m(\u001b[0m\u001b[0mremaining\u001b[0m\u001b[0;34m,\u001b[0m \u001b[0mkwargs\u001b[0m\u001b[0;34m)\u001b[0m\u001b[0;34m:\u001b[0m\u001b[0;34m\u001b[0m\u001b[0m\n\u001b[0m\u001b[1;32m    387\u001b[0m                     \u001b[0;32myield\u001b[0m \u001b[0mseg\u001b[0m\u001b[0;34m\u001b[0m\u001b[0m\n\u001b[1;32m    388\u001b[0m                 \u001b[0;32mreturn\u001b[0m\u001b[0;34m\u001b[0m\u001b[0m\n",
      "\u001b[0;32m/Users/LucasRamadan/anaconda/lib/python2.7/site-packages/matplotlib/axes/_base.pyc\u001b[0m in \u001b[0;36m_plot_args\u001b[0;34m(self, tup, kwargs)\u001b[0m\n\u001b[1;32m    362\u001b[0m             \u001b[0mx\u001b[0m\u001b[0;34m,\u001b[0m \u001b[0my\u001b[0m \u001b[0;34m=\u001b[0m \u001b[0mindex_of\u001b[0m\u001b[0;34m(\u001b[0m\u001b[0mtup\u001b[0m\u001b[0;34m[\u001b[0m\u001b[0;34m-\u001b[0m\u001b[0;36m1\u001b[0m\u001b[0;34m]\u001b[0m\u001b[0;34m)\u001b[0m\u001b[0;34m\u001b[0m\u001b[0m\n\u001b[1;32m    363\u001b[0m \u001b[0;34m\u001b[0m\u001b[0m\n\u001b[0;32m--> 364\u001b[0;31m         \u001b[0mx\u001b[0m\u001b[0;34m,\u001b[0m \u001b[0my\u001b[0m \u001b[0;34m=\u001b[0m \u001b[0mself\u001b[0m\u001b[0;34m.\u001b[0m\u001b[0m_xy_from_xy\u001b[0m\u001b[0;34m(\u001b[0m\u001b[0mx\u001b[0m\u001b[0;34m,\u001b[0m \u001b[0my\u001b[0m\u001b[0;34m)\u001b[0m\u001b[0;34m\u001b[0m\u001b[0m\n\u001b[0m\u001b[1;32m    365\u001b[0m \u001b[0;34m\u001b[0m\u001b[0m\n\u001b[1;32m    366\u001b[0m         \u001b[0;32mif\u001b[0m \u001b[0mself\u001b[0m\u001b[0;34m.\u001b[0m\u001b[0mcommand\u001b[0m \u001b[0;34m==\u001b[0m \u001b[0;34m'plot'\u001b[0m\u001b[0;34m:\u001b[0m\u001b[0;34m\u001b[0m\u001b[0m\n",
      "\u001b[0;32m/Users/LucasRamadan/anaconda/lib/python2.7/site-packages/matplotlib/axes/_base.pyc\u001b[0m in \u001b[0;36m_xy_from_xy\u001b[0;34m(self, x, y)\u001b[0m\n\u001b[1;32m    221\u001b[0m         \u001b[0my\u001b[0m \u001b[0;34m=\u001b[0m \u001b[0m_check_1d\u001b[0m\u001b[0;34m(\u001b[0m\u001b[0my\u001b[0m\u001b[0;34m)\u001b[0m\u001b[0;34m\u001b[0m\u001b[0m\n\u001b[1;32m    222\u001b[0m         \u001b[0;32mif\u001b[0m \u001b[0mx\u001b[0m\u001b[0;34m.\u001b[0m\u001b[0mshape\u001b[0m\u001b[0;34m[\u001b[0m\u001b[0;36m0\u001b[0m\u001b[0;34m]\u001b[0m \u001b[0;34m!=\u001b[0m \u001b[0my\u001b[0m\u001b[0;34m.\u001b[0m\u001b[0mshape\u001b[0m\u001b[0;34m[\u001b[0m\u001b[0;36m0\u001b[0m\u001b[0;34m]\u001b[0m\u001b[0;34m:\u001b[0m\u001b[0;34m\u001b[0m\u001b[0m\n\u001b[0;32m--> 223\u001b[0;31m             \u001b[0;32mraise\u001b[0m \u001b[0mValueError\u001b[0m\u001b[0;34m(\u001b[0m\u001b[0;34m\"x and y must have same first dimension\"\u001b[0m\u001b[0;34m)\u001b[0m\u001b[0;34m\u001b[0m\u001b[0m\n\u001b[0m\u001b[1;32m    224\u001b[0m         \u001b[0;32mif\u001b[0m \u001b[0mx\u001b[0m\u001b[0;34m.\u001b[0m\u001b[0mndim\u001b[0m \u001b[0;34m>\u001b[0m \u001b[0;36m2\u001b[0m \u001b[0;32mor\u001b[0m \u001b[0my\u001b[0m\u001b[0;34m.\u001b[0m\u001b[0mndim\u001b[0m \u001b[0;34m>\u001b[0m \u001b[0;36m2\u001b[0m\u001b[0;34m:\u001b[0m\u001b[0;34m\u001b[0m\u001b[0m\n\u001b[1;32m    225\u001b[0m             \u001b[0;32mraise\u001b[0m \u001b[0mValueError\u001b[0m\u001b[0;34m(\u001b[0m\u001b[0;34m\"x and y can be no greater than 2-D\"\u001b[0m\u001b[0;34m)\u001b[0m\u001b[0;34m\u001b[0m\u001b[0m\n",
      "\u001b[0;31mValueError\u001b[0m: x and y must have same first dimension"
     ]
    },
    {
     "data": {
      "image/png": "[encoded data removed]",
      "text/plain": [
       "<matplotlib.figure.Figure at 0x120da2ed0>"
      ]
     },
     "metadata": {},
     "output_type": "display_data"
    }
   ],
   "source": [
    "# plot our accuracies\n",
    "plt.plot(xrange(n_train), train_scores, label='train')\n",
    "plt.plot(xrange(n_train), test_scores, label='test')\n",
    "plt.xlabel('Steps')\n",
    "plt.ylabel('Accuracy')\n",
    "plt.legend(loc=2);"
   ]
  },
  {
   "cell_type": "code",
   "execution_count": 209,
   "metadata": {
    "ExecuteTime": {
     "end_time": "2016-05-09T14:53:26.902052",
     "start_time": "2016-05-09T14:53:26.128429"
    },
    "collapsed": false,
    "run_control": {
     "frozen": false,
     "read_only": false
    }
   },
   "outputs": [
    {
     "ename": "ValueError",
     "evalue": "x and y must have same first dimension",
     "output_type": "error",
     "traceback": [
      "\u001b[0;31m---------------------------------------------------------------------------\u001b[0m",
      "\u001b[0;31mValueError\u001b[0m                                Traceback (most recent call last)",
      "\u001b[0;32m<ipython-input-209-9f0f26e95de5>\u001b[0m in \u001b[0;36m<module>\u001b[0;34m()\u001b[0m\n\u001b[1;32m      1\u001b[0m \u001b[0;31m# plot our cost\u001b[0m\u001b[0;34m\u001b[0m\u001b[0;34m\u001b[0m\u001b[0m\n\u001b[0;32m----> 2\u001b[0;31m \u001b[0mplt\u001b[0m\u001b[0;34m.\u001b[0m\u001b[0mplot\u001b[0m\u001b[0;34m(\u001b[0m\u001b[0mxrange\u001b[0m\u001b[0;34m(\u001b[0m\u001b[0mn_train\u001b[0m\u001b[0;34m)\u001b[0m\u001b[0;34m,\u001b[0m \u001b[0mcosts\u001b[0m\u001b[0;34m)\u001b[0m\u001b[0;34m\u001b[0m\u001b[0m\n\u001b[0m\u001b[1;32m      3\u001b[0m \u001b[0mplt\u001b[0m\u001b[0;34m.\u001b[0m\u001b[0mxlabel\u001b[0m\u001b[0;34m(\u001b[0m\u001b[0;34m'Steps'\u001b[0m\u001b[0;34m)\u001b[0m\u001b[0;34m\u001b[0m\u001b[0m\n\u001b[1;32m      4\u001b[0m \u001b[0mplt\u001b[0m\u001b[0;34m.\u001b[0m\u001b[0mylabel\u001b[0m\u001b[0;34m(\u001b[0m\u001b[0;34m'Cost'\u001b[0m\u001b[0;34m)\u001b[0m\u001b[0;34m;\u001b[0m\u001b[0;34m\u001b[0m\u001b[0m\n",
      "\u001b[0;32m/Users/LucasRamadan/anaconda/lib/python2.7/site-packages/matplotlib/pyplot.pyc\u001b[0m in \u001b[0;36mplot\u001b[0;34m(*args, **kwargs)\u001b[0m\n\u001b[1;32m   3152\u001b[0m         \u001b[0max\u001b[0m\u001b[0;34m.\u001b[0m\u001b[0mhold\u001b[0m\u001b[0;34m(\u001b[0m\u001b[0mhold\u001b[0m\u001b[0;34m)\u001b[0m\u001b[0;34m\u001b[0m\u001b[0m\n\u001b[1;32m   3153\u001b[0m     \u001b[0;32mtry\u001b[0m\u001b[0;34m:\u001b[0m\u001b[0;34m\u001b[0m\u001b[0m\n\u001b[0;32m-> 3154\u001b[0;31m         \u001b[0mret\u001b[0m \u001b[0;34m=\u001b[0m \u001b[0max\u001b[0m\u001b[0;34m.\u001b[0m\u001b[0mplot\u001b[0m\u001b[0;34m(\u001b[0m\u001b[0;34m*\u001b[0m\u001b[0margs\u001b[0m\u001b[0;34m,\u001b[0m \u001b[0;34m**\u001b[0m\u001b[0mkwargs\u001b[0m\u001b[0;34m)\u001b[0m\u001b[0;34m\u001b[0m\u001b[0m\n\u001b[0m\u001b[1;32m   3155\u001b[0m     \u001b[0;32mfinally\u001b[0m\u001b[0;34m:\u001b[0m\u001b[0;34m\u001b[0m\u001b[0m\n\u001b[1;32m   3156\u001b[0m         \u001b[0max\u001b[0m\u001b[0;34m.\u001b[0m\u001b[0mhold\u001b[0m\u001b[0;34m(\u001b[0m\u001b[0mwashold\u001b[0m\u001b[0;34m)\u001b[0m\u001b[0;34m\u001b[0m\u001b[0m\n",
      "\u001b[0;32m/Users/LucasRamadan/anaconda/lib/python2.7/site-packages/matplotlib/__init__.pyc\u001b[0m in \u001b[0;36minner\u001b[0;34m(ax, *args, **kwargs)\u001b[0m\n\u001b[1;32m   1810\u001b[0m                     warnings.warn(msg % (label_namer, func.__name__),\n\u001b[1;32m   1811\u001b[0m                                   RuntimeWarning, stacklevel=2)\n\u001b[0;32m-> 1812\u001b[0;31m             \u001b[0;32mreturn\u001b[0m \u001b[0mfunc\u001b[0m\u001b[0;34m(\u001b[0m\u001b[0max\u001b[0m\u001b[0;34m,\u001b[0m \u001b[0;34m*\u001b[0m\u001b[0margs\u001b[0m\u001b[0;34m,\u001b[0m \u001b[0;34m**\u001b[0m\u001b[0mkwargs\u001b[0m\u001b[0;34m)\u001b[0m\u001b[0;34m\u001b[0m\u001b[0m\n\u001b[0m\u001b[1;32m   1813\u001b[0m         \u001b[0mpre_doc\u001b[0m \u001b[0;34m=\u001b[0m \u001b[0minner\u001b[0m\u001b[0;34m.\u001b[0m\u001b[0m__doc__\u001b[0m\u001b[0;34m\u001b[0m\u001b[0m\n\u001b[1;32m   1814\u001b[0m         \u001b[0;32mif\u001b[0m \u001b[0mpre_doc\u001b[0m \u001b[0;32mis\u001b[0m \u001b[0mNone\u001b[0m\u001b[0;34m:\u001b[0m\u001b[0;34m\u001b[0m\u001b[0m\n",
      "\u001b[0;32m/Users/LucasRamadan/anaconda/lib/python2.7/site-packages/matplotlib/axes/_axes.pyc\u001b[0m in \u001b[0;36mplot\u001b[0;34m(self, *args, **kwargs)\u001b[0m\n\u001b[1;32m   1422\u001b[0m             \u001b[0mkwargs\u001b[0m\u001b[0;34m[\u001b[0m\u001b[0;34m'color'\u001b[0m\u001b[0;34m]\u001b[0m \u001b[0;34m=\u001b[0m \u001b[0mc\u001b[0m\u001b[0;34m\u001b[0m\u001b[0m\n\u001b[1;32m   1423\u001b[0m \u001b[0;34m\u001b[0m\u001b[0m\n\u001b[0;32m-> 1424\u001b[0;31m         \u001b[0;32mfor\u001b[0m \u001b[0mline\u001b[0m \u001b[0;32min\u001b[0m \u001b[0mself\u001b[0m\u001b[0;34m.\u001b[0m\u001b[0m_get_lines\u001b[0m\u001b[0;34m(\u001b[0m\u001b[0;34m*\u001b[0m\u001b[0margs\u001b[0m\u001b[0;34m,\u001b[0m \u001b[0;34m**\u001b[0m\u001b[0mkwargs\u001b[0m\u001b[0;34m)\u001b[0m\u001b[0;34m:\u001b[0m\u001b[0;34m\u001b[0m\u001b[0m\n\u001b[0m\u001b[1;32m   1425\u001b[0m             \u001b[0mself\u001b[0m\u001b[0;34m.\u001b[0m\u001b[0madd_line\u001b[0m\u001b[0;34m(\u001b[0m\u001b[0mline\u001b[0m\u001b[0;34m)\u001b[0m\u001b[0;34m\u001b[0m\u001b[0m\n\u001b[1;32m   1426\u001b[0m             \u001b[0mlines\u001b[0m\u001b[0;34m.\u001b[0m\u001b[0mappend\u001b[0m\u001b[0;34m(\u001b[0m\u001b[0mline\u001b[0m\u001b[0;34m)\u001b[0m\u001b[0;34m\u001b[0m\u001b[0m\n",
      "\u001b[0;32m/Users/LucasRamadan/anaconda/lib/python2.7/site-packages/matplotlib/axes/_base.pyc\u001b[0m in \u001b[0;36m_grab_next_args\u001b[0;34m(self, *args, **kwargs)\u001b[0m\n\u001b[1;32m    384\u001b[0m                 \u001b[0;32mreturn\u001b[0m\u001b[0;34m\u001b[0m\u001b[0m\n\u001b[1;32m    385\u001b[0m             \u001b[0;32mif\u001b[0m \u001b[0mlen\u001b[0m\u001b[0;34m(\u001b[0m\u001b[0mremaining\u001b[0m\u001b[0;34m)\u001b[0m \u001b[0;34m<=\u001b[0m \u001b[0;36m3\u001b[0m\u001b[0;34m:\u001b[0m\u001b[0;34m\u001b[0m\u001b[0m\n\u001b[0;32m--> 386\u001b[0;31m                 \u001b[0;32mfor\u001b[0m \u001b[0mseg\u001b[0m \u001b[0;32min\u001b[0m \u001b[0mself\u001b[0m\u001b[0;34m.\u001b[0m\u001b[0m_plot_args\u001b[0m\u001b[0;34m(\u001b[0m\u001b[0mremaining\u001b[0m\u001b[0;34m,\u001b[0m \u001b[0mkwargs\u001b[0m\u001b[0;34m)\u001b[0m\u001b[0;34m:\u001b[0m\u001b[0;34m\u001b[0m\u001b[0m\n\u001b[0m\u001b[1;32m    387\u001b[0m                     \u001b[0;32myield\u001b[0m \u001b[0mseg\u001b[0m\u001b[0;34m\u001b[0m\u001b[0m\n\u001b[1;32m    388\u001b[0m                 \u001b[0;32mreturn\u001b[0m\u001b[0;34m\u001b[0m\u001b[0m\n",
      "\u001b[0;32m/Users/LucasRamadan/anaconda/lib/python2.7/site-packages/matplotlib/axes/_base.pyc\u001b[0m in \u001b[0;36m_plot_args\u001b[0;34m(self, tup, kwargs)\u001b[0m\n\u001b[1;32m    362\u001b[0m             \u001b[0mx\u001b[0m\u001b[0;34m,\u001b[0m \u001b[0my\u001b[0m \u001b[0;34m=\u001b[0m \u001b[0mindex_of\u001b[0m\u001b[0;34m(\u001b[0m\u001b[0mtup\u001b[0m\u001b[0;34m[\u001b[0m\u001b[0;34m-\u001b[0m\u001b[0;36m1\u001b[0m\u001b[0;34m]\u001b[0m\u001b[0;34m)\u001b[0m\u001b[0;34m\u001b[0m\u001b[0m\n\u001b[1;32m    363\u001b[0m \u001b[0;34m\u001b[0m\u001b[0m\n\u001b[0;32m--> 364\u001b[0;31m         \u001b[0mx\u001b[0m\u001b[0;34m,\u001b[0m \u001b[0my\u001b[0m \u001b[0;34m=\u001b[0m \u001b[0mself\u001b[0m\u001b[0;34m.\u001b[0m\u001b[0m_xy_from_xy\u001b[0m\u001b[0;34m(\u001b[0m\u001b[0mx\u001b[0m\u001b[0;34m,\u001b[0m \u001b[0my\u001b[0m\u001b[0;34m)\u001b[0m\u001b[0;34m\u001b[0m\u001b[0m\n\u001b[0m\u001b[1;32m    365\u001b[0m \u001b[0;34m\u001b[0m\u001b[0m\n\u001b[1;32m    366\u001b[0m         \u001b[0;32mif\u001b[0m \u001b[0mself\u001b[0m\u001b[0;34m.\u001b[0m\u001b[0mcommand\u001b[0m \u001b[0;34m==\u001b[0m \u001b[0;34m'plot'\u001b[0m\u001b[0;34m:\u001b[0m\u001b[0;34m\u001b[0m\u001b[0m\n",
      "\u001b[0;32m/Users/LucasRamadan/anaconda/lib/python2.7/site-packages/matplotlib/axes/_base.pyc\u001b[0m in \u001b[0;36m_xy_from_xy\u001b[0;34m(self, x, y)\u001b[0m\n\u001b[1;32m    221\u001b[0m         \u001b[0my\u001b[0m \u001b[0;34m=\u001b[0m \u001b[0m_check_1d\u001b[0m\u001b[0;34m(\u001b[0m\u001b[0my\u001b[0m\u001b[0;34m)\u001b[0m\u001b[0;34m\u001b[0m\u001b[0m\n\u001b[1;32m    222\u001b[0m         \u001b[0;32mif\u001b[0m \u001b[0mx\u001b[0m\u001b[0;34m.\u001b[0m\u001b[0mshape\u001b[0m\u001b[0;34m[\u001b[0m\u001b[0;36m0\u001b[0m\u001b[0;34m]\u001b[0m \u001b[0;34m!=\u001b[0m \u001b[0my\u001b[0m\u001b[0;34m.\u001b[0m\u001b[0mshape\u001b[0m\u001b[0;34m[\u001b[0m\u001b[0;36m0\u001b[0m\u001b[0;34m]\u001b[0m\u001b[0;34m:\u001b[0m\u001b[0;34m\u001b[0m\u001b[0m\n\u001b[0;32m--> 223\u001b[0;31m             \u001b[0;32mraise\u001b[0m \u001b[0mValueError\u001b[0m\u001b[0;34m(\u001b[0m\u001b[0;34m\"x and y must have same first dimension\"\u001b[0m\u001b[0;34m)\u001b[0m\u001b[0;34m\u001b[0m\u001b[0m\n\u001b[0m\u001b[1;32m    224\u001b[0m         \u001b[0;32mif\u001b[0m \u001b[0mx\u001b[0m\u001b[0;34m.\u001b[0m\u001b[0mndim\u001b[0m \u001b[0;34m>\u001b[0m \u001b[0;36m2\u001b[0m \u001b[0;32mor\u001b[0m \u001b[0my\u001b[0m\u001b[0;34m.\u001b[0m\u001b[0mndim\u001b[0m \u001b[0;34m>\u001b[0m \u001b[0;36m2\u001b[0m\u001b[0;34m:\u001b[0m\u001b[0;34m\u001b[0m\u001b[0m\n\u001b[1;32m    225\u001b[0m             \u001b[0;32mraise\u001b[0m \u001b[0mValueError\u001b[0m\u001b[0;34m(\u001b[0m\u001b[0;34m\"x and y can be no greater than 2-D\"\u001b[0m\u001b[0;34m)\u001b[0m\u001b[0;34m\u001b[0m\u001b[0m\n",
      "\u001b[0;31mValueError\u001b[0m: x and y must have same first dimension"
     ]
    },
    {
     "data": {
      "image/png": "[encoded data removed]",
      "text/plain": [
       "<matplotlib.figure.Figure at 0x120c54350>"
      ]
     },
     "metadata": {},
     "output_type": "display_data"
    }
   ],
   "source": [
    "# plot our cost\n",
    "plt.plot(xrange(n_train), costs)\n",
    "plt.xlabel('Steps')\n",
    "plt.ylabel('Cost');"
   ]
  },
  {
   "cell_type": "markdown",
   "metadata": {},
   "source": [
    "### Taking a look at the Convolutional Filters (Amino Maps)"
   ]
  },
  {
   "cell_type": "code",
   "execution_count": null,
   "metadata": {
    "collapsed": true
   },
   "outputs": [],
   "source": [
    "# AMINO MAPS (n_window, 21)\n",
    "aminos = ['-','A', 'C', 'D', 'E', 'F', 'G', 'H', 'I', 'K', 'L', 'M', 'N', 'P', 'Q', 'R', 'S', 'T', 'V', 'W', 'Y']\n",
    "# positions = ['-1', '-2', '0', '1', '2']\n",
    "\n",
    "positions = sorted(map(str, range(-(n_window-1)//2, (n_window+1)//2, 1)))\n",
    "\n",
    "for conv in wi.eval()[:5]:\n",
    "    c = conv.reshape(n_window, n_aminos)\n",
    "    plt.imshow(c, cmap='Greys')\n",
    "    plt.xticks(range(len(aminos)), aminos)\n",
    "    plt.yticks(range(len(positions)), positions)\n",
    "    plt.colorbar()\n",
    "    plt.show()"
   ]
  },
  {
   "cell_type": "markdown",
   "metadata": {},
   "source": [
    "## Batch Normalization"
   ]
  },
  {
   "cell_type": "code",
   "execution_count": null,
   "metadata": {
    "collapsed": true,
    "run_control": {
     "frozen": false,
     "read_only": false
    }
   },
   "outputs": [],
   "source": [
    "# hoping to get batch normalization implemented below\n",
    "# data, input weights, gamma input, beta input, hidden weights, hidden bias, gamma hidden, beta hidden, \n",
    "# output weights, output bias, gamma output, beta output, p_drop, p_hidden_drop\n",
    "def model_bn(X, wi, gi, bbi, wh, bh, gh, bbh, wo, bo, go, bbo, p_drop_conv, p_drop_hidden):\n",
    "\n",
    "    # --------------------------------------------\n",
    "    \n",
    "    layer_1 = conv2d(X, wi, border_mode='valid')\n",
    "    layer_1 = layer_1.reshape((-1, 256))\n",
    "    layer_1 = batch_normalization(layer_1, gamma=gi, beta=bbi, \n",
    "                                 mean=layer_1.mean((0, ), keepdims=True), \n",
    "                                  std = T.ones_like(layer_1.var((0,), keepdims=True)), \n",
    "                                  mode='high_mem')\n",
    "\n",
    "    layer_1 = dropout(layer_1, p_drop_conv)\n",
    "\n",
    "    # --------------------------------------------\n",
    "    \n",
    "    layer_2 = T.dot(layer_1, wh) + bh\n",
    "    layer_2 = batch_normalization(layer_2, gamma=gh, beta=bbh, \n",
    "                                 mean=X.mean((0, ), keepdims=True), \n",
    "                                  std = T.ones_like(layer_2.var((0,), keepdims=True)), \n",
    "                                  mode='high_mem')\n",
    "    \n",
    "    layer_2 = activate(layer_2)\n",
    "    layer_2 = dropout(layer_2, p_drop_hidden)\n",
    "    \n",
    "    # --------------------------------------------\n",
    "    \n",
    "    layer_3 = T.dot(layer_2, wo) + bo\n",
    "    layer_3 = batch_normalization(layer_3, gamma=go, beta=bbo, \n",
    "                                 mean=X.mean((0, ), keepdims=True), \n",
    "                                  std = T.ones_like(layer_3.var((0,), keepdims=True)), \n",
    "                                  mode='high_mem')\n",
    "    \n",
    "    layer_3 = dropout(layer_3, p_drop_hidden)\n",
    "    \n",
    "    # --------------------------------------------\n",
    "    \n",
    "    # thinks it's getting a 4D Tensor ???\n",
    "#     pyx = softmax(layer_3)\n",
    "    pyx = T.nnet.softmax(layer_3)\n",
    "    return layer_1, layer_2, layer_3, pyx"
   ]
  },
  {
   "cell_type": "code",
   "execution_count": null,
   "metadata": {
    "collapsed": true
   },
   "outputs": [],
   "source": [
    "X = T.ftensor4()\n",
    "Y = T.fmatrix()\n",
    "\n",
    "# define number of desired features out of convolution\n",
    "n_conv = 256\n",
    "\n",
    "# define hidden layer depth\n",
    "h_depth = 600\n",
    "\n",
    "# define output layer size\n",
    "o_depth = 6\n",
    "\n",
    "# --------------------------- FOR BATCH NORMALIZATION -----------------------\n",
    "\n",
    "# initialize weight matrices: wi, gi, bbi, wh, bh, gh, bbh, wo, bo, go, bbo\n",
    "\n",
    "# input parameters\n",
    "wi = init_weights((n_conv, 1, n_window, n_aminos))\n",
    "gi = theano.shared(floatX(np.ones(n_conv)))\n",
    "bbi = theano.shared(floatX(np.zeros(n_conv)))\n",
    "\n",
    "# hidden parameters\n",
    "wh = glorot_init_weights((n_conv, h_depth))\n",
    "bh = theano.shared(floatX(np.zeros(h_depth)))\n",
    "gh = theano.shared(floatX(np.ones(h_depth)))\n",
    "bbh = theano.shared(floatX(np.zeros(h_depth)))\n",
    "\n",
    "# output parameters\n",
    "wo = glorot_init_weights((h_depth, o_depth))\n",
    "bo = theano.shared(floatX(np.zeros(o_depth)))\n",
    "go = theano.shared(floatX(np.ones(o_depth)))\n",
    "bbo = theano.shared(floatX(np.zeros(o_depth)))\n",
    "\n",
    "# modeling and parameters for Gradient Descent\n",
    "noise_l1, noise_l2, noise_l3, noise_py_x = model(X, wi, gi, bbi, wh, bh, gh, bbh, wo, bo, go, bbo, 0.2, 0.5)\n",
    "l1, l2, l3, py_x = model(X, wi, gi, bbi, wh, bh, gh, bbh, wo, bo, go, bbo, 0., 0.)\n",
    "params = [wi, gi, bbi, wh, bh, gh, bbh, wo, bo, go, bbo]\n",
    "\n",
    "# output and training \n",
    "\n",
    "y_x = T.argmax(py_x, axis=1)\n",
    "cost = T.mean(T.nnet.categorical_crossentropy(noise_py_x, Y))\n",
    "updates = RMSprop(cost, params, lr=1e-4) #lr=1e-7 <--- way too small of a LR\n",
    "\n",
    "train = theano.function(inputs=[X, Y], outputs=cost, updates=updates, allow_input_downcast=True)\n",
    "predict = theano.function(inputs=[X], outputs=y_x, allow_input_downcast=True)"
   ]
  },
  {
   "cell_type": "code",
   "execution_count": null,
   "metadata": {
    "collapsed": true
   },
   "outputs": [],
   "source": [
    "# number of training iterations to perform\n",
    "n_train = 31\n",
    "\n",
    "# define mini-batch size\n",
    "mbs = 128\n",
    "\n",
    "# store our results\n",
    "costs = []\n",
    "test_scores = []\n",
    "train_scores = []\n",
    "\n",
    "# performing our training\n",
    "for i in xrange(n_train):\n",
    "    \n",
    "    for start, end in zip(xrange(0, len(xTrain), mbs), \n",
    "                          xrange(mbs, len(xTrain), mbs)):\n",
    "    \n",
    "        cost = train(xTrain[start:end], yTrain[start:end])\n",
    "    \n",
    "    costs.append(cost)\n",
    "    \n",
    "    train_score = np.mean(np.argmax(yTrain, axis=1) == predict(xTrain)) \n",
    "    test_score = np.mean(np.argmax(yTest, axis=1) == predict(xTest))\n",
    "    \n",
    "    test_scores.append(test_score)\n",
    "    train_scores.append(train_score)\n",
    "    \n",
    "    print 'iteration:', i, '-------', 'train:', round(train_score, 3), '-------', 'test:', round(test_score, 3)\n",
    "    print wi.eval()[0][0][0][:5] # take a quick look at conv filter\n",
    "    print '-'*60\n",
    "    \n",
    "# got up to about 67% w/ 5 vectors!\n",
    "# up to like 69% with a 9 vector"
   ]
  },
  {
   "cell_type": "code",
   "execution_count": null,
   "metadata": {
    "collapsed": true
   },
   "outputs": [],
   "source": [
    "# plot our accuracies\n",
    "plt.plot(xrange(n_train), train_scores, label='train')\n",
    "plt.plot(xrange(n_train), test_scores, label='test')\n",
    "plt.xlabel('Steps')\n",
    "plt.ylabel('Accuracy')\n",
    "plt.legend(loc=2);"
   ]
  },
  {
   "cell_type": "code",
   "execution_count": null,
   "metadata": {
    "collapsed": true
   },
   "outputs": [],
   "source": [
    "# plot our cost\n",
    "plt.plot(xrange(n_train), costs)\n",
    "plt.xlabel('Steps')\n",
    "plt.ylabel('Cost');"
   ]
  },
  {
   "cell_type": "markdown",
   "metadata": {},
   "source": [
    "## Now Added GRU between Convolutional Layer and Feed Foward"
   ]
  },
  {
   "cell_type": "markdown",
   "metadata": {},
   "source": [
    "Input --Conv--> ConvOut --GRU--> GRUOut"
   ]
  },
  {
   "cell_type": "code",
   "execution_count": null,
   "metadata": {
    "collapsed": true
   },
   "outputs": [],
   "source": [
    "srng = RandomStreams()\n",
    "\n",
    "def floatX(X):\n",
    "    return np.asarray(X, dtype=theano.config.floatX)\n",
    "\n",
    "def glorot_init_weights(shape):\n",
    "    (h, w) = shape\n",
    "    normalizer = 2.0 * (6**0.5) / ((h + w)**0.5) * 0.1  #factors: correct for uni[0,1], glo, glo, softmax deriv\n",
    "    return theano.shared(floatX((np.random.random_sample(shape) - 0.5) * normalizer))\n",
    "\n",
    "def init_weights(shape):\n",
    "    return theano.shared(floatX(np.random.randn(*shape) * 0.01))\n",
    "\n",
    "def activ(x, f=None):\n",
    "    if f == 'tan':\n",
    "        return T.tanh(x)\n",
    "    else:\n",
    "        return T.nnet.sigmoid(x)\n",
    "\n",
    "def ELU(X, alpha=0.1):\n",
    "    return T.switch(X > 0, X, alpha * (T.exp(X) - 1))\n",
    "    \n",
    "def dropout(X, p=0.0):\n",
    "    if p > 0:\n",
    "        retain_prob = 1 - p\n",
    "        X *= srng.binomial(X.shape, p=retain_prob, dtype=theano.config.floatX)\n",
    "        X /= retain_prob\n",
    "    return X\n",
    "    \n",
    "def RMSprop(cost, params, lr=1e-3, rho=0.9, epsilon=1e-6):\n",
    "    grads = T.grad(cost=cost, wrt=params)\n",
    "    updates = []\n",
    "    \n",
    "    for p, g in zip(params, grads):\n",
    "        acc = theano.shared(p.get_value() * 0.)\n",
    "        acc_new = rho * acc + (1 - rho) * g ** 2\n",
    "        gradient_scaling = T.sqrt(acc_new + epsilon)\n",
    "        g = g / gradient_scaling\n",
    "        updates.append((acc, acc_new))\n",
    "        updates.append((p, p - lr * g))\n",
    "    \n",
    "    return updates\n",
    "\n",
    "def conv_model(X, wc, wh=None, p_drop_conv=0.0, p_drop_hidden=0.0):\n",
    "    l_1 = T.nnet.relu(conv2d(X, wc, border_mode='valid'))\n",
    "    l_1 = l_1.reshape((-1, 256))\n",
    "#     l_1 = dropout(l_1, p_drop_conv)\n",
    "\n",
    "#     l_2 = rectify(T.dot(layer_1, wh))\n",
    "#     l_2 = dropout(layer_2, p_drop_hidden)\n",
    "    \n",
    "    return l_1"
   ]
  },
  {
   "cell_type": "code",
   "execution_count": null,
   "metadata": {
    "collapsed": true
   },
   "outputs": [],
   "source": [
    "X = T.ftensor4()# dims (mbs, n_channels, n_rows, n_cols)\n",
    "Y = T.fmatrix() # dims (mbs, o_depth)\n",
    "\n",
    "n_channels, n_rows, n_cols = 1, n_window, 21 # define protein \"image\" dimensions\n",
    "n_conv = 256 # features out of convolution\n",
    "h_depth = 50 # hidden layer depth\n",
    "o_depth = 6 # output depth\n",
    "\n",
    "# initialize weights for conv layer\n",
    "W_c = init_weights((n_conv, n_channels, n_rows, n_cols))\n",
    "\n",
    "# initial weight matrices\n",
    "W_uh = np.asarray(np.random.randn(n_conv, h_depth) * 0.001, dtype = theano.config.floatX)\n",
    "W_hh = np.asarray(np.random.randn(h_depth, h_depth) * 0.001, dtype = theano.config.floatX)\n",
    "W_hy = np.asarray(np.random.randn(h_depth, o_depth) * 0.001, dtype = theano.config.floatX)\n",
    "b_hh = np.zeros(h_depth, dtype=theano.config.floatX)\n",
    "b_hy = np.zeros(o_depth, dtype=theano.config.floatX)\n",
    "\n",
    "W_uh = theano.shared(W_uh, 'W_uh')\n",
    "W_hh = theano.shared(W_hh, 'W_hh')\n",
    "W_hy = theano.shared(W_hy, 'W_hy')\n",
    "b_hh = theano.shared(b_hh, 'b_hh')\n",
    "b_hy = theano.shared(b_hy, 'b_hy')\n",
    "\n",
    "# define new matrices \n",
    "Wr_uh = np.asarray(np.random.randn(n_conv, h_depth) * 0.001, dtype = theano.config.floatX)\n",
    "Wr_hh = np.asarray(np.random.randn(h_depth, h_depth) * 0.001, dtype = theano.config.floatX)\n",
    "Wz_uh = np.asarray(np.random.randn(n_conv, h_depth) * 0.001, dtype = theano.config.floatX)\n",
    "Wz_hh = np.asarray(np.random.randn(h_depth, h_depth) * 0.001, dtype = theano.config.floatX)\n",
    "\n",
    "Wr_uh = theano.shared(Wr_uh, 'Wr_uh')\n",
    "Wr_hh = theano.shared(Wr_hh, 'Wr_hh')\n",
    "Wz_uh = theano.shared(Wz_uh, 'Wz_uh')\n",
    "Wz_hh = theano.shared(Wz_hh, 'Wz_hh')\n",
    "\n",
    "h0_tm1 = theano.shared(np.zeros(h_depth, dtype=theano.config.floatX))\n",
    "\n",
    "# have conv_model outside of recurrent fn\n",
    "u = conv_model(X, W_c)\n",
    "\n",
    "params = [W_c, W_hh, W_uh, W_hy, Wr_uh, Wr_hh, Wz_uh, Wz_hh, b_hh, b_hy]\n",
    "\n",
    "def recurrent_fn(u_t, h_tm1, W_hh, W_uh, W_hy, Wr_uh, Wr_hh, Wz_uh, Wz_hh, b_hh, b_hy):\n",
    "    \n",
    "    r_t = activ(T.dot(u_t, Wr_uh) + T.dot(h_tm1, Wr_hh))\n",
    "    z_t = activ(T.dot(u_t, Wz_uh) + T.dot(h_tm1, Wz_hh))\n",
    "    \n",
    "    h_tilda = activ(T.dot(u_t, W_uh) + r_t*T.dot(h_tm1, W_hh), f='tan')\n",
    "    \n",
    "    h_t = ((1 - z_t)*h_tm1) + (z_t*h_tilda) + b_hh\n",
    "    \n",
    "    # adding in softmax, for one hot coding \n",
    "    y_t = T.nnet.softmax(T.dot(h_t, W_hy) + b_hy)\n",
    "    \n",
    "    return h_t, y_t\n",
    "\n",
    "[h, y], _ = theano.scan(recurrent_fn, \n",
    "                       sequences = u,\n",
    "                       outputs_info = [h0_tm1, None],\n",
    "                       non_sequences = [W_hh, W_uh, W_hy, Wr_uh, Wr_hh, Wz_uh, Wz_hh, b_hh, b_hy])\n",
    "\n",
    "y = y.reshape((-1, 6))\n",
    "\n",
    "# for some reason, y is a (128, 128, 6) tensor ? ---- had to do with the h @ t-1\n",
    "\n",
    "cost = T.mean((Y - y)**2)\n",
    "# cost = T.mean(T.nnet.categorical_crossentropy(y, Y))\n",
    "\n",
    "update = RMSprop(cost, params) #lr=1e-7\n",
    "\n",
    "y_x = T.argmax(y, axis=1)\n",
    "\n",
    "train = theano.function(inputs=[X, Y], outputs=[cost, y], updates=update, allow_input_downcast=True)\n",
    "predict = theano.function(inputs=[X], outputs=y_x, allow_input_downcast=True)"
   ]
  },
  {
   "cell_type": "code",
   "execution_count": null,
   "metadata": {
    "collapsed": true
   },
   "outputs": [],
   "source": [
    "# number of training iterations to perform\n",
    "n_train = 101\n",
    "\n",
    "# mini-batch size --- MUCH improved from previous 128\n",
    "mbs = 3 \n",
    "\n",
    "costs = []\n",
    "\n",
    "# performing our training\n",
    "for i in xrange(n_train):\n",
    "    for start, end in zip(xrange(0, len(xTrain), mbs), \n",
    "                          xrange(mbs, len(xTrain), mbs)):\n",
    "        cost, yi = train(xTrain[start:end], yTrain[start:end])\n",
    "#         print i, 'training:', np.mean(np.argmax(yTrain, axis=1) == predict(xTrain))\n",
    "#         print i, 'test:', np.mean(np.argmax(yTest, axis=1) == predict(xTest))\n",
    "#         print '-'*50\n",
    "    print 'cost:', cost\n",
    "    print 'yi:', yi\n",
    "    print i, 'training:', np.mean(np.argmax(yTrain, axis=1) == predict(xTrain))\n",
    "    print i, 'test:', np.mean(np.argmax(yTest, axis=1) == predict(xTest))\n",
    "    print '-'*50\n",
    "    costs.append(cost)"
   ]
  },
  {
   "cell_type": "markdown",
   "metadata": {},
   "source": [
    "**Conclusion:**\n",
    "* Simple Feed-Forward gets us ~ 65% accuracy\n",
    "* Adding convolution helps (maybe we should make this layer wider?)\n",
    "* Adding Recurrancy (may) help\n",
    "* After many, many hours trying to get CUDA up and running on my local computer, I found out It's not compatible ... \n",
    "* Training, not surprisingly, takes a long time\n",
    "    * need to get AWS cluster up and running for training on GPU\n",
    "    * should have used Keris for batch normalization ... \n",
    "* Watch out for vanishing gradients!\n",
    "    * ELU does a good job of quashing these!\n",
    "* An adaptive learning rate would likely help"
   ]
  },
  {
   "cell_type": "markdown",
   "metadata": {
    "collapsed": true,
    "run_control": {
     "frozen": false,
     "read_only": false
    }
   },
   "source": [
    "**Future Work**:\n",
    "* Get this running on an AWS EC2 Cluster with GPUs\n",
    "* Implement Batch Normalization with Keras\n",
    "* Flip the proteins around, to instantly DOUBLE our dataset"
   ]
  },
  {
   "cell_type": "markdown",
   "metadata": {
    "hide_input": true
   },
   "source": [
    " "
   ]
  }
 ],
 "metadata": {
  "kernelspec": {
   "display_name": "Python 2",
   "language": "python",
   "name": "python2"
  },
  "language_info": {
   "codemirror_mode": {
    "name": "ipython",
    "version": 2
   },
   "file_extension": ".py",
   "mimetype": "text/x-python",
   "name": "python",
   "nbconvert_exporter": "python",
   "pygments_lexer": "ipython2",
   "version": "2.7.11"
  }
 },
 "nbformat": 4,
 "nbformat_minor": 0
}
