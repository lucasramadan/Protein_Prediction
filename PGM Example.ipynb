{
 "cells": [
  {
   "cell_type": "code",
   "execution_count": 1,
   "metadata": {
    "ExecuteTime": {
     "end_time": "2016-04-28T22:43:58.748426",
     "start_time": "2016-04-28T22:43:52.252487"
    },
    "collapsed": false,
    "run_control": {
     "frozen": false,
     "read_only": false
    }
   },
   "outputs": [],
   "source": [
    "from pgmpy.models import MarkovModel, BayesianModel\n",
    "from pgmpy.inference import BeliefPropagation\n",
    "from pgmpy.factors import Factor\n",
    "import numpy as np\n",
    "import pandas as pd\n",
    "from scipy import optimize\n",
    "from pgmpy.estimators import MaximumLikelihoodEstimator\n",
    "import pickle"
   ]
  },
  {
   "cell_type": "code",
   "execution_count": 3,
   "metadata": {
    "ExecuteTime": {
     "end_time": "2016-04-28T22:44:02.093794",
     "start_time": "2016-04-28T22:43:59.876435"
    },
    "collapsed": false,
    "run_control": {
     "frozen": false,
     "read_only": false
    }
   },
   "outputs": [
    {
     "data": {
      "text/html": [
       "<div>\n",
       "<table border=\"1\" class=\"dataframe\">\n",
       "  <thead>\n",
       "    <tr style=\"text-align: right;\">\n",
       "      <th></th>\n",
       "      <th>A-2</th>\n",
       "      <th>C-2</th>\n",
       "      <th>D-2</th>\n",
       "      <th>E-2</th>\n",
       "      <th>F-2</th>\n",
       "      <th>G-2</th>\n",
       "      <th>H-2</th>\n",
       "      <th>I-2</th>\n",
       "      <th>K-2</th>\n",
       "      <th>L-2</th>\n",
       "      <th>...</th>\n",
       "      <th>N2</th>\n",
       "      <th>P2</th>\n",
       "      <th>Q2</th>\n",
       "      <th>R2</th>\n",
       "      <th>S2</th>\n",
       "      <th>T2</th>\n",
       "      <th>V2</th>\n",
       "      <th>W2</th>\n",
       "      <th>Y2</th>\n",
       "      <th>-2</th>\n",
       "    </tr>\n",
       "  </thead>\n",
       "  <tbody>\n",
       "    <tr>\n",
       "      <th>0</th>\n",
       "      <td>0</td>\n",
       "      <td>0</td>\n",
       "      <td>0</td>\n",
       "      <td>0</td>\n",
       "      <td>0</td>\n",
       "      <td>0</td>\n",
       "      <td>0</td>\n",
       "      <td>0</td>\n",
       "      <td>0</td>\n",
       "      <td>0</td>\n",
       "      <td>...</td>\n",
       "      <td>0</td>\n",
       "      <td>1</td>\n",
       "      <td>0</td>\n",
       "      <td>0</td>\n",
       "      <td>0</td>\n",
       "      <td>0</td>\n",
       "      <td>0</td>\n",
       "      <td>0</td>\n",
       "      <td>0</td>\n",
       "      <td>0</td>\n",
       "    </tr>\n",
       "    <tr>\n",
       "      <th>1</th>\n",
       "      <td>0</td>\n",
       "      <td>0</td>\n",
       "      <td>0</td>\n",
       "      <td>0</td>\n",
       "      <td>0</td>\n",
       "      <td>0</td>\n",
       "      <td>0</td>\n",
       "      <td>0</td>\n",
       "      <td>0</td>\n",
       "      <td>0</td>\n",
       "      <td>...</td>\n",
       "      <td>0</td>\n",
       "      <td>0</td>\n",
       "      <td>0</td>\n",
       "      <td>0</td>\n",
       "      <td>0</td>\n",
       "      <td>0</td>\n",
       "      <td>0</td>\n",
       "      <td>0</td>\n",
       "      <td>0</td>\n",
       "      <td>0</td>\n",
       "    </tr>\n",
       "    <tr>\n",
       "      <th>2</th>\n",
       "      <td>0</td>\n",
       "      <td>0</td>\n",
       "      <td>0</td>\n",
       "      <td>0</td>\n",
       "      <td>0</td>\n",
       "      <td>0</td>\n",
       "      <td>0</td>\n",
       "      <td>0</td>\n",
       "      <td>0</td>\n",
       "      <td>1</td>\n",
       "      <td>...</td>\n",
       "      <td>0</td>\n",
       "      <td>0</td>\n",
       "      <td>0</td>\n",
       "      <td>0</td>\n",
       "      <td>0</td>\n",
       "      <td>0</td>\n",
       "      <td>0</td>\n",
       "      <td>0</td>\n",
       "      <td>0</td>\n",
       "      <td>0</td>\n",
       "    </tr>\n",
       "    <tr>\n",
       "      <th>3</th>\n",
       "      <td>0</td>\n",
       "      <td>0</td>\n",
       "      <td>0</td>\n",
       "      <td>0</td>\n",
       "      <td>0</td>\n",
       "      <td>0</td>\n",
       "      <td>0</td>\n",
       "      <td>0</td>\n",
       "      <td>0</td>\n",
       "      <td>0</td>\n",
       "      <td>...</td>\n",
       "      <td>0</td>\n",
       "      <td>0</td>\n",
       "      <td>0</td>\n",
       "      <td>0</td>\n",
       "      <td>0</td>\n",
       "      <td>0</td>\n",
       "      <td>0</td>\n",
       "      <td>0</td>\n",
       "      <td>0</td>\n",
       "      <td>0</td>\n",
       "    </tr>\n",
       "    <tr>\n",
       "      <th>4</th>\n",
       "      <td>0</td>\n",
       "      <td>0</td>\n",
       "      <td>0</td>\n",
       "      <td>0</td>\n",
       "      <td>0</td>\n",
       "      <td>0</td>\n",
       "      <td>0</td>\n",
       "      <td>0</td>\n",
       "      <td>0</td>\n",
       "      <td>0</td>\n",
       "      <td>...</td>\n",
       "      <td>0</td>\n",
       "      <td>0</td>\n",
       "      <td>0</td>\n",
       "      <td>0</td>\n",
       "      <td>0</td>\n",
       "      <td>1</td>\n",
       "      <td>0</td>\n",
       "      <td>0</td>\n",
       "      <td>0</td>\n",
       "      <td>0</td>\n",
       "    </tr>\n",
       "  </tbody>\n",
       "</table>\n",
       "<p>5 rows × 105 columns</p>\n",
       "</div>"
      ],
      "text/plain": [
       "   A-2  C-2  D-2  E-2  F-2  G-2  H-2  I-2  K-2  L-2 ...  N2  P2  Q2  R2  S2  \\\n",
       "0    0    0    0    0    0    0    0    0    0    0 ...   0   1   0   0   0   \n",
       "1    0    0    0    0    0    0    0    0    0    0 ...   0   0   0   0   0   \n",
       "2    0    0    0    0    0    0    0    0    0    1 ...   0   0   0   0   0   \n",
       "3    0    0    0    0    0    0    0    0    0    0 ...   0   0   0   0   0   \n",
       "4    0    0    0    0    0    0    0    0    0    0 ...   0   0   0   0   0   \n",
       "\n",
       "   T2  V2  W2  Y2  -2  \n",
       "0   0   0   0   0   0  \n",
       "1   0   0   0   0   0  \n",
       "2   0   0   0   0   0  \n",
       "3   0   0   0   0   0  \n",
       "4   1   0   0   0   0  \n",
       "\n",
       "[5 rows x 105 columns]"
      ]
     },
     "execution_count": 3,
     "metadata": {},
     "output_type": "execute_result"
    }
   ],
   "source": [
    "data = pd.read_csv('5_formatted.csv').drop('Unnamed: 0', axis=1)\n",
    "data.head()"
   ]
  },
  {
   "cell_type": "code",
   "execution_count": 4,
   "metadata": {
    "ExecuteTime": {
     "end_time": "2016-04-28T22:44:02.194936",
     "start_time": "2016-04-28T22:44:02.096700"
    },
    "collapsed": false,
    "run_control": {
     "frozen": false,
     "read_only": false
    }
   },
   "outputs": [],
   "source": [
    "labels = pd.read_csv('5_formatted_labels.csv').drop('Unnamed: 0', axis=1)"
   ]
  },
  {
   "cell_type": "code",
   "execution_count": 5,
   "metadata": {
    "ExecuteTime": {
     "end_time": "2016-04-28T22:44:02.210216",
     "start_time": "2016-04-28T22:44:02.197977"
    },
    "collapsed": false,
    "run_control": {
     "frozen": false,
     "read_only": false
    }
   },
   "outputs": [
    {
     "data": {
      "text/html": [
       "<div>\n",
       "<table border=\"1\" class=\"dataframe\">\n",
       "  <thead>\n",
       "    <tr style=\"text-align: right;\">\n",
       "      <th></th>\n",
       "      <th>State</th>\n",
       "    </tr>\n",
       "  </thead>\n",
       "  <tbody>\n",
       "    <tr>\n",
       "      <th>0</th>\n",
       "      <td>5</td>\n",
       "    </tr>\n",
       "    <tr>\n",
       "      <th>1</th>\n",
       "      <td>5</td>\n",
       "    </tr>\n",
       "    <tr>\n",
       "      <th>2</th>\n",
       "      <td>0</td>\n",
       "    </tr>\n",
       "    <tr>\n",
       "      <th>3</th>\n",
       "      <td>0</td>\n",
       "    </tr>\n",
       "    <tr>\n",
       "      <th>4</th>\n",
       "      <td>0</td>\n",
       "    </tr>\n",
       "  </tbody>\n",
       "</table>\n",
       "</div>"
      ],
      "text/plain": [
       "   State\n",
       "0      5\n",
       "1      5\n",
       "2      0\n",
       "3      0\n",
       "4      0"
      ]
     },
     "execution_count": 5,
     "metadata": {},
     "output_type": "execute_result"
    }
   ],
   "source": [
    "labels.columns = ['State']\n",
    "labels.head()"
   ]
  },
  {
   "cell_type": "code",
   "execution_count": 6,
   "metadata": {
    "ExecuteTime": {
     "end_time": "2016-04-28T22:44:07.378861",
     "start_time": "2016-04-28T22:44:07.372312"
    },
    "collapsed": false,
    "run_control": {
     "frozen": false,
     "read_only": false
    },
    "scrolled": true
   },
   "outputs": [
    {
     "data": {
      "text/plain": [
       "['A-2', 'C-2']"
      ]
     },
     "execution_count": 6,
     "metadata": {},
     "output_type": "execute_result"
    }
   ],
   "source": [
    "# create the singleton nodes\n",
    "singletons = list(data.columns)\n",
    "singletons[:2]"
   ]
  },
  {
   "cell_type": "code",
   "execution_count": null,
   "metadata": {
    "ExecuteTime": {
     "end_time": "2016-04-28T21:38:37.666733",
     "start_time": "2016-04-28T21:38:37.663321"
    },
    "collapsed": false,
    "run_control": {
     "frozen": false,
     "read_only": false
    }
   },
   "outputs": [],
   "source": [
    "# ys = list(df.columns[-6:])\n",
    "# ys[-1] = 'U'\n",
    "# ys"
   ]
  },
  {
   "cell_type": "code",
   "execution_count": 7,
   "metadata": {
    "ExecuteTime": {
     "end_time": "2016-04-28T22:44:10.160057",
     "start_time": "2016-04-28T22:44:10.149769"
    },
    "collapsed": false,
    "run_control": {
     "frozen": false,
     "read_only": false
    },
    "scrolled": true
   },
   "outputs": [
    {
     "data": {
      "text/plain": [
       "[('State', 'A-2'), ('State', 'C-2')]"
      ]
     },
     "execution_count": 7,
     "metadata": {},
     "output_type": "execute_result"
    }
   ],
   "source": [
    "edges = [('State', s) for s in singletons]\n",
    "\n",
    "# # generate the edges\n",
    "# for y in ys:\n",
    "#     for s in singletons:\n",
    "#         edges.append((s, y))\n",
    "        \n",
    "edges[:2]"
   ]
  },
  {
   "cell_type": "code",
   "execution_count": 8,
   "metadata": {
    "ExecuteTime": {
     "end_time": "2016-04-28T22:44:11.554164",
     "start_time": "2016-04-28T22:44:11.548692"
    },
    "collapsed": false,
    "run_control": {
     "frozen": false,
     "read_only": false
    }
   },
   "outputs": [
    {
     "data": {
      "text/plain": [
       "105"
      ]
     },
     "execution_count": 8,
     "metadata": {},
     "output_type": "execute_result"
    }
   ],
   "source": [
    "len(edges)"
   ]
  },
  {
   "cell_type": "code",
   "execution_count": 9,
   "metadata": {
    "ExecuteTime": {
     "end_time": "2016-04-28T22:44:12.251160",
     "start_time": "2016-04-28T22:44:12.244919"
    },
    "collapsed": false,
    "run_control": {
     "frozen": false,
     "read_only": false
    }
   },
   "outputs": [],
   "source": [
    "data['State'] = labels"
   ]
  },
  {
   "cell_type": "code",
   "execution_count": 10,
   "metadata": {
    "ExecuteTime": {
     "end_time": "2016-04-28T22:44:13.565211",
     "start_time": "2016-04-28T22:44:13.524545"
    },
    "collapsed": false,
    "run_control": {
     "frozen": false,
     "read_only": false
    }
   },
   "outputs": [
    {
     "data": {
      "text/html": [
       "<div>\n",
       "<table border=\"1\" class=\"dataframe\">\n",
       "  <thead>\n",
       "    <tr style=\"text-align: right;\">\n",
       "      <th></th>\n",
       "      <th>A-2</th>\n",
       "      <th>C-2</th>\n",
       "      <th>D-2</th>\n",
       "      <th>E-2</th>\n",
       "      <th>F-2</th>\n",
       "      <th>G-2</th>\n",
       "      <th>H-2</th>\n",
       "      <th>I-2</th>\n",
       "      <th>K-2</th>\n",
       "      <th>L-2</th>\n",
       "      <th>...</th>\n",
       "      <th>P2</th>\n",
       "      <th>Q2</th>\n",
       "      <th>R2</th>\n",
       "      <th>S2</th>\n",
       "      <th>T2</th>\n",
       "      <th>V2</th>\n",
       "      <th>W2</th>\n",
       "      <th>Y2</th>\n",
       "      <th>-2</th>\n",
       "      <th>State</th>\n",
       "    </tr>\n",
       "  </thead>\n",
       "  <tbody>\n",
       "    <tr>\n",
       "      <th>0</th>\n",
       "      <td>0</td>\n",
       "      <td>0</td>\n",
       "      <td>0</td>\n",
       "      <td>0</td>\n",
       "      <td>0</td>\n",
       "      <td>0</td>\n",
       "      <td>0</td>\n",
       "      <td>0</td>\n",
       "      <td>0</td>\n",
       "      <td>0</td>\n",
       "      <td>...</td>\n",
       "      <td>1</td>\n",
       "      <td>0</td>\n",
       "      <td>0</td>\n",
       "      <td>0</td>\n",
       "      <td>0</td>\n",
       "      <td>0</td>\n",
       "      <td>0</td>\n",
       "      <td>0</td>\n",
       "      <td>0</td>\n",
       "      <td>5</td>\n",
       "    </tr>\n",
       "    <tr>\n",
       "      <th>1</th>\n",
       "      <td>0</td>\n",
       "      <td>0</td>\n",
       "      <td>0</td>\n",
       "      <td>0</td>\n",
       "      <td>0</td>\n",
       "      <td>0</td>\n",
       "      <td>0</td>\n",
       "      <td>0</td>\n",
       "      <td>0</td>\n",
       "      <td>0</td>\n",
       "      <td>...</td>\n",
       "      <td>0</td>\n",
       "      <td>0</td>\n",
       "      <td>0</td>\n",
       "      <td>0</td>\n",
       "      <td>0</td>\n",
       "      <td>0</td>\n",
       "      <td>0</td>\n",
       "      <td>0</td>\n",
       "      <td>0</td>\n",
       "      <td>5</td>\n",
       "    </tr>\n",
       "    <tr>\n",
       "      <th>2</th>\n",
       "      <td>0</td>\n",
       "      <td>0</td>\n",
       "      <td>0</td>\n",
       "      <td>0</td>\n",
       "      <td>0</td>\n",
       "      <td>0</td>\n",
       "      <td>0</td>\n",
       "      <td>0</td>\n",
       "      <td>0</td>\n",
       "      <td>1</td>\n",
       "      <td>...</td>\n",
       "      <td>0</td>\n",
       "      <td>0</td>\n",
       "      <td>0</td>\n",
       "      <td>0</td>\n",
       "      <td>0</td>\n",
       "      <td>0</td>\n",
       "      <td>0</td>\n",
       "      <td>0</td>\n",
       "      <td>0</td>\n",
       "      <td>0</td>\n",
       "    </tr>\n",
       "    <tr>\n",
       "      <th>3</th>\n",
       "      <td>0</td>\n",
       "      <td>0</td>\n",
       "      <td>0</td>\n",
       "      <td>0</td>\n",
       "      <td>0</td>\n",
       "      <td>0</td>\n",
       "      <td>0</td>\n",
       "      <td>0</td>\n",
       "      <td>0</td>\n",
       "      <td>0</td>\n",
       "      <td>...</td>\n",
       "      <td>0</td>\n",
       "      <td>0</td>\n",
       "      <td>0</td>\n",
       "      <td>0</td>\n",
       "      <td>0</td>\n",
       "      <td>0</td>\n",
       "      <td>0</td>\n",
       "      <td>0</td>\n",
       "      <td>0</td>\n",
       "      <td>0</td>\n",
       "    </tr>\n",
       "    <tr>\n",
       "      <th>4</th>\n",
       "      <td>0</td>\n",
       "      <td>0</td>\n",
       "      <td>0</td>\n",
       "      <td>0</td>\n",
       "      <td>0</td>\n",
       "      <td>0</td>\n",
       "      <td>0</td>\n",
       "      <td>0</td>\n",
       "      <td>0</td>\n",
       "      <td>0</td>\n",
       "      <td>...</td>\n",
       "      <td>0</td>\n",
       "      <td>0</td>\n",
       "      <td>0</td>\n",
       "      <td>0</td>\n",
       "      <td>1</td>\n",
       "      <td>0</td>\n",
       "      <td>0</td>\n",
       "      <td>0</td>\n",
       "      <td>0</td>\n",
       "      <td>0</td>\n",
       "    </tr>\n",
       "  </tbody>\n",
       "</table>\n",
       "<p>5 rows × 106 columns</p>\n",
       "</div>"
      ],
      "text/plain": [
       "   A-2  C-2  D-2  E-2  F-2  G-2  H-2  I-2  K-2  L-2  ...    P2  Q2  R2  S2  \\\n",
       "0    0    0    0    0    0    0    0    0    0    0  ...     1   0   0   0   \n",
       "1    0    0    0    0    0    0    0    0    0    0  ...     0   0   0   0   \n",
       "2    0    0    0    0    0    0    0    0    0    1  ...     0   0   0   0   \n",
       "3    0    0    0    0    0    0    0    0    0    0  ...     0   0   0   0   \n",
       "4    0    0    0    0    0    0    0    0    0    0  ...     0   0   0   0   \n",
       "\n",
       "   T2  V2  W2  Y2  -2  State  \n",
       "0   0   0   0   0   0      5  \n",
       "1   0   0   0   0   0      5  \n",
       "2   0   0   0   0   0      0  \n",
       "3   0   0   0   0   0      0  \n",
       "4   1   0   0   0   0      0  \n",
       "\n",
       "[5 rows x 106 columns]"
      ]
     },
     "execution_count": 10,
     "metadata": {},
     "output_type": "execute_result"
    }
   ],
   "source": [
    "data.head()"
   ]
  },
  {
   "cell_type": "code",
   "execution_count": 11,
   "metadata": {
    "ExecuteTime": {
     "end_time": "2016-04-28T22:44:16.555042",
     "start_time": "2016-04-28T22:44:16.549155"
    },
    "collapsed": false,
    "run_control": {
     "frozen": false,
     "read_only": false
    }
   },
   "outputs": [],
   "source": [
    "# instantiate the model\n",
    "bn = BayesianModel()\n",
    "bn.add_edges_from(edges)"
   ]
  },
  {
   "cell_type": "code",
   "execution_count": 12,
   "metadata": {
    "ExecuteTime": {
     "end_time": "2016-04-28T22:44:18.359625",
     "start_time": "2016-04-28T22:44:17.692621"
    },
    "collapsed": false,
    "run_control": {
     "frozen": false,
     "read_only": false
    }
   },
   "outputs": [],
   "source": [
    "# calculate thetas in our CPDs\n",
    "est = MaximumLikelihoodEstimator(bn, data)"
   ]
  },
  {
   "cell_type": "code",
   "execution_count": 13,
   "metadata": {
    "ExecuteTime": {
     "end_time": "2016-04-28T22:44:21.929861",
     "start_time": "2016-04-28T22:44:20.213542"
    },
    "collapsed": false,
    "run_control": {
     "frozen": false,
     "read_only": false
    }
   },
   "outputs": [
    {
     "data": {
      "text/html": [
       "<table><caption>TabularCPD for <b>State</b></caption><tr><td><b>State_0</b></td><td>0.3166</td></tr><tr><td><b>State_1</b></td><td>0.1390</td></tr><tr><td><b>State_2</b></td><td>0.0897</td></tr><tr><td><b>State_3</b></td><td>0.0688</td></tr><tr><td><b>State_4</b></td><td>0.0101</td></tr><tr><td><b>State_5</b></td><td>0.3759</td></tr></table>"
      ],
      "text/plain": [
       "<TabularCPD representing P(State:6) at 0x10439f828>"
      ]
     },
     "execution_count": 13,
     "metadata": {},
     "output_type": "execute_result"
    }
   ],
   "source": [
    "# take a look at one such\n",
    "est.get_parameters()[0]"
   ]
  },
  {
   "cell_type": "code",
   "execution_count": 14,
   "metadata": {
    "ExecuteTime": {
     "end_time": "2016-04-28T22:44:34.919908",
     "start_time": "2016-04-28T22:44:30.893325"
    },
    "collapsed": false,
    "run_control": {
     "frozen": false,
     "read_only": false
    }
   },
   "outputs": [],
   "source": [
    "# our own train, test split\n",
    "choices = [np.random.choice([True, False], p=[.75, 0.25]) for _ in range(len(data))]\n",
    "train_indices = [i for i, choice in enumerate(choices) if choice]\n",
    "test_inices = [i for i, choice in enumerate(choices) if not choice]"
   ]
  },
  {
   "cell_type": "code",
   "execution_count": 16,
   "metadata": {
    "ExecuteTime": {
     "end_time": "2016-04-28T22:44:36.318530",
     "start_time": "2016-04-28T22:44:36.206006"
    },
    "collapsed": true,
    "run_control": {
     "frozen": false,
     "read_only": false
    }
   },
   "outputs": [],
   "source": [
    "raw_data = np.asarray(data)"
   ]
  },
  {
   "cell_type": "code",
   "execution_count": 17,
   "metadata": {
    "ExecuteTime": {
     "end_time": "2016-04-28T22:44:37.167565",
     "start_time": "2016-04-28T22:44:36.973527"
    },
    "collapsed": false,
    "run_control": {
     "frozen": false,
     "read_only": false
    }
   },
   "outputs": [],
   "source": [
    "train = raw_data[train_indices]\n",
    "test = raw_data[test_inices]"
   ]
  },
  {
   "cell_type": "code",
   "execution_count": 18,
   "metadata": {
    "ExecuteTime": {
     "end_time": "2016-04-28T22:44:37.792985",
     "start_time": "2016-04-28T22:44:37.788851"
    },
    "collapsed": false,
    "run_control": {
     "frozen": false,
     "read_only": false
    }
   },
   "outputs": [],
   "source": [
    "train = pd.DataFrame(train, columns=data.columns)"
   ]
  },
  {
   "cell_type": "code",
   "execution_count": 19,
   "metadata": {
    "ExecuteTime": {
     "end_time": "2016-04-28T22:44:38.713811",
     "start_time": "2016-04-28T22:44:38.669555"
    },
    "collapsed": false
   },
   "outputs": [
    {
     "data": {
      "text/html": [
       "<div>\n",
       "<table border=\"1\" class=\"dataframe\">\n",
       "  <thead>\n",
       "    <tr style=\"text-align: right;\">\n",
       "      <th></th>\n",
       "      <th>A-2</th>\n",
       "      <th>C-2</th>\n",
       "      <th>D-2</th>\n",
       "      <th>E-2</th>\n",
       "      <th>F-2</th>\n",
       "      <th>G-2</th>\n",
       "      <th>H-2</th>\n",
       "      <th>I-2</th>\n",
       "      <th>K-2</th>\n",
       "      <th>L-2</th>\n",
       "      <th>...</th>\n",
       "      <th>P2</th>\n",
       "      <th>Q2</th>\n",
       "      <th>R2</th>\n",
       "      <th>S2</th>\n",
       "      <th>T2</th>\n",
       "      <th>V2</th>\n",
       "      <th>W2</th>\n",
       "      <th>Y2</th>\n",
       "      <th>-2</th>\n",
       "      <th>State</th>\n",
       "    </tr>\n",
       "  </thead>\n",
       "  <tbody>\n",
       "    <tr>\n",
       "      <th>0</th>\n",
       "      <td>0</td>\n",
       "      <td>0</td>\n",
       "      <td>0</td>\n",
       "      <td>0</td>\n",
       "      <td>0</td>\n",
       "      <td>0</td>\n",
       "      <td>0</td>\n",
       "      <td>0</td>\n",
       "      <td>0</td>\n",
       "      <td>0</td>\n",
       "      <td>...</td>\n",
       "      <td>0</td>\n",
       "      <td>0</td>\n",
       "      <td>0</td>\n",
       "      <td>0</td>\n",
       "      <td>0</td>\n",
       "      <td>0</td>\n",
       "      <td>0</td>\n",
       "      <td>0</td>\n",
       "      <td>0</td>\n",
       "      <td>5</td>\n",
       "    </tr>\n",
       "    <tr>\n",
       "      <th>1</th>\n",
       "      <td>0</td>\n",
       "      <td>0</td>\n",
       "      <td>0</td>\n",
       "      <td>0</td>\n",
       "      <td>0</td>\n",
       "      <td>0</td>\n",
       "      <td>0</td>\n",
       "      <td>0</td>\n",
       "      <td>0</td>\n",
       "      <td>0</td>\n",
       "      <td>...</td>\n",
       "      <td>0</td>\n",
       "      <td>0</td>\n",
       "      <td>0</td>\n",
       "      <td>0</td>\n",
       "      <td>0</td>\n",
       "      <td>0</td>\n",
       "      <td>0</td>\n",
       "      <td>0</td>\n",
       "      <td>0</td>\n",
       "      <td>0</td>\n",
       "    </tr>\n",
       "    <tr>\n",
       "      <th>2</th>\n",
       "      <td>1</td>\n",
       "      <td>0</td>\n",
       "      <td>0</td>\n",
       "      <td>0</td>\n",
       "      <td>0</td>\n",
       "      <td>0</td>\n",
       "      <td>0</td>\n",
       "      <td>0</td>\n",
       "      <td>0</td>\n",
       "      <td>0</td>\n",
       "      <td>...</td>\n",
       "      <td>0</td>\n",
       "      <td>0</td>\n",
       "      <td>0</td>\n",
       "      <td>0</td>\n",
       "      <td>0</td>\n",
       "      <td>0</td>\n",
       "      <td>0</td>\n",
       "      <td>0</td>\n",
       "      <td>0</td>\n",
       "      <td>0</td>\n",
       "    </tr>\n",
       "    <tr>\n",
       "      <th>3</th>\n",
       "      <td>0</td>\n",
       "      <td>0</td>\n",
       "      <td>1</td>\n",
       "      <td>0</td>\n",
       "      <td>0</td>\n",
       "      <td>0</td>\n",
       "      <td>0</td>\n",
       "      <td>0</td>\n",
       "      <td>0</td>\n",
       "      <td>0</td>\n",
       "      <td>...</td>\n",
       "      <td>0</td>\n",
       "      <td>0</td>\n",
       "      <td>0</td>\n",
       "      <td>0</td>\n",
       "      <td>0</td>\n",
       "      <td>1</td>\n",
       "      <td>0</td>\n",
       "      <td>0</td>\n",
       "      <td>0</td>\n",
       "      <td>0</td>\n",
       "    </tr>\n",
       "    <tr>\n",
       "      <th>4</th>\n",
       "      <td>0</td>\n",
       "      <td>0</td>\n",
       "      <td>0</td>\n",
       "      <td>0</td>\n",
       "      <td>0</td>\n",
       "      <td>0</td>\n",
       "      <td>0</td>\n",
       "      <td>0</td>\n",
       "      <td>1</td>\n",
       "      <td>0</td>\n",
       "      <td>...</td>\n",
       "      <td>0</td>\n",
       "      <td>0</td>\n",
       "      <td>0</td>\n",
       "      <td>0</td>\n",
       "      <td>0</td>\n",
       "      <td>0</td>\n",
       "      <td>0</td>\n",
       "      <td>0</td>\n",
       "      <td>0</td>\n",
       "      <td>0</td>\n",
       "    </tr>\n",
       "  </tbody>\n",
       "</table>\n",
       "<p>5 rows × 106 columns</p>\n",
       "</div>"
      ],
      "text/plain": [
       "   A-2  C-2  D-2  E-2  F-2  G-2  H-2  I-2  K-2  L-2  ...    P2  Q2  R2  S2  \\\n",
       "0    0    0    0    0    0    0    0    0    0    0  ...     0   0   0   0   \n",
       "1    0    0    0    0    0    0    0    0    0    0  ...     0   0   0   0   \n",
       "2    1    0    0    0    0    0    0    0    0    0  ...     0   0   0   0   \n",
       "3    0    0    1    0    0    0    0    0    0    0  ...     0   0   0   0   \n",
       "4    0    0    0    0    0    0    0    0    1    0  ...     0   0   0   0   \n",
       "\n",
       "   T2  V2  W2  Y2  -2  State  \n",
       "0   0   0   0   0   0      5  \n",
       "1   0   0   0   0   0      0  \n",
       "2   0   0   0   0   0      0  \n",
       "3   0   1   0   0   0      0  \n",
       "4   0   0   0   0   0      0  \n",
       "\n",
       "[5 rows x 106 columns]"
      ]
     },
     "execution_count": 19,
     "metadata": {},
     "output_type": "execute_result"
    }
   ],
   "source": [
    "train.head()"
   ]
  },
  {
   "cell_type": "code",
   "execution_count": 20,
   "metadata": {
    "ExecuteTime": {
     "end_time": "2016-04-28T22:44:43.753171",
     "start_time": "2016-04-28T22:44:41.085037"
    },
    "collapsed": false,
    "run_control": {
     "frozen": false,
     "read_only": false
    }
   },
   "outputs": [],
   "source": [
    "est = MaximumLikelihoodEstimator(bn, train)"
   ]
  },
  {
   "cell_type": "code",
   "execution_count": 21,
   "metadata": {
    "ExecuteTime": {
     "end_time": "2016-04-28T22:44:46.070014",
     "start_time": "2016-04-28T22:44:44.717714"
    },
    "collapsed": false,
    "run_control": {
     "frozen": false,
     "read_only": false
    }
   },
   "outputs": [
    {
     "data": {
      "text/html": [
       "<table><caption>TabularCPD for <b>State</b></caption><tr><td><b>State_0</b></td><td>0.3178</td></tr><tr><td><b>State_1</b></td><td>0.1387</td></tr><tr><td><b>State_2</b></td><td>0.0891</td></tr><tr><td><b>State_3</b></td><td>0.0692</td></tr><tr><td><b>State_4</b></td><td>0.0100</td></tr><tr><td><b>State_5</b></td><td>0.3752</td></tr></table>"
      ],
      "text/plain": [
       "<TabularCPD representing P(State:6) at 0x1077a9400>"
      ]
     },
     "execution_count": 21,
     "metadata": {},
     "output_type": "execute_result"
    }
   ],
   "source": [
    "est.get_parameters()[0]"
   ]
  },
  {
   "cell_type": "code",
   "execution_count": 22,
   "metadata": {
    "ExecuteTime": {
     "end_time": "2016-04-28T22:44:53.498518",
     "start_time": "2016-04-28T22:44:53.494239"
    },
    "collapsed": false,
    "run_control": {
     "frozen": false,
     "read_only": false
    }
   },
   "outputs": [],
   "source": [
    "fit_bn = est.model"
   ]
  },
  {
   "cell_type": "code",
   "execution_count": 23,
   "metadata": {
    "ExecuteTime": {
     "end_time": "2016-04-28T22:44:55.870845",
     "start_time": "2016-04-28T22:44:54.574025"
    },
    "collapsed": false,
    "run_control": {
     "frozen": false,
     "read_only": false
    }
   },
   "outputs": [],
   "source": [
    "# add all of the estimated CPDs\n",
    "fit_bn.add_cpds(*est.get_parameters())"
   ]
  },
  {
   "cell_type": "code",
   "execution_count": 24,
   "metadata": {
    "ExecuteTime": {
     "end_time": "2016-04-28T22:44:55.881898",
     "start_time": "2016-04-28T22:44:55.872588"
    },
    "collapsed": false,
    "run_control": {
     "frozen": false,
     "read_only": false
    },
    "scrolled": true
   },
   "outputs": [
    {
     "data": {
      "text/plain": [
       "[<TabularCPD representing P(State:6) at 0x1077afd68>,\n",
       " <TabularCPD representing P(T0:2 | State:6) at 0x1077afda0>,\n",
       " <TabularCPD representing P(M-2:2 | State:6) at 0x1077afbe0>,\n",
       " <TabularCPD representing P(F2:2 | State:6) at 0x1077af860>,\n",
       " <TabularCPD representing P(L0:2 | State:6) at 0x1077afcc0>,\n",
       " <TabularCPD representing P(M1:2 | State:6) at 0x1077aff98>,\n",
       " <TabularCPD representing P(N-1:2 | State:6) at 0x1077bae80>,\n",
       " <TabularCPD representing P(G0:2 | State:6) at 0x1077bada0>,\n",
       " <TabularCPD representing P(A1:2 | State:6) at 0x1077ba748>,\n",
       " <TabularCPD representing P(I2:2 | State:6) at 0x1077ba828>,\n",
       " <TabularCPD representing P(G1:2 | State:6) at 0x1077ba908>,\n",
       " <TabularCPD representing P(D0:2 | State:6) at 0x1077baf28>,\n",
       " <TabularCPD representing P(C-2:2 | State:6) at 0x1077baf98>,\n",
       " <TabularCPD representing P(A2:2 | State:6) at 0x1077bac88>,\n",
       " <TabularCPD representing P(N0:2 | State:6) at 0x1077c1ac8>,\n",
       " <TabularCPD representing P(V-2:2 | State:6) at 0x1077c1860>,\n",
       " <TabularCPD representing P(--1:2 | State:6) at 0x1077c1ba8>,\n",
       " <TabularCPD representing P(G-2:2 | State:6) at 0x1077c1e48>,\n",
       " <TabularCPD representing P(M-1:2 | State:6) at 0x1077c1d68>,\n",
       " <TabularCPD representing P(P-1:2 | State:6) at 0x1077c1cc0>,\n",
       " <TabularCPD representing P(P-2:2 | State:6) at 0x1077afe48>,\n",
       " <TabularCPD representing P(Q1:2 | State:6) at 0x1077c9cc0>,\n",
       " <TabularCPD representing P(W-1:2 | State:6) at 0x1077c9f98>,\n",
       " <TabularCPD representing P(D1:2 | State:6) at 0x1077c9ac8>,\n",
       " <TabularCPD representing P(C0:2 | State:6) at 0x1077c9e80>,\n",
       " <TabularCPD representing P(Y0:2 | State:6) at 0x1077c9860>,\n",
       " <TabularCPD representing P(R0:2 | State:6) at 0x1077c9d68>,\n",
       " <TabularCPD representing P(V2:2 | State:6) at 0x1077a9438>,\n",
       " <TabularCPD representing P(Q2:2 | State:6) at 0x1077a9d30>,\n",
       " <TabularCPD representing P(T-2:2 | State:6) at 0x1077a94a8>,\n",
       " <TabularCPD representing P(G2:2 | State:6) at 0x1077a9828>,\n",
       " <TabularCPD representing P(D-1:2 | State:6) at 0x1077a9748>,\n",
       " <TabularCPD representing P(-0:2 | State:6) at 0x1077a98d0>,\n",
       " <TabularCPD representing P(K-1:2 | State:6) at 0x1077a9a58>,\n",
       " <TabularCPD representing P(F1:2 | State:6) at 0x108c4cac8>,\n",
       " <TabularCPD representing P(I-1:2 | State:6) at 0x108c4c860>,\n",
       " <TabularCPD representing P(Y-2:2 | State:6) at 0x108c4cba8>,\n",
       " <TabularCPD representing P(W1:2 | State:6) at 0x108c4ce48>,\n",
       " <TabularCPD representing P(R-1:2 | State:6) at 0x108c4cd68>,\n",
       " <TabularCPD representing P(T-1:2 | State:6) at 0x108c4ccc0>,\n",
       " <TabularCPD representing P(-1:2 | State:6) at 0x108c51668>,\n",
       " <TabularCPD representing P(H0:2 | State:6) at 0x108c512b0>,\n",
       " <TabularCPD representing P(P0:2 | State:6) at 0x108c51860>,\n",
       " <TabularCPD representing P(P2:2 | State:6) at 0x108c51908>,\n",
       " <TabularCPD representing P(E1:2 | State:6) at 0x108c519b0>,\n",
       " <TabularCPD representing P(S1:2 | State:6) at 0x108c51a58>,\n",
       " <TabularCPD representing P(A-2:2 | State:6) at 0x108c51b00>,\n",
       " <TabularCPD representing P(W0:2 | State:6) at 0x108c51ba8>,\n",
       " <TabularCPD representing P(V0:2 | State:6) at 0x108c51c50>,\n",
       " <TabularCPD representing P(--2:2 | State:6) at 0x108c51cf8>,\n",
       " <TabularCPD representing P(K-2:2 | State:6) at 0x108c51da0>,\n",
       " <TabularCPD representing P(Y2:2 | State:6) at 0x108c51e48>,\n",
       " <TabularCPD representing P(D2:2 | State:6) at 0x108c51ef0>,\n",
       " <TabularCPD representing P(S0:2 | State:6) at 0x108c51f98>,\n",
       " <TabularCPD representing P(G-1:2 | State:6) at 0x108c51f60>,\n",
       " <TabularCPD representing P(H2:2 | State:6) at 0x108c51d68>,\n",
       " <TabularCPD representing P(L1:2 | State:6) at 0x108c51f28>,\n",
       " <TabularCPD representing P(S2:2 | State:6) at 0x108c51eb8>,\n",
       " <TabularCPD representing P(H-2:2 | State:6) at 0x108c51b70>,\n",
       " <TabularCPD representing P(R1:2 | State:6) at 0x108c51c18>,\n",
       " <TabularCPD representing P(H1:2 | State:6) at 0x108c51e10>,\n",
       " <TabularCPD representing P(E0:2 | State:6) at 0x108c5c470>,\n",
       " <TabularCPD representing P(T2:2 | State:6) at 0x108c5c278>,\n",
       " <TabularCPD representing P(R-2:2 | State:6) at 0x108c5c668>,\n",
       " <TabularCPD representing P(K1:2 | State:6) at 0x108c5c710>,\n",
       " <TabularCPD representing P(C2:2 | State:6) at 0x108c5c7b8>,\n",
       " <TabularCPD representing P(C1:2 | State:6) at 0x108c5c860>,\n",
       " <TabularCPD representing P(L-2:2 | State:6) at 0x108c5c908>,\n",
       " <TabularCPD representing P(V-1:2 | State:6) at 0x108c5c9b0>,\n",
       " <TabularCPD representing P(K0:2 | State:6) at 0x108c5ca58>,\n",
       " <TabularCPD representing P(C-1:2 | State:6) at 0x108c5cb00>,\n",
       " <TabularCPD representing P(Q-2:2 | State:6) at 0x108c5cba8>,\n",
       " <TabularCPD representing P(H-1:2 | State:6) at 0x108c5cc50>,\n",
       " <TabularCPD representing P(M2:2 | State:6) at 0x108c5ccf8>,\n",
       " <TabularCPD representing P(I1:2 | State:6) at 0x108c5cda0>,\n",
       " <TabularCPD representing P(V1:2 | State:6) at 0x108c5ce48>,\n",
       " <TabularCPD representing P(T1:2 | State:6) at 0x108c5cef0>,\n",
       " <TabularCPD representing P(K2:2 | State:6) at 0x108c5cf98>,\n",
       " <TabularCPD representing P(I-2:2 | State:6) at 0x108c5cf60>,\n",
       " <TabularCPD representing P(L2:2 | State:6) at 0x108c5cd68>,\n",
       " <TabularCPD representing P(A0:2 | State:6) at 0x108c5cf28>,\n",
       " <TabularCPD representing P(F-2:2 | State:6) at 0x108c5ceb8>,\n",
       " <TabularCPD representing P(S-1:2 | State:6) at 0x108c5cb70>,\n",
       " <TabularCPD representing P(E-1:2 | State:6) at 0x108c5cc18>,\n",
       " <TabularCPD representing P(F0:2 | State:6) at 0x108c5ce10>,\n",
       " <TabularCPD representing P(Y1:2 | State:6) at 0x108c30470>,\n",
       " <TabularCPD representing P(Q0:2 | State:6) at 0x108c30278>,\n",
       " <TabularCPD representing P(N1:2 | State:6) at 0x108c30668>,\n",
       " <TabularCPD representing P(E2:2 | State:6) at 0x108c30710>,\n",
       " <TabularCPD representing P(R2:2 | State:6) at 0x108c307b8>,\n",
       " <TabularCPD representing P(N-2:2 | State:6) at 0x108c30860>,\n",
       " <TabularCPD representing P(-2:2 | State:6) at 0x108c30908>,\n",
       " <TabularCPD representing P(A-1:2 | State:6) at 0x108c309b0>,\n",
       " <TabularCPD representing P(S-2:2 | State:6) at 0x108c30a58>,\n",
       " <TabularCPD representing P(N2:2 | State:6) at 0x108c30b00>,\n",
       " <TabularCPD representing P(Y-1:2 | State:6) at 0x108c30ba8>,\n",
       " <TabularCPD representing P(I0:2 | State:6) at 0x108c30c50>,\n",
       " <TabularCPD representing P(L-1:2 | State:6) at 0x108c30cf8>,\n",
       " <TabularCPD representing P(F-1:2 | State:6) at 0x108c30da0>,\n",
       " <TabularCPD representing P(D-2:2 | State:6) at 0x108c30e48>,\n",
       " <TabularCPD representing P(W2:2 | State:6) at 0x108c30ef0>,\n",
       " <TabularCPD representing P(M0:2 | State:6) at 0x108c30f98>,\n",
       " <TabularCPD representing P(E-2:2 | State:6) at 0x108c30f60>,\n",
       " <TabularCPD representing P(W-2:2 | State:6) at 0x108c30d68>,\n",
       " <TabularCPD representing P(P1:2 | State:6) at 0x108c30f28>,\n",
       " <TabularCPD representing P(Q-1:2 | State:6) at 0x108c30eb8>]"
      ]
     },
     "execution_count": 24,
     "metadata": {},
     "output_type": "execute_result"
    }
   ],
   "source": [
    "fit_bn.cpds"
   ]
  },
  {
   "cell_type": "code",
   "execution_count": 25,
   "metadata": {
    "ExecuteTime": {
     "end_time": "2016-04-28T22:44:59.479557",
     "start_time": "2016-04-28T22:44:59.470171"
    },
    "collapsed": true,
    "run_control": {
     "frozen": false,
     "read_only": false
    }
   },
   "outputs": [],
   "source": [
    "# save the optimized model\n",
    "pickle.dump(fit_bn, open(\"fit_bn.p\", 'wb'))"
   ]
  },
  {
   "cell_type": "code",
   "execution_count": 26,
   "metadata": {
    "ExecuteTime": {
     "end_time": "2016-04-28T22:45:13.730823",
     "start_time": "2016-04-28T22:45:00.581598"
    },
    "collapsed": false,
    "run_control": {
     "frozen": false,
     "read_only": false
    }
   },
   "outputs": [
    {
     "name": "stdout",
     "output_type": "stream",
     "text": [
      "CPU times: user 13.1 s, sys: 95 ms, total: 13.1 s\n",
      "Wall time: 13.1 s\n"
     ]
    }
   ],
   "source": [
    "%%time\n",
    "bp = BeliefPropagation(fit_bn)"
   ]
  },
  {
   "cell_type": "code",
   "execution_count": 27,
   "metadata": {
    "ExecuteTime": {
     "end_time": "2016-04-28T22:45:13.860321",
     "start_time": "2016-04-28T22:45:13.733841"
    },
    "collapsed": true,
    "run_control": {
     "frozen": false,
     "read_only": false
    }
   },
   "outputs": [],
   "source": [
    "bp.calibrate()"
   ]
  },
  {
   "cell_type": "code",
   "execution_count": 28,
   "metadata": {
    "ExecuteTime": {
     "end_time": "2016-04-28T22:45:15.391682",
     "start_time": "2016-04-28T22:45:15.386788"
    },
    "collapsed": false,
    "run_control": {
     "frozen": false,
     "read_only": false
    }
   },
   "outputs": [
    {
     "name": "stdout",
     "output_type": "stream",
     "text": [
      "5.0\n"
     ]
    }
   ],
   "source": [
    "print(test[0][-1])"
   ]
  },
  {
   "cell_type": "code",
   "execution_count": 29,
   "metadata": {
    "ExecuteTime": {
     "end_time": "2016-04-28T22:45:16.996529",
     "start_time": "2016-04-28T22:45:16.985878"
    },
    "collapsed": false,
    "run_control": {
     "frozen": false,
     "read_only": false
    },
    "scrolled": true
   },
   "outputs": [
    {
     "data": {
      "text/plain": [
       "{'--1': 0,\n",
       " '--2': 1,\n",
       " '-0': 0,\n",
       " '-1': 0,\n",
       " '-2': 0,\n",
       " 'A-1': 0,\n",
       " 'A-2': 0,\n",
       " 'A0': 0,\n",
       " 'A1': 0,\n",
       " 'A2': 0,\n",
       " 'C-1': 0,\n",
       " 'C-2': 0,\n",
       " 'C0': 0,\n",
       " 'C1': 0,\n",
       " 'C2': 0,\n",
       " 'D-1': 0,\n",
       " 'D-2': 0,\n",
       " 'D0': 0,\n",
       " 'D1': 0,\n",
       " 'D2': 0,\n",
       " 'E-1': 0,\n",
       " 'E-2': 0,\n",
       " 'E0': 0,\n",
       " 'E1': 0,\n",
       " 'E2': 0,\n",
       " 'F-1': 0,\n",
       " 'F-2': 0,\n",
       " 'F0': 0,\n",
       " 'F1': 0,\n",
       " 'F2': 0,\n",
       " 'G-1': 0,\n",
       " 'G-2': 0,\n",
       " 'G0': 0,\n",
       " 'G1': 0,\n",
       " 'G2': 0,\n",
       " 'H-1': 0,\n",
       " 'H-2': 0,\n",
       " 'H0': 0,\n",
       " 'H1': 0,\n",
       " 'H2': 0,\n",
       " 'I-1': 0,\n",
       " 'I-2': 0,\n",
       " 'I0': 0,\n",
       " 'I1': 0,\n",
       " 'I2': 0,\n",
       " 'K-1': 0,\n",
       " 'K-2': 0,\n",
       " 'K0': 0,\n",
       " 'K1': 0,\n",
       " 'K2': 0,\n",
       " 'L-1': 0,\n",
       " 'L-2': 0,\n",
       " 'L0': 1,\n",
       " 'L1': 0,\n",
       " 'L2': 0,\n",
       " 'M-1': 0,\n",
       " 'M-2': 0,\n",
       " 'M0': 0,\n",
       " 'M1': 0,\n",
       " 'M2': 0,\n",
       " 'N-1': 0,\n",
       " 'N-2': 0,\n",
       " 'N0': 0,\n",
       " 'N1': 0,\n",
       " 'N2': 0,\n",
       " 'P-1': 0,\n",
       " 'P-2': 0,\n",
       " 'P0': 0,\n",
       " 'P1': 0,\n",
       " 'P2': 1,\n",
       " 'Q-1': 0,\n",
       " 'Q-2': 0,\n",
       " 'Q0': 0,\n",
       " 'Q1': 0,\n",
       " 'Q2': 0,\n",
       " 'R-1': 0,\n",
       " 'R-2': 0,\n",
       " 'R0': 0,\n",
       " 'R1': 0,\n",
       " 'R2': 0,\n",
       " 'S-1': 0,\n",
       " 'S-2': 0,\n",
       " 'S0': 0,\n",
       " 'S1': 1,\n",
       " 'S2': 0,\n",
       " 'T-1': 0,\n",
       " 'T-2': 0,\n",
       " 'T0': 0,\n",
       " 'T1': 0,\n",
       " 'T2': 0,\n",
       " 'V-1': 1,\n",
       " 'V-2': 0,\n",
       " 'V0': 0,\n",
       " 'V1': 0,\n",
       " 'V2': 0,\n",
       " 'W-1': 0,\n",
       " 'W-2': 0,\n",
       " 'W0': 0,\n",
       " 'W1': 0,\n",
       " 'W2': 0,\n",
       " 'Y-1': 0,\n",
       " 'Y-2': 0,\n",
       " 'Y0': 0,\n",
       " 'Y1': 0,\n",
       " 'Y2': 0}"
      ]
     },
     "execution_count": 29,
     "metadata": {},
     "output_type": "execute_result"
    }
   ],
   "source": [
    "evi = dict(zip(cols, [int(t) for t in test[0][:-1]]))\n",
    "evi"
   ]
  },
  {
   "cell_type": "code",
   "execution_count": 30,
   "metadata": {
    "ExecuteTime": {
     "end_time": "2016-04-28T22:45:18.287307",
     "start_time": "2016-04-28T22:45:17.810867"
    },
    "collapsed": false,
    "run_control": {
     "frozen": false,
     "read_only": false
    }
   },
   "outputs": [],
   "source": [
    "# finally query\n",
    "answer = bp.query(['State'], evidence=evi)"
   ]
  },
  {
   "cell_type": "code",
   "execution_count": 31,
   "metadata": {
    "ExecuteTime": {
     "end_time": "2016-04-28T22:45:18.999980",
     "start_time": "2016-04-28T22:45:18.994514"
    },
    "collapsed": false,
    "run_control": {
     "frozen": false,
     "read_only": false
    }
   },
   "outputs": [
    {
     "name": "stdout",
     "output_type": "stream",
     "text": [
      "╒═════════╤══════════════╕\n",
      "│ State   │   phi(State) │\n",
      "╞═════════╪══════════════╡\n",
      "│ State_0 │       0.3178 │\n",
      "├─────────┼──────────────┤\n",
      "│ State_1 │       0.1387 │\n",
      "├─────────┼──────────────┤\n",
      "│ State_2 │       0.0891 │\n",
      "├─────────┼──────────────┤\n",
      "│ State_3 │       0.0692 │\n",
      "├─────────┼──────────────┤\n",
      "│ State_4 │       0.0100 │\n",
      "├─────────┼──────────────┤\n",
      "│ State_5 │       0.3752 │\n",
      "╘═════════╧══════════════╛\n"
     ]
    }
   ],
   "source": [
    "print(answer['State'])"
   ]
  },
  {
   "cell_type": "code",
   "execution_count": 32,
   "metadata": {
    "ExecuteTime": {
     "end_time": "2016-04-28T22:45:20.375145",
     "start_time": "2016-04-28T22:45:20.370460"
    },
    "collapsed": false,
    "run_control": {
     "frozen": false,
     "read_only": false
    }
   },
   "outputs": [
    {
     "name": "stdout",
     "output_type": "stream",
     "text": [
      "5\n"
     ]
    }
   ],
   "source": [
    "print(np.argmax(answer['State'].values))"
   ]
  },
  {
   "cell_type": "code",
   "execution_count": 35,
   "metadata": {
    "ExecuteTime": {
     "end_time": "2016-04-29T04:50:22.525182",
     "start_time": "2016-04-28T22:45:39.945438"
    },
    "code_folding": [],
    "collapsed": false,
    "run_control": {
     "frozen": false,
     "read_only": false
    }
   },
   "outputs": [],
   "source": [
    "# finally iterate through\n",
    "\n",
    "preds = []\n",
    "\n",
    "for i, t in enumerate(test):\n",
    "    ev = dict(zip(cols, [int(v) for v in t[:-1]]))\n",
    "    answer = bp.query(['State'], evidence=ev)\n",
    "    max_v = np.argmax(answer['State'].values)\n",
    "    preds.append(max_v)"
   ]
  },
  {
   "cell_type": "code",
   "execution_count": 36,
   "metadata": {
    "ExecuteTime": {
     "end_time": "2016-04-29T04:50:22.618701",
     "start_time": "2016-04-29T04:50:22.527111"
    },
    "collapsed": true
   },
   "outputs": [],
   "source": [
    "pred_df = pd.DataFrame(preds, columns=['State'])\n",
    "pred_df.to_csv('preds.csv')"
   ]
  },
  {
   "cell_type": "code",
   "execution_count": 39,
   "metadata": {
    "ExecuteTime": {
     "end_time": "2016-04-29T09:17:38.465106",
     "start_time": "2016-04-29T09:17:38.430450"
    },
    "collapsed": false,
    "run_control": {
     "frozen": false,
     "read_only": false
    }
   },
   "outputs": [
    {
     "name": "stdout",
     "output_type": "stream",
     "text": [
      "0.584521263958\n"
     ]
    }
   ],
   "source": [
    "print(np.mean([1.0 if pred == int(y_i) else 0.0 for pred, y_i in zip(preds, test[:, -1])]))"
   ]
  }
 ],
 "metadata": {
  "kernelspec": {
   "display_name": "Python 3",
   "language": "python",
   "name": "python3"
  },
  "language_info": {
   "codemirror_mode": {
    "name": "ipython",
    "version": 3
   },
   "file_extension": ".py",
   "mimetype": "text/x-python",
   "name": "python",
   "nbconvert_exporter": "python",
   "pygments_lexer": "ipython3",
   "version": "3.4.4"
  },
  "notify_time": "5"
 },
 "nbformat": 4,
 "nbformat_minor": 0
}
