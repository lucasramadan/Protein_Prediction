{
 "cells": [
  {
   "cell_type": "code",
   "execution_count": 1,
   "metadata": {
    "ExecuteTime": {
     "end_time": "2016-04-29T16:44:20.816302",
     "start_time": "2016-04-29T16:44:06.954443"
    },
    "collapsed": false,
    "run_control": {
     "frozen": false,
     "read_only": false
    }
   },
   "outputs": [],
   "source": [
    "from pgmpy.models import MarkovModel, BayesianModel\n",
    "from pgmpy.inference import BeliefPropagation\n",
    "from pgmpy.factors import Factor\n",
    "import numpy as np\n",
    "import pandas as pd\n",
    "from scipy import optimize\n",
    "from pgmpy.estimators import MaximumLikelihoodEstimator\n",
    "import pickle"
   ]
  },
  {
   "cell_type": "code",
   "execution_count": 2,
   "metadata": {
    "ExecuteTime": {
     "end_time": "2016-04-29T16:44:25.732557",
     "start_time": "2016-04-29T16:44:23.152231"
    },
    "collapsed": false,
    "run_control": {
     "frozen": false,
     "read_only": false
    }
   },
   "outputs": [
    {
     "data": {
      "text/html": [
       "<div>\n",
       "<table border=\"1\" class=\"dataframe\">\n",
       "  <thead>\n",
       "    <tr style=\"text-align: right;\">\n",
       "      <th></th>\n",
       "      <th>A-2</th>\n",
       "      <th>C-2</th>\n",
       "      <th>D-2</th>\n",
       "      <th>E-2</th>\n",
       "      <th>F-2</th>\n",
       "      <th>G-2</th>\n",
       "      <th>H-2</th>\n",
       "      <th>I-2</th>\n",
       "      <th>K-2</th>\n",
       "      <th>L-2</th>\n",
       "      <th>...</th>\n",
       "      <th>N2</th>\n",
       "      <th>P2</th>\n",
       "      <th>Q2</th>\n",
       "      <th>R2</th>\n",
       "      <th>S2</th>\n",
       "      <th>T2</th>\n",
       "      <th>V2</th>\n",
       "      <th>W2</th>\n",
       "      <th>Y2</th>\n",
       "      <th>-2</th>\n",
       "    </tr>\n",
       "  </thead>\n",
       "  <tbody>\n",
       "    <tr>\n",
       "      <th>0</th>\n",
       "      <td>0</td>\n",
       "      <td>0</td>\n",
       "      <td>0</td>\n",
       "      <td>0</td>\n",
       "      <td>0</td>\n",
       "      <td>0</td>\n",
       "      <td>0</td>\n",
       "      <td>0</td>\n",
       "      <td>0</td>\n",
       "      <td>0</td>\n",
       "      <td>...</td>\n",
       "      <td>0</td>\n",
       "      <td>1</td>\n",
       "      <td>0</td>\n",
       "      <td>0</td>\n",
       "      <td>0</td>\n",
       "      <td>0</td>\n",
       "      <td>0</td>\n",
       "      <td>0</td>\n",
       "      <td>0</td>\n",
       "      <td>0</td>\n",
       "    </tr>\n",
       "    <tr>\n",
       "      <th>1</th>\n",
       "      <td>0</td>\n",
       "      <td>0</td>\n",
       "      <td>0</td>\n",
       "      <td>0</td>\n",
       "      <td>0</td>\n",
       "      <td>0</td>\n",
       "      <td>0</td>\n",
       "      <td>0</td>\n",
       "      <td>0</td>\n",
       "      <td>0</td>\n",
       "      <td>...</td>\n",
       "      <td>0</td>\n",
       "      <td>0</td>\n",
       "      <td>0</td>\n",
       "      <td>0</td>\n",
       "      <td>0</td>\n",
       "      <td>0</td>\n",
       "      <td>0</td>\n",
       "      <td>0</td>\n",
       "      <td>0</td>\n",
       "      <td>0</td>\n",
       "    </tr>\n",
       "    <tr>\n",
       "      <th>2</th>\n",
       "      <td>0</td>\n",
       "      <td>0</td>\n",
       "      <td>0</td>\n",
       "      <td>0</td>\n",
       "      <td>0</td>\n",
       "      <td>0</td>\n",
       "      <td>0</td>\n",
       "      <td>0</td>\n",
       "      <td>0</td>\n",
       "      <td>1</td>\n",
       "      <td>...</td>\n",
       "      <td>0</td>\n",
       "      <td>0</td>\n",
       "      <td>0</td>\n",
       "      <td>0</td>\n",
       "      <td>0</td>\n",
       "      <td>0</td>\n",
       "      <td>0</td>\n",
       "      <td>0</td>\n",
       "      <td>0</td>\n",
       "      <td>0</td>\n",
       "    </tr>\n",
       "    <tr>\n",
       "      <th>3</th>\n",
       "      <td>0</td>\n",
       "      <td>0</td>\n",
       "      <td>0</td>\n",
       "      <td>0</td>\n",
       "      <td>0</td>\n",
       "      <td>0</td>\n",
       "      <td>0</td>\n",
       "      <td>0</td>\n",
       "      <td>0</td>\n",
       "      <td>0</td>\n",
       "      <td>...</td>\n",
       "      <td>0</td>\n",
       "      <td>0</td>\n",
       "      <td>0</td>\n",
       "      <td>0</td>\n",
       "      <td>0</td>\n",
       "      <td>0</td>\n",
       "      <td>0</td>\n",
       "      <td>0</td>\n",
       "      <td>0</td>\n",
       "      <td>0</td>\n",
       "    </tr>\n",
       "    <tr>\n",
       "      <th>4</th>\n",
       "      <td>0</td>\n",
       "      <td>0</td>\n",
       "      <td>0</td>\n",
       "      <td>0</td>\n",
       "      <td>0</td>\n",
       "      <td>0</td>\n",
       "      <td>0</td>\n",
       "      <td>0</td>\n",
       "      <td>0</td>\n",
       "      <td>0</td>\n",
       "      <td>...</td>\n",
       "      <td>0</td>\n",
       "      <td>0</td>\n",
       "      <td>0</td>\n",
       "      <td>0</td>\n",
       "      <td>0</td>\n",
       "      <td>1</td>\n",
       "      <td>0</td>\n",
       "      <td>0</td>\n",
       "      <td>0</td>\n",
       "      <td>0</td>\n",
       "    </tr>\n",
       "  </tbody>\n",
       "</table>\n",
       "<p>5 rows × 105 columns</p>\n",
       "</div>"
      ],
      "text/plain": [
       "   A-2  C-2  D-2  E-2  F-2  G-2  H-2  I-2  K-2  L-2 ...  N2  P2  Q2  R2  S2  \\\n",
       "0    0    0    0    0    0    0    0    0    0    0 ...   0   1   0   0   0   \n",
       "1    0    0    0    0    0    0    0    0    0    0 ...   0   0   0   0   0   \n",
       "2    0    0    0    0    0    0    0    0    0    1 ...   0   0   0   0   0   \n",
       "3    0    0    0    0    0    0    0    0    0    0 ...   0   0   0   0   0   \n",
       "4    0    0    0    0    0    0    0    0    0    0 ...   0   0   0   0   0   \n",
       "\n",
       "   T2  V2  W2  Y2  -2  \n",
       "0   0   0   0   0   0  \n",
       "1   0   0   0   0   0  \n",
       "2   0   0   0   0   0  \n",
       "3   0   0   0   0   0  \n",
       "4   1   0   0   0   0  \n",
       "\n",
       "[5 rows x 105 columns]"
      ]
     },
     "execution_count": 2,
     "metadata": {},
     "output_type": "execute_result"
    }
   ],
   "source": [
    "data = pd.read_csv('5_formatted.csv').drop('Unnamed: 0', axis=1)\n",
    "data.head()"
   ]
  },
  {
   "cell_type": "code",
   "execution_count": 3,
   "metadata": {
    "ExecuteTime": {
     "end_time": "2016-04-29T16:44:27.155513",
     "start_time": "2016-04-29T16:44:27.046795"
    },
    "collapsed": false,
    "run_control": {
     "frozen": false,
     "read_only": false
    }
   },
   "outputs": [],
   "source": [
    "labels = pd.read_csv('5_formatted_labels.csv').drop('Unnamed: 0', axis=1)"
   ]
  },
  {
   "cell_type": "code",
   "execution_count": 4,
   "metadata": {
    "ExecuteTime": {
     "end_time": "2016-04-29T16:44:27.934474",
     "start_time": "2016-04-29T16:44:27.924448"
    },
    "collapsed": false,
    "run_control": {
     "frozen": false,
     "read_only": false
    }
   },
   "outputs": [
    {
     "data": {
      "text/html": [
       "<div>\n",
       "<table border=\"1\" class=\"dataframe\">\n",
       "  <thead>\n",
       "    <tr style=\"text-align: right;\">\n",
       "      <th></th>\n",
       "      <th>State</th>\n",
       "    </tr>\n",
       "  </thead>\n",
       "  <tbody>\n",
       "    <tr>\n",
       "      <th>0</th>\n",
       "      <td>5.0</td>\n",
       "    </tr>\n",
       "    <tr>\n",
       "      <th>1</th>\n",
       "      <td>5.0</td>\n",
       "    </tr>\n",
       "    <tr>\n",
       "      <th>2</th>\n",
       "      <td>0.0</td>\n",
       "    </tr>\n",
       "    <tr>\n",
       "      <th>3</th>\n",
       "      <td>0.0</td>\n",
       "    </tr>\n",
       "    <tr>\n",
       "      <th>4</th>\n",
       "      <td>0.0</td>\n",
       "    </tr>\n",
       "  </tbody>\n",
       "</table>\n",
       "</div>"
      ],
      "text/plain": [
       "   State\n",
       "0    5.0\n",
       "1    5.0\n",
       "2    0.0\n",
       "3    0.0\n",
       "4    0.0"
      ]
     },
     "execution_count": 4,
     "metadata": {},
     "output_type": "execute_result"
    }
   ],
   "source": [
    "labels.columns = ['State']\n",
    "labels.head()"
   ]
  },
  {
   "cell_type": "code",
   "execution_count": 5,
   "metadata": {
    "ExecuteTime": {
     "end_time": "2016-04-29T16:44:29.281042",
     "start_time": "2016-04-29T16:44:29.275036"
    },
    "collapsed": false,
    "run_control": {
     "frozen": false,
     "read_only": false
    },
    "scrolled": true
   },
   "outputs": [
    {
     "data": {
      "text/plain": [
       "['A-2', 'C-2']"
      ]
     },
     "execution_count": 5,
     "metadata": {},
     "output_type": "execute_result"
    }
   ],
   "source": [
    "# create the singleton nodes\n",
    "singletons = list(data.columns)\n",
    "singletons[:2]"
   ]
  },
  {
   "cell_type": "code",
   "execution_count": 6,
   "metadata": {
    "ExecuteTime": {
     "end_time": "2016-04-29T16:44:30.185574",
     "start_time": "2016-04-29T16:44:30.181559"
    },
    "collapsed": false,
    "run_control": {
     "frozen": false,
     "read_only": false
    }
   },
   "outputs": [],
   "source": [
    "# ys = list(df.columns[-6:])\n",
    "# ys[-1] = 'U'\n",
    "# ys"
   ]
  },
  {
   "cell_type": "code",
   "execution_count": 20,
   "metadata": {
    "ExecuteTime": {
     "end_time": "2016-04-29T16:47:25.888872",
     "start_time": "2016-04-29T16:47:25.880393"
    },
    "collapsed": false,
    "run_control": {
     "frozen": false,
     "read_only": false
    },
    "scrolled": true
   },
   "outputs": [
    {
     "data": {
      "text/plain": [
       "[('State', 'A-2'), ('State', 'C-2')]"
      ]
     },
     "execution_count": 20,
     "metadata": {},
     "output_type": "execute_result"
    }
   ],
   "source": [
    "edges = [('State', s) for s in singletons]\n",
    "\n",
    "# # generate the edges\n",
    "# for y in ys:\n",
    "#     for s in singletons:\n",
    "#         edges.append((s, y))\n",
    "        \n",
    "edges[:2]"
   ]
  },
  {
   "cell_type": "code",
   "execution_count": 21,
   "metadata": {
    "ExecuteTime": {
     "end_time": "2016-04-29T16:47:27.166814",
     "start_time": "2016-04-29T16:47:27.160839"
    },
    "collapsed": false,
    "run_control": {
     "frozen": false,
     "read_only": false
    }
   },
   "outputs": [
    {
     "data": {
      "text/plain": [
       "105"
      ]
     },
     "execution_count": 21,
     "metadata": {},
     "output_type": "execute_result"
    }
   ],
   "source": [
    "len(edges)"
   ]
  },
  {
   "cell_type": "code",
   "execution_count": 22,
   "metadata": {
    "ExecuteTime": {
     "end_time": "2016-04-29T16:47:27.342105",
     "start_time": "2016-04-29T16:47:27.335514"
    },
    "collapsed": false,
    "run_control": {
     "frozen": false,
     "read_only": false
    }
   },
   "outputs": [],
   "source": [
    "data['State'] = labels"
   ]
  },
  {
   "cell_type": "code",
   "execution_count": 23,
   "metadata": {
    "ExecuteTime": {
     "end_time": "2016-04-29T16:47:27.571786",
     "start_time": "2016-04-29T16:47:27.528849"
    },
    "collapsed": false,
    "run_control": {
     "frozen": false,
     "read_only": false
    }
   },
   "outputs": [
    {
     "data": {
      "text/html": [
       "<div>\n",
       "<table border=\"1\" class=\"dataframe\">\n",
       "  <thead>\n",
       "    <tr style=\"text-align: right;\">\n",
       "      <th></th>\n",
       "      <th>A-2</th>\n",
       "      <th>C-2</th>\n",
       "      <th>D-2</th>\n",
       "      <th>E-2</th>\n",
       "      <th>F-2</th>\n",
       "      <th>G-2</th>\n",
       "      <th>H-2</th>\n",
       "      <th>I-2</th>\n",
       "      <th>K-2</th>\n",
       "      <th>L-2</th>\n",
       "      <th>...</th>\n",
       "      <th>P2</th>\n",
       "      <th>Q2</th>\n",
       "      <th>R2</th>\n",
       "      <th>S2</th>\n",
       "      <th>T2</th>\n",
       "      <th>V2</th>\n",
       "      <th>W2</th>\n",
       "      <th>Y2</th>\n",
       "      <th>-2</th>\n",
       "      <th>State</th>\n",
       "    </tr>\n",
       "  </thead>\n",
       "  <tbody>\n",
       "    <tr>\n",
       "      <th>0</th>\n",
       "      <td>0</td>\n",
       "      <td>0</td>\n",
       "      <td>0</td>\n",
       "      <td>0</td>\n",
       "      <td>0</td>\n",
       "      <td>0</td>\n",
       "      <td>0</td>\n",
       "      <td>0</td>\n",
       "      <td>0</td>\n",
       "      <td>0</td>\n",
       "      <td>...</td>\n",
       "      <td>1</td>\n",
       "      <td>0</td>\n",
       "      <td>0</td>\n",
       "      <td>0</td>\n",
       "      <td>0</td>\n",
       "      <td>0</td>\n",
       "      <td>0</td>\n",
       "      <td>0</td>\n",
       "      <td>0</td>\n",
       "      <td>5.0</td>\n",
       "    </tr>\n",
       "    <tr>\n",
       "      <th>1</th>\n",
       "      <td>0</td>\n",
       "      <td>0</td>\n",
       "      <td>0</td>\n",
       "      <td>0</td>\n",
       "      <td>0</td>\n",
       "      <td>0</td>\n",
       "      <td>0</td>\n",
       "      <td>0</td>\n",
       "      <td>0</td>\n",
       "      <td>0</td>\n",
       "      <td>...</td>\n",
       "      <td>0</td>\n",
       "      <td>0</td>\n",
       "      <td>0</td>\n",
       "      <td>0</td>\n",
       "      <td>0</td>\n",
       "      <td>0</td>\n",
       "      <td>0</td>\n",
       "      <td>0</td>\n",
       "      <td>0</td>\n",
       "      <td>5.0</td>\n",
       "    </tr>\n",
       "    <tr>\n",
       "      <th>2</th>\n",
       "      <td>0</td>\n",
       "      <td>0</td>\n",
       "      <td>0</td>\n",
       "      <td>0</td>\n",
       "      <td>0</td>\n",
       "      <td>0</td>\n",
       "      <td>0</td>\n",
       "      <td>0</td>\n",
       "      <td>0</td>\n",
       "      <td>1</td>\n",
       "      <td>...</td>\n",
       "      <td>0</td>\n",
       "      <td>0</td>\n",
       "      <td>0</td>\n",
       "      <td>0</td>\n",
       "      <td>0</td>\n",
       "      <td>0</td>\n",
       "      <td>0</td>\n",
       "      <td>0</td>\n",
       "      <td>0</td>\n",
       "      <td>0.0</td>\n",
       "    </tr>\n",
       "    <tr>\n",
       "      <th>3</th>\n",
       "      <td>0</td>\n",
       "      <td>0</td>\n",
       "      <td>0</td>\n",
       "      <td>0</td>\n",
       "      <td>0</td>\n",
       "      <td>0</td>\n",
       "      <td>0</td>\n",
       "      <td>0</td>\n",
       "      <td>0</td>\n",
       "      <td>0</td>\n",
       "      <td>...</td>\n",
       "      <td>0</td>\n",
       "      <td>0</td>\n",
       "      <td>0</td>\n",
       "      <td>0</td>\n",
       "      <td>0</td>\n",
       "      <td>0</td>\n",
       "      <td>0</td>\n",
       "      <td>0</td>\n",
       "      <td>0</td>\n",
       "      <td>0.0</td>\n",
       "    </tr>\n",
       "    <tr>\n",
       "      <th>4</th>\n",
       "      <td>0</td>\n",
       "      <td>0</td>\n",
       "      <td>0</td>\n",
       "      <td>0</td>\n",
       "      <td>0</td>\n",
       "      <td>0</td>\n",
       "      <td>0</td>\n",
       "      <td>0</td>\n",
       "      <td>0</td>\n",
       "      <td>0</td>\n",
       "      <td>...</td>\n",
       "      <td>0</td>\n",
       "      <td>0</td>\n",
       "      <td>0</td>\n",
       "      <td>0</td>\n",
       "      <td>1</td>\n",
       "      <td>0</td>\n",
       "      <td>0</td>\n",
       "      <td>0</td>\n",
       "      <td>0</td>\n",
       "      <td>0.0</td>\n",
       "    </tr>\n",
       "  </tbody>\n",
       "</table>\n",
       "<p>5 rows × 106 columns</p>\n",
       "</div>"
      ],
      "text/plain": [
       "   A-2  C-2  D-2  E-2  F-2  G-2  H-2  I-2  K-2  L-2  ...    P2  Q2  R2  S2  \\\n",
       "0    0    0    0    0    0    0    0    0    0    0  ...     1   0   0   0   \n",
       "1    0    0    0    0    0    0    0    0    0    0  ...     0   0   0   0   \n",
       "2    0    0    0    0    0    0    0    0    0    1  ...     0   0   0   0   \n",
       "3    0    0    0    0    0    0    0    0    0    0  ...     0   0   0   0   \n",
       "4    0    0    0    0    0    0    0    0    0    0  ...     0   0   0   0   \n",
       "\n",
       "   T2  V2  W2  Y2  -2  State  \n",
       "0   0   0   0   0   0    5.0  \n",
       "1   0   0   0   0   0    5.0  \n",
       "2   0   0   0   0   0    0.0  \n",
       "3   0   0   0   0   0    0.0  \n",
       "4   1   0   0   0   0    0.0  \n",
       "\n",
       "[5 rows x 106 columns]"
      ]
     },
     "execution_count": 23,
     "metadata": {},
     "output_type": "execute_result"
    }
   ],
   "source": [
    "data.head()"
   ]
  },
  {
   "cell_type": "code",
   "execution_count": null,
   "metadata": {
    "collapsed": true
   },
   "outputs": [],
   "source": [
    "# instantiate the model\n",
    "bn = BayesianModel()\n",
    "bn.add_edges_from(edges)"
   ]
  },
  {
   "cell_type": "code",
   "execution_count": 31,
   "metadata": {
    "ExecuteTime": {
     "end_time": "2016-04-29T16:50:26.667541",
     "start_time": "2016-04-29T16:50:26.655743"
    },
    "collapsed": false,
    "run_control": {
     "frozen": false,
     "read_only": false
    }
   },
   "outputs": [
    {
     "data": {
      "text/plain": [
       "[<TabularCPD representing P(N-2:2 | State:6) at 0x1137fef98>,\n",
       " <TabularCPD representing P(S1:2 | State:6) at 0x1137feba8>,\n",
       " <TabularCPD representing P(W0:2 | State:6) at 0x1137feeb8>,\n",
       " <TabularCPD representing P(H1:2 | State:6) at 0x1137fea58>,\n",
       " <TabularCPD representing P(A2:2 | State:6) at 0x1137feb38>,\n",
       " <TabularCPD representing P(N0:2 | State:6) at 0x1137fee48>,\n",
       " <TabularCPD representing P(W2:2 | State:6) at 0x1137fe908>,\n",
       " <TabularCPD representing P(L0:2 | State:6) at 0x1137fec88>,\n",
       " <TabularCPD representing P(M2:2 | State:6) at 0x1137fecf8>,\n",
       " <TabularCPD representing P(C2:2 | State:6) at 0x1137f4ba8>,\n",
       " <TabularCPD representing P(E0:2 | State:6) at 0x1137f4a58>,\n",
       " <TabularCPD representing P(I0:2 | State:6) at 0x1137f4748>,\n",
       " <TabularCPD representing P(P-1:2 | State:6) at 0x1137f4cf8>,\n",
       " <TabularCPD representing P(G1:2 | State:6) at 0x1137f4f98>,\n",
       " <TabularCPD representing P(--1:2 | State:6) at 0x1137f4828>,\n",
       " <TabularCPD representing P(E2:2 | State:6) at 0x1137f4e10>,\n",
       " <TabularCPD representing P(G-2:2 | State:6) at 0x113920978>,\n",
       " <TabularCPD representing P(R2:2 | State:6) at 0x113920dd8>,\n",
       " <TabularCPD representing P(Y2:2 | State:6) at 0x113920c18>,\n",
       " <TabularCPD representing P(R-1:2 | State:6) at 0x113920898>,\n",
       " <TabularCPD representing P(Q2:2 | State:6) at 0x113920ac8>,\n",
       " <TabularCPD representing P(D2:2 | State:6) at 0x113805668>,\n",
       " <TabularCPD representing P(Y-1:2 | State:6) at 0x113805e48>,\n",
       " <TabularCPD representing P(E-2:2 | State:6) at 0x113805ef0>,\n",
       " <TabularCPD representing P(M-1:2 | State:6) at 0x113805e10>,\n",
       " <TabularCPD representing P(D1:2 | State:6) at 0x113805c88>,\n",
       " <TabularCPD representing P(R1:2 | State:6) at 0x113805c18>,\n",
       " <TabularCPD representing P(A-1:2 | State:6) at 0x113805ba8>,\n",
       " <TabularCPD representing P(--2:2 | State:6) at 0x1137ed390>,\n",
       " <TabularCPD representing P(L-1:2 | State:6) at 0x1137edc88>,\n",
       " <TabularCPD representing P(Y0:2 | State:6) at 0x1137eda58>,\n",
       " <TabularCPD representing P(P0:2 | State:6) at 0x1137edf28>,\n",
       " <TabularCPD representing P(L1:2 | State:6) at 0x1137edac8>,\n",
       " <TabularCPD representing P(D-2:2 | State:6) at 0x1137ed1d0>,\n",
       " <TabularCPD representing P(C0:2 | State:6) at 0x1137ed9e8>,\n",
       " <TabularCPD representing P(V-2:2 | State:6) at 0x11392ac18>,\n",
       " <TabularCPD representing P(A1:2 | State:6) at 0x11392aac8>,\n",
       " <TabularCPD representing P(H-2:2 | State:6) at 0x11392a6d8>,\n",
       " <TabularCPD representing P(K-1:2 | State:6) at 0x11392ae48>,\n",
       " <TabularCPD representing P(A-2:2 | State:6) at 0x11392ada0>,\n",
       " <TabularCPD representing P(L2:2 | State:6) at 0x11392a5f8>,\n",
       " <TabularCPD representing P(I2:2 | State:6) at 0x11392afd0>,\n",
       " <TabularCPD representing P(E1:2 | State:6) at 0x113933668>,\n",
       " <TabularCPD representing P(T-2:2 | State:6) at 0x113933710>,\n",
       " <TabularCPD representing P(-2:2 | State:6) at 0x1139337b8>,\n",
       " <TabularCPD representing P(P-2:2 | State:6) at 0x113933860>,\n",
       " <TabularCPD representing P(K0:2 | State:6) at 0x113933908>,\n",
       " <TabularCPD representing P(V-1:2 | State:6) at 0x1139339b0>,\n",
       " <TabularCPD representing P(I1:2 | State:6) at 0x113933a58>,\n",
       " <TabularCPD representing P(-1:2 | State:6) at 0x113933b00>,\n",
       " <TabularCPD representing P(F-2:2 | State:6) at 0x113933ba8>,\n",
       " <TabularCPD representing P(I-1:2 | State:6) at 0x113933c50>,\n",
       " <TabularCPD representing P(S2:2 | State:6) at 0x113933cf8>,\n",
       " <TabularCPD representing P(-0:2 | State:6) at 0x113933da0>,\n",
       " <TabularCPD representing P(W1:2 | State:6) at 0x113933e48>,\n",
       " <TabularCPD representing P(C-1:2 | State:6) at 0x113933ef0>,\n",
       " <TabularCPD representing P(K-2:2 | State:6) at 0x113933f98>,\n",
       " <TabularCPD representing P(D-1:2 | State:6) at 0x1139339e8>,\n",
       " <TabularCPD representing P(A0:2 | State:6) at 0x113933dd8>,\n",
       " <TabularCPD representing P(Y-2:2 | State:6) at 0x113933f28>,\n",
       " <TabularCPD representing P(G0:2 | State:6) at 0x113933c88>,\n",
       " <TabularCPD representing P(R0:2 | State:6) at 0x113933e80>,\n",
       " <TabularCPD representing P(Q-1:2 | State:6) at 0x113933be0>,\n",
       " <TabularCPD representing P(R-2:2 | State:6) at 0x113933d30>,\n",
       " <TabularCPD representing P(V0:2 | State:6) at 0x113937518>,\n",
       " <TabularCPD representing P(H2:2 | State:6) at 0x1139375c0>,\n",
       " <TabularCPD representing P(M1:2 | State:6) at 0x113937668>,\n",
       " <TabularCPD representing P(W-2:2 | State:6) at 0x113937710>,\n",
       " <TabularCPD representing P(State:6) at 0x1139376a0>,\n",
       " <TabularCPD representing P(F1:2 | State:6) at 0x1139377b8>,\n",
       " <TabularCPD representing P(N1:2 | State:6) at 0x113937358>,\n",
       " <TabularCPD representing P(F2:2 | State:6) at 0x113937a58>,\n",
       " <TabularCPD representing P(Q-2:2 | State:6) at 0x113937ac8>,\n",
       " <TabularCPD representing P(H0:2 | State:6) at 0x113937b70>,\n",
       " <TabularCPD representing P(S-1:2 | State:6) at 0x113937c18>,\n",
       " <TabularCPD representing P(Y1:2 | State:6) at 0x113937cc0>,\n",
       " <TabularCPD representing P(G2:2 | State:6) at 0x113937d68>,\n",
       " <TabularCPD representing P(N-1:2 | State:6) at 0x113937e10>,\n",
       " <TabularCPD representing P(F-1:2 | State:6) at 0x113937eb8>,\n",
       " <TabularCPD representing P(M0:2 | State:6) at 0x113937f60>,\n",
       " <TabularCPD representing P(M-2:2 | State:6) at 0x113937b00>,\n",
       " <TabularCPD representing P(G-1:2 | State:6) at 0x113937ef0>,\n",
       " <TabularCPD representing P(W-1:2 | State:6) at 0x113937cf8>,\n",
       " <TabularCPD representing P(S-2:2 | State:6) at 0x113937940>,\n",
       " <TabularCPD representing P(T-1:2 | State:6) at 0x113937c50>,\n",
       " <TabularCPD representing P(D0:2 | State:6) at 0x113937898>,\n",
       " <TabularCPD representing P(V1:2 | State:6) at 0x113937f98>,\n",
       " <TabularCPD representing P(K2:2 | State:6) at 0x1139377f0>,\n",
       " <TabularCPD representing P(P1:2 | State:6) at 0x113937ba8>,\n",
       " <TabularCPD representing P(T1:2 | State:6) at 0x1139145f8>,\n",
       " <TabularCPD representing P(S0:2 | State:6) at 0x1139146a0>,\n",
       " <TabularCPD representing P(H-1:2 | State:6) at 0x113914748>,\n",
       " <TabularCPD representing P(K1:2 | State:6) at 0x1139147f0>,\n",
       " <TabularCPD representing P(C1:2 | State:6) at 0x113914898>,\n",
       " <TabularCPD representing P(Q0:2 | State:6) at 0x113914940>,\n",
       " <TabularCPD representing P(F0:2 | State:6) at 0x1139149e8>,\n",
       " <TabularCPD representing P(N2:2 | State:6) at 0x113914a90>,\n",
       " <TabularCPD representing P(L-2:2 | State:6) at 0x113914b38>,\n",
       " <TabularCPD representing P(T0:2 | State:6) at 0x113914be0>,\n",
       " <TabularCPD representing P(E-1:2 | State:6) at 0x113914c88>,\n",
       " <TabularCPD representing P(Q1:2 | State:6) at 0x113914d30>,\n",
       " <TabularCPD representing P(V2:2 | State:6) at 0x113914dd8>,\n",
       " <TabularCPD representing P(I-2:2 | State:6) at 0x113914e80>,\n",
       " <TabularCPD representing P(T2:2 | State:6) at 0x113914f28>,\n",
       " <TabularCPD representing P(P2:2 | State:6) at 0x113914f98>,\n",
       " <TabularCPD representing P(C-2:2 | State:6) at 0x113914a20>]"
      ]
     },
     "execution_count": 31,
     "metadata": {},
     "output_type": "execute_result"
    }
   ],
   "source": [
    "bn.get_cpds()"
   ]
  },
  {
   "cell_type": "code",
   "execution_count": 30,
   "metadata": {
    "ExecuteTime": {
     "end_time": "2016-04-29T16:49:16.876095",
     "start_time": "2016-04-29T16:49:16.862233"
    },
    "collapsed": false,
    "scrolled": true
   },
   "outputs": [
    {
     "data": {
      "text/plain": [
       "[('State', 'N-2'),\n",
       " ('State', 'S1'),\n",
       " ('State', 'W0'),\n",
       " ('State', 'H1'),\n",
       " ('State', 'A2'),\n",
       " ('State', 'N0'),\n",
       " ('State', 'W2'),\n",
       " ('State', 'L0'),\n",
       " ('State', 'C2'),\n",
       " ('State', 'E0'),\n",
       " ('State', 'I0'),\n",
       " ('State', 'P-1'),\n",
       " ('State', 'G1'),\n",
       " ('State', '--1'),\n",
       " ('State', 'E2'),\n",
       " ('State', 'G-2'),\n",
       " ('State', 'R2'),\n",
       " ('State', 'Y2'),\n",
       " ('State', 'R-1'),\n",
       " ('State', 'Q2'),\n",
       " ('State', 'D2'),\n",
       " ('State', 'Y-1'),\n",
       " ('State', 'E-2'),\n",
       " ('State', 'M-1'),\n",
       " ('State', 'D1'),\n",
       " ('State', 'R1'),\n",
       " ('State', 'A-1'),\n",
       " ('State', '--2'),\n",
       " ('State', 'L-1'),\n",
       " ('State', 'Y0'),\n",
       " ('State', 'P0'),\n",
       " ('State', 'L1'),\n",
       " ('State', 'D-2'),\n",
       " ('State', 'C0'),\n",
       " ('State', 'V-2'),\n",
       " ('State', 'A1'),\n",
       " ('State', 'H-2'),\n",
       " ('State', 'K-1'),\n",
       " ('State', 'A-2'),\n",
       " ('State', 'L2'),\n",
       " ('State', 'I2'),\n",
       " ('State', 'E1'),\n",
       " ('State', 'T-2'),\n",
       " ('State', '-2'),\n",
       " ('State', 'P-2'),\n",
       " ('State', 'K0'),\n",
       " ('State', 'V-1'),\n",
       " ('State', 'I1'),\n",
       " ('State', '-1'),\n",
       " ('State', 'F-2'),\n",
       " ('State', 'I-1'),\n",
       " ('State', 'S2'),\n",
       " ('State', 'M2'),\n",
       " ('State', 'W1'),\n",
       " ('State', 'C-1'),\n",
       " ('State', 'K-2'),\n",
       " ('State', 'D-1'),\n",
       " ('State', 'A0'),\n",
       " ('State', 'Y-2'),\n",
       " ('State', 'G0'),\n",
       " ('State', 'R0'),\n",
       " ('State', 'Q-1'),\n",
       " ('State', 'R-2'),\n",
       " ('State', 'V0'),\n",
       " ('State', 'H2'),\n",
       " ('State', 'M1'),\n",
       " ('State', 'W-2'),\n",
       " ('State', '-0'),\n",
       " ('State', 'F1'),\n",
       " ('State', 'N1'),\n",
       " ('State', 'F2'),\n",
       " ('State', 'Q-2'),\n",
       " ('State', 'H0'),\n",
       " ('State', 'S-1'),\n",
       " ('State', 'Y1'),\n",
       " ('State', 'G2'),\n",
       " ('State', 'N-1'),\n",
       " ('State', 'F-1'),\n",
       " ('State', 'M0'),\n",
       " ('State', 'M-2'),\n",
       " ('State', 'G-1'),\n",
       " ('State', 'W-1'),\n",
       " ('State', 'S-2'),\n",
       " ('State', 'T-1'),\n",
       " ('State', 'D0'),\n",
       " ('State', 'V1'),\n",
       " ('State', 'K2'),\n",
       " ('State', 'P1'),\n",
       " ('State', 'T1'),\n",
       " ('State', 'S0'),\n",
       " ('State', 'H-1'),\n",
       " ('State', 'K1'),\n",
       " ('State', 'C1'),\n",
       " ('State', 'Q0'),\n",
       " ('State', 'F0'),\n",
       " ('State', 'N2'),\n",
       " ('State', 'L-2'),\n",
       " ('State', 'T0'),\n",
       " ('State', 'E-1'),\n",
       " ('State', 'Q1'),\n",
       " ('State', 'V2'),\n",
       " ('State', 'I-2'),\n",
       " ('State', 'T2'),\n",
       " ('State', 'P2'),\n",
       " ('State', 'C-2')]"
      ]
     },
     "execution_count": 30,
     "metadata": {},
     "output_type": "execute_result"
    }
   ],
   "source": [
    "bn.edges()"
   ]
  },
  {
   "cell_type": "code",
   "execution_count": 25,
   "metadata": {
    "ExecuteTime": {
     "end_time": "2016-04-29T16:47:29.217036",
     "start_time": "2016-04-29T16:47:28.679571"
    },
    "collapsed": false,
    "run_control": {
     "frozen": false,
     "read_only": false
    }
   },
   "outputs": [],
   "source": [
    "# calculate thetas in our CPDs\n",
    "est = MaximumLikelihoodEstimator(bn, data)"
   ]
  },
  {
   "cell_type": "code",
   "execution_count": 26,
   "metadata": {
    "ExecuteTime": {
     "end_time": "2016-04-29T16:47:31.994796",
     "start_time": "2016-04-29T16:47:30.442153"
    },
    "collapsed": false,
    "run_control": {
     "frozen": false,
     "read_only": false
    }
   },
   "outputs": [
    {
     "data": {
      "text/html": [
       "<table><caption>TabularCPD for <b>N-2</b></caption><tr><td><b>State</b></td><td colspan=1>State_0</td><td colspan=1>State_1</td><td colspan=1>State_2</td><td colspan=1>State_3</td><td colspan=1>State_4</td><td colspan=1>State_5</td></tr><tr><td><b>N-2_0</b></td><td>0.9620</td><td>0.9634</td><td>0.9528</td><td>0.9511</td><td>0.9656</td><td>0.9818</td></tr><tr><td><b>N-2_1</b></td><td>0.0380</td><td>0.0366</td><td>0.0472</td><td>0.0489</td><td>0.0344</td><td>0.0182</td></tr></table>"
      ],
      "text/plain": [
       "<TabularCPD representing P(N-2:2 | State:6) at 0x1137ed400>"
      ]
     },
     "execution_count": 26,
     "metadata": {},
     "output_type": "execute_result"
    }
   ],
   "source": [
    "est.get_parameters()[0]"
   ]
  },
  {
   "cell_type": "code",
   "execution_count": 27,
   "metadata": {
    "ExecuteTime": {
     "end_time": "2016-04-29T16:48:07.772905",
     "start_time": "2016-04-29T16:48:06.269607"
    },
    "collapsed": false,
    "run_control": {
     "frozen": false,
     "read_only": false
    }
   },
   "outputs": [],
   "source": [
    "bn.add_cpds(*est.get_parameters())"
   ]
  },
  {
   "cell_type": "code",
   "execution_count": 28,
   "metadata": {
    "ExecuteTime": {
     "end_time": "2016-04-29T16:48:32.210768",
     "start_time": "2016-04-29T16:48:18.087114"
    },
    "collapsed": true
   },
   "outputs": [],
   "source": [
    "tree = bn.to_junction_tree()"
   ]
  },
  {
   "cell_type": "code",
   "execution_count": 37,
   "metadata": {
    "ExecuteTime": {
     "end_time": "2016-04-29T16:54:24.938395",
     "start_time": "2016-04-29T16:54:24.911717"
    },
    "collapsed": false,
    "scrolled": true
   },
   "outputs": [
    {
     "data": {
      "text/plain": [
       "[(('State', 'N1'), ('State', 'Y-2')),\n",
       " (('State', 'N1'), ('State', 'K1')),\n",
       " (('State', 'N1'), ('State', 'W1')),\n",
       " (('State', 'N1'), ('State', 'A1')),\n",
       " (('State', 'N1'), ('State', 'G1')),\n",
       " (('State', 'N1'), ('State', 'G0')),\n",
       " (('State', 'N1'), ('State', 'S1')),\n",
       " (('State', 'N1'), ('State', 'I-2')),\n",
       " (('State', 'N1'), ('State', 'D-2')),\n",
       " (('State', 'N1'), ('State', 'F0')),\n",
       " (('State', 'N1'), ('State', 'H-1')),\n",
       " (('State', 'N1'), ('State', 'C-1')),\n",
       " (('State', 'N1'), ('State', 'Y0')),\n",
       " (('State', 'N1'), ('State', 'E0')),\n",
       " (('State', 'N1'), ('State', 'M0')),\n",
       " (('State', 'N1'), ('State', 'G-1')),\n",
       " (('State', 'N1'), ('State', 'E1')),\n",
       " (('State', 'N1'), ('State', 'G-2')),\n",
       " (('State', 'N1'), ('State', 'N2')),\n",
       " (('State', 'N1'), ('State', 'N-2')),\n",
       " (('State', 'N1'), ('State', 'S-2')),\n",
       " (('State', 'N1'), ('State', 'P-1')),\n",
       " (('State', 'N1'), ('State', 'I1')),\n",
       " (('State', 'N1'), ('State', 'D-1')),\n",
       " (('State', 'N1'), ('State', 'Q-2')),\n",
       " (('State', 'N1'), ('State', 'F-2')),\n",
       " (('State', 'N1'), ('State', 'T-2')),\n",
       " (('State', 'N1'), ('State', 'R-1')),\n",
       " (('State', 'N1'), ('State', 'E-1')),\n",
       " (('State', 'N1'), ('State', '--2')),\n",
       " (('State', 'N1'), ('State', 'N0')),\n",
       " (('State', 'N1'), ('State', 'V1')),\n",
       " (('State', 'N1'), ('State', 'A-1')),\n",
       " (('State', 'N1'), ('State', 'P2')),\n",
       " (('State', 'N1'), ('State', 'M-2')),\n",
       " (('State', 'N1'), ('State', 'Q-1')),\n",
       " (('State', 'N1'), ('State', 'W2')),\n",
       " (('State', 'N1'), ('State', 'G2')),\n",
       " (('State', 'N1'), ('State', 'S0')),\n",
       " (('State', 'N1'), ('State', 'V-1')),\n",
       " (('State', 'N1'), ('State', 'L1')),\n",
       " (('State', 'N1'), ('State', 'Y2')),\n",
       " (('State', 'N1'), ('State', 'F2')),\n",
       " (('State', 'N1'), ('State', 'W0')),\n",
       " (('State', 'N1'), ('State', 'W-1')),\n",
       " (('State', 'N1'), ('State', 'R-2')),\n",
       " (('State', 'N1'), ('State', 'D1')),\n",
       " (('State', 'N1'), ('State', 'A2')),\n",
       " (('State', 'N1'), ('State', '-1')),\n",
       " (('State', 'N1'), ('State', 'M-1')),\n",
       " (('State', 'N1'), ('State', 'H-2')),\n",
       " (('State', 'N1'), ('State', 'C1')),\n",
       " (('State', 'N1'), ('State', 'N-1')),\n",
       " (('State', 'N1'), ('State', 'K-1')),\n",
       " (('State', 'N1'), ('State', 'Y1')),\n",
       " (('State', 'N1'), ('State', 'L0')),\n",
       " (('State', 'N1'), ('State', 'M1')),\n",
       " (('State', 'N1'), ('State', 'Y-1')),\n",
       " (('State', 'N1'), ('State', 'L-2')),\n",
       " (('State', 'N1'), ('State', '-0')),\n",
       " (('State', 'N1'), ('State', 'K-2')),\n",
       " (('State', 'N1'), ('State', 'P1')),\n",
       " (('State', 'N1'), ('State', 'K2')),\n",
       " (('State', 'N1'), ('State', 'S-1')),\n",
       " (('State', 'N1'), ('State', 'F1')),\n",
       " (('State', 'N1'), ('State', 'C0')),\n",
       " (('State', 'N1'), ('State', 'Q1')),\n",
       " (('State', 'N1'), ('State', 'R1')),\n",
       " (('State', 'N1'), ('State', 'H2')),\n",
       " (('State', 'N1'), ('State', 'M2')),\n",
       " (('State', 'N1'), ('State', 'V-2')),\n",
       " (('State', 'N1'), ('State', 'H0')),\n",
       " (('State', 'N1'), ('State', 'I-1')),\n",
       " (('State', 'N1'), ('State', 'S2')),\n",
       " (('State', 'N1'), ('State', 'L2')),\n",
       " (('State', 'N1'), ('State', 'V2')),\n",
       " (('State', 'N1'), ('State', 'H1')),\n",
       " (('State', 'N1'), ('State', 'C2')),\n",
       " (('State', 'N1'), ('State', '--1')),\n",
       " (('State', 'N1'), ('State', 'P-2')),\n",
       " (('State', 'N1'), ('State', 'I0')),\n",
       " (('State', 'N1'), ('State', 'C-2')),\n",
       " (('State', 'N1'), ('State', 'W-2')),\n",
       " (('State', 'N1'), ('State', 'F-1')),\n",
       " (('State', 'N1'), ('State', 'V0')),\n",
       " (('State', 'N1'), ('State', 'R0')),\n",
       " (('State', 'N1'), ('State', 'D2')),\n",
       " (('State', 'N1'), ('State', 'Q0')),\n",
       " (('State', 'N1'), ('State', 'E-2')),\n",
       " (('State', 'N1'), ('State', 'T0')),\n",
       " (('State', 'N1'), ('State', 'A-2')),\n",
       " (('State', 'N1'), ('State', 'Q2')),\n",
       " (('State', 'N1'), ('State', 'D0')),\n",
       " (('State', 'N1'), ('State', 'L-1')),\n",
       " (('State', 'N1'), ('State', 'I2')),\n",
       " (('State', 'N1'), ('State', 'E2')),\n",
       " (('State', 'N1'), ('State', 'T2')),\n",
       " (('State', 'N1'), ('State', 'T1')),\n",
       " (('State', 'N1'), ('State', '-2')),\n",
       " (('State', 'N1'), ('State', 'T-1')),\n",
       " (('State', 'N1'), ('State', 'P0')),\n",
       " (('State', 'N1'), ('State', 'K0')),\n",
       " (('State', 'N1'), ('State', 'R2')),\n",
       " (('State', 'N1'), ('State', 'A0'))]"
      ]
     },
     "execution_count": 37,
     "metadata": {},
     "output_type": "execute_result"
    }
   ],
   "source": [
    "tree.edges()"
   ]
  },
  {
   "cell_type": "code",
   "execution_count": null,
   "metadata": {
    "ExecuteTime": {
     "end_time": "2016-04-29T16:41:18.621023",
     "start_time": "2016-04-29T16:41:18.586133"
    },
    "collapsed": false,
    "run_control": {
     "frozen": false,
     "read_only": false
    }
   },
   "outputs": [],
   "source": [
    "# take a look at one such\n",
    "est.get_parameters()[0]"
   ]
  },
  {
   "cell_type": "code",
   "execution_count": null,
   "metadata": {
    "ExecuteTime": {
     "end_time": "2016-04-28T22:44:34.919908",
     "start_time": "2016-04-28T22:44:30.893325"
    },
    "collapsed": false,
    "run_control": {
     "frozen": false,
     "read_only": false
    }
   },
   "outputs": [],
   "source": [
    "# our own train, test split\n",
    "choices = [np.random.choice([True, False], p=[.75, 0.25]) for _ in range(len(data))]\n",
    "train_indices = [i for i, choice in enumerate(choices) if choice]\n",
    "test_inices = [i for i, choice in enumerate(choices) if not choice]"
   ]
  },
  {
   "cell_type": "code",
   "execution_count": null,
   "metadata": {
    "ExecuteTime": {
     "end_time": "2016-04-28T22:44:36.318530",
     "start_time": "2016-04-28T22:44:36.206006"
    },
    "collapsed": true,
    "run_control": {
     "frozen": false,
     "read_only": false
    }
   },
   "outputs": [],
   "source": [
    "raw_data = np.asarray(data)"
   ]
  },
  {
   "cell_type": "code",
   "execution_count": null,
   "metadata": {
    "ExecuteTime": {
     "end_time": "2016-04-28T22:44:37.167565",
     "start_time": "2016-04-28T22:44:36.973527"
    },
    "collapsed": false,
    "run_control": {
     "frozen": false,
     "read_only": false
    }
   },
   "outputs": [],
   "source": [
    "train = raw_data[train_indices]\n",
    "test = raw_data[test_inices]"
   ]
  },
  {
   "cell_type": "code",
   "execution_count": null,
   "metadata": {
    "ExecuteTime": {
     "end_time": "2016-04-28T22:44:37.792985",
     "start_time": "2016-04-28T22:44:37.788851"
    },
    "collapsed": false,
    "run_control": {
     "frozen": false,
     "read_only": false
    }
   },
   "outputs": [],
   "source": [
    "train = pd.DataFrame(train, columns=data.columns)"
   ]
  },
  {
   "cell_type": "code",
   "execution_count": null,
   "metadata": {
    "ExecuteTime": {
     "end_time": "2016-04-28T22:44:38.713811",
     "start_time": "2016-04-28T22:44:38.669555"
    },
    "collapsed": false,
    "run_control": {
     "frozen": false,
     "read_only": false
    }
   },
   "outputs": [],
   "source": [
    "train.head()"
   ]
  },
  {
   "cell_type": "code",
   "execution_count": null,
   "metadata": {
    "ExecuteTime": {
     "end_time": "2016-04-28T22:44:43.753171",
     "start_time": "2016-04-28T22:44:41.085037"
    },
    "collapsed": false,
    "run_control": {
     "frozen": false,
     "read_only": false
    }
   },
   "outputs": [],
   "source": [
    "est = MaximumLikelihoodEstimator(bn, train)"
   ]
  },
  {
   "cell_type": "code",
   "execution_count": null,
   "metadata": {
    "ExecuteTime": {
     "end_time": "2016-04-28T22:44:46.070014",
     "start_time": "2016-04-28T22:44:44.717714"
    },
    "collapsed": false,
    "run_control": {
     "frozen": false,
     "read_only": false
    }
   },
   "outputs": [],
   "source": [
    "est.get_parameters()[0]"
   ]
  },
  {
   "cell_type": "code",
   "execution_count": null,
   "metadata": {
    "ExecuteTime": {
     "end_time": "2016-04-29T16:40:45.120662",
     "start_time": "2016-04-29T16:40:45.116851"
    },
    "collapsed": false,
    "run_control": {
     "frozen": false,
     "read_only": false
    }
   },
   "outputs": [],
   "source": [
    "fit_bn = est.model"
   ]
  },
  {
   "cell_type": "code",
   "execution_count": null,
   "metadata": {
    "ExecuteTime": {
     "end_time": "2016-04-29T16:40:46.747440",
     "start_time": "2016-04-29T16:40:46.707917"
    },
    "collapsed": false,
    "run_control": {
     "frozen": false,
     "read_only": false
    }
   },
   "outputs": [],
   "source": [
    "# add all of the estimated CPDs\n",
    "fit_bn.add_cpds(*est.get_parameters())"
   ]
  },
  {
   "cell_type": "code",
   "execution_count": null,
   "metadata": {
    "ExecuteTime": {
     "end_time": "2016-04-28T22:44:55.881898",
     "start_time": "2016-04-28T22:44:55.872588"
    },
    "collapsed": false,
    "run_control": {
     "frozen": false,
     "read_only": false
    },
    "scrolled": true
   },
   "outputs": [],
   "source": [
    "fit_bn.cpds"
   ]
  },
  {
   "cell_type": "code",
   "execution_count": null,
   "metadata": {
    "ExecuteTime": {
     "end_time": "2016-04-28T22:44:59.479557",
     "start_time": "2016-04-28T22:44:59.470171"
    },
    "collapsed": true,
    "run_control": {
     "frozen": false,
     "read_only": false
    }
   },
   "outputs": [],
   "source": [
    "# save the optimized model\n",
    "pickle.dump(fit_bn, open(\"fit_bn.p\", 'wb'))"
   ]
  },
  {
   "cell_type": "code",
   "execution_count": null,
   "metadata": {
    "ExecuteTime": {
     "end_time": "2016-04-28T22:45:13.730823",
     "start_time": "2016-04-28T22:45:00.581598"
    },
    "collapsed": false,
    "run_control": {
     "frozen": false,
     "read_only": false
    }
   },
   "outputs": [],
   "source": [
    "%%time\n",
    "bp = BeliefPropagation(fit_bn)"
   ]
  },
  {
   "cell_type": "code",
   "execution_count": null,
   "metadata": {
    "ExecuteTime": {
     "end_time": "2016-04-28T22:45:13.860321",
     "start_time": "2016-04-28T22:45:13.733841"
    },
    "collapsed": true,
    "run_control": {
     "frozen": false,
     "read_only": false
    }
   },
   "outputs": [],
   "source": [
    "bp.calibrate()"
   ]
  },
  {
   "cell_type": "code",
   "execution_count": null,
   "metadata": {
    "ExecuteTime": {
     "end_time": "2016-04-28T22:45:15.391682",
     "start_time": "2016-04-28T22:45:15.386788"
    },
    "collapsed": false,
    "run_control": {
     "frozen": false,
     "read_only": false
    }
   },
   "outputs": [],
   "source": [
    "print(test[0][-1])"
   ]
  },
  {
   "cell_type": "code",
   "execution_count": null,
   "metadata": {
    "ExecuteTime": {
     "end_time": "2016-04-28T22:45:16.996529",
     "start_time": "2016-04-28T22:45:16.985878"
    },
    "collapsed": false,
    "run_control": {
     "frozen": false,
     "read_only": false
    },
    "scrolled": true
   },
   "outputs": [],
   "source": [
    "evi = dict(zip(cols, [int(t) for t in test[0][:-1]]))\n",
    "evi"
   ]
  },
  {
   "cell_type": "code",
   "execution_count": null,
   "metadata": {
    "ExecuteTime": {
     "end_time": "2016-04-28T22:45:18.287307",
     "start_time": "2016-04-28T22:45:17.810867"
    },
    "collapsed": false,
    "run_control": {
     "frozen": false,
     "read_only": false
    }
   },
   "outputs": [],
   "source": [
    "# finally query\n",
    "answer = bp.query(['State'], evidence=evi)"
   ]
  },
  {
   "cell_type": "code",
   "execution_count": null,
   "metadata": {
    "ExecuteTime": {
     "end_time": "2016-04-28T22:45:18.999980",
     "start_time": "2016-04-28T22:45:18.994514"
    },
    "collapsed": false,
    "run_control": {
     "frozen": false,
     "read_only": false
    }
   },
   "outputs": [],
   "source": [
    "print(answer['State'])"
   ]
  },
  {
   "cell_type": "code",
   "execution_count": null,
   "metadata": {
    "ExecuteTime": {
     "end_time": "2016-04-28T22:45:20.375145",
     "start_time": "2016-04-28T22:45:20.370460"
    },
    "collapsed": false,
    "run_control": {
     "frozen": false,
     "read_only": false
    }
   },
   "outputs": [],
   "source": [
    "print(np.argmax(answer['State'].values))"
   ]
  },
  {
   "cell_type": "code",
   "execution_count": null,
   "metadata": {
    "ExecuteTime": {
     "end_time": "2016-04-29T04:50:22.525182",
     "start_time": "2016-04-28T22:45:39.945438"
    },
    "code_folding": [],
    "collapsed": false,
    "run_control": {
     "frozen": false,
     "read_only": false
    }
   },
   "outputs": [],
   "source": [
    "# finally iterate through\n",
    "\n",
    "preds = []\n",
    "\n",
    "for i, t in enumerate(test):\n",
    "    ev = dict(zip(cols, [int(v) for v in t[:-1]]))\n",
    "    answer = bp.query(['State'], evidence=ev)\n",
    "    max_v = np.argmax(answer['State'].values)\n",
    "    preds.append(max_v)"
   ]
  },
  {
   "cell_type": "code",
   "execution_count": null,
   "metadata": {
    "ExecuteTime": {
     "end_time": "2016-04-29T04:50:22.618701",
     "start_time": "2016-04-29T04:50:22.527111"
    },
    "collapsed": true,
    "run_control": {
     "frozen": false,
     "read_only": false
    }
   },
   "outputs": [],
   "source": [
    "pred_df = pd.DataFrame(preds, columns=['State'])\n",
    "pred_df.to_csv('preds.csv')"
   ]
  },
  {
   "cell_type": "code",
   "execution_count": null,
   "metadata": {
    "ExecuteTime": {
     "end_time": "2016-04-29T09:17:38.465106",
     "start_time": "2016-04-29T09:17:38.430450"
    },
    "collapsed": false,
    "run_control": {
     "frozen": false,
     "read_only": false
    }
   },
   "outputs": [],
   "source": [
    "# 55% accuracy\n",
    "print(np.mean([1.0 if pred == int(y_i) else 0.0 for pred, y_i in zip(preds, test[:, -1])]))"
   ]
  }
 ],
 "metadata": {
  "kernelspec": {
   "display_name": "Python 3",
   "language": "python",
   "name": "python3"
  },
  "language_info": {
   "codemirror_mode": {
    "name": "ipython",
    "version": 3
   },
   "file_extension": ".py",
   "mimetype": "text/x-python",
   "name": "python",
   "nbconvert_exporter": "python",
   "pygments_lexer": "ipython3",
   "version": "3.5.1"
  },
  "notify_time": "5"
 },
 "nbformat": 4,
 "nbformat_minor": 0
}
