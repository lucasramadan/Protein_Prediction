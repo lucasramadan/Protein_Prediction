{
 "cells": [
  {
   "cell_type": "markdown",
   "metadata": {},
   "source": [
    "Predicting Fold-State of Proteins \n",
    "=========="
   ]
  },
  {
   "cell_type": "code",
   "execution_count": 212,
   "metadata": {
    "ExecuteTime": {
     "end_time": "2016-05-08T15:33:58.149775",
     "start_time": "2016-05-08T15:33:58.032895"
    },
    "collapsed": false,
    "hide_input": false,
    "init_cell": true,
    "run_control": {
     "frozen": false,
     "read_only": false
    }
   },
   "outputs": [],
   "source": [
    "from collections import Counter\n",
    "import pandas as pd\n",
    "import numpy as np\n",
    "import matplotlib.pyplot as plt \n",
    "import seaborn as sns\n",
    "%matplotlib inline\n",
    "\n",
    "from sklearn.cross_validation import train_test_split\n",
    "\n",
    "from pgmpy.models import MarkovModel, BayesianModel\n",
    "from pgmpy.inference import BeliefPropagation\n",
    "from pgmpy.factors import Factor\n",
    "from scipy import optimize\n",
    "from pgmpy.estimators import MaximumLikelihoodEstimator\n",
    "import pickle\n",
    "\n",
    "import warnings\n",
    "warnings.filterwarnings('ignore')"
   ]
  },
  {
   "cell_type": "markdown",
   "metadata": {
    "hide_input": true
   },
   "source": [
    "### What a protein looks like:"
   ]
  },
  {
   "cell_type": "markdown",
   "metadata": {},
   "source": [
    "<img  src=\"85262_large.jpg\"/>"
   ]
  },
  {
   "cell_type": "code",
   "execution_count": 213,
   "metadata": {
    "ExecuteTime": {
     "end_time": "2016-05-08T15:33:58.248760",
     "start_time": "2016-05-08T15:33:58.151803"
    },
    "collapsed": true,
    "hide_input": false,
    "init_cell": true,
    "run_control": {
     "frozen": false,
     "read_only": false
    }
   },
   "outputs": [],
   "source": [
    "seq = pd.read_csv('sequences.csv').drop('Unnamed: 0', axis=1).values.reshape((-1,))"
   ]
  },
  {
   "cell_type": "markdown",
   "metadata": {},
   "source": [
    "### How the protein is encoded for us:"
   ]
  },
  {
   "cell_type": "markdown",
   "metadata": {},
   "source": [
    "<img  src=\"AA_code.png\" height=400 width=400/>"
   ]
  },
  {
   "cell_type": "markdown",
   "metadata": {},
   "source": [
    "<img  src=\"protein_seq.jpg\"/>"
   ]
  },
  {
   "cell_type": "markdown",
   "metadata": {},
   "source": [
    "### What our actual data looks like:"
   ]
  },
  {
   "cell_type": "code",
   "execution_count": 3,
   "metadata": {
    "ExecuteTime": {
     "end_time": "2016-05-08T13:55:43.018192",
     "start_time": "2016-05-08T13:55:43.012781"
    },
    "collapsed": false,
    "hide_input": false,
    "run_control": {
     "frozen": false,
     "read_only": false
    }
   },
   "outputs": [
    {
     "name": "stdout",
     "output_type": "stream",
     "text": [
      "['V' 'L' 'S' 'P' 'A' 'D' 'K' 'T' 'N' 'V' 'K' 'A' 'A' 'W' 'G' 'K' 'V' 'G'\n",
      " 'A' 'H' 'A' 'G' 'E' 'Y' 'G' 'A' 'E' 'A' 'L' 'E' 'R' 'M' 'F' 'L' 'S' 'F'\n",
      " 'P' 'T' 'T' 'K' 'T' 'Y' 'F' 'P' 'H' 'F' 'D' 'L' 'S' 'H' 'G' 'S' 'A' 'Q'\n",
      " 'V' 'K' 'G' 'H' 'G' 'K' 'K' 'V' 'A' 'D' 'A' 'L' 'T' 'N' 'A' 'V' 'A' 'H'\n",
      " 'V' 'D' 'D' 'M' 'P' 'N' 'A' 'L' 'S' 'A' 'L' 'S' 'D' 'L' 'H' 'A' 'H' 'K'\n",
      " 'L' 'R' 'V' 'D' 'P' 'V' 'N' 'F' 'K' 'L']\n"
     ]
    }
   ],
   "source": [
    "print(seq[:100])"
   ]
  },
  {
   "cell_type": "markdown",
   "metadata": {},
   "source": [
    "### How this relates to Structure"
   ]
  },
  {
   "cell_type": "markdown",
   "metadata": {},
   "source": [
    "<img  src=\"figure1.png\"/>"
   ]
  },
  {
   "cell_type": "markdown",
   "metadata": {},
   "source": [
    "<img  src=\"proteins-and-amino-acids-32-638.jpg\"/>"
   ]
  },
  {
   "cell_type": "markdown",
   "metadata": {},
   "source": [
    "### Fold States:"
   ]
  },
  {
   "cell_type": "code",
   "execution_count": 102,
   "metadata": {
    "ExecuteTime": {
     "end_time": "2016-05-08T14:25:26.784643",
     "start_time": "2016-05-08T14:25:26.645591"
    },
    "collapsed": false,
    "hide_input": false,
    "run_control": {
     "frozen": false,
     "read_only": false
    }
   },
   "outputs": [],
   "source": [
    "labels = pd.read_csv('5_formatted_labels.csv').drop('Unnamed: 0', axis=1).values.reshape((-1,))\n",
    "fold_map = dict(zip(range(6), [\"H\", \"E\", \"T\", \"S\", \"B\", \"U\"]))\n",
    "folds = np.asarray([fold_map[state] for state in labels])"
   ]
  },
  {
   "cell_type": "code",
   "execution_count": 5,
   "metadata": {
    "ExecuteTime": {
     "end_time": "2016-05-08T13:04:01.478441",
     "start_time": "2016-05-08T13:04:01.472766"
    },
    "collapsed": false,
    "hide_input": false,
    "run_control": {
     "frozen": false,
     "read_only": false
    }
   },
   "outputs": [
    {
     "name": "stdout",
     "output_type": "stream",
     "text": [
      "['U' 'U' 'H' 'H' 'H' 'H' 'H' 'H' 'H' 'H' 'H' 'H' 'H' 'H' 'H' 'H' 'H' 'H'\n",
      " 'H' 'H' 'H' 'H' 'H' 'H' 'H' 'H' 'H' 'H' 'H' 'H' 'H' 'H' 'H' 'H' 'U' 'H'\n",
      " 'H' 'H' 'H' 'H' 'H' 'U' 'T' 'T' 'S' 'U' 'U' 'S' 'T' 'T' 'U' 'H' 'H' 'H'\n",
      " 'H' 'H' 'H' 'H' 'H' 'H' 'H' 'H' 'H' 'H' 'H' 'H' 'H' 'H' 'H' 'H' 'T' 'T'\n",
      " 'T' 'S' 'H' 'H' 'H' 'H' 'T' 'H' 'H' 'H' 'H' 'H' 'H' 'H' 'H' 'H' 'T' 'T'\n",
      " 'U' 'U' 'U' 'T' 'H' 'H' 'H' 'H' 'H' 'H']\n"
     ]
    }
   ],
   "source": [
    "print(folds[:100])"
   ]
  },
  {
   "cell_type": "markdown",
   "metadata": {},
   "source": [
    "### Together"
   ]
  },
  {
   "cell_type": "code",
   "execution_count": 6,
   "metadata": {
    "ExecuteTime": {
     "end_time": "2016-05-08T13:04:02.135882",
     "start_time": "2016-05-08T13:04:02.057305"
    },
    "collapsed": false,
    "hide_input": false,
    "run_control": {
     "frozen": false,
     "read_only": false
    }
   },
   "outputs": [
    {
     "data": {
      "text/html": [
       "<div>\n",
       "<table border=\"1\" class=\"dataframe\">\n",
       "  <thead>\n",
       "    <tr style=\"text-align: right;\">\n",
       "      <th></th>\n",
       "      <th></th>\n",
       "      <th></th>\n",
       "      <th></th>\n",
       "      <th></th>\n",
       "      <th></th>\n",
       "      <th></th>\n",
       "      <th></th>\n",
       "      <th></th>\n",
       "      <th></th>\n",
       "      <th></th>\n",
       "      <th>...</th>\n",
       "      <th></th>\n",
       "      <th></th>\n",
       "      <th></th>\n",
       "      <th></th>\n",
       "      <th></th>\n",
       "      <th></th>\n",
       "      <th></th>\n",
       "      <th></th>\n",
       "      <th></th>\n",
       "      <th></th>\n",
       "    </tr>\n",
       "  </thead>\n",
       "  <tbody>\n",
       "    <tr>\n",
       "      <th>Fold</th>\n",
       "      <td>U</td>\n",
       "      <td>U</td>\n",
       "      <td>H</td>\n",
       "      <td>H</td>\n",
       "      <td>H</td>\n",
       "      <td>H</td>\n",
       "      <td>H</td>\n",
       "      <td>H</td>\n",
       "      <td>H</td>\n",
       "      <td>H</td>\n",
       "      <td>...</td>\n",
       "      <td>U</td>\n",
       "      <td>U</td>\n",
       "      <td>U</td>\n",
       "      <td>T</td>\n",
       "      <td>H</td>\n",
       "      <td>H</td>\n",
       "      <td>H</td>\n",
       "      <td>H</td>\n",
       "      <td>H</td>\n",
       "      <td>H</td>\n",
       "    </tr>\n",
       "    <tr>\n",
       "      <th>AA</th>\n",
       "      <td>V</td>\n",
       "      <td>L</td>\n",
       "      <td>S</td>\n",
       "      <td>P</td>\n",
       "      <td>A</td>\n",
       "      <td>D</td>\n",
       "      <td>K</td>\n",
       "      <td>T</td>\n",
       "      <td>N</td>\n",
       "      <td>V</td>\n",
       "      <td>...</td>\n",
       "      <td>L</td>\n",
       "      <td>R</td>\n",
       "      <td>V</td>\n",
       "      <td>D</td>\n",
       "      <td>P</td>\n",
       "      <td>V</td>\n",
       "      <td>N</td>\n",
       "      <td>F</td>\n",
       "      <td>K</td>\n",
       "      <td>L</td>\n",
       "    </tr>\n",
       "  </tbody>\n",
       "</table>\n",
       "<p>2 rows × 100 columns</p>\n",
       "</div>"
      ],
      "text/plain": [
       "                                   ...                              \n",
       "Fold  U  U  H  H  H  H  H  H  H  H ...  U  U  U  T  H  H  H  H  H  H\n",
       "AA    V  L  S  P  A  D  K  T  N  V ...  L  R  V  D  P  V  N  F  K  L\n",
       "\n",
       "[2 rows x 100 columns]"
      ]
     },
     "execution_count": 6,
     "metadata": {},
     "output_type": "execute_result"
    }
   ],
   "source": [
    "pd.DataFrame([folds[:100], seq[:100]], index=['Fold', 'AA'], columns=['']*100)"
   ]
  },
  {
   "cell_type": "code",
   "execution_count": 56,
   "metadata": {
    "ExecuteTime": {
     "end_time": "2016-05-07T16:38:46.980375",
     "start_time": "2016-05-07T16:38:46.858344"
    },
    "collapsed": false,
    "hide_input": true,
    "run_control": {
     "frozen": false,
     "read_only": false
    }
   },
   "outputs": [],
   "source": [
    "counts = Counter(folds)\n",
    "percents = [v*1.0 / sum(counts.values()) for v in counts.values()]\n",
    "\n",
    "perc = dict(zip(counts.keys(), percents))"
   ]
  },
  {
   "cell_type": "markdown",
   "metadata": {},
   "source": [
    "### Imbalanced Classes"
   ]
  },
  {
   "cell_type": "code",
   "execution_count": 57,
   "metadata": {
    "ExecuteTime": {
     "end_time": "2016-05-07T16:38:51.038873",
     "start_time": "2016-05-07T16:38:50.749242"
    },
    "collapsed": false,
    "hide_input": true,
    "run_control": {
     "frozen": false,
     "read_only": false
    }
   },
   "outputs": [
    {
     "data": {
      "image/png": "[encoded data removed]",
      "text/plain": [
       "<matplotlib.figure.Figure at 0x11c1eaa10>"
      ]
     },
     "metadata": {},
     "output_type": "display_data"
    }
   ],
   "source": [
    "plt.bar(range(len(perc)), perc.values(), tick_label=perc.keys(), align='center')\n",
    "sns.set_style('white')\n",
    "sns.despine();"
   ]
  },
  {
   "cell_type": "markdown",
   "metadata": {},
   "source": [
    "### Recall:"
   ]
  },
  {
   "cell_type": "markdown",
   "metadata": {},
   "source": [
    "<img  src=\"cbow.png\" height=400 width=400/>"
   ]
  },
  {
   "cell_type": "markdown",
   "metadata": {},
   "source": [
    "### How our data is really formatted"
   ]
  },
  {
   "cell_type": "code",
   "execution_count": 7,
   "metadata": {
    "ExecuteTime": {
     "end_time": "2016-05-08T13:04:22.213288",
     "start_time": "2016-05-08T13:04:19.172605"
    },
    "collapsed": false,
    "hide_input": false,
    "run_control": {
     "frozen": false,
     "read_only": false
    }
   },
   "outputs": [
    {
     "data": {
      "text/html": [
       "<div>\n",
       "<table border=\"1\" class=\"dataframe\">\n",
       "  <thead>\n",
       "    <tr style=\"text-align: right;\">\n",
       "      <th></th>\n",
       "      <th>A-2</th>\n",
       "      <th>C-2</th>\n",
       "      <th>D-2</th>\n",
       "      <th>E-2</th>\n",
       "      <th>F-2</th>\n",
       "      <th>G-2</th>\n",
       "      <th>H-2</th>\n",
       "      <th>I-2</th>\n",
       "      <th>K-2</th>\n",
       "      <th>L-2</th>\n",
       "      <th>...</th>\n",
       "      <th>N2</th>\n",
       "      <th>P2</th>\n",
       "      <th>Q2</th>\n",
       "      <th>R2</th>\n",
       "      <th>S2</th>\n",
       "      <th>T2</th>\n",
       "      <th>V2</th>\n",
       "      <th>W2</th>\n",
       "      <th>Y2</th>\n",
       "      <th>-2</th>\n",
       "    </tr>\n",
       "  </thead>\n",
       "  <tbody>\n",
       "    <tr>\n",
       "      <th>0</th>\n",
       "      <td>0.0</td>\n",
       "      <td>0.0</td>\n",
       "      <td>0.0</td>\n",
       "      <td>0.0</td>\n",
       "      <td>0.0</td>\n",
       "      <td>0.0</td>\n",
       "      <td>0.0</td>\n",
       "      <td>0.0</td>\n",
       "      <td>0.0</td>\n",
       "      <td>0.0</td>\n",
       "      <td>...</td>\n",
       "      <td>0.0</td>\n",
       "      <td>0.0</td>\n",
       "      <td>0.0</td>\n",
       "      <td>0.0</td>\n",
       "      <td>1.0</td>\n",
       "      <td>0.0</td>\n",
       "      <td>0.0</td>\n",
       "      <td>0.0</td>\n",
       "      <td>0.0</td>\n",
       "      <td>0.0</td>\n",
       "    </tr>\n",
       "    <tr>\n",
       "      <th>1</th>\n",
       "      <td>0.0</td>\n",
       "      <td>0.0</td>\n",
       "      <td>0.0</td>\n",
       "      <td>0.0</td>\n",
       "      <td>0.0</td>\n",
       "      <td>0.0</td>\n",
       "      <td>0.0</td>\n",
       "      <td>0.0</td>\n",
       "      <td>0.0</td>\n",
       "      <td>0.0</td>\n",
       "      <td>...</td>\n",
       "      <td>0.0</td>\n",
       "      <td>1.0</td>\n",
       "      <td>0.0</td>\n",
       "      <td>0.0</td>\n",
       "      <td>0.0</td>\n",
       "      <td>0.0</td>\n",
       "      <td>0.0</td>\n",
       "      <td>0.0</td>\n",
       "      <td>0.0</td>\n",
       "      <td>0.0</td>\n",
       "    </tr>\n",
       "    <tr>\n",
       "      <th>2</th>\n",
       "      <td>0.0</td>\n",
       "      <td>0.0</td>\n",
       "      <td>0.0</td>\n",
       "      <td>0.0</td>\n",
       "      <td>0.0</td>\n",
       "      <td>0.0</td>\n",
       "      <td>0.0</td>\n",
       "      <td>0.0</td>\n",
       "      <td>0.0</td>\n",
       "      <td>0.0</td>\n",
       "      <td>...</td>\n",
       "      <td>0.0</td>\n",
       "      <td>0.0</td>\n",
       "      <td>0.0</td>\n",
       "      <td>0.0</td>\n",
       "      <td>0.0</td>\n",
       "      <td>0.0</td>\n",
       "      <td>0.0</td>\n",
       "      <td>0.0</td>\n",
       "      <td>0.0</td>\n",
       "      <td>0.0</td>\n",
       "    </tr>\n",
       "    <tr>\n",
       "      <th>3</th>\n",
       "      <td>0.0</td>\n",
       "      <td>0.0</td>\n",
       "      <td>0.0</td>\n",
       "      <td>0.0</td>\n",
       "      <td>0.0</td>\n",
       "      <td>0.0</td>\n",
       "      <td>0.0</td>\n",
       "      <td>0.0</td>\n",
       "      <td>0.0</td>\n",
       "      <td>1.0</td>\n",
       "      <td>...</td>\n",
       "      <td>0.0</td>\n",
       "      <td>0.0</td>\n",
       "      <td>0.0</td>\n",
       "      <td>0.0</td>\n",
       "      <td>0.0</td>\n",
       "      <td>0.0</td>\n",
       "      <td>0.0</td>\n",
       "      <td>0.0</td>\n",
       "      <td>0.0</td>\n",
       "      <td>0.0</td>\n",
       "    </tr>\n",
       "    <tr>\n",
       "      <th>4</th>\n",
       "      <td>0.0</td>\n",
       "      <td>0.0</td>\n",
       "      <td>0.0</td>\n",
       "      <td>0.0</td>\n",
       "      <td>0.0</td>\n",
       "      <td>0.0</td>\n",
       "      <td>0.0</td>\n",
       "      <td>0.0</td>\n",
       "      <td>0.0</td>\n",
       "      <td>0.0</td>\n",
       "      <td>...</td>\n",
       "      <td>0.0</td>\n",
       "      <td>0.0</td>\n",
       "      <td>0.0</td>\n",
       "      <td>0.0</td>\n",
       "      <td>0.0</td>\n",
       "      <td>0.0</td>\n",
       "      <td>0.0</td>\n",
       "      <td>0.0</td>\n",
       "      <td>0.0</td>\n",
       "      <td>0.0</td>\n",
       "    </tr>\n",
       "  </tbody>\n",
       "</table>\n",
       "<p>5 rows × 105 columns</p>\n",
       "</div>"
      ],
      "text/plain": [
       "   A-2  C-2  D-2  E-2  F-2  G-2  H-2  I-2  K-2  L-2 ...    N2   P2   Q2   R2  \\\n",
       "0  0.0  0.0  0.0  0.0  0.0  0.0  0.0  0.0  0.0  0.0 ...   0.0  0.0  0.0  0.0   \n",
       "1  0.0  0.0  0.0  0.0  0.0  0.0  0.0  0.0  0.0  0.0 ...   0.0  1.0  0.0  0.0   \n",
       "2  0.0  0.0  0.0  0.0  0.0  0.0  0.0  0.0  0.0  0.0 ...   0.0  0.0  0.0  0.0   \n",
       "3  0.0  0.0  0.0  0.0  0.0  0.0  0.0  0.0  0.0  1.0 ...   0.0  0.0  0.0  0.0   \n",
       "4  0.0  0.0  0.0  0.0  0.0  0.0  0.0  0.0  0.0  0.0 ...   0.0  0.0  0.0  0.0   \n",
       "\n",
       "    S2   T2   V2   W2   Y2   -2  \n",
       "0  1.0  0.0  0.0  0.0  0.0  0.0  \n",
       "1  0.0  0.0  0.0  0.0  0.0  0.0  \n",
       "2  0.0  0.0  0.0  0.0  0.0  0.0  \n",
       "3  0.0  0.0  0.0  0.0  0.0  0.0  \n",
       "4  0.0  0.0  0.0  0.0  0.0  0.0  \n",
       "\n",
       "[5 rows x 105 columns]"
      ]
     },
     "execution_count": 7,
     "metadata": {},
     "output_type": "execute_result"
    }
   ],
   "source": [
    "skip_data = pd.read_csv('5_formatted_fixed.csv').drop('Unnamed: 0', axis=1)\n",
    "skip_data.head()"
   ]
  },
  {
   "cell_type": "markdown",
   "metadata": {},
   "source": [
    "### Take for an example:"
   ]
  },
  {
   "cell_type": "code",
   "execution_count": 65,
   "metadata": {
    "ExecuteTime": {
     "end_time": "2016-05-07T17:02:58.335989",
     "start_time": "2016-05-07T17:02:58.330108"
    },
    "collapsed": false,
    "run_control": {
     "frozen": false,
     "read_only": false
    }
   },
   "outputs": [
    {
     "name": "stdout",
     "output_type": "stream",
     "text": [
      "['V' 'L' 'S' 'P' 'A']\n"
     ]
    }
   ],
   "source": [
    "print seq[:5]"
   ]
  },
  {
   "cell_type": "code",
   "execution_count": 68,
   "metadata": {
    "ExecuteTime": {
     "end_time": "2016-05-07T17:04:25.685017",
     "start_time": "2016-05-07T17:04:25.678619"
    },
    "collapsed": false,
    "run_control": {
     "frozen": false,
     "read_only": false
    }
   },
   "outputs": [
    {
     "data": {
      "text/plain": [
       "['V-2', 'L-1', 'S0', 'P1', 'A2']"
      ]
     },
     "execution_count": 68,
     "metadata": {},
     "output_type": "execute_result"
    }
   ],
   "source": [
    "['V-2', 'L-1', 'S0', 'P1', 'A2']"
   ]
  },
  {
   "cell_type": "code",
   "execution_count": 108,
   "metadata": {
    "ExecuteTime": {
     "end_time": "2016-05-07T17:17:30.802335",
     "start_time": "2016-05-07T17:17:30.725530"
    },
    "collapsed": false,
    "hide_input": false,
    "run_control": {
     "frozen": false,
     "read_only": false
    }
   },
   "outputs": [
    {
     "data": {
      "text/html": [
       "<div>\n",
       "<table border=\"1\" class=\"dataframe\">\n",
       "  <thead>\n",
       "    <tr style=\"text-align: right;\">\n",
       "      <th></th>\n",
       "      <th></th>\n",
       "      <th></th>\n",
       "      <th></th>\n",
       "      <th></th>\n",
       "      <th></th>\n",
       "      <th></th>\n",
       "      <th></th>\n",
       "      <th></th>\n",
       "      <th></th>\n",
       "      <th></th>\n",
       "      <th>...</th>\n",
       "      <th></th>\n",
       "      <th></th>\n",
       "      <th></th>\n",
       "      <th></th>\n",
       "      <th></th>\n",
       "      <th></th>\n",
       "      <th></th>\n",
       "      <th></th>\n",
       "      <th></th>\n",
       "      <th></th>\n",
       "    </tr>\n",
       "  </thead>\n",
       "  <tbody>\n",
       "    <tr>\n",
       "      <th>AA</th>\n",
       "      <td>A-2</td>\n",
       "      <td>C-2</td>\n",
       "      <td>D-2</td>\n",
       "      <td>E-2</td>\n",
       "      <td>F-2</td>\n",
       "      <td>G-2</td>\n",
       "      <td>H-2</td>\n",
       "      <td>I-2</td>\n",
       "      <td>K-2</td>\n",
       "      <td>L-2</td>\n",
       "      <td>...</td>\n",
       "      <td>N2</td>\n",
       "      <td>P2</td>\n",
       "      <td>Q2</td>\n",
       "      <td>R2</td>\n",
       "      <td>S2</td>\n",
       "      <td>T2</td>\n",
       "      <td>V2</td>\n",
       "      <td>W2</td>\n",
       "      <td>Y2</td>\n",
       "      <td>-2</td>\n",
       "    </tr>\n",
       "    <tr>\n",
       "      <th></th>\n",
       "      <td>0</td>\n",
       "      <td>0</td>\n",
       "      <td>0</td>\n",
       "      <td>0</td>\n",
       "      <td>0</td>\n",
       "      <td>0</td>\n",
       "      <td>0</td>\n",
       "      <td>0</td>\n",
       "      <td>0</td>\n",
       "      <td>0</td>\n",
       "      <td>...</td>\n",
       "      <td>0</td>\n",
       "      <td>0</td>\n",
       "      <td>0</td>\n",
       "      <td>0</td>\n",
       "      <td>0</td>\n",
       "      <td>0</td>\n",
       "      <td>0</td>\n",
       "      <td>0</td>\n",
       "      <td>0</td>\n",
       "      <td>0</td>\n",
       "    </tr>\n",
       "  </tbody>\n",
       "</table>\n",
       "<p>2 rows × 105 columns</p>\n",
       "</div>"
      ],
      "text/plain": [
       "                                                     ...                      \\\n",
       "AA  A-2  C-2  D-2  E-2  F-2  G-2  H-2  I-2  K-2  L-2 ...  N2  P2  Q2  R2  S2   \n",
       "      0    0    0    0    0    0    0    0    0    0 ...   0   0   0   0   0   \n",
       "\n",
       "                        \n",
       "AA  T2  V2  W2  Y2  -2  \n",
       "     0   0   0   0   0  \n",
       "\n",
       "[2 rows x 105 columns]"
      ]
     },
     "execution_count": 108,
     "metadata": {},
     "output_type": "execute_result"
    }
   ],
   "source": [
    "ex0 = skip_data.ix[2]\n",
    "pd.DataFrame([ex0.index, ex0.values], index=['AA', ''], columns=['']*105)"
   ]
  },
  {
   "cell_type": "markdown",
   "metadata": {},
   "source": [
    "# Start with the simplest PGM and work forward:\n",
    "\n",
    "--------"
   ]
  },
  {
   "cell_type": "markdown",
   "metadata": {},
   "source": [
    "**The Plan**\n",
    "* Create a Bayes Net Model\n",
    "* Estimate the Thetas for the CPDs using MLE on Data\n",
    "* Convert to Clique Tree\n",
    "* Run Belief Propagation\n",
    "* Calibrate Belief Propagation Clique Tree\n",
    "* Query calibrated Belief Propagation Clique Tree\n",
    "\n",
    "------"
   ]
  },
  {
   "cell_type": "code",
   "execution_count": 52,
   "metadata": {
    "ExecuteTime": {
     "end_time": "2016-05-08T14:05:28.017068",
     "start_time": "2016-05-08T14:05:25.685239"
    },
    "collapsed": false,
    "hide_input": false,
    "run_control": {
     "frozen": false,
     "read_only": false
    }
   },
   "outputs": [
    {
     "name": "stdout",
     "output_type": "stream",
     "text": [
      "(134814, 106) (134814, 105) (134814, 1)\n"
     ]
    }
   ],
   "source": [
    "# predictors\n",
    "data = pd.read_csv('5_formatted.csv').drop('Unnamed: 0', axis=1)\n",
    "\n",
    "# labels\n",
    "labels = pd.read_csv('5_formatted_labels.csv').drop('Unnamed: 0', axis=1)\n",
    "\n",
    "# both\n",
    "full_data = data.copy()\n",
    "full_data['State'] = labels\n",
    "\n",
    "# show dimensions\n",
    "print(full_data.shape, data.shape, labels.shape)"
   ]
  },
  {
   "cell_type": "markdown",
   "metadata": {},
   "source": [
    "<img  src=\"F1.large.jpg\" height=500 width=500/>"
   ]
  },
  {
   "cell_type": "markdown",
   "metadata": {},
   "source": [
    "### Get all of the $X_i$ RV Nodes and Edges"
   ]
  },
  {
   "cell_type": "code",
   "execution_count": 53,
   "metadata": {
    "ExecuteTime": {
     "end_time": "2016-05-08T14:05:28.026151",
     "start_time": "2016-05-08T14:05:28.019859"
    },
    "collapsed": false,
    "run_control": {
     "frozen": false,
     "read_only": false
    }
   },
   "outputs": [
    {
     "data": {
      "text/plain": [
       "['A-2', 'C-2', 'D-2', 'E-2', 'F-2']"
      ]
     },
     "execution_count": 53,
     "metadata": {},
     "output_type": "execute_result"
    }
   ],
   "source": [
    "singletons = list(data.columns)\n",
    "singletons[:5]"
   ]
  },
  {
   "cell_type": "code",
   "execution_count": 54,
   "metadata": {
    "ExecuteTime": {
     "end_time": "2016-05-08T14:05:28.036307",
     "start_time": "2016-05-08T14:05:28.029286"
    },
    "collapsed": false,
    "run_control": {
     "frozen": false,
     "read_only": false
    }
   },
   "outputs": [
    {
     "data": {
      "text/plain": [
       "[('State', 'A-2'),\n",
       " ('State', 'C-2'),\n",
       " ('State', 'D-2'),\n",
       " ('State', 'E-2'),\n",
       " ('State', 'F-2')]"
      ]
     },
     "execution_count": 54,
     "metadata": {},
     "output_type": "execute_result"
    }
   ],
   "source": [
    "edges = [('State', s) for s in singletons]\n",
    "edges[:5]"
   ]
  },
  {
   "cell_type": "markdown",
   "metadata": {},
   "source": [
    "### Instantiate the Model"
   ]
  },
  {
   "cell_type": "code",
   "execution_count": 55,
   "metadata": {
    "ExecuteTime": {
     "end_time": "2016-05-08T14:05:28.049861",
     "start_time": "2016-05-08T14:05:28.039706"
    },
    "collapsed": true,
    "run_control": {
     "frozen": false,
     "read_only": false
    }
   },
   "outputs": [],
   "source": [
    "bn = BayesianModel()\n",
    "bn.add_edges_from(edges)"
   ]
  },
  {
   "cell_type": "code",
   "execution_count": 56,
   "metadata": {
    "ExecuteTime": {
     "end_time": "2016-05-08T14:05:28.060680",
     "start_time": "2016-05-08T14:05:28.052922"
    },
    "collapsed": false,
    "run_control": {
     "frozen": false,
     "read_only": false
    }
   },
   "outputs": [
    {
     "data": {
      "text/plain": [
       "[('State', 'T0'),\n",
       " ('State', 'F1'),\n",
       " ('State', 'D0'),\n",
       " ('State', 'Y2'),\n",
       " ('State', 'P-2')]"
      ]
     },
     "execution_count": 56,
     "metadata": {},
     "output_type": "execute_result"
    }
   ],
   "source": [
    "bn.edges()[:5]"
   ]
  },
  {
   "cell_type": "markdown",
   "metadata": {},
   "source": [
    "### Split the data into train and test"
   ]
  },
  {
   "cell_type": "code",
   "execution_count": 57,
   "metadata": {
    "ExecuteTime": {
     "end_time": "2016-05-08T14:05:29.571747",
     "start_time": "2016-05-08T14:05:29.114117"
    },
    "collapsed": false,
    "run_control": {
     "frozen": false,
     "read_only": false
    }
   },
   "outputs": [
    {
     "name": "stdout",
     "output_type": "stream",
     "text": [
      "(101110, 106) (33704, 106)\n"
     ]
    }
   ],
   "source": [
    "train, test = train_test_split(np.asarray(full_data))\n",
    "\n",
    "train_df = pd.DataFrame(train, columns=full_data.columns)\n",
    "test_df = pd.DataFrame(test, columns=full_data.columns)\n",
    "\n",
    "print(train.shape, test.shape)"
   ]
  },
  {
   "cell_type": "markdown",
   "metadata": {},
   "source": [
    "### Run MLE to estimate thetas for our CPDs"
   ]
  },
  {
   "cell_type": "code",
   "execution_count": 58,
   "metadata": {
    "ExecuteTime": {
     "end_time": "2016-05-08T14:05:30.294413",
     "start_time": "2016-05-08T14:05:30.289791"
    },
    "collapsed": false,
    "run_control": {
     "frozen": false,
     "read_only": false
    }
   },
   "outputs": [
    {
     "data": {
      "text/plain": [
       "[]"
      ]
     },
     "execution_count": 58,
     "metadata": {},
     "output_type": "execute_result"
    }
   ],
   "source": [
    "bn.cpds"
   ]
  },
  {
   "cell_type": "code",
   "execution_count": 59,
   "metadata": {
    "ExecuteTime": {
     "end_time": "2016-05-08T14:05:31.951060",
     "start_time": "2016-05-08T14:05:30.476748"
    },
    "collapsed": false,
    "run_control": {
     "frozen": false,
     "read_only": false
    }
   },
   "outputs": [],
   "source": [
    "# calculate thetas in our CPDs\n",
    "mle = MaximumLikelihoodEstimator(bn, train_df)"
   ]
  },
  {
   "cell_type": "code",
   "execution_count": 60,
   "metadata": {
    "ExecuteTime": {
     "end_time": "2016-05-08T14:05:33.132696",
     "start_time": "2016-05-08T14:05:31.952850"
    },
    "collapsed": false,
    "run_control": {
     "frozen": false,
     "read_only": false
    }
   },
   "outputs": [
    {
     "data": {
      "text/html": [
       "<table><caption>TabularCPD for <b>T0</b></caption><tr><td><b>State</b></td><td colspan=1>State_0</td><td colspan=1>State_1</td><td colspan=1>State_2</td><td colspan=1>State_3</td><td colspan=1>State_4</td><td colspan=1>State_5</td></tr><tr><td><b>T0_0</b></td><td>0.9584</td><td>0.9339</td><td>0.9503</td><td>0.9374</td><td>0.9193</td><td>0.9742</td></tr><tr><td><b>T0_1</b></td><td>0.0416</td><td>0.0661</td><td>0.0497</td><td>0.0626</td><td>0.0807</td><td>0.0258</td></tr></table>"
      ],
      "text/plain": [
       "<TabularCPD representing P(T0:2 | State:6) at 0x118906860>"
      ]
     },
     "execution_count": 60,
     "metadata": {},
     "output_type": "execute_result"
    }
   ],
   "source": [
    "# example of a CPD\n",
    "mle.get_parameters()[0]"
   ]
  },
  {
   "cell_type": "code",
   "execution_count": 61,
   "metadata": {
    "ExecuteTime": {
     "end_time": "2016-05-08T14:05:33.138255",
     "start_time": "2016-05-08T14:05:33.135314"
    },
    "collapsed": true,
    "run_control": {
     "frozen": false,
     "read_only": false
    }
   },
   "outputs": [],
   "source": [
    "fit_bn = mle.model"
   ]
  },
  {
   "cell_type": "code",
   "execution_count": 62,
   "metadata": {
    "ExecuteTime": {
     "end_time": "2016-05-08T14:05:34.398601",
     "start_time": "2016-05-08T14:05:33.140757"
    },
    "collapsed": true,
    "run_control": {
     "frozen": false,
     "read_only": false
    }
   },
   "outputs": [],
   "source": [
    "fit_bn.add_cpds(*mle.get_parameters())"
   ]
  },
  {
   "cell_type": "code",
   "execution_count": 63,
   "metadata": {
    "ExecuteTime": {
     "end_time": "2016-05-08T14:05:34.406147",
     "start_time": "2016-05-08T14:05:34.400732"
    },
    "collapsed": false,
    "run_control": {
     "frozen": false,
     "read_only": false
    }
   },
   "outputs": [
    {
     "data": {
      "text/plain": [
       "[<TabularCPD representing P(T0:2 | State:6) at 0x118912b38>,\n",
       " <TabularCPD representing P(F1:2 | State:6) at 0x1033f0898>,\n",
       " <TabularCPD representing P(D0:2 | State:6) at 0x118912e48>,\n",
       " <TabularCPD representing P(Y2:2 | State:6) at 0x118912c88>,\n",
       " <TabularCPD representing P(P-2:2 | State:6) at 0x118912cf8>]"
      ]
     },
     "execution_count": 63,
     "metadata": {},
     "output_type": "execute_result"
    }
   ],
   "source": [
    "fit_bn.cpds[:5]"
   ]
  },
  {
   "cell_type": "markdown",
   "metadata": {},
   "source": [
    "### What does the Clique Tree look like?"
   ]
  },
  {
   "cell_type": "code",
   "execution_count": 64,
   "metadata": {
    "ExecuteTime": {
     "end_time": "2016-05-08T14:05:52.362025",
     "start_time": "2016-05-08T14:05:37.883929"
    },
    "collapsed": true,
    "run_control": {
     "frozen": false,
     "read_only": false
    }
   },
   "outputs": [],
   "source": [
    "tree = fit_bn.to_junction_tree()"
   ]
  },
  {
   "cell_type": "code",
   "execution_count": 65,
   "metadata": {
    "ExecuteTime": {
     "end_time": "2016-05-08T14:05:52.372205",
     "start_time": "2016-05-08T14:05:52.364861"
    },
    "collapsed": false,
    "run_control": {
     "frozen": false,
     "read_only": false
    }
   },
   "outputs": [
    {
     "data": {
      "text/plain": [
       "[(('State', 'S2'), ('State', 'C2')),\n",
       " (('State', 'S2'), ('State', 'F0')),\n",
       " (('State', 'S2'), ('State', 'R-1')),\n",
       " (('State', 'S2'), ('State', 'K-1')),\n",
       " (('State', 'S2'), ('State', 'A-2')),\n",
       " (('State', 'S2'), ('State', '-0')),\n",
       " (('State', 'S2'), ('State', 'H0')),\n",
       " (('State', 'S2'), ('State', '-2')),\n",
       " (('State', 'S2'), ('State', 'W0')),\n",
       " (('State', 'S2'), ('State', 'Q-2'))]"
      ]
     },
     "execution_count": 65,
     "metadata": {},
     "output_type": "execute_result"
    }
   ],
   "source": [
    "tree.edges()[:10]"
   ]
  },
  {
   "cell_type": "markdown",
   "metadata": {},
   "source": [
    "### Now run Belief Propagation "
   ]
  },
  {
   "cell_type": "code",
   "execution_count": 66,
   "metadata": {
    "ExecuteTime": {
     "end_time": "2016-05-08T14:06:07.422998",
     "start_time": "2016-05-08T14:05:52.375119"
    },
    "collapsed": true,
    "run_control": {
     "frozen": false,
     "read_only": false
    }
   },
   "outputs": [],
   "source": [
    "bp = BeliefPropagation(fit_bn)\n",
    "bp.calibrate()"
   ]
  },
  {
   "cell_type": "code",
   "execution_count": 68,
   "metadata": {
    "ExecuteTime": {
     "end_time": "2016-05-08T14:06:07.578396",
     "start_time": "2016-05-08T14:06:07.572219"
    },
    "collapsed": false,
    "run_control": {
     "frozen": false,
     "read_only": false
    }
   },
   "outputs": [
    {
     "name": "stdout",
     "output_type": "stream",
     "text": [
      "3\n"
     ]
    }
   ],
   "source": [
    "# label for the fifth data point\n",
    "ex5_truth = int(test[5][-1])\n",
    "print(ex5_truth)"
   ]
  },
  {
   "cell_type": "code",
   "execution_count": 69,
   "metadata": {
    "ExecuteTime": {
     "end_time": "2016-05-08T14:06:07.589180",
     "start_time": "2016-05-08T14:06:07.582505"
    },
    "collapsed": false,
    "run_control": {
     "frozen": false,
     "read_only": false
    }
   },
   "outputs": [],
   "source": [
    "ex5_evidence = dict(zip(data.columns, [int(t) for t in test[5][:-1]]))"
   ]
  },
  {
   "cell_type": "code",
   "execution_count": 70,
   "metadata": {
    "ExecuteTime": {
     "end_time": "2016-05-08T14:06:08.540332",
     "start_time": "2016-05-08T14:06:07.592767"
    },
    "collapsed": false,
    "run_control": {
     "frozen": false,
     "read_only": false
    }
   },
   "outputs": [],
   "source": [
    "# finally query\n",
    "ex0_predict = bp.query(['State'], evidence=ex0_evidence)"
   ]
  },
  {
   "cell_type": "code",
   "execution_count": 71,
   "metadata": {
    "ExecuteTime": {
     "end_time": "2016-05-08T14:06:37.191507",
     "start_time": "2016-05-08T14:06:37.180244"
    },
    "collapsed": false,
    "run_control": {
     "frozen": false,
     "read_only": false
    }
   },
   "outputs": [
    {
     "data": {
      "text/plain": [
       "{'State': <Factor representing phi(State:6) at 0x11890d940>}"
      ]
     },
     "execution_count": 71,
     "metadata": {},
     "output_type": "execute_result"
    }
   ],
   "source": [
    "ex0_predict"
   ]
  },
  {
   "cell_type": "code",
   "execution_count": 72,
   "metadata": {
    "ExecuteTime": {
     "end_time": "2016-05-08T14:06:38.557915",
     "start_time": "2016-05-08T14:06:38.550865"
    },
    "collapsed": false,
    "run_control": {
     "frozen": false,
     "read_only": false
    }
   },
   "outputs": [
    {
     "name": "stdout",
     "output_type": "stream",
     "text": [
      "╒═════════╤══════════════╕\n",
      "│ State   │   phi(State) │\n",
      "╞═════════╪══════════════╡\n",
      "│ State_0 │       0.2166 │\n",
      "├─────────┼──────────────┤\n",
      "│ State_1 │       0.2133 │\n",
      "├─────────┼──────────────┤\n",
      "│ State_2 │       0.0324 │\n",
      "├─────────┼──────────────┤\n",
      "│ State_3 │       0.5264 │\n",
      "├─────────┼──────────────┤\n",
      "│ State_4 │       0.0080 │\n",
      "├─────────┼──────────────┤\n",
      "│ State_5 │       0.0034 │\n",
      "╘═════════╧══════════════╛\n"
     ]
    }
   ],
   "source": [
    "print(ex0_predict['State'])"
   ]
  },
  {
   "cell_type": "code",
   "execution_count": 73,
   "metadata": {
    "ExecuteTime": {
     "end_time": "2016-05-08T14:06:41.227878",
     "start_time": "2016-05-08T14:06:41.222706"
    },
    "collapsed": false,
    "run_control": {
     "frozen": false,
     "read_only": false
    }
   },
   "outputs": [
    {
     "name": "stdout",
     "output_type": "stream",
     "text": [
      "3\n"
     ]
    }
   ],
   "source": [
    "print(np.argmax(ex0_predict['State'].values))"
   ]
  },
  {
   "cell_type": "code",
   "execution_count": 74,
   "metadata": {
    "ExecuteTime": {
     "end_time": "2016-05-08T14:06:44.355492",
     "start_time": "2016-05-08T14:06:44.349959"
    },
    "collapsed": false,
    "run_control": {
     "frozen": false,
     "read_only": false
    }
   },
   "outputs": [
    {
     "name": "stdout",
     "output_type": "stream",
     "text": [
      "True\n"
     ]
    }
   ],
   "source": [
    "print(ex0_truth==np.argmax(ex0_predict['State'].values))"
   ]
  },
  {
   "cell_type": "code",
   "execution_count": null,
   "metadata": {
    "collapsed": true,
    "run_control": {
     "frozen": false,
     "read_only": false
    }
   },
   "outputs": [],
   "source": [
    "# finally iterate through --- this took ~ 6 hours\n",
    "\n",
    "test_df.to_csv('nb_test_split.csv')\n",
    "\n",
    "preds = []\n",
    "\n",
    "for i, t in enumerate(test):\n",
    "    ev = dict(zip(full_data.columns, [int(v) for v in t[:-1]]))\n",
    "    answer = bp.query(['State'], evidence=ev)\n",
    "    max_v = np.argmax(answer['State'].values)\n",
    "    preds.append(max_v)\n",
    "\n",
    "pred_df = pd.DataFrame(preds, columns=['State'])\n",
    "pred_df.to_csv('preds.csv')"
   ]
  },
  {
   "cell_type": "code",
   "execution_count": null,
   "metadata": {
    "collapsed": true,
    "run_control": {
     "frozen": false,
     "read_only": false
    }
   },
   "outputs": [],
   "source": [
    "print(np.mean([1.0 if pred == int(y_i) else 0.0 for pred, y_i in zip(preds, test[:, -1])]))"
   ]
  },
  {
   "cell_type": "markdown",
   "metadata": {},
   "source": [
    "**Accuracy: 0.55**\n",
    "\n",
    "--------"
   ]
  },
  {
   "cell_type": "markdown",
   "metadata": {},
   "source": [
    "# Maybe we can do better with a more sophisticated model --- HMM"
   ]
  },
  {
   "cell_type": "markdown",
   "metadata": {},
   "source": [
    "<img  src=\"fpsyg-06-00919-g003.jpg\"/>"
   ]
  },
  {
   "cell_type": "code",
   "execution_count": 83,
   "metadata": {
    "ExecuteTime": {
     "end_time": "2016-05-08T14:14:53.328408",
     "start_time": "2016-05-08T14:14:53.324420"
    },
    "collapsed": false,
    "run_control": {
     "frozen": false,
     "read_only": false
    }
   },
   "outputs": [],
   "source": [
    "from hmmlearn import hmm\n",
    "from collections import defaultdict"
   ]
  },
  {
   "cell_type": "markdown",
   "metadata": {},
   "source": [
    "## The Plan"
   ]
  },
  {
   "cell_type": "markdown",
   "metadata": {},
   "source": [
    "* Get the possible States and Observations\n",
    "* Calculate the State Prior\n",
    "* Calculate the State Transition Matrix\n",
    "* Calculate the State Emission Matrix\n",
    "* Split Data into Train and Test\n",
    "* Predict and Score"
   ]
  },
  {
   "cell_type": "markdown",
   "metadata": {},
   "source": [
    "### Get our Data in the right format"
   ]
  },
  {
   "cell_type": "code",
   "execution_count": 122,
   "metadata": {
    "ExecuteTime": {
     "end_time": "2016-05-08T14:33:13.018785",
     "start_time": "2016-05-08T14:33:12.900960"
    },
    "collapsed": false,
    "run_control": {
     "frozen": false,
     "read_only": false
    }
   },
   "outputs": [
    {
     "name": "stdout",
     "output_type": "stream",
     "text": [
      "(134815, 1) 134815\n"
     ]
    }
   ],
   "source": [
    "seq_data = pd.read_csv('sequences.csv').drop('Unnamed: 0', axis=1)\n",
    "seq_labels = pd.read_csv('5_formatted_labels.csv').drop('Unnamed: 0', axis=1)\n",
    "seq_labels.columns = ['State']\n",
    "\n",
    "# little bit of fixing\n",
    "seq_labels = seq_labels.values.reshape(1, -1).ravel()\n",
    "seq_labels = [5.0] + list(seq_labels)"
   ]
  },
  {
   "cell_type": "code",
   "execution_count": 117,
   "metadata": {
    "ExecuteTime": {
     "end_time": "2016-05-08T14:31:03.478729",
     "start_time": "2016-05-08T14:31:03.459970"
    },
    "collapsed": false,
    "run_control": {
     "frozen": false,
     "read_only": false
    }
   },
   "outputs": [
    {
     "data": {
      "text/plain": [
       "['-', 'A', 'C', 'D', 'E', 'F']"
      ]
     },
     "execution_count": 117,
     "metadata": {},
     "output_type": "execute_result"
    }
   ],
   "source": [
    "states = ['H', 'E', 'T', 'S', 'B', 'U']\n",
    "features = sorted(list(set(list(seq_data.values.ravel()))))\n",
    "features[:6]"
   ]
  },
  {
   "cell_type": "code",
   "execution_count": 147,
   "metadata": {
    "ExecuteTime": {
     "end_time": "2016-05-08T14:45:41.868766",
     "start_time": "2016-05-08T14:45:41.831637"
    },
    "collapsed": false,
    "run_control": {
     "frozen": false,
     "read_only": false
    }
   },
   "outputs": [
    {
     "data": {
      "text/plain": [
       "array([[18],\n",
       "       [10],\n",
       "       [16],\n",
       "       [13],\n",
       "       [ 1]])"
      ]
     },
     "execution_count": 147,
     "metadata": {},
     "output_type": "execute_result"
    }
   ],
   "source": [
    "feature_map = {k: i for i, k in enumerate(features)}\n",
    "sequence = [feature_map[aa] for aa in seq_data.values.ravel()]\n",
    "sequence = np.asarray(sequence).reshape(-1, 1)\n",
    "sequence[:5]"
   ]
  },
  {
   "cell_type": "markdown",
   "metadata": {},
   "source": [
    "### Get the starting probabilities for States"
   ]
  },
  {
   "cell_type": "code",
   "execution_count": 178,
   "metadata": {
    "ExecuteTime": {
     "end_time": "2016-05-08T15:18:04.531250",
     "start_time": "2016-05-08T15:18:04.477252"
    },
    "collapsed": false,
    "hide_input": true,
    "run_control": {
     "frozen": false,
     "read_only": false
    }
   },
   "outputs": [
    {
     "data": {
      "text/html": [
       "<div>\n",
       "<table border=\"1\" class=\"dataframe\">\n",
       "  <thead>\n",
       "    <tr style=\"text-align: right;\">\n",
       "      <th></th>\n",
       "      <th></th>\n",
       "      <th></th>\n",
       "      <th></th>\n",
       "      <th></th>\n",
       "      <th></th>\n",
       "      <th></th>\n",
       "    </tr>\n",
       "  </thead>\n",
       "  <tbody>\n",
       "    <tr>\n",
       "      <th>State</th>\n",
       "      <td>H</td>\n",
       "      <td>E</td>\n",
       "      <td>T</td>\n",
       "      <td>S</td>\n",
       "      <td>B</td>\n",
       "      <td>U</td>\n",
       "    </tr>\n",
       "    <tr>\n",
       "      <th>P(State)</th>\n",
       "      <td>0.316589</td>\n",
       "      <td>0.138976</td>\n",
       "      <td>0.089671</td>\n",
       "      <td>0.0687683</td>\n",
       "      <td>0.010125</td>\n",
       "      <td>0.375871</td>\n",
       "    </tr>\n",
       "  </tbody>\n",
       "</table>\n",
       "</div>"
      ],
      "text/plain": [
       "                                                                     \n",
       "State            H         E         T          S         B         U\n",
       "P(State)  0.316589  0.138976  0.089671  0.0687683  0.010125  0.375871"
      ]
     },
     "execution_count": 178,
     "metadata": {},
     "output_type": "execute_result"
    }
   ],
   "source": [
    "# getting the starting probability \n",
    "start_prob = Counter(seq_labels)\n",
    "total = sum(start_prob.values())\n",
    "\n",
    "start_prob = {k: v*1.0/total for k, v in start_prob.items()}\n",
    "\n",
    "start_prob = start_prob.values()\n",
    "start_prob = np.asarray([v for v in start_prob]).reshape(-1, )\n",
    "\n",
    "pd.DataFrame([states, list(start_prob)], columns=['']*6, index=['State', 'P(State)'])"
   ]
  },
  {
   "cell_type": "markdown",
   "metadata": {},
   "source": [
    "### Calculate the Transition Matrix for Hidden States"
   ]
  },
  {
   "cell_type": "code",
   "execution_count": 180,
   "metadata": {
    "ExecuteTime": {
     "end_time": "2016-05-08T15:18:28.603336",
     "start_time": "2016-05-08T15:18:28.426551"
    },
    "collapsed": false,
    "hide_input": true,
    "run_control": {
     "frozen": false,
     "read_only": false
    }
   },
   "outputs": [
    {
     "data": {
      "text/html": [
       "<div>\n",
       "<table border=\"1\" class=\"dataframe\">\n",
       "  <thead>\n",
       "    <tr style=\"text-align: right;\">\n",
       "      <th></th>\n",
       "      <th>H</th>\n",
       "      <th>E</th>\n",
       "      <th>T</th>\n",
       "      <th>S</th>\n",
       "      <th>B</th>\n",
       "      <th>U</th>\n",
       "    </tr>\n",
       "  </thead>\n",
       "  <tbody>\n",
       "    <tr>\n",
       "      <th>H</th>\n",
       "      <td>0.895246</td>\n",
       "      <td>0.004616</td>\n",
       "      <td>0.015346</td>\n",
       "      <td>0.017994</td>\n",
       "      <td>0.002343</td>\n",
       "      <td>0.064455</td>\n",
       "    </tr>\n",
       "    <tr>\n",
       "      <th>E</th>\n",
       "      <td>0.006618</td>\n",
       "      <td>0.799690</td>\n",
       "      <td>0.035013</td>\n",
       "      <td>0.044994</td>\n",
       "      <td>0.002615</td>\n",
       "      <td>0.111070</td>\n",
       "    </tr>\n",
       "    <tr>\n",
       "      <th>T</th>\n",
       "      <td>0.197866</td>\n",
       "      <td>0.052610</td>\n",
       "      <td>0.510464</td>\n",
       "      <td>0.052196</td>\n",
       "      <td>0.015799</td>\n",
       "      <td>0.171065</td>\n",
       "    </tr>\n",
       "    <tr>\n",
       "      <th>S</th>\n",
       "      <td>0.080574</td>\n",
       "      <td>0.061051</td>\n",
       "      <td>0.162118</td>\n",
       "      <td>0.351634</td>\n",
       "      <td>0.016935</td>\n",
       "      <td>0.327688</td>\n",
       "    </tr>\n",
       "    <tr>\n",
       "      <th>B</th>\n",
       "      <td>0.054212</td>\n",
       "      <td>0.047619</td>\n",
       "      <td>0.160440</td>\n",
       "      <td>0.158974</td>\n",
       "      <td>0.030769</td>\n",
       "      <td>0.547985</td>\n",
       "    </tr>\n",
       "    <tr>\n",
       "      <th>U</th>\n",
       "      <td>0.022379</td>\n",
       "      <td>0.045173</td>\n",
       "      <td>0.056935</td>\n",
       "      <td>0.070098</td>\n",
       "      <td>0.016301</td>\n",
       "      <td>0.789114</td>\n",
       "    </tr>\n",
       "  </tbody>\n",
       "</table>\n",
       "</div>"
      ],
      "text/plain": [
       "          H         E         T         S         B         U\n",
       "H  0.895246  0.004616  0.015346  0.017994  0.002343  0.064455\n",
       "E  0.006618  0.799690  0.035013  0.044994  0.002615  0.111070\n",
       "T  0.197866  0.052610  0.510464  0.052196  0.015799  0.171065\n",
       "S  0.080574  0.061051  0.162118  0.351634  0.016935  0.327688\n",
       "B  0.054212  0.047619  0.160440  0.158974  0.030769  0.547985\n",
       "U  0.022379  0.045173  0.056935  0.070098  0.016301  0.789114"
      ]
     },
     "execution_count": 180,
     "metadata": {},
     "output_type": "execute_result"
    }
   ],
   "source": [
    "# calculate transitions\n",
    "trans = defaultdict(int)\n",
    "\n",
    "for i in range(len(seq_labels)-1):\n",
    "    \n",
    "    if seq_labels[i] not in trans:\n",
    "        trans[seq_labels[i]] = defaultdict(int)\n",
    "    \n",
    "    trans[seq_labels[i]][seq_labels[i+1]] += 1\n",
    "    \n",
    "t_mat = pd.DataFrame(trans)\n",
    "\n",
    "trans_mat = np.asarray([l*1.0/sum(l) for l in t_mat.values])\n",
    "\n",
    "pd.DataFrame(trans_mat, columns=states, index=states)"
   ]
  },
  {
   "cell_type": "markdown",
   "metadata": {
    "collapsed": true,
    "run_control": {
     "frozen": false,
     "read_only": false
    }
   },
   "source": [
    "### Calculate the Emission Matrix"
   ]
  },
  {
   "cell_type": "code",
   "execution_count": 166,
   "metadata": {
    "ExecuteTime": {
     "end_time": "2016-05-08T15:05:34.249841",
     "start_time": "2016-05-08T15:05:34.134194"
    },
    "collapsed": false,
    "hide_input": true,
    "run_control": {
     "frozen": false,
     "read_only": false
    }
   },
   "outputs": [],
   "source": [
    "amino_acids = list(seq_data.values.reshape(1, -1).ravel())\n",
    "\n",
    "emis = defaultdict(int)\n",
    "\n",
    "for l, aa in zip(seq_labels, amino_acids):\n",
    "    \n",
    "    if l not in emis:\n",
    "        emis[l] = defaultdict(int)\n",
    "    \n",
    "    emis[l][aa] += 1\n",
    "\n",
    "emis_df = pd.DataFrame(emis)\n",
    "# we know they're really just zeros\n",
    "emis_df.fillna(value=0.0, inplace=True)\n",
    "\n",
    "emiss_mat = emis_df.values.T\n",
    "\n",
    "emiss_mat = np.asarray([l/sum(l) for l in emiss_mat])"
   ]
  },
  {
   "cell_type": "code",
   "execution_count": 167,
   "metadata": {
    "ExecuteTime": {
     "end_time": "2016-05-08T15:05:35.377135",
     "start_time": "2016-05-08T15:05:35.322384"
    },
    "collapsed": false,
    "hide_input": true,
    "run_control": {
     "frozen": false,
     "read_only": false
    }
   },
   "outputs": [
    {
     "data": {
      "text/html": [
       "<div>\n",
       "<table border=\"1\" class=\"dataframe\">\n",
       "  <thead>\n",
       "    <tr style=\"text-align: right;\">\n",
       "      <th></th>\n",
       "      <th>-</th>\n",
       "      <th>A</th>\n",
       "      <th>C</th>\n",
       "      <th>D</th>\n",
       "      <th>E</th>\n",
       "      <th>F</th>\n",
       "      <th>G</th>\n",
       "      <th>H</th>\n",
       "      <th>I</th>\n",
       "      <th>K</th>\n",
       "      <th>...</th>\n",
       "      <th>M</th>\n",
       "      <th>N</th>\n",
       "      <th>P</th>\n",
       "      <th>Q</th>\n",
       "      <th>R</th>\n",
       "      <th>S</th>\n",
       "      <th>T</th>\n",
       "      <th>V</th>\n",
       "      <th>W</th>\n",
       "      <th>Y</th>\n",
       "    </tr>\n",
       "  </thead>\n",
       "  <tbody>\n",
       "    <tr>\n",
       "      <th>H</th>\n",
       "      <td>0.000023</td>\n",
       "      <td>0.115953</td>\n",
       "      <td>0.009184</td>\n",
       "      <td>0.050397</td>\n",
       "      <td>0.087861</td>\n",
       "      <td>0.042103</td>\n",
       "      <td>0.038026</td>\n",
       "      <td>0.020782</td>\n",
       "      <td>0.060144</td>\n",
       "      <td>0.060120</td>\n",
       "      <td>...</td>\n",
       "      <td>0.027460</td>\n",
       "      <td>0.033036</td>\n",
       "      <td>0.025281</td>\n",
       "      <td>0.048171</td>\n",
       "      <td>0.061878</td>\n",
       "      <td>0.046484</td>\n",
       "      <td>0.041845</td>\n",
       "      <td>0.063963</td>\n",
       "      <td>0.015956</td>\n",
       "      <td>0.030857</td>\n",
       "    </tr>\n",
       "    <tr>\n",
       "      <th>E</th>\n",
       "      <td>0.000000</td>\n",
       "      <td>0.058550</td>\n",
       "      <td>0.016973</td>\n",
       "      <td>0.033091</td>\n",
       "      <td>0.046114</td>\n",
       "      <td>0.059991</td>\n",
       "      <td>0.051132</td>\n",
       "      <td>0.023751</td>\n",
       "      <td>0.104772</td>\n",
       "      <td>0.049424</td>\n",
       "      <td>...</td>\n",
       "      <td>0.024658</td>\n",
       "      <td>0.023057</td>\n",
       "      <td>0.020869</td>\n",
       "      <td>0.025726</td>\n",
       "      <td>0.043553</td>\n",
       "      <td>0.044780</td>\n",
       "      <td>0.064902</td>\n",
       "      <td>0.137863</td>\n",
       "      <td>0.014411</td>\n",
       "      <td>0.049637</td>\n",
       "    </tr>\n",
       "    <tr>\n",
       "      <th>T</th>\n",
       "      <td>0.000000</td>\n",
       "      <td>0.061957</td>\n",
       "      <td>0.008686</td>\n",
       "      <td>0.080073</td>\n",
       "      <td>0.068078</td>\n",
       "      <td>0.027049</td>\n",
       "      <td>0.165440</td>\n",
       "      <td>0.030854</td>\n",
       "      <td>0.021176</td>\n",
       "      <td>0.061874</td>\n",
       "      <td>...</td>\n",
       "      <td>0.016048</td>\n",
       "      <td>0.071470</td>\n",
       "      <td>0.069981</td>\n",
       "      <td>0.035983</td>\n",
       "      <td>0.045744</td>\n",
       "      <td>0.061957</td>\n",
       "      <td>0.050211</td>\n",
       "      <td>0.026636</td>\n",
       "      <td>0.011167</td>\n",
       "      <td>0.029283</td>\n",
       "    </tr>\n",
       "    <tr>\n",
       "      <th>S</th>\n",
       "      <td>0.000000</td>\n",
       "      <td>0.061806</td>\n",
       "      <td>0.008845</td>\n",
       "      <td>0.076151</td>\n",
       "      <td>0.062237</td>\n",
       "      <td>0.036350</td>\n",
       "      <td>0.140114</td>\n",
       "      <td>0.030094</td>\n",
       "      <td>0.036134</td>\n",
       "      <td>0.058462</td>\n",
       "      <td>...</td>\n",
       "      <td>0.018660</td>\n",
       "      <td>0.059864</td>\n",
       "      <td>0.051343</td>\n",
       "      <td>0.032575</td>\n",
       "      <td>0.052853</td>\n",
       "      <td>0.066120</td>\n",
       "      <td>0.064394</td>\n",
       "      <td>0.040772</td>\n",
       "      <td>0.010894</td>\n",
       "      <td>0.028152</td>\n",
       "    </tr>\n",
       "    <tr>\n",
       "      <th>B</th>\n",
       "      <td>0.000000</td>\n",
       "      <td>0.036630</td>\n",
       "      <td>0.013187</td>\n",
       "      <td>0.045421</td>\n",
       "      <td>0.036630</td>\n",
       "      <td>0.073993</td>\n",
       "      <td>0.071795</td>\n",
       "      <td>0.029304</td>\n",
       "      <td>0.086447</td>\n",
       "      <td>0.037363</td>\n",
       "      <td>...</td>\n",
       "      <td>0.025641</td>\n",
       "      <td>0.029304</td>\n",
       "      <td>0.053480</td>\n",
       "      <td>0.040293</td>\n",
       "      <td>0.057875</td>\n",
       "      <td>0.054945</td>\n",
       "      <td>0.073260</td>\n",
       "      <td>0.073993</td>\n",
       "      <td>0.015385</td>\n",
       "      <td>0.054945</td>\n",
       "    </tr>\n",
       "    <tr>\n",
       "      <th>U</th>\n",
       "      <td>0.593906</td>\n",
       "      <td>0.028220</td>\n",
       "      <td>0.004736</td>\n",
       "      <td>0.034989</td>\n",
       "      <td>0.019517</td>\n",
       "      <td>0.014899</td>\n",
       "      <td>0.031220</td>\n",
       "      <td>0.011209</td>\n",
       "      <td>0.016794</td>\n",
       "      <td>0.020011</td>\n",
       "      <td>...</td>\n",
       "      <td>0.008446</td>\n",
       "      <td>0.020642</td>\n",
       "      <td>0.038995</td>\n",
       "      <td>0.013222</td>\n",
       "      <td>0.017287</td>\n",
       "      <td>0.029167</td>\n",
       "      <td>0.025753</td>\n",
       "      <td>0.023839</td>\n",
       "      <td>0.005269</td>\n",
       "      <td>0.013242</td>\n",
       "    </tr>\n",
       "  </tbody>\n",
       "</table>\n",
       "<p>6 rows × 21 columns</p>\n",
       "</div>"
      ],
      "text/plain": [
       "          -         A         C         D         E         F         G  \\\n",
       "H  0.000023  0.115953  0.009184  0.050397  0.087861  0.042103  0.038026   \n",
       "E  0.000000  0.058550  0.016973  0.033091  0.046114  0.059991  0.051132   \n",
       "T  0.000000  0.061957  0.008686  0.080073  0.068078  0.027049  0.165440   \n",
       "S  0.000000  0.061806  0.008845  0.076151  0.062237  0.036350  0.140114   \n",
       "B  0.000000  0.036630  0.013187  0.045421  0.036630  0.073993  0.071795   \n",
       "U  0.593906  0.028220  0.004736  0.034989  0.019517  0.014899  0.031220   \n",
       "\n",
       "          H         I         K    ...            M         N         P  \\\n",
       "H  0.020782  0.060144  0.060120    ...     0.027460  0.033036  0.025281   \n",
       "E  0.023751  0.104772  0.049424    ...     0.024658  0.023057  0.020869   \n",
       "T  0.030854  0.021176  0.061874    ...     0.016048  0.071470  0.069981   \n",
       "S  0.030094  0.036134  0.058462    ...     0.018660  0.059864  0.051343   \n",
       "B  0.029304  0.086447  0.037363    ...     0.025641  0.029304  0.053480   \n",
       "U  0.011209  0.016794  0.020011    ...     0.008446  0.020642  0.038995   \n",
       "\n",
       "          Q         R         S         T         V         W         Y  \n",
       "H  0.048171  0.061878  0.046484  0.041845  0.063963  0.015956  0.030857  \n",
       "E  0.025726  0.043553  0.044780  0.064902  0.137863  0.014411  0.049637  \n",
       "T  0.035983  0.045744  0.061957  0.050211  0.026636  0.011167  0.029283  \n",
       "S  0.032575  0.052853  0.066120  0.064394  0.040772  0.010894  0.028152  \n",
       "B  0.040293  0.057875  0.054945  0.073260  0.073993  0.015385  0.054945  \n",
       "U  0.013222  0.017287  0.029167  0.025753  0.023839  0.005269  0.013242  \n",
       "\n",
       "[6 rows x 21 columns]"
      ]
     },
     "execution_count": 167,
     "metadata": {},
     "output_type": "execute_result"
    }
   ],
   "source": [
    "pd.DataFrame(emiss_mat, index=states, columns=features)"
   ]
  },
  {
   "cell_type": "markdown",
   "metadata": {},
   "source": [
    "## Finally, model with the HMM "
   ]
  },
  {
   "cell_type": "code",
   "execution_count": 204,
   "metadata": {
    "ExecuteTime": {
     "end_time": "2016-05-08T15:25:37.440249",
     "start_time": "2016-05-08T15:25:37.436029"
    },
    "collapsed": false,
    "run_control": {
     "frozen": false,
     "read_only": false
    }
   },
   "outputs": [],
   "source": [
    "model = hmm.MultinomialHMM(n_components=6, init_params='')"
   ]
  },
  {
   "cell_type": "code",
   "execution_count": 205,
   "metadata": {
    "ExecuteTime": {
     "end_time": "2016-05-08T15:25:37.589984",
     "start_time": "2016-05-08T15:25:37.585819"
    },
    "collapsed": false,
    "run_control": {
     "frozen": false,
     "read_only": false
    }
   },
   "outputs": [],
   "source": [
    "model.startprob_prior = start_prob\n",
    "model.transmat_prior = trans_mat\n",
    "model.emissionprob_ = emiss_mat\n",
    "model.n_features = len(features)"
   ]
  },
  {
   "cell_type": "code",
   "execution_count": 206,
   "metadata": {
    "ExecuteTime": {
     "end_time": "2016-05-08T15:25:53.372372",
     "start_time": "2016-05-08T15:25:37.854329"
    },
    "collapsed": false,
    "run_control": {
     "frozen": false,
     "read_only": false
    }
   },
   "outputs": [
    {
     "data": {
      "text/plain": [
       "MultinomialHMM(algorithm='viterbi', init_params='', n_components=6, n_iter=10,\n",
       "        params='ste',\n",
       "        random_state=<mtrand.RandomState object at 0x1090b3470>,\n",
       "        startprob_prior=array([ 0.31659,  0.13898,  0.08967,  0.06877,  0.01012,  0.37587]),\n",
       "        tol=0.01,\n",
       "        transmat_prior=array([[ 0.89525,  0.00462,  0.01535,  0.01799,  0.00234,  0.06445],\n",
       "       [ 0.00662,  0.79969,  0.03501,  0.04499,  0.00262,  0.11107],\n",
       "       [ 0.19787,  0.05261,  0.51046,  0.0522 ,  0.0158 ,  0.17106],\n",
       "       [ 0.08057,  0.06105,  0.16212,  0.35163,  0.01693,  0.32769],\n",
       "       [ 0.05421,  0.04762,  0.16044,  0.15897,  0.03077,  0.54799],\n",
       "       [ 0.02238,  0.04517,  0.05693,  0.0701 ,  0.0163 ,  0.78911]]),\n",
       "        verbose=False)"
      ]
     },
     "execution_count": 206,
     "metadata": {},
     "output_type": "execute_result"
    }
   ],
   "source": [
    "model.fit(sequence)"
   ]
  },
  {
   "cell_type": "code",
   "execution_count": 207,
   "metadata": {
    "ExecuteTime": {
     "end_time": "2016-05-08T15:25:53.549564",
     "start_time": "2016-05-08T15:25:53.374488"
    },
    "collapsed": false,
    "run_control": {
     "frozen": false,
     "read_only": false
    }
   },
   "outputs": [],
   "source": [
    "preds = model.predict(sequence)"
   ]
  },
  {
   "cell_type": "code",
   "execution_count": 190,
   "metadata": {
    "ExecuteTime": {
     "end_time": "2016-05-08T15:20:25.637372",
     "start_time": "2016-05-08T15:20:25.128746"
    },
    "collapsed": false,
    "run_control": {
     "frozen": false,
     "read_only": false
    }
   },
   "outputs": [
    {
     "name": "stdout",
     "output_type": "stream",
     "text": [
      "0.538252703725\n"
     ]
    }
   ],
   "source": [
    "print(np.mean([1.0 if y_p==y_i else 0.0 for y_p, y_i in zip(preds, labels)]))"
   ]
  },
  {
   "cell_type": "markdown",
   "metadata": {},
   "source": [
    "# Why this likely isn't working"
   ]
  },
  {
   "cell_type": "markdown",
   "metadata": {},
   "source": [
    "### LONG-RANGE DEPENDENCIES"
   ]
  },
  {
   "cell_type": "markdown",
   "metadata": {},
   "source": [
    "<img  src=\"T7_Protein.jpg\"/>"
   ]
  },
  {
   "cell_type": "markdown",
   "metadata": {},
   "source": [
    "Sound familiar?"
   ]
  },
  {
   "cell_type": "markdown",
   "metadata": {},
   "source": [
    "<img  src=\"slide_8.jpg\" height=600 width=600/>"
   ]
  },
  {
   "cell_type": "markdown",
   "metadata": {},
   "source": [
    "### Amino Acids NOT independent of one another"
   ]
  },
  {
   "cell_type": "code",
   "execution_count": 21,
   "metadata": {
    "ExecuteTime": {
     "end_time": "2016-05-08T13:14:20.649908",
     "start_time": "2016-05-08T13:14:19.668543"
    },
    "collapsed": false,
    "hide_input": true,
    "run_control": {
     "frozen": false,
     "read_only": false
    }
   },
   "outputs": [
    {
     "data": {
      "image/png": "[encoded data removed]",
      "text/plain": [
       "<matplotlib.figure.Figure at 0x1189547f0>"
      ]
     },
     "metadata": {},
     "output_type": "display_data"
    }
   ],
   "source": [
    "small_ex = skip_data.as_matrix()[:10000, :]\n",
    "r = np.corrcoef(small_ex, rowvar=0)\n",
    "\n",
    "plt.figure(figsize=(20,10))\n",
    "plt.imshow(r, cmap='hot')\n",
    "plt.colormaps\n",
    "plt.colorbar();"
   ]
  },
  {
   "cell_type": "markdown",
   "metadata": {},
   "source": [
    "## Future Work"
   ]
  },
  {
   "cell_type": "code",
   "execution_count": 22,
   "metadata": {
    "ExecuteTime": {
     "end_time": "2016-05-08T13:16:07.545963",
     "start_time": "2016-05-08T13:16:07.542356"
    },
    "collapsed": true,
    "hide_input": true,
    "run_control": {
     "frozen": false,
     "read_only": false
    }
   },
   "outputs": [],
   "source": [
    "link = 'https://cran.r-project.org/web/packages/CRF/CRF.pdf'"
   ]
  },
  {
   "cell_type": "code",
   "execution_count": 26,
   "metadata": {
    "ExecuteTime": {
     "end_time": "2016-05-08T13:18:04.314545",
     "start_time": "2016-05-08T13:18:04.311314"
    },
    "collapsed": false,
    "hide_input": true,
    "run_control": {
     "frozen": false,
     "read_only": false
    }
   },
   "outputs": [],
   "source": [
    "from IPython.display import IFrame"
   ]
  },
  {
   "cell_type": "markdown",
   "metadata": {
    "collapsed": true,
    "run_control": {
     "frozen": false,
     "read_only": false
    }
   },
   "source": [
    "* Expand HMM features to positional amino acids (ex. A-2 vs. A)\n",
    "* Learn enough R to do ... "
   ]
  },
  {
   "cell_type": "code",
   "execution_count": 31,
   "metadata": {
    "ExecuteTime": {
     "end_time": "2016-05-08T13:18:38.865849",
     "start_time": "2016-05-08T13:18:38.860128"
    },
    "collapsed": false,
    "hide_input": true,
    "run_control": {
     "frozen": false,
     "read_only": false
    }
   },
   "outputs": [
    {
     "data": {
      "text/html": [
       "\n",
       "        <iframe\n",
       "            width=\"400\"\n",
       "            height=\"500\"\n",
       "            src=\"https://cran.r-project.org/web/packages/CRF/CRF.pdf\"\n",
       "            frameborder=\"0\"\n",
       "            allowfullscreen\n",
       "        ></iframe>\n",
       "        "
      ],
      "text/plain": [
       "<IPython.lib.display.IFrame at 0x11856f978>"
      ]
     },
     "execution_count": 31,
     "metadata": {},
     "output_type": "execute_result"
    }
   ],
   "source": [
    "IFrame(link, width=400, height=500)"
   ]
  }
 ],
 "metadata": {
  "kernelspec": {
   "display_name": "Python 3",
   "language": "python",
   "name": "python3"
  },
  "language_info": {
   "codemirror_mode": {
    "name": "ipython",
    "version": 3
   },
   "file_extension": ".py",
   "mimetype": "text/x-python",
   "name": "python",
   "nbconvert_exporter": "python",
   "pygments_lexer": "ipython3",
   "version": "3.5.1"
  }
 },
 "nbformat": 4,
 "nbformat_minor": 0
}
