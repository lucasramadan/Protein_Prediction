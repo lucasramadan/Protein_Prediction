{
 "cells": [
  {
   "cell_type": "code",
   "execution_count": 1,
   "metadata": {
    "ExecuteTime": {
     "end_time": "2016-05-04T21:46:35.113690",
     "start_time": "2016-05-04T21:46:20.887306"
    },
    "collapsed": false,
    "run_control": {
     "frozen": false,
     "read_only": false
    }
   },
   "outputs": [],
   "source": [
    "from pgmpy.models import MarkovModel, BayesianModel\n",
    "from pgmpy.inference import BeliefPropagation\n",
    "from pgmpy.factors import Factor\n",
    "import numpy as np\n",
    "import pandas as pd\n",
    "from scipy import optimize\n",
    "from pgmpy.estimators import MaximumLikelihoodEstimator\n",
    "import pickle"
   ]
  },
  {
   "cell_type": "code",
   "execution_count": 2,
   "metadata": {
    "ExecuteTime": {
     "end_time": "2016-05-04T21:54:48.366281",
     "start_time": "2016-05-04T21:54:45.971060"
    },
    "collapsed": false,
    "run_control": {
     "frozen": false,
     "read_only": false
    }
   },
   "outputs": [
    {
     "data": {
      "text/html": [
       "<div>\n",
       "<table border=\"1\" class=\"dataframe\">\n",
       "  <thead>\n",
       "    <tr style=\"text-align: right;\">\n",
       "      <th></th>\n",
       "      <th>A-2</th>\n",
       "      <th>C-2</th>\n",
       "      <th>D-2</th>\n",
       "      <th>E-2</th>\n",
       "      <th>F-2</th>\n",
       "      <th>G-2</th>\n",
       "      <th>H-2</th>\n",
       "      <th>I-2</th>\n",
       "      <th>K-2</th>\n",
       "      <th>L-2</th>\n",
       "      <th>...</th>\n",
       "      <th>N2</th>\n",
       "      <th>P2</th>\n",
       "      <th>Q2</th>\n",
       "      <th>R2</th>\n",
       "      <th>S2</th>\n",
       "      <th>T2</th>\n",
       "      <th>V2</th>\n",
       "      <th>W2</th>\n",
       "      <th>Y2</th>\n",
       "      <th>-2</th>\n",
       "    </tr>\n",
       "  </thead>\n",
       "  <tbody>\n",
       "    <tr>\n",
       "      <th>0</th>\n",
       "      <td>0</td>\n",
       "      <td>0</td>\n",
       "      <td>0</td>\n",
       "      <td>0</td>\n",
       "      <td>0</td>\n",
       "      <td>0</td>\n",
       "      <td>0</td>\n",
       "      <td>0</td>\n",
       "      <td>0</td>\n",
       "      <td>0</td>\n",
       "      <td>...</td>\n",
       "      <td>0</td>\n",
       "      <td>1</td>\n",
       "      <td>0</td>\n",
       "      <td>0</td>\n",
       "      <td>0</td>\n",
       "      <td>0</td>\n",
       "      <td>0</td>\n",
       "      <td>0</td>\n",
       "      <td>0</td>\n",
       "      <td>0</td>\n",
       "    </tr>\n",
       "    <tr>\n",
       "      <th>1</th>\n",
       "      <td>0</td>\n",
       "      <td>0</td>\n",
       "      <td>0</td>\n",
       "      <td>0</td>\n",
       "      <td>0</td>\n",
       "      <td>0</td>\n",
       "      <td>0</td>\n",
       "      <td>0</td>\n",
       "      <td>0</td>\n",
       "      <td>0</td>\n",
       "      <td>...</td>\n",
       "      <td>0</td>\n",
       "      <td>0</td>\n",
       "      <td>0</td>\n",
       "      <td>0</td>\n",
       "      <td>0</td>\n",
       "      <td>0</td>\n",
       "      <td>0</td>\n",
       "      <td>0</td>\n",
       "      <td>0</td>\n",
       "      <td>0</td>\n",
       "    </tr>\n",
       "    <tr>\n",
       "      <th>2</th>\n",
       "      <td>0</td>\n",
       "      <td>0</td>\n",
       "      <td>0</td>\n",
       "      <td>0</td>\n",
       "      <td>0</td>\n",
       "      <td>0</td>\n",
       "      <td>0</td>\n",
       "      <td>0</td>\n",
       "      <td>0</td>\n",
       "      <td>1</td>\n",
       "      <td>...</td>\n",
       "      <td>0</td>\n",
       "      <td>0</td>\n",
       "      <td>0</td>\n",
       "      <td>0</td>\n",
       "      <td>0</td>\n",
       "      <td>0</td>\n",
       "      <td>0</td>\n",
       "      <td>0</td>\n",
       "      <td>0</td>\n",
       "      <td>0</td>\n",
       "    </tr>\n",
       "    <tr>\n",
       "      <th>3</th>\n",
       "      <td>0</td>\n",
       "      <td>0</td>\n",
       "      <td>0</td>\n",
       "      <td>0</td>\n",
       "      <td>0</td>\n",
       "      <td>0</td>\n",
       "      <td>0</td>\n",
       "      <td>0</td>\n",
       "      <td>0</td>\n",
       "      <td>0</td>\n",
       "      <td>...</td>\n",
       "      <td>0</td>\n",
       "      <td>0</td>\n",
       "      <td>0</td>\n",
       "      <td>0</td>\n",
       "      <td>0</td>\n",
       "      <td>0</td>\n",
       "      <td>0</td>\n",
       "      <td>0</td>\n",
       "      <td>0</td>\n",
       "      <td>0</td>\n",
       "    </tr>\n",
       "    <tr>\n",
       "      <th>4</th>\n",
       "      <td>0</td>\n",
       "      <td>0</td>\n",
       "      <td>0</td>\n",
       "      <td>0</td>\n",
       "      <td>0</td>\n",
       "      <td>0</td>\n",
       "      <td>0</td>\n",
       "      <td>0</td>\n",
       "      <td>0</td>\n",
       "      <td>0</td>\n",
       "      <td>...</td>\n",
       "      <td>0</td>\n",
       "      <td>0</td>\n",
       "      <td>0</td>\n",
       "      <td>0</td>\n",
       "      <td>0</td>\n",
       "      <td>1</td>\n",
       "      <td>0</td>\n",
       "      <td>0</td>\n",
       "      <td>0</td>\n",
       "      <td>0</td>\n",
       "    </tr>\n",
       "  </tbody>\n",
       "</table>\n",
       "<p>5 rows × 105 columns</p>\n",
       "</div>"
      ],
      "text/plain": [
       "   A-2  C-2  D-2  E-2  F-2  G-2  H-2  I-2  K-2  L-2 ...  N2  P2  Q2  R2  S2  \\\n",
       "0    0    0    0    0    0    0    0    0    0    0 ...   0   1   0   0   0   \n",
       "1    0    0    0    0    0    0    0    0    0    0 ...   0   0   0   0   0   \n",
       "2    0    0    0    0    0    0    0    0    0    1 ...   0   0   0   0   0   \n",
       "3    0    0    0    0    0    0    0    0    0    0 ...   0   0   0   0   0   \n",
       "4    0    0    0    0    0    0    0    0    0    0 ...   0   0   0   0   0   \n",
       "\n",
       "   T2  V2  W2  Y2  -2  \n",
       "0   0   0   0   0   0  \n",
       "1   0   0   0   0   0  \n",
       "2   0   0   0   0   0  \n",
       "3   0   0   0   0   0  \n",
       "4   1   0   0   0   0  \n",
       "\n",
       "[5 rows x 105 columns]"
      ]
     },
     "execution_count": 2,
     "metadata": {},
     "output_type": "execute_result"
    }
   ],
   "source": [
    "data = pd.read_csv('5_formatted.csv').drop('Unnamed: 0', axis=1)\n",
    "data.head()"
   ]
  },
  {
   "cell_type": "code",
   "execution_count": 3,
   "metadata": {
    "ExecuteTime": {
     "end_time": "2016-05-04T21:54:48.472250",
     "start_time": "2016-05-04T21:54:48.368714"
    },
    "collapsed": false,
    "run_control": {
     "frozen": false,
     "read_only": false
    }
   },
   "outputs": [],
   "source": [
    "labels = pd.read_csv('5_formatted_labels.csv').drop('Unnamed: 0', axis=1)"
   ]
  },
  {
   "cell_type": "code",
   "execution_count": 4,
   "metadata": {
    "ExecuteTime": {
     "end_time": "2016-05-04T21:54:48.486915",
     "start_time": "2016-05-04T21:54:48.474154"
    },
    "collapsed": false,
    "run_control": {
     "frozen": false,
     "read_only": false
    }
   },
   "outputs": [
    {
     "data": {
      "text/html": [
       "<div>\n",
       "<table border=\"1\" class=\"dataframe\">\n",
       "  <thead>\n",
       "    <tr style=\"text-align: right;\">\n",
       "      <th></th>\n",
       "      <th>State</th>\n",
       "    </tr>\n",
       "  </thead>\n",
       "  <tbody>\n",
       "    <tr>\n",
       "      <th>0</th>\n",
       "      <td>5.0</td>\n",
       "    </tr>\n",
       "    <tr>\n",
       "      <th>1</th>\n",
       "      <td>5.0</td>\n",
       "    </tr>\n",
       "    <tr>\n",
       "      <th>2</th>\n",
       "      <td>0.0</td>\n",
       "    </tr>\n",
       "    <tr>\n",
       "      <th>3</th>\n",
       "      <td>0.0</td>\n",
       "    </tr>\n",
       "    <tr>\n",
       "      <th>4</th>\n",
       "      <td>0.0</td>\n",
       "    </tr>\n",
       "  </tbody>\n",
       "</table>\n",
       "</div>"
      ],
      "text/plain": [
       "   State\n",
       "0    5.0\n",
       "1    5.0\n",
       "2    0.0\n",
       "3    0.0\n",
       "4    0.0"
      ]
     },
     "execution_count": 4,
     "metadata": {},
     "output_type": "execute_result"
    }
   ],
   "source": [
    "labels.columns = ['State']\n",
    "labels.head()"
   ]
  },
  {
   "cell_type": "code",
   "execution_count": 5,
   "metadata": {
    "ExecuteTime": {
     "end_time": "2016-05-04T21:54:48.496599",
     "start_time": "2016-05-04T21:54:48.489853"
    },
    "collapsed": false,
    "run_control": {
     "frozen": false,
     "read_only": false
    },
    "scrolled": true
   },
   "outputs": [
    {
     "data": {
      "text/plain": [
       "['A-2', 'C-2']"
      ]
     },
     "execution_count": 5,
     "metadata": {},
     "output_type": "execute_result"
    }
   ],
   "source": [
    "# create the singleton nodes\n",
    "singletons = list(data.columns)\n",
    "singletons[:2]"
   ]
  },
  {
   "cell_type": "code",
   "execution_count": 6,
   "metadata": {
    "ExecuteTime": {
     "end_time": "2016-05-04T21:54:48.677217",
     "start_time": "2016-05-04T21:54:48.672709"
    },
    "collapsed": false,
    "run_control": {
     "frozen": false,
     "read_only": false
    }
   },
   "outputs": [],
   "source": [
    "# ys = list(df.columns[-6:])\n",
    "# ys[-1] = 'U'\n",
    "# ys"
   ]
  },
  {
   "cell_type": "code",
   "execution_count": 7,
   "metadata": {
    "ExecuteTime": {
     "end_time": "2016-05-04T21:54:50.106250",
     "start_time": "2016-05-04T21:54:50.097793"
    },
    "collapsed": false,
    "run_control": {
     "frozen": false,
     "read_only": false
    },
    "scrolled": true
   },
   "outputs": [
    {
     "data": {
      "text/plain": [
       "[('State', 'A-2'), ('State', 'C-2')]"
      ]
     },
     "execution_count": 7,
     "metadata": {},
     "output_type": "execute_result"
    }
   ],
   "source": [
    "edges = [('State', s) for s in singletons]\n",
    "\n",
    "# # generate the edges\n",
    "# for y in ys:\n",
    "#     for s in singletons:\n",
    "#         edges.append((s, y))\n",
    "        \n",
    "edges[:2]"
   ]
  },
  {
   "cell_type": "code",
   "execution_count": 8,
   "metadata": {
    "ExecuteTime": {
     "end_time": "2016-05-04T21:54:51.798103",
     "start_time": "2016-05-04T21:54:51.792646"
    },
    "collapsed": false,
    "run_control": {
     "frozen": false,
     "read_only": false
    }
   },
   "outputs": [
    {
     "data": {
      "text/plain": [
       "105"
      ]
     },
     "execution_count": 8,
     "metadata": {},
     "output_type": "execute_result"
    }
   ],
   "source": [
    "len(edges)"
   ]
  },
  {
   "cell_type": "code",
   "execution_count": 9,
   "metadata": {
    "ExecuteTime": {
     "end_time": "2016-05-04T21:54:51.997539",
     "start_time": "2016-05-04T21:54:51.992737"
    },
    "collapsed": false,
    "run_control": {
     "frozen": false,
     "read_only": false
    }
   },
   "outputs": [],
   "source": [
    "data['State'] = labels"
   ]
  },
  {
   "cell_type": "code",
   "execution_count": 10,
   "metadata": {
    "ExecuteTime": {
     "end_time": "2016-05-04T21:54:52.236479",
     "start_time": "2016-05-04T21:54:52.191711"
    },
    "collapsed": false,
    "run_control": {
     "frozen": false,
     "read_only": false
    }
   },
   "outputs": [
    {
     "data": {
      "text/html": [
       "<div>\n",
       "<table border=\"1\" class=\"dataframe\">\n",
       "  <thead>\n",
       "    <tr style=\"text-align: right;\">\n",
       "      <th></th>\n",
       "      <th>A-2</th>\n",
       "      <th>C-2</th>\n",
       "      <th>D-2</th>\n",
       "      <th>E-2</th>\n",
       "      <th>F-2</th>\n",
       "      <th>G-2</th>\n",
       "      <th>H-2</th>\n",
       "      <th>I-2</th>\n",
       "      <th>K-2</th>\n",
       "      <th>L-2</th>\n",
       "      <th>...</th>\n",
       "      <th>P2</th>\n",
       "      <th>Q2</th>\n",
       "      <th>R2</th>\n",
       "      <th>S2</th>\n",
       "      <th>T2</th>\n",
       "      <th>V2</th>\n",
       "      <th>W2</th>\n",
       "      <th>Y2</th>\n",
       "      <th>-2</th>\n",
       "      <th>State</th>\n",
       "    </tr>\n",
       "  </thead>\n",
       "  <tbody>\n",
       "    <tr>\n",
       "      <th>0</th>\n",
       "      <td>0</td>\n",
       "      <td>0</td>\n",
       "      <td>0</td>\n",
       "      <td>0</td>\n",
       "      <td>0</td>\n",
       "      <td>0</td>\n",
       "      <td>0</td>\n",
       "      <td>0</td>\n",
       "      <td>0</td>\n",
       "      <td>0</td>\n",
       "      <td>...</td>\n",
       "      <td>1</td>\n",
       "      <td>0</td>\n",
       "      <td>0</td>\n",
       "      <td>0</td>\n",
       "      <td>0</td>\n",
       "      <td>0</td>\n",
       "      <td>0</td>\n",
       "      <td>0</td>\n",
       "      <td>0</td>\n",
       "      <td>5.0</td>\n",
       "    </tr>\n",
       "    <tr>\n",
       "      <th>1</th>\n",
       "      <td>0</td>\n",
       "      <td>0</td>\n",
       "      <td>0</td>\n",
       "      <td>0</td>\n",
       "      <td>0</td>\n",
       "      <td>0</td>\n",
       "      <td>0</td>\n",
       "      <td>0</td>\n",
       "      <td>0</td>\n",
       "      <td>0</td>\n",
       "      <td>...</td>\n",
       "      <td>0</td>\n",
       "      <td>0</td>\n",
       "      <td>0</td>\n",
       "      <td>0</td>\n",
       "      <td>0</td>\n",
       "      <td>0</td>\n",
       "      <td>0</td>\n",
       "      <td>0</td>\n",
       "      <td>0</td>\n",
       "      <td>5.0</td>\n",
       "    </tr>\n",
       "    <tr>\n",
       "      <th>2</th>\n",
       "      <td>0</td>\n",
       "      <td>0</td>\n",
       "      <td>0</td>\n",
       "      <td>0</td>\n",
       "      <td>0</td>\n",
       "      <td>0</td>\n",
       "      <td>0</td>\n",
       "      <td>0</td>\n",
       "      <td>0</td>\n",
       "      <td>1</td>\n",
       "      <td>...</td>\n",
       "      <td>0</td>\n",
       "      <td>0</td>\n",
       "      <td>0</td>\n",
       "      <td>0</td>\n",
       "      <td>0</td>\n",
       "      <td>0</td>\n",
       "      <td>0</td>\n",
       "      <td>0</td>\n",
       "      <td>0</td>\n",
       "      <td>0.0</td>\n",
       "    </tr>\n",
       "    <tr>\n",
       "      <th>3</th>\n",
       "      <td>0</td>\n",
       "      <td>0</td>\n",
       "      <td>0</td>\n",
       "      <td>0</td>\n",
       "      <td>0</td>\n",
       "      <td>0</td>\n",
       "      <td>0</td>\n",
       "      <td>0</td>\n",
       "      <td>0</td>\n",
       "      <td>0</td>\n",
       "      <td>...</td>\n",
       "      <td>0</td>\n",
       "      <td>0</td>\n",
       "      <td>0</td>\n",
       "      <td>0</td>\n",
       "      <td>0</td>\n",
       "      <td>0</td>\n",
       "      <td>0</td>\n",
       "      <td>0</td>\n",
       "      <td>0</td>\n",
       "      <td>0.0</td>\n",
       "    </tr>\n",
       "    <tr>\n",
       "      <th>4</th>\n",
       "      <td>0</td>\n",
       "      <td>0</td>\n",
       "      <td>0</td>\n",
       "      <td>0</td>\n",
       "      <td>0</td>\n",
       "      <td>0</td>\n",
       "      <td>0</td>\n",
       "      <td>0</td>\n",
       "      <td>0</td>\n",
       "      <td>0</td>\n",
       "      <td>...</td>\n",
       "      <td>0</td>\n",
       "      <td>0</td>\n",
       "      <td>0</td>\n",
       "      <td>0</td>\n",
       "      <td>1</td>\n",
       "      <td>0</td>\n",
       "      <td>0</td>\n",
       "      <td>0</td>\n",
       "      <td>0</td>\n",
       "      <td>0.0</td>\n",
       "    </tr>\n",
       "  </tbody>\n",
       "</table>\n",
       "<p>5 rows × 106 columns</p>\n",
       "</div>"
      ],
      "text/plain": [
       "   A-2  C-2  D-2  E-2  F-2  G-2  H-2  I-2  K-2  L-2  ...    P2  Q2  R2  S2  \\\n",
       "0    0    0    0    0    0    0    0    0    0    0  ...     1   0   0   0   \n",
       "1    0    0    0    0    0    0    0    0    0    0  ...     0   0   0   0   \n",
       "2    0    0    0    0    0    0    0    0    0    1  ...     0   0   0   0   \n",
       "3    0    0    0    0    0    0    0    0    0    0  ...     0   0   0   0   \n",
       "4    0    0    0    0    0    0    0    0    0    0  ...     0   0   0   0   \n",
       "\n",
       "   T2  V2  W2  Y2  -2  State  \n",
       "0   0   0   0   0   0    5.0  \n",
       "1   0   0   0   0   0    5.0  \n",
       "2   0   0   0   0   0    0.0  \n",
       "3   0   0   0   0   0    0.0  \n",
       "4   1   0   0   0   0    0.0  \n",
       "\n",
       "[5 rows x 106 columns]"
      ]
     },
     "execution_count": 10,
     "metadata": {},
     "output_type": "execute_result"
    }
   ],
   "source": [
    "data.head()"
   ]
  },
  {
   "cell_type": "code",
   "execution_count": 11,
   "metadata": {
    "ExecuteTime": {
     "end_time": "2016-05-04T21:55:17.788080",
     "start_time": "2016-05-04T21:55:17.782301"
    },
    "collapsed": true,
    "run_control": {
     "frozen": false,
     "read_only": false
    }
   },
   "outputs": [],
   "source": [
    "# instantiate the model\n",
    "bn = BayesianModel()\n",
    "bn.add_edges_from(edges)"
   ]
  },
  {
   "cell_type": "code",
   "execution_count": 12,
   "metadata": {
    "ExecuteTime": {
     "end_time": "2016-05-04T21:55:18.831485",
     "start_time": "2016-05-04T21:55:18.826772"
    },
    "collapsed": false,
    "run_control": {
     "frozen": false,
     "read_only": false
    },
    "scrolled": true
   },
   "outputs": [
    {
     "data": {
      "text/plain": [
       "[]"
      ]
     },
     "execution_count": 12,
     "metadata": {},
     "output_type": "execute_result"
    }
   ],
   "source": [
    "bn.get_cpds()"
   ]
  },
  {
   "cell_type": "code",
   "execution_count": 13,
   "metadata": {
    "ExecuteTime": {
     "end_time": "2016-05-04T21:55:21.454925",
     "start_time": "2016-05-04T21:55:21.440215"
    },
    "collapsed": false,
    "run_control": {
     "frozen": false,
     "read_only": false
    },
    "scrolled": true
   },
   "outputs": [
    {
     "data": {
      "text/plain": [
       "[('State', 'P0'),\n",
       " ('State', 'D2'),\n",
       " ('State', 'S1'),\n",
       " ('State', 'S0'),\n",
       " ('State', 'A-1'),\n",
       " ('State', 'N-1'),\n",
       " ('State', 'F-1'),\n",
       " ('State', 'E2'),\n",
       " ('State', '-2'),\n",
       " ('State', 'G2'),\n",
       " ('State', '-0'),\n",
       " ('State', 'N0'),\n",
       " ('State', 'P-2'),\n",
       " ('State', 'T1'),\n",
       " ('State', 'K0'),\n",
       " ('State', 'R-2'),\n",
       " ('State', 'F0'),\n",
       " ('State', 'D-1'),\n",
       " ('State', 'H-2'),\n",
       " ('State', 'Q2'),\n",
       " ('State', 'P1'),\n",
       " ('State', 'H0'),\n",
       " ('State', 'M-1'),\n",
       " ('State', 'E-2'),\n",
       " ('State', 'C-1'),\n",
       " ('State', 'R0'),\n",
       " ('State', 'I0'),\n",
       " ('State', 'Y1'),\n",
       " ('State', 'D-2'),\n",
       " ('State', 'V1'),\n",
       " ('State', 'E1'),\n",
       " ('State', 'P-1'),\n",
       " ('State', 'S2'),\n",
       " ('State', 'V2'),\n",
       " ('State', 'G0'),\n",
       " ('State', 'V-1'),\n",
       " ('State', 'M1'),\n",
       " ('State', 'W-2'),\n",
       " ('State', 'T0'),\n",
       " ('State', 'H1'),\n",
       " ('State', 'W1'),\n",
       " ('State', 'W-1'),\n",
       " ('State', 'E-1'),\n",
       " ('State', 'K2'),\n",
       " ('State', 'Q-2'),\n",
       " ('State', 'N2'),\n",
       " ('State', 'D0'),\n",
       " ('State', 'N1'),\n",
       " ('State', 'M0'),\n",
       " ('State', 'D1'),\n",
       " ('State', 'Q-1'),\n",
       " ('State', 'L-1'),\n",
       " ('State', 'R-1'),\n",
       " ('State', 'F1'),\n",
       " ('State', 'I-2'),\n",
       " ('State', 'F-2'),\n",
       " ('State', 'L1'),\n",
       " ('State', 'G-2'),\n",
       " ('State', 'H2'),\n",
       " ('State', 'N-2'),\n",
       " ('State', 'C0'),\n",
       " ('State', 'A0'),\n",
       " ('State', 'L-2'),\n",
       " ('State', 'H-1'),\n",
       " ('State', 'C1'),\n",
       " ('State', 'R2'),\n",
       " ('State', 'Y2'),\n",
       " ('State', 'G-1'),\n",
       " ('State', 'Y-2'),\n",
       " ('State', 'K-1'),\n",
       " ('State', 'L0'),\n",
       " ('State', 'I-1'),\n",
       " ('State', 'I2'),\n",
       " ('State', 'A-2'),\n",
       " ('State', 'K1'),\n",
       " ('State', 'P2'),\n",
       " ('State', '--1'),\n",
       " ('State', 'T-2'),\n",
       " ('State', 'G1'),\n",
       " ('State', 'R1'),\n",
       " ('State', 'T2'),\n",
       " ('State', 'F2'),\n",
       " ('State', 'W2'),\n",
       " ('State', 'A1'),\n",
       " ('State', 'Y-1'),\n",
       " ('State', 'W0'),\n",
       " ('State', 'V0'),\n",
       " ('State', 'I1'),\n",
       " ('State', 'Y0'),\n",
       " ('State', 'Q1'),\n",
       " ('State', 'L2'),\n",
       " ('State', 'A2'),\n",
       " ('State', 'S-1'),\n",
       " ('State', '--2'),\n",
       " ('State', 'M2'),\n",
       " ('State', 'E0'),\n",
       " ('State', 'M-2'),\n",
       " ('State', 'S-2'),\n",
       " ('State', '-1'),\n",
       " ('State', 'K-2'),\n",
       " ('State', 'C2'),\n",
       " ('State', 'T-1'),\n",
       " ('State', 'V-2'),\n",
       " ('State', 'C-2'),\n",
       " ('State', 'Q0')]"
      ]
     },
     "execution_count": 13,
     "metadata": {},
     "output_type": "execute_result"
    }
   ],
   "source": [
    "bn.edges()"
   ]
  },
  {
   "cell_type": "code",
   "execution_count": 14,
   "metadata": {
    "ExecuteTime": {
     "end_time": "2016-05-04T21:55:24.124527",
     "start_time": "2016-05-04T21:55:23.643099"
    },
    "collapsed": false,
    "run_control": {
     "frozen": false,
     "read_only": false
    }
   },
   "outputs": [],
   "source": [
    "# calculate thetas in our CPDs\n",
    "est = MaximumLikelihoodEstimator(bn, data)"
   ]
  },
  {
   "cell_type": "code",
   "execution_count": 15,
   "metadata": {
    "ExecuteTime": {
     "end_time": "2016-05-04T21:55:27.842184",
     "start_time": "2016-05-04T21:55:26.520489"
    },
    "collapsed": false,
    "run_control": {
     "frozen": false,
     "read_only": false
    }
   },
   "outputs": [
    {
     "data": {
      "text/html": [
       "<table><caption>TabularCPD for <b>P0</b></caption><tr><td><b>State</b></td><td colspan=1>State_0</td><td colspan=1>State_1</td><td colspan=1>State_2</td><td colspan=1>State_3</td><td colspan=1>State_4</td><td colspan=1>State_5</td></tr><tr><td><b>P0_0</b></td><td>0.9748</td><td>0.9797</td><td>0.9297</td><td>0.9500</td><td>0.9509</td><td>0.9613</td></tr><tr><td><b>P0_1</b></td><td>0.0252</td><td>0.0203</td><td>0.0703</td><td>0.0500</td><td>0.0491</td><td>0.0387</td></tr></table>"
      ],
      "text/plain": [
       "<TabularCPD representing P(P0:2 | State:6) at 0x113607cf8>"
      ]
     },
     "execution_count": 15,
     "metadata": {},
     "output_type": "execute_result"
    }
   ],
   "source": [
    "est.get_parameters()[0]"
   ]
  },
  {
   "cell_type": "code",
   "execution_count": 16,
   "metadata": {
    "ExecuteTime": {
     "end_time": "2016-05-04T21:55:33.885262",
     "start_time": "2016-05-04T21:55:32.453976"
    },
    "collapsed": false,
    "run_control": {
     "frozen": false,
     "read_only": false
    }
   },
   "outputs": [],
   "source": [
    "bn.add_cpds(*est.get_parameters())"
   ]
  },
  {
   "cell_type": "code",
   "execution_count": 17,
   "metadata": {
    "ExecuteTime": {
     "end_time": "2016-05-04T21:55:42.615359",
     "start_time": "2016-05-04T21:55:42.605261"
    },
    "collapsed": false,
    "scrolled": true
   },
   "outputs": [
    {
     "data": {
      "text/plain": [
       "[<TabularCPD representing P(P0:2 | State:6) at 0x1033cdb70>,\n",
       " <TabularCPD representing P(D2:2 | State:6) at 0x1033cdd30>,\n",
       " <TabularCPD representing P(S1:2 | State:6) at 0x1033e77f0>,\n",
       " <TabularCPD representing P(S0:2 | State:6) at 0x1033e7da0>,\n",
       " <TabularCPD representing P(A-1:2 | State:6) at 0x1033e7eb8>,\n",
       " <TabularCPD representing P(N-1:2 | State:6) at 0x1033e79b0>,\n",
       " <TabularCPD representing P(F-1:2 | State:6) at 0x1033e7a90>,\n",
       " <TabularCPD representing P(E2:2 | State:6) at 0x1033e7fd0>,\n",
       " <TabularCPD representing P(-2:2 | State:6) at 0x1033e7630>,\n",
       " <TabularCPD representing P(G2:2 | State:6) at 0x1033e7d30>,\n",
       " <TabularCPD representing P(-0:2 | State:6) at 0x1033e7b00>,\n",
       " <TabularCPD representing P(N0:2 | State:6) at 0x1033e7cc0>,\n",
       " <TabularCPD representing P(P-2:2 | State:6) at 0x1135a8da0>,\n",
       " <TabularCPD representing P(T1:2 | State:6) at 0x1135d5710>,\n",
       " <TabularCPD representing P(K0:2 | State:6) at 0x1135d5b38>,\n",
       " <TabularCPD representing P(R-2:2 | State:6) at 0x1135d5438>,\n",
       " <TabularCPD representing P(F0:2 | State:6) at 0x1135a8fd0>,\n",
       " <TabularCPD representing P(D-1:2 | State:6) at 0x1135a8d30>,\n",
       " <TabularCPD representing P(H-2:2 | State:6) at 0x1135a8be0>,\n",
       " <TabularCPD representing P(Q2:2 | State:6) at 0x1135a87f0>,\n",
       " <TabularCPD representing P(P1:2 | State:6) at 0x1135a8b70>,\n",
       " <TabularCPD representing P(H0:2 | State:6) at 0x1033f2c50>,\n",
       " <TabularCPD representing P(M-1:2 | State:6) at 0x1033f2b00>,\n",
       " <TabularCPD representing P(E-2:2 | State:6) at 0x1033fba90>,\n",
       " <TabularCPD representing P(C-1:2 | State:6) at 0x1033fb9b0>,\n",
       " <TabularCPD representing P(R0:2 | State:6) at 0x1033fbef0>,\n",
       " <TabularCPD representing P(State:6) at 0x1033fbb00>,\n",
       " <TabularCPD representing P(I0:2 | State:6) at 0x1033fbfd0>,\n",
       " <TabularCPD representing P(Y1:2 | State:6) at 0x113607ac8>,\n",
       " <TabularCPD representing P(D-2:2 | State:6) at 0x1033dbda0>,\n",
       " <TabularCPD representing P(V1:2 | State:6) at 0x1033dbb00>,\n",
       " <TabularCPD representing P(E1:2 | State:6) at 0x1033dba90>,\n",
       " <TabularCPD representing P(P-1:2 | State:6) at 0x1033db400>,\n",
       " <TabularCPD representing P(S2:2 | State:6) at 0x1033dbc50>,\n",
       " <TabularCPD representing P(V2:2 | State:6) at 0x1033db6a0>,\n",
       " <TabularCPD representing P(G0:2 | State:6) at 0x113607f98>,\n",
       " <TabularCPD representing P(V-1:2 | State:6) at 0x113607e80>,\n",
       " <TabularCPD representing P(M1:2 | State:6) at 0x113607c18>,\n",
       " <TabularCPD representing P(W-2:2 | State:6) at 0x113607cc0>,\n",
       " <TabularCPD representing P(T0:2 | State:6) at 0x103402be0>,\n",
       " <TabularCPD representing P(H1:2 | State:6) at 0x103402c88>,\n",
       " <TabularCPD representing P(W1:2 | State:6) at 0x103402d30>,\n",
       " <TabularCPD representing P(W-1:2 | State:6) at 0x103402dd8>,\n",
       " <TabularCPD representing P(E-1:2 | State:6) at 0x103402e80>,\n",
       " <TabularCPD representing P(K2:2 | State:6) at 0x103402f28>,\n",
       " <TabularCPD representing P(Q-2:2 | State:6) at 0x103402f98>,\n",
       " <TabularCPD representing P(N2:2 | State:6) at 0x1034027f0>,\n",
       " <TabularCPD representing P(D0:2 | State:6) at 0x103402e10>,\n",
       " <TabularCPD representing P(N1:2 | State:6) at 0x103402f60>,\n",
       " <TabularCPD representing P(M0:2 | State:6) at 0x103402cc0>,\n",
       " <TabularCPD representing P(D1:2 | State:6) at 0x103402eb8>,\n",
       " <TabularCPD representing P(Q-1:2 | State:6) at 0x103402c18>,\n",
       " <TabularCPD representing P(L-1:2 | State:6) at 0x103402d68>,\n",
       " <TabularCPD representing P(R-1:2 | State:6) at 0x1093a3550>,\n",
       " <TabularCPD representing P(F1:2 | State:6) at 0x1093a35f8>,\n",
       " <TabularCPD representing P(I-2:2 | State:6) at 0x1093a36a0>,\n",
       " <TabularCPD representing P(F-2:2 | State:6) at 0x1093a3748>,\n",
       " <TabularCPD representing P(L1:2 | State:6) at 0x1093a37f0>,\n",
       " <TabularCPD representing P(G-2:2 | State:6) at 0x1093a3898>,\n",
       " <TabularCPD representing P(H2:2 | State:6) at 0x1093a3940>,\n",
       " <TabularCPD representing P(N-2:2 | State:6) at 0x1093a39e8>,\n",
       " <TabularCPD representing P(C0:2 | State:6) at 0x1093a3a90>,\n",
       " <TabularCPD representing P(A0:2 | State:6) at 0x1093a3b38>,\n",
       " <TabularCPD representing P(L-2:2 | State:6) at 0x1093a3be0>,\n",
       " <TabularCPD representing P(H-1:2 | State:6) at 0x1093a3c88>,\n",
       " <TabularCPD representing P(C1:2 | State:6) at 0x1093a3d30>,\n",
       " <TabularCPD representing P(R2:2 | State:6) at 0x1093a3dd8>,\n",
       " <TabularCPD representing P(Y2:2 | State:6) at 0x1093a3e80>,\n",
       " <TabularCPD representing P(G-1:2 | State:6) at 0x1093a3f28>,\n",
       " <TabularCPD representing P(Y-2:2 | State:6) at 0x1093a3f98>,\n",
       " <TabularCPD representing P(K-1:2 | State:6) at 0x1093a3a20>,\n",
       " <TabularCPD representing P(L0:2 | State:6) at 0x1093a3e10>,\n",
       " <TabularCPD representing P(I-1:2 | State:6) at 0x1093a3f60>,\n",
       " <TabularCPD representing P(I2:2 | State:6) at 0x1093a3cc0>,\n",
       " <TabularCPD representing P(A-2:2 | State:6) at 0x1093a3eb8>,\n",
       " <TabularCPD representing P(K1:2 | State:6) at 0x1093a3c18>,\n",
       " <TabularCPD representing P(P2:2 | State:6) at 0x1093a3d68>,\n",
       " <TabularCPD representing P(--1:2 | State:6) at 0x1093b0550>,\n",
       " <TabularCPD representing P(T-2:2 | State:6) at 0x1093b05f8>,\n",
       " <TabularCPD representing P(G1:2 | State:6) at 0x1093b06a0>,\n",
       " <TabularCPD representing P(R1:2 | State:6) at 0x1093b0748>,\n",
       " <TabularCPD representing P(T2:2 | State:6) at 0x1093b07f0>,\n",
       " <TabularCPD representing P(F2:2 | State:6) at 0x1093b0898>,\n",
       " <TabularCPD representing P(W2:2 | State:6) at 0x1093b0940>,\n",
       " <TabularCPD representing P(A1:2 | State:6) at 0x1093b09e8>,\n",
       " <TabularCPD representing P(Y-1:2 | State:6) at 0x1093b0a90>,\n",
       " <TabularCPD representing P(W0:2 | State:6) at 0x1093b0b38>,\n",
       " <TabularCPD representing P(V0:2 | State:6) at 0x1093b0be0>,\n",
       " <TabularCPD representing P(I1:2 | State:6) at 0x1093b0c88>,\n",
       " <TabularCPD representing P(Y0:2 | State:6) at 0x1093b0d30>,\n",
       " <TabularCPD representing P(Q1:2 | State:6) at 0x1093b0dd8>,\n",
       " <TabularCPD representing P(L2:2 | State:6) at 0x1093b0e80>,\n",
       " <TabularCPD representing P(A2:2 | State:6) at 0x1093b0f28>,\n",
       " <TabularCPD representing P(S-1:2 | State:6) at 0x1093b0f98>,\n",
       " <TabularCPD representing P(--2:2 | State:6) at 0x1093b0a20>,\n",
       " <TabularCPD representing P(M2:2 | State:6) at 0x1093b0e10>,\n",
       " <TabularCPD representing P(E0:2 | State:6) at 0x1093b0f60>,\n",
       " <TabularCPD representing P(M-2:2 | State:6) at 0x1093b0cc0>,\n",
       " <TabularCPD representing P(S-2:2 | State:6) at 0x1093b0eb8>,\n",
       " <TabularCPD representing P(-1:2 | State:6) at 0x1093b0c18>,\n",
       " <TabularCPD representing P(K-2:2 | State:6) at 0x1093b0d68>,\n",
       " <TabularCPD representing P(C2:2 | State:6) at 0x1093b7550>,\n",
       " <TabularCPD representing P(T-1:2 | State:6) at 0x1093b75f8>,\n",
       " <TabularCPD representing P(V-2:2 | State:6) at 0x1093b76a0>,\n",
       " <TabularCPD representing P(C-2:2 | State:6) at 0x1093b7748>,\n",
       " <TabularCPD representing P(Q0:2 | State:6) at 0x1093b77f0>]"
      ]
     },
     "execution_count": 17,
     "metadata": {},
     "output_type": "execute_result"
    }
   ],
   "source": [
    "bn.cpds"
   ]
  },
  {
   "cell_type": "code",
   "execution_count": 18,
   "metadata": {
    "ExecuteTime": {
     "end_time": "2016-05-04T21:56:22.586735",
     "start_time": "2016-05-04T21:56:08.975278"
    },
    "collapsed": true,
    "run_control": {
     "frozen": false,
     "read_only": false
    }
   },
   "outputs": [],
   "source": [
    "tree = bn.to_junction_tree()"
   ]
  },
  {
   "cell_type": "code",
   "execution_count": 20,
   "metadata": {
    "ExecuteTime": {
     "end_time": "2016-05-04T21:57:30.242485",
     "start_time": "2016-05-04T21:57:30.217421"
    },
    "collapsed": false,
    "run_control": {
     "frozen": false,
     "read_only": false
    },
    "scrolled": true
   },
   "outputs": [
    {
     "data": {
      "text/plain": [
       "[(('State', 'M0'), ('State', 'H0')),\n",
       " (('State', 'K1'), ('State', 'H0')),\n",
       " (('State', 'G2'), ('State', 'H0')),\n",
       " (('State', 'S-1'), ('State', 'H0')),\n",
       " (('State', 'W2'), ('State', 'H0')),\n",
       " (('State', 'L-1'), ('State', 'H0')),\n",
       " (('State', 'P1'), ('State', 'H0')),\n",
       " (('State', 'E2'), ('State', 'H0')),\n",
       " (('State', 'P2'), ('State', 'H0')),\n",
       " (('State', 'G-2'), ('State', 'H0')),\n",
       " (('State', 'W1'), ('State', 'H0')),\n",
       " (('State', 'W-1'), ('State', 'H0')),\n",
       " (('State', 'L2'), ('State', 'H0')),\n",
       " (('State', 'K0'), ('State', 'H0')),\n",
       " (('State', 'T-1'), ('State', 'H0')),\n",
       " (('State', 'F-2'), ('State', 'H0')),\n",
       " (('State', 'Y2'), ('State', 'H0')),\n",
       " (('State', '-2'), ('State', 'H0')),\n",
       " (('State', 'E1'), ('State', 'H0')),\n",
       " (('State', 'A0'), ('State', 'H0')),\n",
       " (('State', 'D0'), ('State', 'H0')),\n",
       " (('State', '--2'), ('State', 'H0')),\n",
       " (('State', 'G0'), ('State', 'H0')),\n",
       " (('State', 'Y-2'), ('State', 'H0')),\n",
       " (('State', 'R0'), ('State', 'H0')),\n",
       " (('State', 'Q2'), ('State', 'H0')),\n",
       " (('State', 'C2'), ('State', 'H0')),\n",
       " (('State', 'I0'), ('State', 'H0')),\n",
       " (('State', 'Q-1'), ('State', 'H0')),\n",
       " (('State', 'P-2'), ('State', 'H0')),\n",
       " (('State', 'V-2'), ('State', 'H0')),\n",
       " (('State', 'E-2'), ('State', 'H0')),\n",
       " (('State', 'P-1'), ('State', 'H0')),\n",
       " (('State', 'A1'), ('State', 'H0')),\n",
       " (('State', 'L0'), ('State', 'H0')),\n",
       " (('State', 'E0'), ('State', 'H0')),\n",
       " (('State', 'W-2'), ('State', 'H0')),\n",
       " (('State', 'W0'), ('State', 'H0')),\n",
       " (('State', 'T1'), ('State', 'H0')),\n",
       " (('State', 'Q0'), ('State', 'H0')),\n",
       " (('State', 'H1'), ('State', 'H0')),\n",
       " (('State', 'R2'), ('State', 'H0')),\n",
       " (('State', 'V0'), ('State', 'H0')),\n",
       " (('State', 'R1'), ('State', 'H0')),\n",
       " (('State', 'L-2'), ('State', 'H0')),\n",
       " (('State', 'S2'), ('State', 'H0')),\n",
       " (('State', '--1'), ('State', 'H0')),\n",
       " (('State', 'H-2'), ('State', 'H0')),\n",
       " (('State', 'H-1'), ('State', 'H0')),\n",
       " (('State', 'E-1'), ('State', 'H0')),\n",
       " (('State', 'L1'), ('State', 'H0')),\n",
       " (('State', 'M-2'), ('State', 'H0')),\n",
       " (('State', 'C1'), ('State', 'H0')),\n",
       " (('State', '-1'), ('State', 'H0')),\n",
       " (('State', 'Y1'), ('State', 'H0')),\n",
       " (('State', 'K2'), ('State', 'H0')),\n",
       " (('State', 'N0'), ('State', 'H0')),\n",
       " (('State', 'V1'), ('State', 'H0')),\n",
       " (('State', 'F0'), ('State', 'H0')),\n",
       " (('State', 'R-1'), ('State', 'H0')),\n",
       " (('State', 'I1'), ('State', 'H0')),\n",
       " (('State', 'Q-2'), ('State', 'H0')),\n",
       " (('State', 'A-2'), ('State', 'H0')),\n",
       " (('State', 'S-2'), ('State', 'H0')),\n",
       " (('State', 'C-2'), ('State', 'H0')),\n",
       " (('State', 'D-1'), ('State', 'H0')),\n",
       " (('State', 'H2'), ('State', 'H0')),\n",
       " (('State', 'F2'), ('State', 'H0')),\n",
       " (('State', 'K-2'), ('State', 'H0')),\n",
       " (('State', 'D1'), ('State', 'H0')),\n",
       " (('State', 'A-1'), ('State', 'H0')),\n",
       " (('State', 'M1'), ('State', 'H0')),\n",
       " (('State', 'M-1'), ('State', 'H0')),\n",
       " (('State', 'K-1'), ('State', 'H0')),\n",
       " (('State', 'F1'), ('State', 'H0')),\n",
       " (('State', 'I2'), ('State', 'H0')),\n",
       " (('State', 'D-2'), ('State', 'H0')),\n",
       " (('State', 'C0'), ('State', 'H0')),\n",
       " (('State', 'S1'), ('State', 'H0')),\n",
       " (('State', 'T-2'), ('State', 'H0')),\n",
       " (('State', 'T0'), ('State', 'H0')),\n",
       " (('State', 'C-1'), ('State', 'H0')),\n",
       " (('State', 'Y-1'), ('State', 'H0')),\n",
       " (('State', 'N1'), ('State', 'H0')),\n",
       " (('State', 'Q1'), ('State', 'H0')),\n",
       " (('State', 'N-1'), ('State', 'H0')),\n",
       " (('State', 'V2'), ('State', 'H0')),\n",
       " (('State', 'T2'), ('State', 'H0')),\n",
       " (('State', 'Y0'), ('State', 'H0')),\n",
       " (('State', 'G1'), ('State', 'H0')),\n",
       " (('State', 'G-1'), ('State', 'H0')),\n",
       " (('State', 'A2'), ('State', 'H0')),\n",
       " (('State', 'F-1'), ('State', 'H0')),\n",
       " (('State', 'S0'), ('State', 'H0')),\n",
       " (('State', 'I-2'), ('State', 'H0')),\n",
       " (('State', '-0'), ('State', 'H0')),\n",
       " (('State', 'V-1'), ('State', 'H0')),\n",
       " (('State', 'H0'), ('State', 'N2')),\n",
       " (('State', 'H0'), ('State', 'M2')),\n",
       " (('State', 'H0'), ('State', 'D2')),\n",
       " (('State', 'H0'), ('State', 'N-2')),\n",
       " (('State', 'H0'), ('State', 'I-1')),\n",
       " (('State', 'H0'), ('State', 'R-2')),\n",
       " (('State', 'H0'), ('State', 'P0'))]"
      ]
     },
     "execution_count": 20,
     "metadata": {},
     "output_type": "execute_result"
    }
   ],
   "source": [
    "tree.edges()"
   ]
  },
  {
   "cell_type": "code",
   "execution_count": 21,
   "metadata": {
    "ExecuteTime": {
     "end_time": "2016-05-04T21:58:49.594398",
     "start_time": "2016-05-04T21:58:43.535520"
    },
    "collapsed": false,
    "run_control": {
     "frozen": false,
     "read_only": false
    }
   },
   "outputs": [],
   "source": [
    "# our own train, test split\n",
    "choices = [np.random.choice([True, False], p=[.75, 0.25]) for _ in range(len(data))]\n",
    "train_indices = [i for i, choice in enumerate(choices) if choice]\n",
    "test_inices = [i for i, choice in enumerate(choices) if not choice]"
   ]
  },
  {
   "cell_type": "code",
   "execution_count": 22,
   "metadata": {
    "ExecuteTime": {
     "end_time": "2016-05-04T21:58:49.654603",
     "start_time": "2016-05-04T21:58:49.596437"
    },
    "collapsed": true,
    "run_control": {
     "frozen": false,
     "read_only": false
    }
   },
   "outputs": [],
   "source": [
    "raw_data = np.asarray(data)"
   ]
  },
  {
   "cell_type": "code",
   "execution_count": 23,
   "metadata": {
    "ExecuteTime": {
     "end_time": "2016-05-04T21:58:49.803019",
     "start_time": "2016-05-04T21:58:49.656894"
    },
    "collapsed": false,
    "run_control": {
     "frozen": false,
     "read_only": false
    }
   },
   "outputs": [],
   "source": [
    "train = raw_data[train_indices]\n",
    "test = raw_data[test_inices]"
   ]
  },
  {
   "cell_type": "code",
   "execution_count": 24,
   "metadata": {
    "ExecuteTime": {
     "end_time": "2016-05-04T21:58:49.809778",
     "start_time": "2016-05-04T21:58:49.805354"
    },
    "collapsed": false,
    "run_control": {
     "frozen": false,
     "read_only": false
    }
   },
   "outputs": [],
   "source": [
    "train = pd.DataFrame(train, columns=data.columns)"
   ]
  },
  {
   "cell_type": "code",
   "execution_count": 25,
   "metadata": {
    "ExecuteTime": {
     "end_time": "2016-05-04T21:58:49.870115",
     "start_time": "2016-05-04T21:58:49.812704"
    },
    "collapsed": false,
    "run_control": {
     "frozen": false,
     "read_only": false
    }
   },
   "outputs": [
    {
     "data": {
      "text/html": [
       "<div>\n",
       "<table border=\"1\" class=\"dataframe\">\n",
       "  <thead>\n",
       "    <tr style=\"text-align: right;\">\n",
       "      <th></th>\n",
       "      <th>A-2</th>\n",
       "      <th>C-2</th>\n",
       "      <th>D-2</th>\n",
       "      <th>E-2</th>\n",
       "      <th>F-2</th>\n",
       "      <th>G-2</th>\n",
       "      <th>H-2</th>\n",
       "      <th>I-2</th>\n",
       "      <th>K-2</th>\n",
       "      <th>L-2</th>\n",
       "      <th>...</th>\n",
       "      <th>P2</th>\n",
       "      <th>Q2</th>\n",
       "      <th>R2</th>\n",
       "      <th>S2</th>\n",
       "      <th>T2</th>\n",
       "      <th>V2</th>\n",
       "      <th>W2</th>\n",
       "      <th>Y2</th>\n",
       "      <th>-2</th>\n",
       "      <th>State</th>\n",
       "    </tr>\n",
       "  </thead>\n",
       "  <tbody>\n",
       "    <tr>\n",
       "      <th>0</th>\n",
       "      <td>0.0</td>\n",
       "      <td>0.0</td>\n",
       "      <td>0.0</td>\n",
       "      <td>0.0</td>\n",
       "      <td>0.0</td>\n",
       "      <td>0.0</td>\n",
       "      <td>0.0</td>\n",
       "      <td>0.0</td>\n",
       "      <td>0.0</td>\n",
       "      <td>0.0</td>\n",
       "      <td>...</td>\n",
       "      <td>0.0</td>\n",
       "      <td>0.0</td>\n",
       "      <td>0.0</td>\n",
       "      <td>0.0</td>\n",
       "      <td>0.0</td>\n",
       "      <td>0.0</td>\n",
       "      <td>0.0</td>\n",
       "      <td>0.0</td>\n",
       "      <td>0.0</td>\n",
       "      <td>5.0</td>\n",
       "    </tr>\n",
       "    <tr>\n",
       "      <th>1</th>\n",
       "      <td>0.0</td>\n",
       "      <td>0.0</td>\n",
       "      <td>0.0</td>\n",
       "      <td>0.0</td>\n",
       "      <td>0.0</td>\n",
       "      <td>0.0</td>\n",
       "      <td>0.0</td>\n",
       "      <td>0.0</td>\n",
       "      <td>0.0</td>\n",
       "      <td>0.0</td>\n",
       "      <td>...</td>\n",
       "      <td>0.0</td>\n",
       "      <td>0.0</td>\n",
       "      <td>0.0</td>\n",
       "      <td>0.0</td>\n",
       "      <td>1.0</td>\n",
       "      <td>0.0</td>\n",
       "      <td>0.0</td>\n",
       "      <td>0.0</td>\n",
       "      <td>0.0</td>\n",
       "      <td>0.0</td>\n",
       "    </tr>\n",
       "    <tr>\n",
       "      <th>2</th>\n",
       "      <td>1.0</td>\n",
       "      <td>0.0</td>\n",
       "      <td>0.0</td>\n",
       "      <td>0.0</td>\n",
       "      <td>0.0</td>\n",
       "      <td>0.0</td>\n",
       "      <td>0.0</td>\n",
       "      <td>0.0</td>\n",
       "      <td>0.0</td>\n",
       "      <td>0.0</td>\n",
       "      <td>...</td>\n",
       "      <td>0.0</td>\n",
       "      <td>0.0</td>\n",
       "      <td>0.0</td>\n",
       "      <td>0.0</td>\n",
       "      <td>0.0</td>\n",
       "      <td>0.0</td>\n",
       "      <td>0.0</td>\n",
       "      <td>0.0</td>\n",
       "      <td>0.0</td>\n",
       "      <td>0.0</td>\n",
       "    </tr>\n",
       "    <tr>\n",
       "      <th>3</th>\n",
       "      <td>0.0</td>\n",
       "      <td>0.0</td>\n",
       "      <td>1.0</td>\n",
       "      <td>0.0</td>\n",
       "      <td>0.0</td>\n",
       "      <td>0.0</td>\n",
       "      <td>0.0</td>\n",
       "      <td>0.0</td>\n",
       "      <td>0.0</td>\n",
       "      <td>0.0</td>\n",
       "      <td>...</td>\n",
       "      <td>0.0</td>\n",
       "      <td>0.0</td>\n",
       "      <td>0.0</td>\n",
       "      <td>0.0</td>\n",
       "      <td>0.0</td>\n",
       "      <td>1.0</td>\n",
       "      <td>0.0</td>\n",
       "      <td>0.0</td>\n",
       "      <td>0.0</td>\n",
       "      <td>0.0</td>\n",
       "    </tr>\n",
       "    <tr>\n",
       "      <th>4</th>\n",
       "      <td>0.0</td>\n",
       "      <td>0.0</td>\n",
       "      <td>0.0</td>\n",
       "      <td>0.0</td>\n",
       "      <td>0.0</td>\n",
       "      <td>0.0</td>\n",
       "      <td>0.0</td>\n",
       "      <td>0.0</td>\n",
       "      <td>1.0</td>\n",
       "      <td>0.0</td>\n",
       "      <td>...</td>\n",
       "      <td>0.0</td>\n",
       "      <td>0.0</td>\n",
       "      <td>0.0</td>\n",
       "      <td>0.0</td>\n",
       "      <td>0.0</td>\n",
       "      <td>0.0</td>\n",
       "      <td>0.0</td>\n",
       "      <td>0.0</td>\n",
       "      <td>0.0</td>\n",
       "      <td>0.0</td>\n",
       "    </tr>\n",
       "  </tbody>\n",
       "</table>\n",
       "<p>5 rows × 106 columns</p>\n",
       "</div>"
      ],
      "text/plain": [
       "   A-2  C-2  D-2  E-2  F-2  G-2  H-2  I-2  K-2  L-2  ...     P2   Q2   R2  \\\n",
       "0  0.0  0.0  0.0  0.0  0.0  0.0  0.0  0.0  0.0  0.0  ...    0.0  0.0  0.0   \n",
       "1  0.0  0.0  0.0  0.0  0.0  0.0  0.0  0.0  0.0  0.0  ...    0.0  0.0  0.0   \n",
       "2  1.0  0.0  0.0  0.0  0.0  0.0  0.0  0.0  0.0  0.0  ...    0.0  0.0  0.0   \n",
       "3  0.0  0.0  1.0  0.0  0.0  0.0  0.0  0.0  0.0  0.0  ...    0.0  0.0  0.0   \n",
       "4  0.0  0.0  0.0  0.0  0.0  0.0  0.0  0.0  1.0  0.0  ...    0.0  0.0  0.0   \n",
       "\n",
       "    S2   T2   V2   W2   Y2   -2  State  \n",
       "0  0.0  0.0  0.0  0.0  0.0  0.0    5.0  \n",
       "1  0.0  1.0  0.0  0.0  0.0  0.0    0.0  \n",
       "2  0.0  0.0  0.0  0.0  0.0  0.0    0.0  \n",
       "3  0.0  0.0  1.0  0.0  0.0  0.0    0.0  \n",
       "4  0.0  0.0  0.0  0.0  0.0  0.0    0.0  \n",
       "\n",
       "[5 rows x 106 columns]"
      ]
     },
     "execution_count": 25,
     "metadata": {},
     "output_type": "execute_result"
    }
   ],
   "source": [
    "train.head()"
   ]
  },
  {
   "cell_type": "code",
   "execution_count": 26,
   "metadata": {
    "ExecuteTime": {
     "end_time": "2016-05-04T21:58:51.495402",
     "start_time": "2016-05-04T21:58:49.873443"
    },
    "collapsed": false,
    "run_control": {
     "frozen": false,
     "read_only": false
    }
   },
   "outputs": [],
   "source": [
    "est = MaximumLikelihoodEstimator(bn, train)"
   ]
  },
  {
   "cell_type": "code",
   "execution_count": 27,
   "metadata": {
    "ExecuteTime": {
     "end_time": "2016-05-04T21:58:52.690668",
     "start_time": "2016-05-04T21:58:51.497733"
    },
    "collapsed": false,
    "run_control": {
     "frozen": false,
     "read_only": false
    }
   },
   "outputs": [
    {
     "data": {
      "text/html": [
       "<table><caption>TabularCPD for <b>P0</b></caption><tr><td><b>State</b></td><td colspan=1>State_0</td><td colspan=1>State_1</td><td colspan=1>State_2</td><td colspan=1>State_3</td><td colspan=1>State_4</td><td colspan=1>State_5</td></tr><tr><td><b>P0_0</b></td><td>0.9750</td><td>0.9794</td><td>0.9292</td><td>0.9482</td><td>0.9521</td><td>0.9613</td></tr><tr><td><b>P0_1</b></td><td>0.0250</td><td>0.0206</td><td>0.0708</td><td>0.0518</td><td>0.0479</td><td>0.0387</td></tr></table>"
      ],
      "text/plain": [
       "<TabularCPD representing P(P0:2 | State:6) at 0x11464bb00>"
      ]
     },
     "execution_count": 27,
     "metadata": {},
     "output_type": "execute_result"
    }
   ],
   "source": [
    "est.get_parameters()[0]"
   ]
  },
  {
   "cell_type": "code",
   "execution_count": 28,
   "metadata": {
    "ExecuteTime": {
     "end_time": "2016-05-04T21:58:52.697402",
     "start_time": "2016-05-04T21:58:52.693148"
    },
    "collapsed": false,
    "run_control": {
     "frozen": false,
     "read_only": false
    }
   },
   "outputs": [],
   "source": [
    "fit_bn = est.model"
   ]
  },
  {
   "cell_type": "code",
   "execution_count": 29,
   "metadata": {
    "ExecuteTime": {
     "end_time": "2016-05-04T21:58:54.107776",
     "start_time": "2016-05-04T21:58:52.700178"
    },
    "collapsed": false,
    "run_control": {
     "frozen": false,
     "read_only": false
    }
   },
   "outputs": [],
   "source": [
    "# add all of the estimated CPDs\n",
    "fit_bn.add_cpds(*est.get_parameters())"
   ]
  },
  {
   "cell_type": "code",
   "execution_count": 30,
   "metadata": {
    "ExecuteTime": {
     "end_time": "2016-05-04T21:58:54.124226",
     "start_time": "2016-05-04T21:58:54.110695"
    },
    "collapsed": false,
    "run_control": {
     "frozen": false,
     "read_only": false
    },
    "scrolled": true
   },
   "outputs": [
    {
     "data": {
      "text/plain": [
       "[<TabularCPD representing P(P0:2 | State:6) at 0x114653fd0>,\n",
       " <TabularCPD representing P(D2:2 | State:6) at 0x1146539b0>,\n",
       " <TabularCPD representing P(S1:2 | State:6) at 0x114653f98>,\n",
       " <TabularCPD representing P(S0:2 | State:6) at 0x114653be0>,\n",
       " <TabularCPD representing P(A-1:2 | State:6) at 0x114653e80>,\n",
       " <TabularCPD representing P(N-1:2 | State:6) at 0x114653b00>,\n",
       " <TabularCPD representing P(F-1:2 | State:6) at 0x114653eb8>,\n",
       " <TabularCPD representing P(E2:2 | State:6) at 0x1146537f0>,\n",
       " <TabularCPD representing P(-2:2 | State:6) at 0x114653cf8>,\n",
       " <TabularCPD representing P(G2:2 | State:6) at 0x114653a90>,\n",
       " <TabularCPD representing P(-0:2 | State:6) at 0x1146a35f8>,\n",
       " <TabularCPD representing P(N0:2 | State:6) at 0x1146a3e80>,\n",
       " <TabularCPD representing P(P-2:2 | State:6) at 0x1146a3978>,\n",
       " <TabularCPD representing P(T1:2 | State:6) at 0x1146a3dd8>,\n",
       " <TabularCPD representing P(K0:2 | State:6) at 0x1146a3b38>,\n",
       " <TabularCPD representing P(R-2:2 | State:6) at 0x1146a3ac8>,\n",
       " <TabularCPD representing P(F0:2 | State:6) at 0x1146a8978>,\n",
       " <TabularCPD representing P(D-1:2 | State:6) at 0x1146a8e80>,\n",
       " <TabularCPD representing P(H-2:2 | State:6) at 0x1146a8b38>,\n",
       " <TabularCPD representing P(Q2:2 | State:6) at 0x1146a8dd8>,\n",
       " <TabularCPD representing P(P1:2 | State:6) at 0x1146a85f8>,\n",
       " <TabularCPD representing P(H0:2 | State:6) at 0x1146a8ac8>,\n",
       " <TabularCPD representing P(M-1:2 | State:6) at 0x1146ac978>,\n",
       " <TabularCPD representing P(E-2:2 | State:6) at 0x1146ace80>,\n",
       " <TabularCPD representing P(C-1:2 | State:6) at 0x1146acb38>,\n",
       " <TabularCPD representing P(R0:2 | State:6) at 0x1146acdd8>,\n",
       " <TabularCPD representing P(State:6) at 0x1146acac8>,\n",
       " <TabularCPD representing P(I0:2 | State:6) at 0x1146ac5f8>,\n",
       " <TabularCPD representing P(Y1:2 | State:6) at 0x1146519e8>,\n",
       " <TabularCPD representing P(D-2:2 | State:6) at 0x114651e48>,\n",
       " <TabularCPD representing P(V1:2 | State:6) at 0x114651ba8>,\n",
       " <TabularCPD representing P(E1:2 | State:6) at 0x114651cf8>,\n",
       " <TabularCPD representing P(P-1:2 | State:6) at 0x114651668>,\n",
       " <TabularCPD representing P(S2:2 | State:6) at 0x11463f908>,\n",
       " <TabularCPD representing P(V2:2 | State:6) at 0x11463fc88>,\n",
       " <TabularCPD representing P(G0:2 | State:6) at 0x11463f940>,\n",
       " <TabularCPD representing P(V-1:2 | State:6) at 0x11463fa20>,\n",
       " <TabularCPD representing P(M1:2 | State:6) at 0x1146abb00>,\n",
       " <TabularCPD representing P(W-2:2 | State:6) at 0x1146abba8>,\n",
       " <TabularCPD representing P(T0:2 | State:6) at 0x1146abc50>,\n",
       " <TabularCPD representing P(H1:2 | State:6) at 0x1146abcf8>,\n",
       " <TabularCPD representing P(W1:2 | State:6) at 0x114651c88>,\n",
       " <TabularCPD representing P(W-1:2 | State:6) at 0x1146abb38>,\n",
       " <TabularCPD representing P(E-1:2 | State:6) at 0x1146abf28>,\n",
       " <TabularCPD representing P(K2:2 | State:6) at 0x1146abf60>,\n",
       " <TabularCPD representing P(Q-2:2 | State:6) at 0x1146abe48>,\n",
       " <TabularCPD representing P(N2:2 | State:6) at 0x1146abda0>,\n",
       " <TabularCPD representing P(D0:2 | State:6) at 0x1146abd30>,\n",
       " <TabularCPD representing P(N1:2 | State:6) at 0x1146aba20>,\n",
       " <TabularCPD representing P(M0:2 | State:6) at 0x1146abc88>,\n",
       " <TabularCPD representing P(D1:2 | State:6) at 0x1146ab748>,\n",
       " <TabularCPD representing P(Q-1:2 | State:6) at 0x1146abbe0>,\n",
       " <TabularCPD representing P(L-1:2 | State:6) at 0x1146abf98>,\n",
       " <TabularCPD representing P(R-1:2 | State:6) at 0x1146ad588>,\n",
       " <TabularCPD representing P(F1:2 | State:6) at 0x1146ad630>,\n",
       " <TabularCPD representing P(I-2:2 | State:6) at 0x1146ad6d8>,\n",
       " <TabularCPD representing P(F-2:2 | State:6) at 0x1146ad780>,\n",
       " <TabularCPD representing P(L1:2 | State:6) at 0x1146ad828>,\n",
       " <TabularCPD representing P(G-2:2 | State:6) at 0x1146ad8d0>,\n",
       " <TabularCPD representing P(H2:2 | State:6) at 0x1146ad978>,\n",
       " <TabularCPD representing P(N-2:2 | State:6) at 0x1146ada20>,\n",
       " <TabularCPD representing P(C0:2 | State:6) at 0x1146adac8>,\n",
       " <TabularCPD representing P(A0:2 | State:6) at 0x1146adb70>,\n",
       " <TabularCPD representing P(L-2:2 | State:6) at 0x1146adc18>,\n",
       " <TabularCPD representing P(H-1:2 | State:6) at 0x1146adcc0>,\n",
       " <TabularCPD representing P(C1:2 | State:6) at 0x1146add68>,\n",
       " <TabularCPD representing P(R2:2 | State:6) at 0x1146ade10>,\n",
       " <TabularCPD representing P(Y2:2 | State:6) at 0x1146adeb8>,\n",
       " <TabularCPD representing P(G-1:2 | State:6) at 0x1146adf60>,\n",
       " <TabularCPD representing P(Y-2:2 | State:6) at 0x1146adb00>,\n",
       " <TabularCPD representing P(K-1:2 | State:6) at 0x1146adef0>,\n",
       " <TabularCPD representing P(L0:2 | State:6) at 0x1146adcf8>,\n",
       " <TabularCPD representing P(I-1:2 | State:6) at 0x1146ada58>,\n",
       " <TabularCPD representing P(I2:2 | State:6) at 0x1146adc50>,\n",
       " <TabularCPD representing P(A-2:2 | State:6) at 0x1146ad9b0>,\n",
       " <TabularCPD representing P(K1:2 | State:6) at 0x1146adba8>,\n",
       " <TabularCPD representing P(P2:2 | State:6) at 0x1146adf98>,\n",
       " <TabularCPD representing P(--1:2 | State:6) at 0x1146a7588>,\n",
       " <TabularCPD representing P(T-2:2 | State:6) at 0x1146a7630>,\n",
       " <TabularCPD representing P(G1:2 | State:6) at 0x1146a76d8>,\n",
       " <TabularCPD representing P(R1:2 | State:6) at 0x1146a7780>,\n",
       " <TabularCPD representing P(T2:2 | State:6) at 0x1146a7828>,\n",
       " <TabularCPD representing P(F2:2 | State:6) at 0x1146a78d0>,\n",
       " <TabularCPD representing P(W2:2 | State:6) at 0x1146a7978>,\n",
       " <TabularCPD representing P(A1:2 | State:6) at 0x1146a7a20>,\n",
       " <TabularCPD representing P(Y-1:2 | State:6) at 0x1146a7ac8>,\n",
       " <TabularCPD representing P(W0:2 | State:6) at 0x1146a7b70>,\n",
       " <TabularCPD representing P(V0:2 | State:6) at 0x1146a7c18>,\n",
       " <TabularCPD representing P(I1:2 | State:6) at 0x1146a7cc0>,\n",
       " <TabularCPD representing P(Y0:2 | State:6) at 0x1146a7d68>,\n",
       " <TabularCPD representing P(Q1:2 | State:6) at 0x1146a7e10>,\n",
       " <TabularCPD representing P(L2:2 | State:6) at 0x1146a7eb8>,\n",
       " <TabularCPD representing P(A2:2 | State:6) at 0x1146a7f60>,\n",
       " <TabularCPD representing P(S-1:2 | State:6) at 0x1146a7b00>,\n",
       " <TabularCPD representing P(--2:2 | State:6) at 0x1146a7ef0>,\n",
       " <TabularCPD representing P(M2:2 | State:6) at 0x1146a7cf8>,\n",
       " <TabularCPD representing P(E0:2 | State:6) at 0x1146a7a58>,\n",
       " <TabularCPD representing P(M-2:2 | State:6) at 0x1146a7c50>,\n",
       " <TabularCPD representing P(S-2:2 | State:6) at 0x1146a79b0>,\n",
       " <TabularCPD representing P(-1:2 | State:6) at 0x1146a7ba8>,\n",
       " <TabularCPD representing P(K-2:2 | State:6) at 0x1146a7f98>,\n",
       " <TabularCPD representing P(C2:2 | State:6) at 0x1146b5588>,\n",
       " <TabularCPD representing P(T-1:2 | State:6) at 0x1146b5630>,\n",
       " <TabularCPD representing P(V-2:2 | State:6) at 0x1146b56d8>,\n",
       " <TabularCPD representing P(C-2:2 | State:6) at 0x1146b5780>,\n",
       " <TabularCPD representing P(Q0:2 | State:6) at 0x1146b5828>]"
      ]
     },
     "execution_count": 30,
     "metadata": {},
     "output_type": "execute_result"
    }
   ],
   "source": [
    "fit_bn.cpds"
   ]
  },
  {
   "cell_type": "code",
   "execution_count": 31,
   "metadata": {
    "ExecuteTime": {
     "end_time": "2016-05-04T21:59:05.921021",
     "start_time": "2016-05-04T21:59:05.911152"
    },
    "collapsed": true,
    "run_control": {
     "frozen": false,
     "read_only": false
    }
   },
   "outputs": [],
   "source": [
    "# save the optimized model\n",
    "pickle.dump(fit_bn, open(\"fit_bn.p\", 'wb'))"
   ]
  },
  {
   "cell_type": "code",
   "execution_count": 32,
   "metadata": {
    "ExecuteTime": {
     "end_time": "2016-05-04T21:59:19.870949",
     "start_time": "2016-05-04T21:59:06.342652"
    },
    "collapsed": false,
    "run_control": {
     "frozen": false,
     "read_only": false
    }
   },
   "outputs": [],
   "source": [
    "bp = BeliefPropagation(fit_bn)"
   ]
  },
  {
   "cell_type": "code",
   "execution_count": 33,
   "metadata": {
    "ExecuteTime": {
     "end_time": "2016-05-04T21:59:19.957308",
     "start_time": "2016-05-04T21:59:19.872565"
    },
    "collapsed": true,
    "run_control": {
     "frozen": false,
     "read_only": false
    }
   },
   "outputs": [],
   "source": [
    "bp.calibrate()"
   ]
  },
  {
   "cell_type": "code",
   "execution_count": 34,
   "metadata": {
    "ExecuteTime": {
     "end_time": "2016-05-04T21:59:19.965046",
     "start_time": "2016-05-04T21:59:19.959244"
    },
    "collapsed": false,
    "run_control": {
     "frozen": false,
     "read_only": false
    }
   },
   "outputs": [
    {
     "name": "stdout",
     "output_type": "stream",
     "text": [
      "5.0\n"
     ]
    }
   ],
   "source": [
    "print(test[0][-1])"
   ]
  },
  {
   "cell_type": "code",
   "execution_count": 36,
   "metadata": {
    "ExecuteTime": {
     "end_time": "2016-05-04T21:59:59.137166",
     "start_time": "2016-05-04T21:59:59.126768"
    },
    "collapsed": false,
    "run_control": {
     "frozen": false,
     "read_only": false
    },
    "scrolled": true
   },
   "outputs": [
    {
     "data": {
      "text/plain": [
       "{'--1': 0,\n",
       " '--2': 1,\n",
       " '-0': 0,\n",
       " '-1': 0,\n",
       " '-2': 0,\n",
       " 'A-1': 0,\n",
       " 'A-2': 0,\n",
       " 'A0': 0,\n",
       " 'A1': 0,\n",
       " 'A2': 0,\n",
       " 'C-1': 0,\n",
       " 'C-2': 0,\n",
       " 'C0': 0,\n",
       " 'C1': 0,\n",
       " 'C2': 0,\n",
       " 'D-1': 0,\n",
       " 'D-2': 0,\n",
       " 'D0': 0,\n",
       " 'D1': 0,\n",
       " 'D2': 0,\n",
       " 'E-1': 0,\n",
       " 'E-2': 0,\n",
       " 'E0': 0,\n",
       " 'E1': 0,\n",
       " 'E2': 0,\n",
       " 'F-1': 0,\n",
       " 'F-2': 0,\n",
       " 'F0': 0,\n",
       " 'F1': 0,\n",
       " 'F2': 0,\n",
       " 'G-1': 0,\n",
       " 'G-2': 0,\n",
       " 'G0': 0,\n",
       " 'G1': 0,\n",
       " 'G2': 0,\n",
       " 'H-1': 0,\n",
       " 'H-2': 0,\n",
       " 'H0': 0,\n",
       " 'H1': 0,\n",
       " 'H2': 0,\n",
       " 'I-1': 0,\n",
       " 'I-2': 0,\n",
       " 'I0': 0,\n",
       " 'I1': 0,\n",
       " 'I2': 0,\n",
       " 'K-1': 0,\n",
       " 'K-2': 0,\n",
       " 'K0': 0,\n",
       " 'K1': 0,\n",
       " 'K2': 0,\n",
       " 'L-1': 0,\n",
       " 'L-2': 0,\n",
       " 'L0': 1,\n",
       " 'L1': 0,\n",
       " 'L2': 0,\n",
       " 'M-1': 0,\n",
       " 'M-2': 0,\n",
       " 'M0': 0,\n",
       " 'M1': 0,\n",
       " 'M2': 0,\n",
       " 'N-1': 0,\n",
       " 'N-2': 0,\n",
       " 'N0': 0,\n",
       " 'N1': 0,\n",
       " 'N2': 0,\n",
       " 'P-1': 0,\n",
       " 'P-2': 0,\n",
       " 'P0': 0,\n",
       " 'P1': 0,\n",
       " 'P2': 1,\n",
       " 'Q-1': 0,\n",
       " 'Q-2': 0,\n",
       " 'Q0': 0,\n",
       " 'Q1': 0,\n",
       " 'Q2': 0,\n",
       " 'R-1': 0,\n",
       " 'R-2': 0,\n",
       " 'R0': 0,\n",
       " 'R1': 0,\n",
       " 'R2': 0,\n",
       " 'S-1': 0,\n",
       " 'S-2': 0,\n",
       " 'S0': 0,\n",
       " 'S1': 1,\n",
       " 'S2': 0,\n",
       " 'T-1': 0,\n",
       " 'T-2': 0,\n",
       " 'T0': 0,\n",
       " 'T1': 0,\n",
       " 'T2': 0,\n",
       " 'V-1': 1,\n",
       " 'V-2': 0,\n",
       " 'V0': 0,\n",
       " 'V1': 0,\n",
       " 'V2': 0,\n",
       " 'W-1': 0,\n",
       " 'W-2': 0,\n",
       " 'W0': 0,\n",
       " 'W1': 0,\n",
       " 'W2': 0,\n",
       " 'Y-1': 0,\n",
       " 'Y-2': 0,\n",
       " 'Y0': 0,\n",
       " 'Y1': 0,\n",
       " 'Y2': 0}"
      ]
     },
     "execution_count": 36,
     "metadata": {},
     "output_type": "execute_result"
    }
   ],
   "source": [
    "evi = dict(zip(data.columns, [int(t) for t in test[0][:-1]]))\n",
    "evi"
   ]
  },
  {
   "cell_type": "code",
   "execution_count": 37,
   "metadata": {
    "ExecuteTime": {
     "end_time": "2016-05-04T22:00:06.660672",
     "start_time": "2016-05-04T22:00:05.941569"
    },
    "collapsed": false,
    "run_control": {
     "frozen": false,
     "read_only": false
    }
   },
   "outputs": [],
   "source": [
    "# finally query\n",
    "answer = bp.query(['State'], evidence=evi)"
   ]
  },
  {
   "cell_type": "code",
   "execution_count": 38,
   "metadata": {
    "ExecuteTime": {
     "end_time": "2016-05-04T22:00:07.860257",
     "start_time": "2016-05-04T22:00:07.855688"
    },
    "collapsed": false,
    "run_control": {
     "frozen": false,
     "read_only": false
    }
   },
   "outputs": [
    {
     "name": "stdout",
     "output_type": "stream",
     "text": [
      "╒═════════╤══════════════╕\n",
      "│ State   │   phi(State) │\n",
      "╞═════════╪══════════════╡\n",
      "│ State_0 │       0.0229 │\n",
      "├─────────┼──────────────┤\n",
      "│ State_1 │       0.1757 │\n",
      "├─────────┼──────────────┤\n",
      "│ State_2 │       0.0158 │\n",
      "├─────────┼──────────────┤\n",
      "│ State_3 │       0.0021 │\n",
      "├─────────┼──────────────┤\n",
      "│ State_4 │       0.0092 │\n",
      "├─────────┼──────────────┤\n",
      "│ State_5 │       0.7742 │\n",
      "╘═════════╧══════════════╛\n"
     ]
    }
   ],
   "source": [
    "print(answer['State'])"
   ]
  },
  {
   "cell_type": "code",
   "execution_count": 39,
   "metadata": {
    "ExecuteTime": {
     "end_time": "2016-05-04T22:00:15.846753",
     "start_time": "2016-05-04T22:00:15.842169"
    },
    "collapsed": false,
    "run_control": {
     "frozen": false,
     "read_only": false
    }
   },
   "outputs": [
    {
     "name": "stdout",
     "output_type": "stream",
     "text": [
      "5\n"
     ]
    }
   ],
   "source": [
    "print(np.argmax(answer['State'].values))"
   ]
  },
  {
   "cell_type": "code",
   "execution_count": 40,
   "metadata": {
    "ExecuteTime": {
     "end_time": "2016-05-04T22:01:51.500931",
     "start_time": "2016-05-04T22:01:51.481418"
    },
    "code_folding": [],
    "collapsed": false,
    "run_control": {
     "frozen": false,
     "read_only": false
    }
   },
   "outputs": [
    {
     "ename": "NameError",
     "evalue": "name 'cols' is not defined",
     "output_type": "error",
     "traceback": [
      "\u001b[0;31m---------------------------------------------------------------------------\u001b[0m",
      "\u001b[0;31mNameError\u001b[0m                                 Traceback (most recent call last)",
      "\u001b[0;32m<ipython-input-40-874b2405dbbe>\u001b[0m in \u001b[0;36m<module>\u001b[0;34m()\u001b[0m\n\u001b[1;32m      4\u001b[0m \u001b[0;34m\u001b[0m\u001b[0m\n\u001b[1;32m      5\u001b[0m \u001b[0;32mfor\u001b[0m \u001b[0mi\u001b[0m\u001b[0;34m,\u001b[0m \u001b[0mt\u001b[0m \u001b[0;32min\u001b[0m \u001b[0menumerate\u001b[0m\u001b[0;34m(\u001b[0m\u001b[0mtest\u001b[0m\u001b[0;34m)\u001b[0m\u001b[0;34m:\u001b[0m\u001b[0;34m\u001b[0m\u001b[0m\n\u001b[0;32m----> 6\u001b[0;31m     \u001b[0mev\u001b[0m \u001b[0;34m=\u001b[0m \u001b[0mdict\u001b[0m\u001b[0;34m(\u001b[0m\u001b[0mzip\u001b[0m\u001b[0;34m(\u001b[0m\u001b[0mcols\u001b[0m\u001b[0;34m,\u001b[0m \u001b[0;34m[\u001b[0m\u001b[0mint\u001b[0m\u001b[0;34m(\u001b[0m\u001b[0mv\u001b[0m\u001b[0;34m)\u001b[0m \u001b[0;32mfor\u001b[0m \u001b[0mv\u001b[0m \u001b[0;32min\u001b[0m \u001b[0mt\u001b[0m\u001b[0;34m[\u001b[0m\u001b[0;34m:\u001b[0m\u001b[0;34m-\u001b[0m\u001b[0;36m1\u001b[0m\u001b[0;34m]\u001b[0m\u001b[0;34m]\u001b[0m\u001b[0;34m)\u001b[0m\u001b[0;34m)\u001b[0m\u001b[0;34m\u001b[0m\u001b[0m\n\u001b[0m\u001b[1;32m      7\u001b[0m     \u001b[0manswer\u001b[0m \u001b[0;34m=\u001b[0m \u001b[0mbp\u001b[0m\u001b[0;34m.\u001b[0m\u001b[0mquery\u001b[0m\u001b[0;34m(\u001b[0m\u001b[0;34m[\u001b[0m\u001b[0;34m'State'\u001b[0m\u001b[0;34m]\u001b[0m\u001b[0;34m,\u001b[0m \u001b[0mevidence\u001b[0m\u001b[0;34m=\u001b[0m\u001b[0mev\u001b[0m\u001b[0;34m)\u001b[0m\u001b[0;34m\u001b[0m\u001b[0m\n\u001b[1;32m      8\u001b[0m     \u001b[0mmax_v\u001b[0m \u001b[0;34m=\u001b[0m \u001b[0mnp\u001b[0m\u001b[0;34m.\u001b[0m\u001b[0margmax\u001b[0m\u001b[0;34m(\u001b[0m\u001b[0manswer\u001b[0m\u001b[0;34m[\u001b[0m\u001b[0;34m'State'\u001b[0m\u001b[0;34m]\u001b[0m\u001b[0;34m.\u001b[0m\u001b[0mvalues\u001b[0m\u001b[0;34m)\u001b[0m\u001b[0;34m\u001b[0m\u001b[0m\n",
      "\u001b[0;31mNameError\u001b[0m: name 'cols' is not defined"
     ]
    }
   ],
   "source": [
    "# finally iterate through\n",
    "\n",
    "preds = []\n",
    "\n",
    "for i, t in enumerate(test):\n",
    "    ev = dict(zip(data.columns, [int(v) for v in t[:-1]]))\n",
    "    answer = bp.query(['State'], evidence=ev)\n",
    "    max_v = np.argmax(answer['State'].values)\n",
    "    preds.append(max_v)\n",
    "\n",
    "pred_df = pd.DataFrame(preds, columns=['State'])\n",
    "pred_df.to_csv('preds.csv')"
   ]
  },
  {
   "cell_type": "code",
   "execution_count": null,
   "metadata": {
    "ExecuteTime": {
     "end_time": "2016-04-29T09:17:38.465106",
     "start_time": "2016-04-29T09:17:38.430450"
    },
    "collapsed": false,
    "run_control": {
     "frozen": false,
     "read_only": false
    }
   },
   "outputs": [],
   "source": [
    "# 55% accuracy\n",
    "print(np.mean([1.0 if pred == int(y_i) else 0.0 for pred, y_i in zip(preds, test[:, -1])]))"
   ]
  }
 ],
 "metadata": {
  "kernelspec": {
   "display_name": "Python 3",
   "language": "python",
   "name": "python3"
  },
  "language_info": {
   "codemirror_mode": {
    "name": "ipython",
    "version": 3
   },
   "file_extension": ".py",
   "mimetype": "text/x-python",
   "name": "python",
   "nbconvert_exporter": "python",
   "pygments_lexer": "ipython3",
   "version": "3.5.1"
  },
  "notify_time": "5"
 },
 "nbformat": 4,
 "nbformat_minor": 0
}
