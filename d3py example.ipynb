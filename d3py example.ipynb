{
 "cells": [
  {
   "cell_type": "code",
   "execution_count": 1,
   "metadata": {
    "ExecuteTime": {
     "end_time": "2016-05-30T20:56:22.189388",
     "start_time": "2016-05-30T20:56:02.710439"
    },
    "collapsed": false,
    "run_control": {
     "frozen": false,
     "read_only": false
    }
   },
   "outputs": [
    {
     "name": "stdout",
     "output_type": "stream",
     "text": [
      "You can find your chart at http://localhost:8000/basic_example.html\n"
     ]
    }
   ],
   "source": [
    "import d3py\n",
    "import pandas\n",
    "import numpy as np\n",
    "\n",
    "# some test data\n",
    "T = 100\n",
    "# this is a data frame with three columns (we only use 2)\n",
    "df = pandas.DataFrame({\n",
    "    \"time\" : range(T),\n",
    "    \"pressure\": np.random.rand(T),\n",
    "    \"temp\" : np.random.rand(T)\n",
    "})\n",
    "## build up a figure, ggplot2 style\n",
    "# instantiate the figure object\n",
    "fig = d3py.PandasFigure(df, name=\"basic_example\", width=300, height=300) \n",
    "# add some red points\n",
    "fig += d3py.geoms.Point(x=\"pressure\", y=\"temp\", fill=\"red\")\n",
    "# writes 3 files, starts up a server, then draws some beautiful points in Chrome\n",
    "fig.show() "
   ]
  },
  {
   "cell_type": "code",
   "execution_count": 2,
   "metadata": {
    "ExecuteTime": {
     "end_time": "2016-05-30T20:58:54.682078",
     "start_time": "2016-05-30T20:58:54.316199"
    },
    "collapsed": false
   },
   "outputs": [
    {
     "name": "stdout",
     "output_type": "stream",
     "text": [
      "Shutting down httpd\n"
     ]
    }
   ],
   "source": [
    "fig._cleanup()"
   ]
  },
  {
   "cell_type": "code",
   "execution_count": null,
   "metadata": {
    "collapsed": true
   },
   "outputs": [],
   "source": []
  }
 ],
 "metadata": {
  "kernelspec": {
   "display_name": "Python 2",
   "language": "python",
   "name": "python2"
  },
  "language_info": {
   "codemirror_mode": {
    "name": "ipython",
    "version": 2
   },
   "file_extension": ".py",
   "mimetype": "text/x-python",
   "name": "python",
   "nbconvert_exporter": "python",
   "pygments_lexer": "ipython2",
   "version": "2.7.11"
  }
 },
 "nbformat": 4,
 "nbformat_minor": 0
}
