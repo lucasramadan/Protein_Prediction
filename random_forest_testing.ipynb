{
 "cells": [
  {
   "cell_type": "code",
   "execution_count": 87,
   "metadata": {
    "ExecuteTime": {
     "end_time": "2016-05-31T13:46:05.745082",
     "start_time": "2016-05-31T13:46:05.737293"
    },
    "collapsed": true,
    "run_control": {
     "frozen": false,
     "read_only": false
    }
   },
   "outputs": [],
   "source": [
    "from sklearn.ensemble import RandomForestClassifier, ExtraTreesClassifier\n",
    "from sklearn.cross_validation import train_test_split, cross_val_score\n",
    "import pandas as pd\n",
    "import numpy as np\n",
    "import os\n",
    "import string\n",
    "from collections import Counter"
   ]
  },
  {
   "cell_type": "code",
   "execution_count": 6,
   "metadata": {
    "ExecuteTime": {
     "end_time": "2016-05-31T13:00:24.800347",
     "start_time": "2016-05-31T13:00:24.784730"
    },
    "collapsed": false
   },
   "outputs": [],
   "source": [
    "topdir, _, files = next(os.walk('clean_dssp_csv/'))"
   ]
  },
  {
   "cell_type": "code",
   "execution_count": 16,
   "metadata": {
    "ExecuteTime": {
     "end_time": "2016-05-31T13:04:24.958395",
     "start_time": "2016-05-31T13:03:50.596340"
    },
    "collapsed": false
   },
   "outputs": [],
   "source": [
    "df = pd.DataFrame()\n",
    "\n",
    "for fi in files:\n",
    "    data = pd.read_csv(topdir+fi)\n",
    "    df = df.append(data)"
   ]
  },
  {
   "cell_type": "code",
   "execution_count": 17,
   "metadata": {
    "ExecuteTime": {
     "end_time": "2016-05-31T13:04:24.968511",
     "start_time": "2016-05-31T13:04:24.961795"
    },
    "collapsed": false
   },
   "outputs": [
    {
     "data": {
      "text/plain": [
       "(269022, 32)"
      ]
     },
     "execution_count": 17,
     "metadata": {},
     "output_type": "execute_result"
    }
   ],
   "source": [
    "df.shape"
   ]
  },
  {
   "cell_type": "code",
   "execution_count": 18,
   "metadata": {
    "ExecuteTime": {
     "end_time": "2016-05-31T13:04:25.062096",
     "start_time": "2016-05-31T13:04:24.973268"
    },
    "collapsed": false
   },
   "outputs": [
    {
     "data": {
      "text/html": [
       "<div>\n",
       "<table border=\"1\" class=\"dataframe\">\n",
       "  <thead>\n",
       "    <tr style=\"text-align: right;\">\n",
       "      <th></th>\n",
       "      <th>DSSP</th>\n",
       "      <th>PDB</th>\n",
       "      <th>CHAIN</th>\n",
       "      <th>AA</th>\n",
       "      <th>SS</th>\n",
       "      <th>3H</th>\n",
       "      <th>4H</th>\n",
       "      <th>5H</th>\n",
       "      <th>BEND</th>\n",
       "      <th>CHIR</th>\n",
       "      <th>...</th>\n",
       "      <th>ON2I</th>\n",
       "      <th>ON2E</th>\n",
       "      <th>TCO</th>\n",
       "      <th>KAPPA</th>\n",
       "      <th>ALPHA</th>\n",
       "      <th>PHI</th>\n",
       "      <th>PSI</th>\n",
       "      <th>X-CA</th>\n",
       "      <th>Y-CA</th>\n",
       "      <th>Z-CA</th>\n",
       "    </tr>\n",
       "  </thead>\n",
       "  <tbody>\n",
       "    <tr>\n",
       "      <th>0</th>\n",
       "      <td>1.0</td>\n",
       "      <td>1.0</td>\n",
       "      <td>A</td>\n",
       "      <td>V</td>\n",
       "      <td>C</td>\n",
       "      <td>?</td>\n",
       "      <td>?</td>\n",
       "      <td>?</td>\n",
       "      <td>?</td>\n",
       "      <td>?</td>\n",
       "      <td>...</td>\n",
       "      <td>428.0</td>\n",
       "      <td>-0.0</td>\n",
       "      <td>0.0</td>\n",
       "      <td>360.0</td>\n",
       "      <td>360.0</td>\n",
       "      <td>360.0</td>\n",
       "      <td>157.5</td>\n",
       "      <td>10.2</td>\n",
       "      <td>20.8</td>\n",
       "      <td>6.8</td>\n",
       "    </tr>\n",
       "    <tr>\n",
       "      <th>1</th>\n",
       "      <td>2.0</td>\n",
       "      <td>2.0</td>\n",
       "      <td>A</td>\n",
       "      <td>L</td>\n",
       "      <td>C</td>\n",
       "      <td>?</td>\n",
       "      <td>?</td>\n",
       "      <td>?</td>\n",
       "      <td>?</td>\n",
       "      <td>-</td>\n",
       "      <td>...</td>\n",
       "      <td>0.0</td>\n",
       "      <td>0.0</td>\n",
       "      <td>-0.785</td>\n",
       "      <td>360.0</td>\n",
       "      <td>-142.6</td>\n",
       "      <td>-89.6</td>\n",
       "      <td>124.7</td>\n",
       "      <td>6.6</td>\n",
       "      <td>21.5</td>\n",
       "      <td>7.8</td>\n",
       "    </tr>\n",
       "    <tr>\n",
       "      <th>2</th>\n",
       "      <td>3.0</td>\n",
       "      <td>3.0</td>\n",
       "      <td>A</td>\n",
       "      <td>S</td>\n",
       "      <td>C</td>\n",
       "      <td>?</td>\n",
       "      <td>&gt;</td>\n",
       "      <td>?</td>\n",
       "      <td>?</td>\n",
       "      <td>-</td>\n",
       "      <td>...</td>\n",
       "      <td>5.0</td>\n",
       "      <td>-0.3</td>\n",
       "      <td>-0.26</td>\n",
       "      <td>26.2</td>\n",
       "      <td>-103.3</td>\n",
       "      <td>-75.8</td>\n",
       "      <td>167.2</td>\n",
       "      <td>4.8</td>\n",
       "      <td>23.2</td>\n",
       "      <td>4.9</td>\n",
       "    </tr>\n",
       "    <tr>\n",
       "      <th>3</th>\n",
       "      <td>4.0</td>\n",
       "      <td>4.0</td>\n",
       "      <td>A</td>\n",
       "      <td>P</td>\n",
       "      <td>H</td>\n",
       "      <td>?</td>\n",
       "      <td>&gt;</td>\n",
       "      <td>?</td>\n",
       "      <td>S</td>\n",
       "      <td>+</td>\n",
       "      <td>...</td>\n",
       "      <td>5.0</td>\n",
       "      <td>-0.2</td>\n",
       "      <td>0.929</td>\n",
       "      <td>126.4</td>\n",
       "      <td>49.2</td>\n",
       "      <td>-56.6</td>\n",
       "      <td>-43.6</td>\n",
       "      <td>2.3</td>\n",
       "      <td>26.0</td>\n",
       "      <td>5.3</td>\n",
       "    </tr>\n",
       "    <tr>\n",
       "      <th>4</th>\n",
       "      <td>5.0</td>\n",
       "      <td>5.0</td>\n",
       "      <td>A</td>\n",
       "      <td>A</td>\n",
       "      <td>H</td>\n",
       "      <td>?</td>\n",
       "      <td>&gt;</td>\n",
       "      <td>?</td>\n",
       "      <td>S</td>\n",
       "      <td>+</td>\n",
       "      <td>...</td>\n",
       "      <td>5.0</td>\n",
       "      <td>-0.2</td>\n",
       "      <td>0.92</td>\n",
       "      <td>109.3</td>\n",
       "      <td>52.7</td>\n",
       "      <td>-66.7</td>\n",
       "      <td>-37.7</td>\n",
       "      <td>-0.5</td>\n",
       "      <td>23.4</td>\n",
       "      <td>4.5</td>\n",
       "    </tr>\n",
       "  </tbody>\n",
       "</table>\n",
       "<p>5 rows × 32 columns</p>\n",
       "</div>"
      ],
      "text/plain": [
       "  DSSP  PDB CHAIN AA SS 3H 4H 5H BEND CHIR ...    ON2I  ON2E     TCO  KAPPA  \\\n",
       "0  1.0  1.0     A  V  C  ?  ?  ?    ?    ? ...   428.0  -0.0     0.0  360.0   \n",
       "1  2.0  2.0     A  L  C  ?  ?  ?    ?    - ...     0.0   0.0  -0.785  360.0   \n",
       "2  3.0  3.0     A  S  C  ?  >  ?    ?    - ...     5.0  -0.3   -0.26   26.2   \n",
       "3  4.0  4.0     A  P  H  ?  >  ?    S    + ...     5.0  -0.2   0.929  126.4   \n",
       "4  5.0  5.0     A  A  H  ?  >  ?    S    + ...     5.0  -0.2    0.92  109.3   \n",
       "\n",
       "    ALPHA    PHI    PSI  X-CA  Y-CA Z-CA  \n",
       "0   360.0  360.0  157.5  10.2  20.8  6.8  \n",
       "1  -142.6  -89.6  124.7   6.6  21.5  7.8  \n",
       "2  -103.3  -75.8  167.2   4.8  23.2  4.9  \n",
       "3    49.2  -56.6  -43.6   2.3  26.0  5.3  \n",
       "4    52.7  -66.7  -37.7  -0.5  23.4  4.5  \n",
       "\n",
       "[5 rows x 32 columns]"
      ]
     },
     "execution_count": 18,
     "metadata": {},
     "output_type": "execute_result"
    }
   ],
   "source": [
    "df.head()"
   ]
  },
  {
   "cell_type": "code",
   "execution_count": 69,
   "metadata": {
    "ExecuteTime": {
     "end_time": "2016-05-31T13:32:24.856507",
     "start_time": "2016-05-31T13:32:24.835269"
    },
    "collapsed": false,
    "scrolled": true
   },
   "outputs": [
    {
     "data": {
      "text/plain": [
       "{'!': 0,\n",
       " '\"': 1,\n",
       " '#': 2,\n",
       " '$': 3,\n",
       " '%': 4,\n",
       " '&': 5,\n",
       " \"'\": 6,\n",
       " '(': 7,\n",
       " ')': 8,\n",
       " '*': 9,\n",
       " '+': 10,\n",
       " ',': 11,\n",
       " '-': 12,\n",
       " '.': 13,\n",
       " '/': 14,\n",
       " ':': 15,\n",
       " ';': 16,\n",
       " '<': 17,\n",
       " '=': 18,\n",
       " '>': 19,\n",
       " '?': 20,\n",
       " '@': 21,\n",
       " 'A': 32,\n",
       " 'B': 33,\n",
       " 'C': 34,\n",
       " 'D': 35,\n",
       " 'E': 36,\n",
       " 'F': 37,\n",
       " 'G': 38,\n",
       " 'H': 39,\n",
       " 'I': 40,\n",
       " 'J': 41,\n",
       " 'K': 42,\n",
       " 'L': 43,\n",
       " 'M': 44,\n",
       " 'N': 45,\n",
       " 'O': 46,\n",
       " 'P': 47,\n",
       " 'Q': 48,\n",
       " 'R': 49,\n",
       " 'S': 50,\n",
       " 'T': 51,\n",
       " 'U': 52,\n",
       " 'V': 53,\n",
       " 'W': 54,\n",
       " 'X': 55,\n",
       " 'Y': 56,\n",
       " 'Z': 57,\n",
       " '[': 22,\n",
       " '\\\\': 23,\n",
       " ']': 24,\n",
       " '^': 25,\n",
       " '_': 26,\n",
       " '`': 27,\n",
       " 'a': 58,\n",
       " 'b': 59,\n",
       " 'c': 60,\n",
       " 'd': 61,\n",
       " 'e': 62,\n",
       " 'f': 63,\n",
       " 'g': 64,\n",
       " 'h': 65,\n",
       " 'i': 66,\n",
       " 'j': 67,\n",
       " 'k': 68,\n",
       " 'l': 69,\n",
       " 'm': 70,\n",
       " 'n': 71,\n",
       " 'o': 72,\n",
       " 'p': 73,\n",
       " 'q': 74,\n",
       " 'r': 75,\n",
       " 's': 76,\n",
       " 't': 77,\n",
       " 'u': 78,\n",
       " 'v': 79,\n",
       " 'w': 80,\n",
       " 'x': 81,\n",
       " 'y': 82,\n",
       " 'z': 83,\n",
       " '{': 28,\n",
       " '|': 29,\n",
       " '}': 30,\n",
       " '~': 31}"
      ]
     },
     "execution_count": 69,
     "metadata": {},
     "output_type": "execute_result"
    }
   ],
   "source": [
    "encoding = {l:n for n, l in enumerate(list(string.punctuation)+list(string.letters))}\n",
    "encoding"
   ]
  },
  {
   "cell_type": "code",
   "execution_count": 70,
   "metadata": {
    "ExecuteTime": {
     "end_time": "2016-05-31T13:32:33.348704",
     "start_time": "2016-05-31T13:32:32.735895"
    },
    "collapsed": false
   },
   "outputs": [
    {
     "data": {
      "text/html": [
       "<div>\n",
       "<table border=\"1\" class=\"dataframe\">\n",
       "  <thead>\n",
       "    <tr style=\"text-align: right;\">\n",
       "      <th></th>\n",
       "      <th>DSSP</th>\n",
       "      <th>PDB</th>\n",
       "      <th>AA</th>\n",
       "      <th>3H</th>\n",
       "      <th>4H</th>\n",
       "      <th>5H</th>\n",
       "      <th>BEND</th>\n",
       "      <th>CHIR</th>\n",
       "      <th>BB1</th>\n",
       "      <th>BB2</th>\n",
       "      <th>...</th>\n",
       "      <th>ON2I</th>\n",
       "      <th>ON2E</th>\n",
       "      <th>TCO</th>\n",
       "      <th>KAPPA</th>\n",
       "      <th>ALPHA</th>\n",
       "      <th>PHI</th>\n",
       "      <th>PSI</th>\n",
       "      <th>X-CA</th>\n",
       "      <th>Y-CA</th>\n",
       "      <th>Z-CA</th>\n",
       "    </tr>\n",
       "  </thead>\n",
       "  <tbody>\n",
       "    <tr>\n",
       "      <th>0</th>\n",
       "      <td>1.0</td>\n",
       "      <td>1.0</td>\n",
       "      <td>V</td>\n",
       "      <td>?</td>\n",
       "      <td>?</td>\n",
       "      <td>?</td>\n",
       "      <td>?</td>\n",
       "      <td>?</td>\n",
       "      <td>?</td>\n",
       "      <td>?</td>\n",
       "      <td>...</td>\n",
       "      <td>428.0</td>\n",
       "      <td>-0.0</td>\n",
       "      <td>0.0</td>\n",
       "      <td>360.0</td>\n",
       "      <td>360.0</td>\n",
       "      <td>360.0</td>\n",
       "      <td>157.5</td>\n",
       "      <td>10.2</td>\n",
       "      <td>20.8</td>\n",
       "      <td>6.8</td>\n",
       "    </tr>\n",
       "    <tr>\n",
       "      <th>1</th>\n",
       "      <td>2.0</td>\n",
       "      <td>2.0</td>\n",
       "      <td>L</td>\n",
       "      <td>?</td>\n",
       "      <td>?</td>\n",
       "      <td>?</td>\n",
       "      <td>?</td>\n",
       "      <td>-</td>\n",
       "      <td>?</td>\n",
       "      <td>?</td>\n",
       "      <td>...</td>\n",
       "      <td>0.0</td>\n",
       "      <td>0.0</td>\n",
       "      <td>-0.785</td>\n",
       "      <td>360.0</td>\n",
       "      <td>-142.6</td>\n",
       "      <td>-89.6</td>\n",
       "      <td>124.7</td>\n",
       "      <td>6.6</td>\n",
       "      <td>21.5</td>\n",
       "      <td>7.8</td>\n",
       "    </tr>\n",
       "    <tr>\n",
       "      <th>2</th>\n",
       "      <td>3.0</td>\n",
       "      <td>3.0</td>\n",
       "      <td>S</td>\n",
       "      <td>?</td>\n",
       "      <td>&gt;</td>\n",
       "      <td>?</td>\n",
       "      <td>?</td>\n",
       "      <td>-</td>\n",
       "      <td>?</td>\n",
       "      <td>?</td>\n",
       "      <td>...</td>\n",
       "      <td>5.0</td>\n",
       "      <td>-0.3</td>\n",
       "      <td>-0.26</td>\n",
       "      <td>26.2</td>\n",
       "      <td>-103.3</td>\n",
       "      <td>-75.8</td>\n",
       "      <td>167.2</td>\n",
       "      <td>4.8</td>\n",
       "      <td>23.2</td>\n",
       "      <td>4.9</td>\n",
       "    </tr>\n",
       "    <tr>\n",
       "      <th>3</th>\n",
       "      <td>4.0</td>\n",
       "      <td>4.0</td>\n",
       "      <td>P</td>\n",
       "      <td>?</td>\n",
       "      <td>&gt;</td>\n",
       "      <td>?</td>\n",
       "      <td>S</td>\n",
       "      <td>+</td>\n",
       "      <td>?</td>\n",
       "      <td>?</td>\n",
       "      <td>...</td>\n",
       "      <td>5.0</td>\n",
       "      <td>-0.2</td>\n",
       "      <td>0.929</td>\n",
       "      <td>126.4</td>\n",
       "      <td>49.2</td>\n",
       "      <td>-56.6</td>\n",
       "      <td>-43.6</td>\n",
       "      <td>2.3</td>\n",
       "      <td>26.0</td>\n",
       "      <td>5.3</td>\n",
       "    </tr>\n",
       "    <tr>\n",
       "      <th>4</th>\n",
       "      <td>5.0</td>\n",
       "      <td>5.0</td>\n",
       "      <td>A</td>\n",
       "      <td>?</td>\n",
       "      <td>&gt;</td>\n",
       "      <td>?</td>\n",
       "      <td>S</td>\n",
       "      <td>+</td>\n",
       "      <td>?</td>\n",
       "      <td>?</td>\n",
       "      <td>...</td>\n",
       "      <td>5.0</td>\n",
       "      <td>-0.2</td>\n",
       "      <td>0.92</td>\n",
       "      <td>109.3</td>\n",
       "      <td>52.7</td>\n",
       "      <td>-66.7</td>\n",
       "      <td>-37.7</td>\n",
       "      <td>-0.5</td>\n",
       "      <td>23.4</td>\n",
       "      <td>4.5</td>\n",
       "    </tr>\n",
       "  </tbody>\n",
       "</table>\n",
       "<p>5 rows × 30 columns</p>\n",
       "</div>"
      ],
      "text/plain": [
       "  DSSP  PDB AA 3H 4H 5H BEND CHIR BB1 BB2 ...    ON2I  ON2E     TCO  KAPPA  \\\n",
       "0  1.0  1.0  V  ?  ?  ?    ?    ?   ?   ? ...   428.0  -0.0     0.0  360.0   \n",
       "1  2.0  2.0  L  ?  ?  ?    ?    -   ?   ? ...     0.0   0.0  -0.785  360.0   \n",
       "2  3.0  3.0  S  ?  >  ?    ?    -   ?   ? ...     5.0  -0.3   -0.26   26.2   \n",
       "3  4.0  4.0  P  ?  >  ?    S    +   ?   ? ...     5.0  -0.2   0.929  126.4   \n",
       "4  5.0  5.0  A  ?  >  ?    S    +   ?   ? ...     5.0  -0.2    0.92  109.3   \n",
       "\n",
       "    ALPHA    PHI    PSI  X-CA  Y-CA Z-CA  \n",
       "0   360.0  360.0  157.5  10.2  20.8  6.8  \n",
       "1  -142.6  -89.6  124.7   6.6  21.5  7.8  \n",
       "2  -103.3  -75.8  167.2   4.8  23.2  4.9  \n",
       "3    49.2  -56.6  -43.6   2.3  26.0  5.3  \n",
       "4    52.7  -66.7  -37.7  -0.5  23.4  4.5  \n",
       "\n",
       "[5 rows x 30 columns]"
      ]
     },
     "execution_count": 70,
     "metadata": {},
     "output_type": "execute_result"
    }
   ],
   "source": [
    "features = df.copy().drop(['SS', 'CHAIN'], axis=1)\n",
    "features.head()"
   ]
  },
  {
   "cell_type": "code",
   "execution_count": 72,
   "metadata": {
    "ExecuteTime": {
     "end_time": "2016-05-31T13:33:00.453277",
     "start_time": "2016-05-31T13:32:53.083819"
    },
    "collapsed": false
   },
   "outputs": [],
   "source": [
    "X = [[encoding[c] if c in encoding else float(c) for c in row] for row in features.values]"
   ]
  },
  {
   "cell_type": "code",
   "execution_count": 74,
   "metadata": {
    "ExecuteTime": {
     "end_time": "2016-05-31T13:33:09.409207",
     "start_time": "2016-05-31T13:33:09.194795"
    },
    "collapsed": true
   },
   "outputs": [],
   "source": [
    "y = df.copy()['SS']"
   ]
  },
  {
   "cell_type": "code",
   "execution_count": 75,
   "metadata": {
    "ExecuteTime": {
     "end_time": "2016-05-31T13:33:10.056613",
     "start_time": "2016-05-31T13:33:09.899131"
    },
    "collapsed": false,
    "scrolled": true
   },
   "outputs": [
    {
     "data": {
      "text/plain": [
       "Counter({'B': 3861,\n",
       "         'C': 53805,\n",
       "         'E': 51024,\n",
       "         'G': 11450,\n",
       "         'H': 92221,\n",
       "         'I': 1227,\n",
       "         'S': 24113,\n",
       "         'T': 31321})"
      ]
     },
     "execution_count": 75,
     "metadata": {},
     "output_type": "execute_result"
    }
   ],
   "source": [
    "Counter(y)"
   ]
  },
  {
   "cell_type": "code",
   "execution_count": null,
   "metadata": {
    "collapsed": true
   },
   "outputs": [],
   "source": [
    "X_train, X_test, y_train, y_test = train_test_split(X, y, stratify=y)"
   ]
  },
  {
   "cell_type": "code",
   "execution_count": 77,
   "metadata": {
    "ExecuteTime": {
     "end_time": "2016-05-31T13:33:33.171922",
     "start_time": "2016-05-31T13:33:33.164623"
    },
    "collapsed": true
   },
   "outputs": [],
   "source": [
    "rf = RandomForestClassifier()\n",
    "erf = ExtraTreesClassifier()"
   ]
  },
  {
   "cell_type": "code",
   "execution_count": 78,
   "metadata": {
    "ExecuteTime": {
     "end_time": "2016-05-31T13:33:52.607265",
     "start_time": "2016-05-31T13:33:33.666905"
    },
    "collapsed": false
   },
   "outputs": [
    {
     "data": {
      "text/plain": [
       "ExtraTreesClassifier(bootstrap=False, class_weight=None, criterion='gini',\n",
       "           max_depth=None, max_features='auto', max_leaf_nodes=None,\n",
       "           min_samples_leaf=1, min_samples_split=2,\n",
       "           min_weight_fraction_leaf=0.0, n_estimators=10, n_jobs=1,\n",
       "           oob_score=False, random_state=None, verbose=0, warm_start=False)"
      ]
     },
     "execution_count": 78,
     "metadata": {},
     "output_type": "execute_result"
    }
   ],
   "source": [
    "rf.fit(X_train, y_train)\n",
    "erf.fit(X_train, y_train)"
   ]
  },
  {
   "cell_type": "code",
   "execution_count": 79,
   "metadata": {
    "ExecuteTime": {
     "end_time": "2016-05-31T13:34:00.826870",
     "start_time": "2016-05-31T13:33:59.916340"
    },
    "collapsed": false
   },
   "outputs": [
    {
     "data": {
      "text/plain": [
       "0.96449334621961191"
      ]
     },
     "execution_count": 79,
     "metadata": {},
     "output_type": "execute_result"
    }
   ],
   "source": [
    "rf.score(X_test, y_test)"
   ]
  },
  {
   "cell_type": "code",
   "execution_count": 80,
   "metadata": {
    "ExecuteTime": {
     "end_time": "2016-05-31T13:34:24.239501",
     "start_time": "2016-05-31T13:34:23.413057"
    },
    "collapsed": false
   },
   "outputs": [
    {
     "data": {
      "text/plain": [
       "0.96504349119024613"
      ]
     },
     "execution_count": 80,
     "metadata": {},
     "output_type": "execute_result"
    }
   ],
   "source": [
    "erf.score(X_test, y_test)"
   ]
  },
  {
   "cell_type": "code",
   "execution_count": 104,
   "metadata": {
    "ExecuteTime": {
     "end_time": "2016-05-31T14:00:30.733305",
     "start_time": "2016-05-31T13:59:47.243799"
    },
    "collapsed": false
   },
   "outputs": [
    {
     "name": "stdout",
     "output_type": "stream",
     "text": [
      "0.938060874975\n",
      "0.936856500567\n"
     ]
    }
   ],
   "source": [
    "print cross_val_score(RandomForestClassifier(), X, y).mean()\n",
    "print cross_val_score(ExtraTreesClassifier(), X, y).mean()"
   ]
  },
  {
   "cell_type": "code",
   "execution_count": 102,
   "metadata": {
    "ExecuteTime": {
     "end_time": "2016-05-31T13:50:02.861464",
     "start_time": "2016-05-31T13:50:02.853652"
    },
    "collapsed": false
   },
   "outputs": [
    {
     "data": {
      "text/plain": [
       "array(['KAPPA', 'TCO', 'BB1', '4H', 'PSI', 'BEND', 'BSL', '3H', 'PHI',\n",
       "       'ALPHA', 'BB2', 'BP1', 'NO1I', 'ON1I', 'CHIR', 'ON2E', 'ON1E',\n",
       "       'BP2', 'NO2E', 'NO1E', '5H', 'ON2I', 'PDB', 'ACC', 'NO2I', 'AA',\n",
       "       'DSSP', 'Y-CA', 'Z-CA', 'X-CA'], dtype=object)"
      ]
     },
     "execution_count": 102,
     "metadata": {},
     "output_type": "execute_result"
    }
   ],
   "source": [
    "ind = np.argsort(rf.feature_importances_)[::-1]\n",
    "features.columns.values[ind]"
   ]
  },
  {
   "cell_type": "markdown",
   "metadata": {},
   "source": [
    " "
   ]
  }
 ],
 "metadata": {
  "kernelspec": {
   "display_name": "Python 2",
   "language": "python",
   "name": "python2"
  },
  "language_info": {
   "codemirror_mode": {
    "name": "ipython",
    "version": 2
   },
   "file_extension": ".py",
   "mimetype": "text/x-python",
   "name": "python",
   "nbconvert_exporter": "python",
   "pygments_lexer": "ipython2",
   "version": "2.7.11"
  }
 },
 "nbformat": 4,
 "nbformat_minor": 0
}
